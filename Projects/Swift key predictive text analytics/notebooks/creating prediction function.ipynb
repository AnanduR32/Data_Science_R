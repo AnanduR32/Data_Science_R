{
 "cells": [
  {
   "cell_type": "code",
   "execution_count": 1,
   "metadata": {},
   "outputs": [],
   "source": [
    "import pandas as pd \n",
    "import numpy as np\n",
    "from plotly import express as px\n",
    "import re"
   ]
  },
  {
   "cell_type": "code",
   "execution_count": 2,
   "metadata": {},
   "outputs": [],
   "source": [
    "import nltk \n",
    "from nltk.corpus import stopwords\n",
    "from nltk.tokenize import word_tokenize"
   ]
  },
  {
   "cell_type": "code",
   "execution_count": 167,
   "metadata": {},
   "outputs": [],
   "source": [
    "NGrams = pd.read_csv(\"../NGrams/NGrams.csv\", encoding='utf-8')"
   ]
  },
  {
   "cell_type": "code",
   "execution_count": 168,
   "metadata": {},
   "outputs": [
    {
     "data": {
      "text/html": [
       "<div>\n",
       "<style scoped>\n",
       "    .dataframe tbody tr th:only-of-type {\n",
       "        vertical-align: middle;\n",
       "    }\n",
       "\n",
       "    .dataframe tbody tr th {\n",
       "        vertical-align: top;\n",
       "    }\n",
       "\n",
       "    .dataframe thead th {\n",
       "        text-align: right;\n",
       "    }\n",
       "</style>\n",
       "<table border=\"1\" class=\"dataframe\">\n",
       "  <thead>\n",
       "    <tr style=\"text-align: right;\">\n",
       "      <th></th>\n",
       "      <th>token</th>\n",
       "      <th>freq</th>\n",
       "      <th>which</th>\n",
       "    </tr>\n",
       "  </thead>\n",
       "  <tbody>\n",
       "    <tr>\n",
       "      <th>0</th>\n",
       "      <td>– a</td>\n",
       "      <td>6</td>\n",
       "      <td>2</td>\n",
       "    </tr>\n",
       "    <tr>\n",
       "      <th>1</th>\n",
       "      <td>– adults</td>\n",
       "      <td>2</td>\n",
       "      <td>2</td>\n",
       "    </tr>\n",
       "    <tr>\n",
       "      <th>2</th>\n",
       "      <td>– all</td>\n",
       "      <td>2</td>\n",
       "      <td>2</td>\n",
       "    </tr>\n",
       "    <tr>\n",
       "      <th>3</th>\n",
       "      <td>– and</td>\n",
       "      <td>25</td>\n",
       "      <td>2</td>\n",
       "    </tr>\n",
       "    <tr>\n",
       "      <th>4</th>\n",
       "      <td>– as</td>\n",
       "      <td>3</td>\n",
       "      <td>2</td>\n",
       "    </tr>\n",
       "  </tbody>\n",
       "</table>\n",
       "</div>"
      ],
      "text/plain": [
       "      token  freq  which\n",
       "0       – a     6      2\n",
       "1  – adults     2      2\n",
       "2     – all     2      2\n",
       "3     – and    25      2\n",
       "4      – as     3      2"
      ]
     },
     "execution_count": 168,
     "metadata": {},
     "output_type": "execute_result"
    }
   ],
   "source": [
    "NGrams.head()"
   ]
  },
  {
   "cell_type": "code",
   "execution_count": 169,
   "metadata": {},
   "outputs": [
    {
     "data": {
      "text/html": [
       "<div>\n",
       "<style scoped>\n",
       "    .dataframe tbody tr th:only-of-type {\n",
       "        vertical-align: middle;\n",
       "    }\n",
       "\n",
       "    .dataframe tbody tr th {\n",
       "        vertical-align: top;\n",
       "    }\n",
       "\n",
       "    .dataframe thead th {\n",
       "        text-align: right;\n",
       "    }\n",
       "</style>\n",
       "<table border=\"1\" class=\"dataframe\">\n",
       "  <thead>\n",
       "    <tr style=\"text-align: right;\">\n",
       "      <th></th>\n",
       "      <th>token</th>\n",
       "      <th>freq</th>\n",
       "    </tr>\n",
       "  </thead>\n",
       "  <tbody>\n",
       "    <tr>\n",
       "      <th>61501</th>\n",
       "      <td>a couple of weeks ago</td>\n",
       "      <td>2</td>\n",
       "    </tr>\n",
       "    <tr>\n",
       "      <th>61502</th>\n",
       "      <td>a fair amount of time</td>\n",
       "      <td>2</td>\n",
       "    </tr>\n",
       "    <tr>\n",
       "      <th>61503</th>\n",
       "      <td>a few days later i</td>\n",
       "      <td>2</td>\n",
       "    </tr>\n",
       "    <tr>\n",
       "      <th>61504</th>\n",
       "      <td>a figment of my imagination</td>\n",
       "      <td>2</td>\n",
       "    </tr>\n",
       "    <tr>\n",
       "      <th>61505</th>\n",
       "      <td>a food processor pulse the</td>\n",
       "      <td>2</td>\n",
       "    </tr>\n",
       "    <tr>\n",
       "      <th>...</th>\n",
       "      <td>...</td>\n",
       "      <td>...</td>\n",
       "    </tr>\n",
       "    <tr>\n",
       "      <th>62220</th>\n",
       "      <td>work for you do you</td>\n",
       "      <td>2</td>\n",
       "    </tr>\n",
       "    <tr>\n",
       "      <th>62221</th>\n",
       "      <td>writes off the world its</td>\n",
       "      <td>2</td>\n",
       "    </tr>\n",
       "    <tr>\n",
       "      <th>62222</th>\n",
       "      <td>yeah i figured it out</td>\n",
       "      <td>2</td>\n",
       "    </tr>\n",
       "    <tr>\n",
       "      <th>62223</th>\n",
       "      <td>you have a great weekend</td>\n",
       "      <td>2</td>\n",
       "    </tr>\n",
       "    <tr>\n",
       "      <th>62224</th>\n",
       "      <td>you the one that i</td>\n",
       "      <td>2</td>\n",
       "    </tr>\n",
       "  </tbody>\n",
       "</table>\n",
       "<p>724 rows × 2 columns</p>\n",
       "</div>"
      ],
      "text/plain": [
       "                             token  freq\n",
       "61501        a couple of weeks ago     2\n",
       "61502        a fair amount of time     2\n",
       "61503           a few days later i     2\n",
       "61504  a figment of my imagination     2\n",
       "61505   a food processor pulse the     2\n",
       "...                            ...   ...\n",
       "62220          work for you do you     2\n",
       "62221     writes off the world its     2\n",
       "62222        yeah i figured it out     2\n",
       "62223     you have a great weekend     2\n",
       "62224           you the one that i     2\n",
       "\n",
       "[724 rows x 2 columns]"
      ]
     },
     "execution_count": 169,
     "metadata": {},
     "output_type": "execute_result"
    }
   ],
   "source": [
    "NGrams.loc[NGrams['which']==5,['token','freq']]"
   ]
  },
  {
   "cell_type": "code",
   "execution_count": 170,
   "metadata": {},
   "outputs": [
    {
     "data": {
      "text/html": [
       "<div>\n",
       "<style scoped>\n",
       "    .dataframe tbody tr th:only-of-type {\n",
       "        vertical-align: middle;\n",
       "    }\n",
       "\n",
       "    .dataframe tbody tr th {\n",
       "        vertical-align: top;\n",
       "    }\n",
       "\n",
       "    .dataframe thead th {\n",
       "        text-align: right;\n",
       "    }\n",
       "</style>\n",
       "<table border=\"1\" class=\"dataframe\">\n",
       "  <thead>\n",
       "    <tr style=\"text-align: right;\">\n",
       "      <th></th>\n",
       "      <th>token</th>\n",
       "      <th>freq</th>\n",
       "    </tr>\n",
       "  </thead>\n",
       "  <tbody>\n",
       "    <tr>\n",
       "      <th>61548</th>\n",
       "      <td>at the end of the</td>\n",
       "      <td>10</td>\n",
       "    </tr>\n",
       "    <tr>\n",
       "      <th>61944</th>\n",
       "      <td>at pates and fountain parks</td>\n",
       "      <td>10</td>\n",
       "    </tr>\n",
       "    <tr>\n",
       "      <th>61978</th>\n",
       "      <td>for the first time in</td>\n",
       "      <td>8</td>\n",
       "    </tr>\n",
       "    <tr>\n",
       "      <th>61963</th>\n",
       "      <td>classic at pates and fountain</td>\n",
       "      <td>8</td>\n",
       "    </tr>\n",
       "    <tr>\n",
       "      <th>61947</th>\n",
       "      <td>at the end of the</td>\n",
       "      <td>7</td>\n",
       "    </tr>\n",
       "    <tr>\n",
       "      <th>...</th>\n",
       "      <td>...</td>\n",
       "      <td>...</td>\n",
       "    </tr>\n",
       "    <tr>\n",
       "      <th>61761</th>\n",
       "      <td>promotional purposes without further permission</td>\n",
       "      <td>2</td>\n",
       "    </tr>\n",
       "    <tr>\n",
       "      <th>61762</th>\n",
       "      <td>purposes without further permission or</td>\n",
       "      <td>2</td>\n",
       "    </tr>\n",
       "    <tr>\n",
       "      <th>61763</th>\n",
       "      <td>quarter ending on mar against</td>\n",
       "      <td>2</td>\n",
       "    </tr>\n",
       "    <tr>\n",
       "      <th>61764</th>\n",
       "      <td>question about whether or not</td>\n",
       "      <td>2</td>\n",
       "    </tr>\n",
       "    <tr>\n",
       "      <th>62224</th>\n",
       "      <td>you the one that i</td>\n",
       "      <td>2</td>\n",
       "    </tr>\n",
       "  </tbody>\n",
       "</table>\n",
       "<p>724 rows × 2 columns</p>\n",
       "</div>"
      ],
      "text/plain": [
       "                                                 token  freq\n",
       "61548                                at the end of the    10\n",
       "61944                      at pates and fountain parks    10\n",
       "61978                            for the first time in     8\n",
       "61963                    classic at pates and fountain     8\n",
       "61947                                at the end of the     7\n",
       "...                                                ...   ...\n",
       "61761  promotional purposes without further permission     2\n",
       "61762           purposes without further permission or     2\n",
       "61763                    quarter ending on mar against     2\n",
       "61764                    question about whether or not     2\n",
       "62224                               you the one that i     2\n",
       "\n",
       "[724 rows x 2 columns]"
      ]
     },
     "execution_count": 170,
     "metadata": {},
     "output_type": "execute_result"
    }
   ],
   "source": [
    "NGrams.loc[NGrams['which']==5,['token','freq']].sort_values(by = ['freq'], ascending = False)"
   ]
  },
  {
   "cell_type": "code",
   "execution_count": 191,
   "metadata": {},
   "outputs": [],
   "source": [
    "string = \"at the end of\""
   ]
  },
  {
   "cell_type": "code",
   "execution_count": 192,
   "metadata": {},
   "outputs": [],
   "source": [
    "string = string.lower()"
   ]
  },
  {
   "cell_type": "code",
   "execution_count": 195,
   "metadata": {},
   "outputs": [
    {
     "data": {
      "text/plain": [
       "4"
      ]
     },
     "execution_count": 195,
     "metadata": {},
     "output_type": "execute_result"
    }
   ],
   "source": [
    "best_pred = pd.DataFrame()\n",
    "n_words = len(word_tokenize(string))\n",
    "n_words"
   ]
  },
  {
   "cell_type": "code",
   "execution_count": 196,
   "metadata": {},
   "outputs": [],
   "source": [
    "if(n_words == 4):\n",
    "    matching_pentagrams = NGrams.loc[NGrams['which']==5,['token','freq']][NGrams.loc[NGrams['which']==5,['token','freq']]['token'].str.startswith(string, na=False)]\n",
    "    matching_pentagrams['prediction'] = matching_pentagrams['token'].str.extract(string+\"\\s([a-zA-Z]+)\\s?\", flags=re.IGNORECASE)\n",
    "    matching_pentagrams.dropna(how = 'any', axis = 0, inplace = True)\n",
    "    matching_pentagrams.sort_values(by = ['freq'],axis = 0, inplace = True, ascending=False)\n",
    "    if(matching_pentagrams.empty==False):\n",
    "        best_pred = pd.DataFrame(matching_pentagrams.iloc[0,1:3]).transpose()\n",
    "    else:\n",
    "        string_tokenized = word_tokenize(string)[-3:]\n",
    "        string = \" \".join(string_filtered)\n",
    "        n_words = 3"
   ]
  },
  {
   "cell_type": "code",
   "execution_count": 160,
   "metadata": {},
   "outputs": [],
   "source": [
    "matching_pentagrams = NGrams.loc[NGrams['which']==5,['token','freq']][NGrams.loc[NGrams['which']==5,['token','freq']]['token'].str.startswith(string, na=False)]"
   ]
  },
  {
   "cell_type": "code",
   "execution_count": 162,
   "metadata": {},
   "outputs": [],
   "source": [
    "matching_pentagrams['prediction'] = matching_pentagrams['token'].str.extract(string+\"\\s([a-zA-Z]+)\\s?\", flags=re.IGNORECASE)"
   ]
  },
  {
   "cell_type": "code",
   "execution_count": 163,
   "metadata": {},
   "outputs": [],
   "source": [
    "matching_pentagrams.dropna(how = 'any', axis = 0, inplace = True)"
   ]
  },
  {
   "cell_type": "code",
   "execution_count": 164,
   "metadata": {},
   "outputs": [],
   "source": [
    "matching_pentagrams.sort_values(by = ['freq'],axis = 0, inplace = True, ascending=False)"
   ]
  },
  {
   "cell_type": "code",
   "execution_count": 181,
   "metadata": {},
   "outputs": [],
   "source": [
    "if(matching_pentagrams.empty==False):\n",
    "    best_pred = pd.DataFrame(matching_pentagrams.iloc[0,1:3]).transpose()"
   ]
  },
  {
   "cell_type": "code",
   "execution_count": 197,
   "metadata": {},
   "outputs": [
    {
     "data": {
      "text/html": [
       "<div>\n",
       "<style scoped>\n",
       "    .dataframe tbody tr th:only-of-type {\n",
       "        vertical-align: middle;\n",
       "    }\n",
       "\n",
       "    .dataframe tbody tr th {\n",
       "        vertical-align: top;\n",
       "    }\n",
       "\n",
       "    .dataframe thead th {\n",
       "        text-align: right;\n",
       "    }\n",
       "</style>\n",
       "<table border=\"1\" class=\"dataframe\">\n",
       "  <thead>\n",
       "    <tr style=\"text-align: right;\">\n",
       "      <th></th>\n",
       "      <th>token</th>\n",
       "      <th>freq</th>\n",
       "      <th>prediction</th>\n",
       "    </tr>\n",
       "  </thead>\n",
       "  <tbody>\n",
       "    <tr>\n",
       "      <th>61548</th>\n",
       "      <td>at the end of the</td>\n",
       "      <td>10</td>\n",
       "      <td>the</td>\n",
       "    </tr>\n",
       "    <tr>\n",
       "      <th>61947</th>\n",
       "      <td>at the end of the</td>\n",
       "      <td>7</td>\n",
       "      <td>the</td>\n",
       "    </tr>\n",
       "    <tr>\n",
       "      <th>61547</th>\n",
       "      <td>at the end of each</td>\n",
       "      <td>2</td>\n",
       "      <td>each</td>\n",
       "    </tr>\n",
       "    <tr>\n",
       "      <th>62155</th>\n",
       "      <td>at the end of the</td>\n",
       "      <td>2</td>\n",
       "      <td>the</td>\n",
       "    </tr>\n",
       "  </tbody>\n",
       "</table>\n",
       "</div>"
      ],
      "text/plain": [
       "                    token  freq prediction\n",
       "61548   at the end of the    10        the\n",
       "61947   at the end of the     7        the\n",
       "61547  at the end of each     2       each\n",
       "62155   at the end of the     2        the"
      ]
     },
     "execution_count": 197,
     "metadata": {},
     "output_type": "execute_result"
    }
   ],
   "source": [
    "matching_pentagrams"
   ]
  },
  {
   "cell_type": "code",
   "execution_count": 198,
   "metadata": {},
   "outputs": [
    {
     "data": {
      "text/html": [
       "<div>\n",
       "<style scoped>\n",
       "    .dataframe tbody tr th:only-of-type {\n",
       "        vertical-align: middle;\n",
       "    }\n",
       "\n",
       "    .dataframe tbody tr th {\n",
       "        vertical-align: top;\n",
       "    }\n",
       "\n",
       "    .dataframe thead th {\n",
       "        text-align: right;\n",
       "    }\n",
       "</style>\n",
       "<table border=\"1\" class=\"dataframe\">\n",
       "  <thead>\n",
       "    <tr style=\"text-align: right;\">\n",
       "      <th></th>\n",
       "      <th>freq</th>\n",
       "      <th>prediction</th>\n",
       "    </tr>\n",
       "  </thead>\n",
       "  <tbody>\n",
       "    <tr>\n",
       "      <th>61548</th>\n",
       "      <td>10</td>\n",
       "      <td>the</td>\n",
       "    </tr>\n",
       "  </tbody>\n",
       "</table>\n",
       "</div>"
      ],
      "text/plain": [
       "      freq prediction\n",
       "61548   10        the"
      ]
     },
     "execution_count": 198,
     "metadata": {},
     "output_type": "execute_result"
    }
   ],
   "source": [
    "best_pred"
   ]
  },
  {
   "cell_type": "code",
   "execution_count": 199,
   "metadata": {},
   "outputs": [],
   "source": [
    "def predictWord(string):\n",
    "    preds_ = \"\"\n",
    "    pred = \"\"\n",
    "    string = string.lower()\n",
    "    best_pred = pd.DataFrame()\n",
    "    n_words = len(word_tokenize(string))\n",
    "    if(n_words > 4):\n",
    "        string_tokenized = word_tokenize(string)[-4:]\n",
    "        string = \" \".join(string_filtered)\n",
    "        n_words = 4\n",
    "    if(n_words == 4):\n",
    "        matching_pentagrams = NGrams.loc[NGrams['which']==5,['token','freq']][NGrams.loc[NGrams['which']==5,['token','freq']]['token'].str.startswith(string, na=False)]\n",
    "        matching_pentagrams['prediction'] = matching_pentagrams['token'].str.extract(string+\"\\s([a-zA-Z]+)\\s?\", flags=re.IGNORECASE)\n",
    "        matching_pentagrams.dropna(how = 'any', axis = 0, inplace = True)\n",
    "        matching_pentagrams.sort_values(by = ['freq'],axis = 0, inplace = True, ascending=False)\n",
    "        if(matching_pentagrams.empty==False):\n",
    "            best_pred = pd.DataFrame(matching_pentagrams.iloc[0,1:3]).transpose()\n",
    "        else:\n",
    "            string_tokenized = word_tokenize(string)[-3:]\n",
    "            string = \" \".join(string_filtered)\n",
    "            n_words = 3\n",
    "    if(n_words == 3):\n",
    "        matching_tetragrams = NGrams.loc[NGrams['which']==4,['token','freq']][NGrams.loc[NGrams['which']==4,['token','freq']]['token'].str.startswith(string, na=False)]\n",
    "        matching_tetragrams['prediction'] = matching_tetragrams['token'].str.extract(string+\"[a-zA-Z]*\\s([a-zA-Z]+)\\s?\", flags=re.IGNORECASE)\n",
    "        matching_tetragrams.dropna(how = 'any', axis = 0, inplace = True)\n",
    "        matching_tetragrams.sort_values(by = ['freq'],axis = 0, inplace = True, ascending=False)\n",
    "        if(matching_tetragrams.empty==False):\n",
    "            best_pred = pd.DataFrame(matching_tetragrams.iloc[0,1:3]).transpose()\n",
    "        else:\n",
    "            string_tokenized = word_tokenize(string)[-2:]\n",
    "            string = \" \".join(string_filtered)\n",
    "            n_words = 2\n",
    "    if(n_words == 2):\n",
    "        matching_trigrams = NGrams.loc[NGrams['which']==3,['token','freq']][NGrams.loc[NGrams['which']==3,['token','freq']]['token'].str.startswith(string, na=False)]\n",
    "        matching_trigrams['prediction'] = matching_trigrams['token'].str.extract(string+\"[a-zA-Z]*\\s([a-zA-Z]+)\\s?\", flags=re.IGNORECASE)\n",
    "        matching_trigrams.dropna(how = 'any', axis = 0, inplace = True)\n",
    "        matching_trigrams.sort_values(by = ['freq'],axis = 0, inplace = True, ascending=False)\n",
    "        if(matching_trigrams.empty==False):\n",
    "            best_pred = pd.DataFrame(matching_trigrams.iloc[0,1:3]).transpose()\n",
    "        else:\n",
    "            string_tokenized = word_tokenize(string)[-1:]\n",
    "            string = \" \".join(string_filtered)\n",
    "            n_words = 1\n",
    "    if(n_words == 1):\n",
    "        matching_bigrams = NGrams.loc[NGrams['which']==2,['token','freq']][NGrams.loc[NGrams['which']==2,['token','freq']]['token'].str.startswith(string, na=False)]\n",
    "        matching_bigrams['prediction'] = matching_bigrams['token'].str.extract(string+\"[a-zA-Z]*\\s([a-zA-Z]+)\\s?\", flags=re.IGNORECASE)\n",
    "        matching_bigrams.dropna(how = 'any', axis = 0, inplace = True)\n",
    "        matching_bigrams.sort_values(by = ['freq'],axis = 0, inplace = True, ascending=False)\n",
    "        if(matching_bigrams.empty==False):\n",
    "            best_pred = pd.DataFrame(matching_bigrams.iloc[0,1:3]).transpose()\n",
    "    if(best_pred.empty==False):\n",
    "        return(best_pred.iloc[0,1])\n",
    "    return(\"N/A\")"
   ]
  },
  {
   "cell_type": "code",
   "execution_count": 204,
   "metadata": {},
   "outputs": [
    {
     "data": {
      "text/plain": [
       "'N/A'"
      ]
     },
     "execution_count": 204,
     "metadata": {},
     "output_type": "execute_result"
    }
   ],
   "source": [
    "predictWord(string)"
   ]
  },
  {
   "cell_type": "code",
   "execution_count": 203,
   "metadata": {},
   "outputs": [],
   "source": [
    "string = \"my name is\""
   ]
  },
  {
   "cell_type": "code",
   "execution_count": 50,
   "metadata": {},
   "outputs": [],
   "source": [
    "matching_pentagrams = NGrams.loc[NGrams['which']==5,['token','freq']][NGrams.loc[NGrams['which']==5,['token','freq']]['token'].str.contains(string, flags = re.IGNORECASE)]\n",
    "matching_pentagrams['prediction'] = matching_pentagrams['token'].str.extract(string+\"[a-zA-Z]*\\s([a-zA-Z]+)\\s?\", flags=re.IGNORECASE)\n",
    "matching_pentagrams.dropna(how = 'any', axis = 0, inplace = True)\n",
    "matching_pentagrams.sort_values(by = ['freq'],axis = 0, inplace = True, ascending=False)\n"
   ]
  },
  {
   "cell_type": "code",
   "execution_count": 51,
   "metadata": {},
   "outputs": [
    {
     "data": {
      "text/html": [
       "<div>\n",
       "<style scoped>\n",
       "    .dataframe tbody tr th:only-of-type {\n",
       "        vertical-align: middle;\n",
       "    }\n",
       "\n",
       "    .dataframe tbody tr th {\n",
       "        vertical-align: top;\n",
       "    }\n",
       "\n",
       "    .dataframe thead th {\n",
       "        text-align: right;\n",
       "    }\n",
       "</style>\n",
       "<table border=\"1\" class=\"dataframe\">\n",
       "  <thead>\n",
       "    <tr style=\"text-align: right;\">\n",
       "      <th></th>\n",
       "      <th>token</th>\n",
       "      <th>freq</th>\n",
       "      <th>prediction</th>\n",
       "    </tr>\n",
       "  </thead>\n",
       "  <tbody>\n",
       "    <tr>\n",
       "      <th>61515</th>\n",
       "      <td>achieving greater speedaccuracy and air</td>\n",
       "      <td>2</td>\n",
       "      <td>greater</td>\n",
       "    </tr>\n",
       "    <tr>\n",
       "      <th>61589</th>\n",
       "      <td>focused on achieving greater speedaccuracy</td>\n",
       "      <td>2</td>\n",
       "      <td>greater</td>\n",
       "    </tr>\n",
       "    <tr>\n",
       "      <th>61684</th>\n",
       "      <td>is focused on achieving greater</td>\n",
       "      <td>2</td>\n",
       "      <td>greater</td>\n",
       "    </tr>\n",
       "    <tr>\n",
       "      <th>61737</th>\n",
       "      <td>on achieving greater speedaccuracy and</td>\n",
       "      <td>2</td>\n",
       "      <td>greater</td>\n",
       "    </tr>\n",
       "  </tbody>\n",
       "</table>\n",
       "</div>"
      ],
      "text/plain": [
       "                                            token  freq prediction\n",
       "61515     achieving greater speedaccuracy and air     2    greater\n",
       "61589  focused on achieving greater speedaccuracy     2    greater\n",
       "61684             is focused on achieving greater     2    greater\n",
       "61737      on achieving greater speedaccuracy and     2    greater"
      ]
     },
     "execution_count": 51,
     "metadata": {},
     "output_type": "execute_result"
    }
   ],
   "source": [
    "matching_pentagrams.head()"
   ]
  },
  {
   "cell_type": "code",
   "execution_count": 52,
   "metadata": {},
   "outputs": [],
   "source": [
    "best_pred = pd.DataFrame(matching_pentagrams.iloc[0,1:3]).transpose()"
   ]
  },
  {
   "cell_type": "code",
   "execution_count": 57,
   "metadata": {},
   "outputs": [
    {
     "data": {
      "text/plain": [
       "False"
      ]
     },
     "execution_count": 57,
     "metadata": {},
     "output_type": "execute_result"
    }
   ],
   "source": [
    "best_pred.empty"
   ]
  },
  {
   "cell_type": "code",
   "execution_count": 88,
   "metadata": {},
   "outputs": [],
   "source": [
    "string = \"at the End of\""
   ]
  },
  {
   "cell_type": "code",
   "execution_count": 89,
   "metadata": {},
   "outputs": [],
   "source": [
    "string = string.lower()"
   ]
  },
  {
   "cell_type": "code",
   "execution_count": 90,
   "metadata": {},
   "outputs": [],
   "source": [
    "matching_pentagrams = NGrams.loc[NGrams['which']==5,['token','freq']][NGrams.loc[NGrams['which']==5,['token','freq']]['token'].str.startswith(string, na=False)]"
   ]
  },
  {
   "cell_type": "code",
   "execution_count": 91,
   "metadata": {},
   "outputs": [],
   "source": [
    "matching_pentagrams['prediction'] = matching_pentagrams['token'].str.extract(string+\"\\s([a-zA-Z]+)\\s?\", flags=re.IGNORECASE)"
   ]
  },
  {
   "cell_type": "code",
   "execution_count": 92,
   "metadata": {},
   "outputs": [],
   "source": [
    "matching_pentagrams.dropna(how = 'any', axis = 0, inplace = True)"
   ]
  },
  {
   "cell_type": "code",
   "execution_count": 93,
   "metadata": {},
   "outputs": [],
   "source": [
    "matching_pentagrams.sort_values(by = ['freq'],axis = 0, inplace = True, ascending=False)"
   ]
  },
  {
   "cell_type": "code",
   "execution_count": 94,
   "metadata": {},
   "outputs": [],
   "source": [
    "best_pred = pd.DataFrame(matching_pentagrams.iloc[0,1:3]).transpose()"
   ]
  },
  {
   "cell_type": "code",
   "execution_count": 95,
   "metadata": {},
   "outputs": [
    {
     "data": {
      "text/html": [
       "<div>\n",
       "<style scoped>\n",
       "    .dataframe tbody tr th:only-of-type {\n",
       "        vertical-align: middle;\n",
       "    }\n",
       "\n",
       "    .dataframe tbody tr th {\n",
       "        vertical-align: top;\n",
       "    }\n",
       "\n",
       "    .dataframe thead th {\n",
       "        text-align: right;\n",
       "    }\n",
       "</style>\n",
       "<table border=\"1\" class=\"dataframe\">\n",
       "  <thead>\n",
       "    <tr style=\"text-align: right;\">\n",
       "      <th></th>\n",
       "      <th>freq</th>\n",
       "      <th>prediction</th>\n",
       "    </tr>\n",
       "  </thead>\n",
       "  <tbody>\n",
       "    <tr>\n",
       "      <th>61548</th>\n",
       "      <td>10</td>\n",
       "      <td>the</td>\n",
       "    </tr>\n",
       "  </tbody>\n",
       "</table>\n",
       "</div>"
      ],
      "text/plain": [
       "      freq prediction\n",
       "61548   10        the"
      ]
     },
     "execution_count": 95,
     "metadata": {},
     "output_type": "execute_result"
    }
   ],
   "source": [
    "best_pred"
   ]
  },
  {
   "cell_type": "code",
   "execution_count": null,
   "metadata": {},
   "outputs": [],
   "source": []
  }
 ],
 "metadata": {
  "kernelspec": {
   "display_name": "Python 3",
   "language": "python",
   "name": "python3"
  },
  "language_info": {
   "codemirror_mode": {
    "name": "ipython",
    "version": 3
   },
   "file_extension": ".py",
   "mimetype": "text/x-python",
   "name": "python",
   "nbconvert_exporter": "python",
   "pygments_lexer": "ipython3",
   "version": "3.8.6"
  }
 },
 "nbformat": 4,
 "nbformat_minor": 4
}
