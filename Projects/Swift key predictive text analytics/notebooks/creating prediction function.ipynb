{
 "cells": [
  {
   "cell_type": "code",
   "execution_count": 4,
   "metadata": {},
   "outputs": [],
   "source": [
    "import pandas as pd \n",
    "import numpy as np\n",
    "from plotly import express as px\n",
    "import re"
   ]
  },
  {
   "cell_type": "code",
   "execution_count": 3,
   "metadata": {},
   "outputs": [],
   "source": [
    "import nltk \n",
    "from nltk.corpus import stopwords\n",
    "from nltk.tokenize import word_tokenize"
   ]
  },
  {
   "cell_type": "code",
   "execution_count": 5,
   "metadata": {},
   "outputs": [
    {
     "name": "stderr",
     "output_type": "stream",
     "text": [
      "[nltk_data] Downloading package stopwords to\n",
      "[nltk_data]     C:\\Users\\Aquaregis32\\AppData\\Roaming\\nltk_data...\n",
      "[nltk_data]   Package stopwords is already up-to-date!\n",
      "[nltk_data] Downloading package punkt to\n",
      "[nltk_data]     C:\\Users\\Aquaregis32\\AppData\\Roaming\\nltk_data...\n",
      "[nltk_data]   Package punkt is already up-to-date!\n"
     ]
    }
   ],
   "source": [
    "nltk.download('stopwords')\n",
    "nltk.download('punkt')\n",
    "stop_words = list(stopwords.words('english'))  "
   ]
  },
  {
   "cell_type": "code",
   "execution_count": 6,
   "metadata": {},
   "outputs": [],
   "source": [
    "stop_words.append('.')\n",
    "stop_words = set(stop_words)"
   ]
  },
  {
   "cell_type": "code",
   "execution_count": 18,
   "metadata": {},
   "outputs": [],
   "source": [
    "df_bigram = pd.read_csv(\"../NGrams/top_bigrams.csv\", encoding='utf-8')\n",
    "df_trigram = pd.read_csv(\"../NGrams/top_trigrams.csv\", encoding='utf-8')\n",
    "df_tetragram = pd.read_csv(\"../NGrams/top_tetragrams.csv\", encoding='utf-8')"
   ]
  },
  {
   "cell_type": "code",
   "execution_count": 19,
   "metadata": {},
   "outputs": [
    {
     "data": {
      "text/html": [
       "<div>\n",
       "<style scoped>\n",
       "    .dataframe tbody tr th:only-of-type {\n",
       "        vertical-align: middle;\n",
       "    }\n",
       "\n",
       "    .dataframe tbody tr th {\n",
       "        vertical-align: top;\n",
       "    }\n",
       "\n",
       "    .dataframe thead th {\n",
       "        text-align: right;\n",
       "    }\n",
       "</style>\n",
       "<table border=\"1\" class=\"dataframe\">\n",
       "  <thead>\n",
       "    <tr style=\"text-align: right;\">\n",
       "      <th></th>\n",
       "      <th>token</th>\n",
       "      <th>freq</th>\n",
       "    </tr>\n",
       "  </thead>\n",
       "  <tbody>\n",
       "    <tr>\n",
       "      <th>2977</th>\n",
       "      <td>new york</td>\n",
       "      <td>40</td>\n",
       "    </tr>\n",
       "    <tr>\n",
       "      <th>5154</th>\n",
       "      <td>years ago</td>\n",
       "      <td>39</td>\n",
       "    </tr>\n",
       "    <tr>\n",
       "      <th>2313</th>\n",
       "      <td>last week</td>\n",
       "      <td>37</td>\n",
       "    </tr>\n",
       "    <tr>\n",
       "      <th>2316</th>\n",
       "      <td>last year</td>\n",
       "      <td>36</td>\n",
       "    </tr>\n",
       "    <tr>\n",
       "      <th>3670</th>\n",
       "      <td>right now</td>\n",
       "      <td>35</td>\n",
       "    </tr>\n",
       "  </tbody>\n",
       "</table>\n",
       "</div>"
      ],
      "text/plain": [
       "          token  freq\n",
       "2977   new york    40\n",
       "5154  years ago    39\n",
       "2313  last week    37\n",
       "2316  last year    36\n",
       "3670  right now    35"
      ]
     },
     "execution_count": 19,
     "metadata": {},
     "output_type": "execute_result"
    }
   ],
   "source": [
    "df_bigram.sort_values(by='freq', ascending=False).head()"
   ]
  },
  {
   "cell_type": "code",
   "execution_count": 20,
   "metadata": {},
   "outputs": [
    {
     "data": {
      "text/html": [
       "<div>\n",
       "<style scoped>\n",
       "    .dataframe tbody tr th:only-of-type {\n",
       "        vertical-align: middle;\n",
       "    }\n",
       "\n",
       "    .dataframe tbody tr th {\n",
       "        vertical-align: top;\n",
       "    }\n",
       "\n",
       "    .dataframe thead th {\n",
       "        text-align: right;\n",
       "    }\n",
       "</style>\n",
       "<table border=\"1\" class=\"dataframe\">\n",
       "  <thead>\n",
       "    <tr style=\"text-align: right;\">\n",
       "      <th></th>\n",
       "      <th>token</th>\n",
       "      <th>freq</th>\n",
       "    </tr>\n",
       "  </thead>\n",
       "  <tbody>\n",
       "    <tr>\n",
       "      <th>168</th>\n",
       "      <td>invitation paintball party</td>\n",
       "      <td>11</td>\n",
       "    </tr>\n",
       "    <tr>\n",
       "      <th>274</th>\n",
       "      <td>please please please</td>\n",
       "      <td>8</td>\n",
       "    </tr>\n",
       "    <tr>\n",
       "      <th>385</th>\n",
       "      <td>will take place</td>\n",
       "      <td>6</td>\n",
       "    </tr>\n",
       "    <tr>\n",
       "      <th>95</th>\n",
       "      <td>evolution mitsubishi forums</td>\n",
       "      <td>6</td>\n",
       "    </tr>\n",
       "    <tr>\n",
       "      <th>104</th>\n",
       "      <td>first time since</td>\n",
       "      <td>5</td>\n",
       "    </tr>\n",
       "  </tbody>\n",
       "</table>\n",
       "</div>"
      ],
      "text/plain": [
       "                           token  freq\n",
       "168   invitation paintball party    11\n",
       "274         please please please     8\n",
       "385              will take place     6\n",
       "95   evolution mitsubishi forums     6\n",
       "104             first time since     5"
      ]
     },
     "execution_count": 20,
     "metadata": {},
     "output_type": "execute_result"
    }
   ],
   "source": [
    "df_trigram.sort_values(by='freq', ascending=False).head()"
   ]
  },
  {
   "cell_type": "code",
   "execution_count": 21,
   "metadata": {},
   "outputs": [
    {
     "data": {
      "text/html": [
       "<div>\n",
       "<style scoped>\n",
       "    .dataframe tbody tr th:only-of-type {\n",
       "        vertical-align: middle;\n",
       "    }\n",
       "\n",
       "    .dataframe tbody tr th {\n",
       "        vertical-align: top;\n",
       "    }\n",
       "\n",
       "    .dataframe thead th {\n",
       "        text-align: right;\n",
       "    }\n",
       "</style>\n",
       "<table border=\"1\" class=\"dataframe\">\n",
       "  <thead>\n",
       "    <tr style=\"text-align: right;\">\n",
       "      <th></th>\n",
       "      <th>token</th>\n",
       "      <th>freq</th>\n",
       "    </tr>\n",
       "  </thead>\n",
       "  <tbody>\n",
       "    <tr>\n",
       "      <th>39</th>\n",
       "      <td>please please please please</td>\n",
       "      <td>6</td>\n",
       "    </tr>\n",
       "    <tr>\n",
       "      <th>32</th>\n",
       "      <td>need tail need tail</td>\n",
       "      <td>4</td>\n",
       "    </tr>\n",
       "    <tr>\n",
       "      <th>47</th>\n",
       "      <td>rs lacs quarter ending</td>\n",
       "      <td>4</td>\n",
       "    </tr>\n",
       "    <tr>\n",
       "      <th>23</th>\n",
       "      <td>lacs quarter ending mar</td>\n",
       "      <td>4</td>\n",
       "    </tr>\n",
       "    <tr>\n",
       "      <th>61</th>\n",
       "      <td>will take place pm</td>\n",
       "      <td>3</td>\n",
       "    </tr>\n",
       "  </tbody>\n",
       "</table>\n",
       "</div>"
      ],
      "text/plain": [
       "                          token  freq\n",
       "39  please please please please     6\n",
       "32          need tail need tail     4\n",
       "47       rs lacs quarter ending     4\n",
       "23      lacs quarter ending mar     4\n",
       "61           will take place pm     3"
      ]
     },
     "execution_count": 21,
     "metadata": {},
     "output_type": "execute_result"
    }
   ],
   "source": [
    "df_tetragram.sort_values(by='freq', ascending=False).head()"
   ]
  },
  {
   "cell_type": "code",
   "execution_count": 89,
   "metadata": {},
   "outputs": [],
   "source": [
    "string = \"thing\""
   ]
  },
  {
   "cell_type": "code",
   "execution_count": 24,
   "metadata": {},
   "outputs": [],
   "source": [
    "string_tokenized = word_tokenize(string)  \n",
    "string_filtered = [x for x in string_tokenized if not x in stop_words]\n",
    "string = \" \".join(string_filtered)"
   ]
  },
  {
   "cell_type": "code",
   "execution_count": 25,
   "metadata": {},
   "outputs": [
    {
     "data": {
      "text/plain": [
       "'Hello name anandu R'"
      ]
     },
     "execution_count": 25,
     "metadata": {},
     "output_type": "execute_result"
    }
   ],
   "source": [
    "string"
   ]
  },
  {
   "cell_type": "code",
   "execution_count": 162,
   "metadata": {},
   "outputs": [],
   "source": [
    "def predictWord(string):\n",
    "    preds_ = \"\"\n",
    "    pred = \"\"\n",
    "    string_tokenized = word_tokenize(string)  \n",
    "    string_filtered = [x for x in string_tokenized if not x in stop_words]\n",
    "    string = \" \".join(string_filtered)\n",
    "    best_pred = \"\"\n",
    "    n_words = len(string_filtered)\n",
    "    if(n_words == 3):\n",
    "        matching_tetragrams = df_tetragram[df_tetragram['token'].str.contains(string, flags = re.IGNORECASE)]\n",
    "        matching_tetragrams['prediction'] = matching_tetragrams['token'].str.extract(string+\"[a-zA-Z]*\\s([a-zA-Z]+)\\s?\", flags=re.IGNORECASE)\n",
    "        matching_tetragrams.dropna(how = 'any', axis = 0, inplace = True)\n",
    "        matching_tetragrams.sort_values(by = ['freq'],axis = 0, inplace = True, ascending=False)\n",
    "        best_pred = pd.DataFrame(matching_tetragrams.iloc[0,1:3]).transpose()\n",
    "    if(n_words == 2 or best_pred.empty):\n",
    "        \n",
    "        matching_trigrams = df_trigram[df_trigram['token'].str.contains(string, flags = re.IGNORECASE)]\n",
    "        matching_trigrams['prediction'] = matching_trigrams['token'].str.extract(string+\"[a-zA-Z]*\\s([a-zA-Z]+)\\s?\", flags=re.IGNORECASE)\n",
    "        matching_trigrams.dropna(how = 'any', axis = 0, inplace = True)\n",
    "        matching_trigrams.sort_values(by = ['freq'],axis = 0, inplace = True, ascending=False)\n",
    "        pred = pd.DataFrame(matching_trigrams.iloc[0,1:3]).transpose()\n",
    "        if(n_words == 2):\n",
    "            best_pred = pred\n",
    "        else:\n",
    "            if(pred.iloc[0,1]>best_pred.iloc[0,1]):\n",
    "                best_pred = pred\n",
    "    if(n_words == 1 or best_pred.empty):\n",
    "        \n",
    "        matching_bigrams = df_bigram[df_bigram['token'].str.contains(string, flags = re.IGNORECASE)]\n",
    "        matching_bigrams['prediction'] = matching_bigrams['token'].str.extract(string+\"[a-zA-Z]*\\s([a-zA-Z]+)\\s?\", flags=re.IGNORECASE)\n",
    "        matching_bigrams.dropna(how = 'any', axis = 0, inplace = True)\n",
    "        matching_bigrams.sort_values(by = ['freq'],axis = 0, inplace = True, ascending=False)\n",
    "        pred = pd.DataFrame(matching_bigrams.iloc[0,1:3]).transpose()\n",
    "        if(n_words == 1):\n",
    "            best_pred = pred\n",
    "        else:\n",
    "            if(pred.iloc[0,1]>best_pred.iloc[0,1]):\n",
    "                best_pred = pred\n",
    "    pred_word = best_pred.iloc[0,1]\n",
    "    return(pred_word)"
   ]
  },
  {
   "cell_type": "code",
   "execution_count": 163,
   "metadata": {},
   "outputs": [
    {
     "name": "stderr",
     "output_type": "stream",
     "text": [
      "<ipython-input-162-1d361c4da335>:28: SettingWithCopyWarning: \n",
      "A value is trying to be set on a copy of a slice from a DataFrame.\n",
      "Try using .loc[row_indexer,col_indexer] = value instead\n",
      "\n",
      "See the caveats in the documentation: https://pandas.pydata.org/pandas-docs/stable/user_guide/indexing.html#returning-a-view-versus-a-copy\n",
      "  matching_bigrams['prediction'] = matching_bigrams['token'].str.extract(string+\"[a-zA-Z]*\\s([a-zA-Z]+)\\s?\", flags=re.IGNORECASE)\n",
      "<ipython-input-162-1d361c4da335>:29: SettingWithCopyWarning: \n",
      "A value is trying to be set on a copy of a slice from a DataFrame\n",
      "\n",
      "See the caveats in the documentation: https://pandas.pydata.org/pandas-docs/stable/user_guide/indexing.html#returning-a-view-versus-a-copy\n",
      "  matching_bigrams.dropna(how = 'any', axis = 0, inplace = True)\n",
      "<ipython-input-162-1d361c4da335>:30: SettingWithCopyWarning: \n",
      "A value is trying to be set on a copy of a slice from a DataFrame\n",
      "\n",
      "See the caveats in the documentation: https://pandas.pydata.org/pandas-docs/stable/user_guide/indexing.html#returning-a-view-versus-a-copy\n",
      "  matching_bigrams.sort_values(by = ['freq'],axis = 0, inplace = True, ascending=False)\n"
     ]
    },
    {
     "data": {
      "text/plain": [
       "'like'"
      ]
     },
     "execution_count": 163,
     "metadata": {},
     "output_type": "execute_result"
    }
   ],
   "source": [
    "predictWord(\"thing\")"
   ]
  },
  {
   "cell_type": "code",
   "execution_count": 39,
   "metadata": {},
   "outputs": [],
   "source": [
    "string = \"my name is khan\""
   ]
  },
  {
   "cell_type": "code",
   "execution_count": 40,
   "metadata": {},
   "outputs": [],
   "source": []
  },
  {
   "cell_type": "code",
   "execution_count": 41,
   "metadata": {},
   "outputs": [
    {
     "data": {
      "text/plain": [
       "'name is khan'"
      ]
     },
     "execution_count": 41,
     "metadata": {},
     "output_type": "execute_result"
    }
   ],
   "source": [
    "string"
   ]
  },
  {
   "cell_type": "code",
   "execution_count": null,
   "metadata": {},
   "outputs": [],
   "source": []
  }
 ],
 "metadata": {
  "kernelspec": {
   "display_name": "Python 3",
   "language": "python",
   "name": "python3"
  },
  "language_info": {
   "codemirror_mode": {
    "name": "ipython",
    "version": 3
   },
   "file_extension": ".py",
   "mimetype": "text/x-python",
   "name": "python",
   "nbconvert_exporter": "python",
   "pygments_lexer": "ipython3",
   "version": "3.8.6"
  }
 },
 "nbformat": 4,
 "nbformat_minor": 4
}
