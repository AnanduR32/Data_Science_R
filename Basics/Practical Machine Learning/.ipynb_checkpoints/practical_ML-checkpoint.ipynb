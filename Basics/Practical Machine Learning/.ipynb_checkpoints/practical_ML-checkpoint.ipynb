{
 "cells": [
  {
   "cell_type": "markdown",
   "metadata": {},
   "source": [
    "# Practical Machine Learning using R"
   ]
  },
  {
   "cell_type": "markdown",
   "metadata": {},
   "source": [
    "### Loading study pre-requisite packages"
   ]
  },
  {
   "cell_type": "code",
   "execution_count": 20,
   "metadata": {},
   "outputs": [],
   "source": [
    "suppressWarnings({library(ISLR); library(caret); library(dplyr); data(Wage)})"
   ]
  },
  {
   "cell_type": "code",
   "execution_count": 2,
   "metadata": {},
   "outputs": [
    {
     "data": {
      "text/html": [
       "<table>\n",
       "<thead><tr><th></th><th scope=col>year</th><th scope=col>age</th><th scope=col>maritl</th><th scope=col>race</th><th scope=col>education</th><th scope=col>region</th><th scope=col>jobclass</th><th scope=col>health</th><th scope=col>health_ins</th><th scope=col>logwage</th><th scope=col>wage</th></tr></thead>\n",
       "<tbody>\n",
       "\t<tr><th scope=row>161300</th><td>2003                                                     </td><td>45                                                       </td><td><span style=white-space:pre-wrap>2. Married      </span> </td><td>1. White                                                 </td><td>3. Some College                                          </td><td>2. Middle Atlantic                                       </td><td>1. Industrial                                            </td><td><span style=white-space:pre-wrap>1. &lt;=Good     </span></td><td>1. Yes                                                   </td><td>4.875061                                                 </td><td>130.98218                                                </td></tr>\n",
       "\t<tr><th scope=row>155159</th><td>2003                                                    </td><td>43                                                      </td><td><span style=white-space:pre-wrap>2. Married      </span></td><td>3. Asian                                                </td><td>4. College Grad                                         </td><td>2. Middle Atlantic                                      </td><td>2. Information                                          </td><td>2. &gt;=Very Good                                       </td><td>1. Yes                                                  </td><td>5.041393                                                </td><td>154.68529                                               </td></tr>\n",
       "\t<tr><th scope=row>11443</th><td>2005                                                     </td><td>50                                                       </td><td><span style=white-space:pre-wrap>4. Divorced     </span> </td><td>1. White                                                 </td><td><span style=white-space:pre-wrap>2. HS Grad     </span>  </td><td>2. Middle Atlantic                                       </td><td>2. Information                                           </td><td><span style=white-space:pre-wrap>1. &lt;=Good     </span></td><td>1. Yes                                                   </td><td>4.318063                                                 </td><td> 75.04315                                                </td></tr>\n",
       "\t<tr><th scope=row>376662</th><td>2008                                                    </td><td>54                                                      </td><td><span style=white-space:pre-wrap>2. Married      </span></td><td>1. White                                                </td><td>4. College Grad                                         </td><td>2. Middle Atlantic                                      </td><td>2. Information                                          </td><td>2. &gt;=Very Good                                       </td><td>1. Yes                                                  </td><td>4.845098                                                </td><td>127.11574                                               </td></tr>\n",
       "\t<tr><th scope=row>450601</th><td>2009                                                    </td><td>44                                                      </td><td><span style=white-space:pre-wrap>2. Married      </span></td><td>4. Other                                                </td><td>3. Some College                                         </td><td>2. Middle Atlantic                                      </td><td>1. Industrial                                           </td><td>2. &gt;=Very Good                                       </td><td>1. Yes                                                  </td><td>5.133021                                                </td><td>169.52854                                               </td></tr>\n",
       "\t<tr><th scope=row>377954</th><td>2008                                                     </td><td>30                                                       </td><td>1. Never Married                                         </td><td>3. Asian                                                 </td><td>3. Some College                                          </td><td>2. Middle Atlantic                                       </td><td>2. Information                                           </td><td><span style=white-space:pre-wrap>1. &lt;=Good     </span></td><td>1. Yes                                                   </td><td>4.716003                                                 </td><td>111.72085                                                </td></tr>\n",
       "</tbody>\n",
       "</table>\n"
      ],
      "text/latex": [
       "\\begin{tabular}{r|lllllllllll}\n",
       "  & year & age & maritl & race & education & region & jobclass & health & health\\_ins & logwage & wage\\\\\n",
       "\\hline\n",
       "\t161300 & 2003               & 45                 & 2. Married         & 1. White           & 3. Some College    & 2. Middle Atlantic & 1. Industrial      & 1. <=Good          & 1. Yes             & 4.875061           & 130.98218         \\\\\n",
       "\t155159 & 2003               & 43                 & 2. Married         & 3. Asian           & 4. College Grad    & 2. Middle Atlantic & 2. Information     & 2. >=Very Good     & 1. Yes             & 5.041393           & 154.68529         \\\\\n",
       "\t11443 & 2005               & 50                 & 4. Divorced        & 1. White           & 2. HS Grad         & 2. Middle Atlantic & 2. Information     & 1. <=Good          & 1. Yes             & 4.318063           &  75.04315         \\\\\n",
       "\t376662 & 2008               & 54                 & 2. Married         & 1. White           & 4. College Grad    & 2. Middle Atlantic & 2. Information     & 2. >=Very Good     & 1. Yes             & 4.845098           & 127.11574         \\\\\n",
       "\t450601 & 2009               & 44                 & 2. Married         & 4. Other           & 3. Some College    & 2. Middle Atlantic & 1. Industrial      & 2. >=Very Good     & 1. Yes             & 5.133021           & 169.52854         \\\\\n",
       "\t377954 & 2008               & 30                 & 1. Never Married   & 3. Asian           & 3. Some College    & 2. Middle Atlantic & 2. Information     & 1. <=Good          & 1. Yes             & 4.716003           & 111.72085         \\\\\n",
       "\\end{tabular}\n"
      ],
      "text/markdown": [
       "\n",
       "| <!--/--> | year | age | maritl | race | education | region | jobclass | health | health_ins | logwage | wage |\n",
       "|---|---|---|---|---|---|---|---|---|---|---|---|\n",
       "| 161300 | 2003               | 45                 | 2. Married         | 1. White           | 3. Some College    | 2. Middle Atlantic | 1. Industrial      | 1. <=Good          | 1. Yes             | 4.875061           | 130.98218          |\n",
       "| 155159 | 2003               | 43                 | 2. Married         | 3. Asian           | 4. College Grad    | 2. Middle Atlantic | 2. Information     | 2. >=Very Good     | 1. Yes             | 5.041393           | 154.68529          |\n",
       "| 11443 | 2005               | 50                 | 4. Divorced        | 1. White           | 2. HS Grad         | 2. Middle Atlantic | 2. Information     | 1. <=Good          | 1. Yes             | 4.318063           |  75.04315          |\n",
       "| 376662 | 2008               | 54                 | 2. Married         | 1. White           | 4. College Grad    | 2. Middle Atlantic | 2. Information     | 2. >=Very Good     | 1. Yes             | 4.845098           | 127.11574          |\n",
       "| 450601 | 2009               | 44                 | 2. Married         | 4. Other           | 3. Some College    | 2. Middle Atlantic | 1. Industrial      | 2. >=Very Good     | 1. Yes             | 5.133021           | 169.52854          |\n",
       "| 377954 | 2008               | 30                 | 1. Never Married   | 3. Asian           | 3. Some College    | 2. Middle Atlantic | 2. Information     | 1. <=Good          | 1. Yes             | 4.716003           | 111.72085          |\n",
       "\n"
      ],
      "text/plain": [
       "       year age maritl           race     education       region            \n",
       "161300 2003 45  2. Married       1. White 3. Some College 2. Middle Atlantic\n",
       "155159 2003 43  2. Married       3. Asian 4. College Grad 2. Middle Atlantic\n",
       "11443  2005 50  4. Divorced      1. White 2. HS Grad      2. Middle Atlantic\n",
       "376662 2008 54  2. Married       1. White 4. College Grad 2. Middle Atlantic\n",
       "450601 2009 44  2. Married       4. Other 3. Some College 2. Middle Atlantic\n",
       "377954 2008 30  1. Never Married 3. Asian 3. Some College 2. Middle Atlantic\n",
       "       jobclass       health         health_ins logwage  wage     \n",
       "161300 1. Industrial  1. <=Good      1. Yes     4.875061 130.98218\n",
       "155159 2. Information 2. >=Very Good 1. Yes     5.041393 154.68529\n",
       "11443  2. Information 1. <=Good      1. Yes     4.318063  75.04315\n",
       "376662 2. Information 2. >=Very Good 1. Yes     4.845098 127.11574\n",
       "450601 1. Industrial  2. >=Very Good 1. Yes     5.133021 169.52854\n",
       "377954 2. Information 1. <=Good      1. Yes     4.716003 111.72085"
      ]
     },
     "metadata": {},
     "output_type": "display_data"
    }
   ],
   "source": [
    "inTrain = createDataPartition(y = Wage$wage, p = 0.7, list = F)\n",
    "train_raw = Wage[inTrain,]\n",
    "test_raw = Wage[-inTrain,]\n",
    "head(train_raw)"
   ]
  },
  {
   "cell_type": "markdown",
   "metadata": {},
   "source": [
    "### Dummifying covariates \n",
    "Turning covariates which are qualitative into dummy variables is\n",
    "common when training predictive models, since the models don't generally use\n",
    "those qualitative information to do something productive."
   ]
  },
  {
   "cell_type": "code",
   "execution_count": 3,
   "metadata": {},
   "outputs": [
    {
     "data": {
      "text/html": [
       "<table>\n",
       "<thead><tr><th></th><th scope=col>jobclass.1. Industrial</th><th scope=col>jobclass.2. Information</th></tr></thead>\n",
       "<tbody>\n",
       "\t<tr><th scope=row>161300</th><td>1</td><td>0</td></tr>\n",
       "\t<tr><th scope=row>155159</th><td>0</td><td>1</td></tr>\n",
       "\t<tr><th scope=row>11443</th><td>0</td><td>1</td></tr>\n",
       "\t<tr><th scope=row>376662</th><td>0</td><td>1</td></tr>\n",
       "\t<tr><th scope=row>450601</th><td>1</td><td>0</td></tr>\n",
       "\t<tr><th scope=row>377954</th><td>0</td><td>1</td></tr>\n",
       "</tbody>\n",
       "</table>\n"
      ],
      "text/latex": [
       "\\begin{tabular}{r|ll}\n",
       "  & jobclass.1. Industrial & jobclass.2. Information\\\\\n",
       "\\hline\n",
       "\t161300 & 1 & 0\\\\\n",
       "\t155159 & 0 & 1\\\\\n",
       "\t11443 & 0 & 1\\\\\n",
       "\t376662 & 0 & 1\\\\\n",
       "\t450601 & 1 & 0\\\\\n",
       "\t377954 & 0 & 1\\\\\n",
       "\\end{tabular}\n"
      ],
      "text/markdown": [
       "\n",
       "| <!--/--> | jobclass.1. Industrial | jobclass.2. Information |\n",
       "|---|---|---|\n",
       "| 161300 | 1 | 0 |\n",
       "| 155159 | 0 | 1 |\n",
       "| 11443 | 0 | 1 |\n",
       "| 376662 | 0 | 1 |\n",
       "| 450601 | 1 | 0 |\n",
       "| 377954 | 0 | 1 |\n",
       "\n"
      ],
      "text/plain": [
       "       jobclass.1. Industrial jobclass.2. Information\n",
       "161300 1                      0                      \n",
       "155159 0                      1                      \n",
       "11443  0                      1                      \n",
       "376662 0                      1                      \n",
       "450601 1                      0                      \n",
       "377954 0                      1                      "
      ]
     },
     "metadata": {},
     "output_type": "display_data"
    }
   ],
   "source": [
    "dummies = dummyVars(wage~jobclass, data = train_raw)\n",
    "head(predict(dummies, newdata = train_raw))"
   ]
  },
  {
   "cell_type": "markdown",
   "metadata": {},
   "source": [
    "### Removing zero or near-zero covariates\n",
    "Removing the covariates that give no \n",
    "significant information that can be used in modelling a predictve model, they \n",
    "have very little to no variability and hence doesn't serve any purpose to the \n",
    "model creation. eg: In case of mails the column \"any_letters\" will certainly \n",
    "always be \"True\" since every mail will have atleast one letter in it. "
   ]
  },
  {
   "cell_type": "code",
   "execution_count": 4,
   "metadata": {},
   "outputs": [
    {
     "data": {
      "text/html": [
       "<table>\n",
       "<thead><tr><th></th><th scope=col>freqRatio</th><th scope=col>percentUnique</th><th scope=col>zeroVar</th><th scope=col>nzv</th></tr></thead>\n",
       "<tbody>\n",
       "\t<tr><th scope=row>year</th><td>1.014368   </td><td> 0.33301618</td><td>FALSE      </td><td>FALSE      </td></tr>\n",
       "\t<tr><th scope=row>age</th><td>1.109589   </td><td> 2.90199810</td><td>FALSE      </td><td>FALSE      </td></tr>\n",
       "\t<tr><th scope=row>maritl</th><td>3.158009   </td><td> 0.23786870</td><td>FALSE      </td><td>FALSE      </td></tr>\n",
       "\t<tr><th scope=row>race</th><td>8.504902   </td><td> 0.19029496</td><td>FALSE      </td><td>FALSE      </td></tr>\n",
       "\t<tr><th scope=row>education</th><td>1.481641   </td><td> 0.23786870</td><td>FALSE      </td><td>FALSE      </td></tr>\n",
       "\t<tr><th scope=row>region</th><td>0.000000   </td><td> 0.04757374</td><td> TRUE      </td><td> TRUE      </td></tr>\n",
       "\t<tr><th scope=row>jobclass</th><td>1.036822   </td><td> 0.09514748</td><td>FALSE      </td><td>FALSE      </td></tr>\n",
       "\t<tr><th scope=row>health</th><td>2.474380   </td><td> 0.09514748</td><td>FALSE      </td><td>FALSE      </td></tr>\n",
       "\t<tr><th scope=row>health_ins</th><td>2.363200   </td><td> 0.09514748</td><td>FALSE      </td><td>FALSE      </td></tr>\n",
       "\t<tr><th scope=row>logwage</th><td>1.048193   </td><td>18.69647954</td><td>FALSE      </td><td>FALSE      </td></tr>\n",
       "\t<tr><th scope=row>wage</th><td>1.048193   </td><td>18.69647954</td><td>FALSE      </td><td>FALSE      </td></tr>\n",
       "</tbody>\n",
       "</table>\n"
      ],
      "text/latex": [
       "\\begin{tabular}{r|llll}\n",
       "  & freqRatio & percentUnique & zeroVar & nzv\\\\\n",
       "\\hline\n",
       "\tyear & 1.014368    &  0.33301618 & FALSE       & FALSE      \\\\\n",
       "\tage & 1.109589    &  2.90199810 & FALSE       & FALSE      \\\\\n",
       "\tmaritl & 3.158009    &  0.23786870 & FALSE       & FALSE      \\\\\n",
       "\trace & 8.504902    &  0.19029496 & FALSE       & FALSE      \\\\\n",
       "\teducation & 1.481641    &  0.23786870 & FALSE       & FALSE      \\\\\n",
       "\tregion & 0.000000    &  0.04757374 &  TRUE       &  TRUE      \\\\\n",
       "\tjobclass & 1.036822    &  0.09514748 & FALSE       & FALSE      \\\\\n",
       "\thealth & 2.474380    &  0.09514748 & FALSE       & FALSE      \\\\\n",
       "\thealth\\_ins & 2.363200    &  0.09514748 & FALSE       & FALSE      \\\\\n",
       "\tlogwage & 1.048193    & 18.69647954 & FALSE       & FALSE      \\\\\n",
       "\twage & 1.048193    & 18.69647954 & FALSE       & FALSE      \\\\\n",
       "\\end{tabular}\n"
      ],
      "text/markdown": [
       "\n",
       "| <!--/--> | freqRatio | percentUnique | zeroVar | nzv |\n",
       "|---|---|---|---|---|\n",
       "| year | 1.014368    |  0.33301618 | FALSE       | FALSE       |\n",
       "| age | 1.109589    |  2.90199810 | FALSE       | FALSE       |\n",
       "| maritl | 3.158009    |  0.23786870 | FALSE       | FALSE       |\n",
       "| race | 8.504902    |  0.19029496 | FALSE       | FALSE       |\n",
       "| education | 1.481641    |  0.23786870 | FALSE       | FALSE       |\n",
       "| region | 0.000000    |  0.04757374 |  TRUE       |  TRUE       |\n",
       "| jobclass | 1.036822    |  0.09514748 | FALSE       | FALSE       |\n",
       "| health | 2.474380    |  0.09514748 | FALSE       | FALSE       |\n",
       "| health_ins | 2.363200    |  0.09514748 | FALSE       | FALSE       |\n",
       "| logwage | 1.048193    | 18.69647954 | FALSE       | FALSE       |\n",
       "| wage | 1.048193    | 18.69647954 | FALSE       | FALSE       |\n",
       "\n"
      ],
      "text/plain": [
       "           freqRatio percentUnique zeroVar nzv  \n",
       "year       1.014368   0.33301618   FALSE   FALSE\n",
       "age        1.109589   2.90199810   FALSE   FALSE\n",
       "maritl     3.158009   0.23786870   FALSE   FALSE\n",
       "race       8.504902   0.19029496   FALSE   FALSE\n",
       "education  1.481641   0.23786870   FALSE   FALSE\n",
       "region     0.000000   0.04757374    TRUE    TRUE\n",
       "jobclass   1.036822   0.09514748   FALSE   FALSE\n",
       "health     2.474380   0.09514748   FALSE   FALSE\n",
       "health_ins 2.363200   0.09514748   FALSE   FALSE\n",
       "logwage    1.048193  18.69647954   FALSE   FALSE\n",
       "wage       1.048193  18.69647954   FALSE   FALSE"
      ]
     },
     "metadata": {},
     "output_type": "display_data"
    }
   ],
   "source": [
    "nsv = nearZeroVar(train_raw, saveMetrics=T)\n",
    "nsv"
   ]
  },
  {
   "cell_type": "markdown",
   "metadata": {},
   "source": [
    "**Fitting curvy lines** in regression models by using basis function from **splines** package"
   ]
  },
  {
   "cell_type": "code",
   "execution_count": 5,
   "metadata": {},
   "outputs": [
    {
     "data": {
      "text/html": [
       "<table>\n",
       "<thead><tr><th scope=col>1</th><th scope=col>2</th><th scope=col>3</th></tr></thead>\n",
       "<tbody>\n",
       "\t<tr><td>0.4163380  </td><td>0.3211750  </td><td>0.082587862</td></tr>\n",
       "\t<tr><td>0.4308138  </td><td>0.2910904  </td><td>0.065560908</td></tr>\n",
       "\t<tr><td>0.3625256  </td><td>0.3866940  </td><td>0.137491189</td></tr>\n",
       "\t<tr><td>0.3063341  </td><td>0.4241549  </td><td>0.195763821</td></tr>\n",
       "\t<tr><td>0.4241549  </td><td>0.3063341  </td><td>0.073747105</td></tr>\n",
       "\t<tr><td>0.3776308  </td><td>0.0906314  </td><td>0.007250512</td></tr>\n",
       "</tbody>\n",
       "</table>\n"
      ],
      "text/latex": [
       "\\begin{tabular}{lll}\n",
       " 1 & 2 & 3\\\\\n",
       "\\hline\n",
       "\t 0.4163380   & 0.3211750   & 0.082587862\\\\\n",
       "\t 0.4308138   & 0.2910904   & 0.065560908\\\\\n",
       "\t 0.3625256   & 0.3866940   & 0.137491189\\\\\n",
       "\t 0.3063341   & 0.4241549   & 0.195763821\\\\\n",
       "\t 0.4241549   & 0.3063341   & 0.073747105\\\\\n",
       "\t 0.3776308   & 0.0906314   & 0.007250512\\\\\n",
       "\\end{tabular}\n"
      ],
      "text/markdown": [
       "\n",
       "| 1 | 2 | 3 |\n",
       "|---|---|---|\n",
       "| 0.4163380   | 0.3211750   | 0.082587862 |\n",
       "| 0.4308138   | 0.2910904   | 0.065560908 |\n",
       "| 0.3625256   | 0.3866940   | 0.137491189 |\n",
       "| 0.3063341   | 0.4241549   | 0.195763821 |\n",
       "| 0.4241549   | 0.3063341   | 0.073747105 |\n",
       "| 0.3776308   | 0.0906314   | 0.007250512 |\n",
       "\n"
      ],
      "text/plain": [
       "     1         2         3          \n",
       "[1,] 0.4163380 0.3211750 0.082587862\n",
       "[2,] 0.4308138 0.2910904 0.065560908\n",
       "[3,] 0.3625256 0.3866940 0.137491189\n",
       "[4,] 0.3063341 0.4241549 0.195763821\n",
       "[5,] 0.4241549 0.3063341 0.073747105\n",
       "[6,] 0.3776308 0.0906314 0.007250512"
      ]
     },
     "metadata": {},
     "output_type": "display_data"
    }
   ],
   "source": [
    "suppressWarnings(library(splines))\n",
    "bsBasis = bs(train_raw$age, df=3) # df specifies the order of function to which to tranform the original data\n",
    "head(bsBasis)                     # The first column specifies the original data, \n",
    "                                  # second is raised to power 2,\n",
    "                                  # and third - raised to power 3"
   ]
  },
  {
   "cell_type": "markdown",
   "metadata": {},
   "source": [
    "**Illustration**"
   ]
  },
  {
   "cell_type": "code",
   "execution_count": 6,
   "metadata": {},
   "outputs": [
    {
     "data": {
      "image/png": "[encoded data removed]",
      "text/plain": [
       "plot without title"
      ]
     },
     "metadata": {},
     "output_type": "display_data"
    }
   ],
   "source": [
    "options(repr.plot.width=4, repr.plot.height=3)\n",
    "fit = lm(wage ~ bsBasis, data = train_raw)\n",
    "ggplot(train_raw,\n",
    "      aes(x = age,y = wage)\n",
    "      ) + geom_point() + geom_smooth(formula = \"y ~ x+I(x**2)+I(x**3)\", method = \"lm\", se = F, col = \"red\")"
   ]
  },
  {
   "cell_type": "markdown",
   "metadata": {},
   "source": [
    "### PCA\n",
    "To exclude unnecessary or too much information from a model while retaining a \n",
    "summarization of the covariates which captures most of the information we use\n",
    "**PCA**.   \n"
   ]
  },
  {
   "cell_type": "code",
   "execution_count": 21,
   "metadata": {},
   "outputs": [],
   "source": [
    "suppressWarnings({library(kernlab); data(spam)})\n",
    "inTrain = createDataPartition(spam$type, p = 0.75, list = F)\n",
    "train_raw = spam[inTrain,]\n",
    "test_raw = spam[-inTrain,]"
   ]
  },
  {
   "cell_type": "code",
   "execution_count": 8,
   "metadata": {},
   "outputs": [
    {
     "data": {
      "text/html": [
       "<table>\n",
       "<thead><tr><th></th><th scope=col>row</th><th scope=col>col</th></tr></thead>\n",
       "<tbody>\n",
       "\t<tr><th scope=row>num415</th><td>34</td><td>32</td></tr>\n",
       "\t<tr><th scope=row>direct</th><td>40</td><td>32</td></tr>\n",
       "\t<tr><th scope=row>num857</th><td>32</td><td>34</td></tr>\n",
       "\t<tr><th scope=row>direct</th><td>40</td><td>34</td></tr>\n",
       "\t<tr><th scope=row>num857</th><td>32</td><td>40</td></tr>\n",
       "\t<tr><th scope=row>num415</th><td>34</td><td>40</td></tr>\n",
       "</tbody>\n",
       "</table>\n"
      ],
      "text/latex": [
       "\\begin{tabular}{r|ll}\n",
       "  & row & col\\\\\n",
       "\\hline\n",
       "\tnum415 & 34 & 32\\\\\n",
       "\tdirect & 40 & 32\\\\\n",
       "\tnum857 & 32 & 34\\\\\n",
       "\tdirect & 40 & 34\\\\\n",
       "\tnum857 & 32 & 40\\\\\n",
       "\tnum415 & 34 & 40\\\\\n",
       "\\end{tabular}\n"
      ],
      "text/markdown": [
       "\n",
       "| <!--/--> | row | col |\n",
       "|---|---|---|\n",
       "| num415 | 34 | 32 |\n",
       "| direct | 40 | 32 |\n",
       "| num857 | 32 | 34 |\n",
       "| direct | 40 | 34 |\n",
       "| num857 | 32 | 40 |\n",
       "| num415 | 34 | 40 |\n",
       "\n"
      ],
      "text/plain": [
       "       row col\n",
       "num415 34  32 \n",
       "direct 40  32 \n",
       "num857 32  34 \n",
       "direct 40  34 \n",
       "num857 32  40 \n",
       "num415 34  40 "
      ]
     },
     "metadata": {},
     "output_type": "display_data"
    }
   ],
   "source": [
    "M = abs(cor(train_raw[,-58])) # Getting only absolute value to only understand correlation\n",
    "diag(M) = 0 # removing diagonal coefficients which denotes the correlation of var with itself \n",
    "which(M>0.8,arr.ind=T)"
   ]
  },
  {
   "cell_type": "markdown",
   "metadata": {},
   "source": [
    "num415 and num857 seem to be highly correlated  \n",
    "\n",
    "Visualizing "
   ]
  },
  {
   "cell_type": "code",
   "execution_count": 9,
   "metadata": {},
   "outputs": [
    {
     "data": {
      "image/png": "[encoded data removed]",
      "text/plain": [
       "plot without title"
      ]
     },
     "metadata": {},
     "output_type": "display_data"
    }
   ],
   "source": [
    "options(repr.plot.width=3, repr.plot.height=3)\n",
    "plot(spam[,32],spam[,34])"
   ]
  },
  {
   "cell_type": "markdown",
   "metadata": {},
   "source": [
    "Including both these predictors might not be useful since both are almost perfectly identical  \n",
    "- PCA allows us to find new set of variables that aren't correlated with each \n",
    "other and explains as much of the variance as possible.   \n",
    "- PCA is mathematically finding the lowest rank of matrix that explains the \n",
    "original data. This allows for data compression.   \n",
    "\n",
    "The *prcomp()* function can be used to obtain the pricipal componenets of given \n",
    "data, "
   ]
  },
  {
   "cell_type": "code",
   "execution_count": 10,
   "metadata": {},
   "outputs": [
    {
     "data": {
      "image/png": "[encoded data removed]",
      "text/plain": [
       "plot without title"
      ]
     },
     "metadata": {},
     "output_type": "display_data"
    }
   ],
   "source": [
    "## Creating a subset of the data with just column 32 and 34 - the two highly \n",
    "## correlated columns in the dataset. \n",
    "smallspam = spam[,c(32,34)]\n",
    "prComp = prcomp(smallspam)\n",
    "plot(prComp$x[,1],prComp$x[,2])"
   ]
  },
  {
   "cell_type": "code",
   "execution_count": 11,
   "metadata": {},
   "outputs": [
    {
     "data": {
      "text/html": [
       "<table>\n",
       "<thead><tr><th></th><th scope=col>PC1</th><th scope=col>PC2</th></tr></thead>\n",
       "<tbody>\n",
       "\t<tr><th scope=row>num857</th><td>0.7061498 </td><td>-0.7080625</td></tr>\n",
       "\t<tr><th scope=row>num415</th><td>0.7080625 </td><td> 0.7061498</td></tr>\n",
       "</tbody>\n",
       "</table>\n"
      ],
      "text/latex": [
       "\\begin{tabular}{r|ll}\n",
       "  & PC1 & PC2\\\\\n",
       "\\hline\n",
       "\tnum857 & 0.7061498  & -0.7080625\\\\\n",
       "\tnum415 & 0.7080625  &  0.7061498\\\\\n",
       "\\end{tabular}\n"
      ],
      "text/markdown": [
       "\n",
       "| <!--/--> | PC1 | PC2 |\n",
       "|---|---|---|\n",
       "| num857 | 0.7061498  | -0.7080625 |\n",
       "| num415 | 0.7080625  |  0.7061498 |\n",
       "\n"
      ],
      "text/plain": [
       "       PC1       PC2       \n",
       "num857 0.7061498 -0.7080625\n",
       "num415 0.7080625  0.7061498"
      ]
     },
     "metadata": {},
     "output_type": "display_data"
    }
   ],
   "source": [
    "prComp$rotation"
   ]
  },
  {
   "cell_type": "markdown",
   "metadata": {},
   "source": [
    "Shows us that the principal component 1 is just the sum of the vector multiplication of the each row with corresponding column in the dataset."
   ]
  },
  {
   "cell_type": "code",
   "execution_count": 12,
   "metadata": {},
   "outputs": [
    {
     "data": {
      "image/png": "[encoded data removed]",
      "text/plain": [
       "plot without title"
      ]
     },
     "metadata": {},
     "output_type": "display_data"
    }
   ],
   "source": [
    "rot = prComp$rotation\n",
    "X = rot[1,1]*train_raw$num857 + rot[2,1]*train_raw$num415\n",
    "Y = rot[1,2]*train_raw$num857 + rot[2,2]*train_raw$num415\n",
    "plot(X,Y)"
   ]
  },
  {
   "cell_type": "markdown",
   "metadata": {},
   "source": [
    "As observed above, we get the same plot as with the principal components vectors\n",
    "\n",
    "Using the PCA on the **entire dataset**"
   ]
  },
  {
   "cell_type": "code",
   "execution_count": 13,
   "metadata": {},
   "outputs": [
    {
     "data": {
      "image/png": "[encoded data removed]",
      "text/plain": [
       "plot without title"
      ]
     },
     "metadata": {},
     "output_type": "display_data"
    }
   ],
   "source": [
    "## defining a color encoded column vector which indicates the type of mail whether spam or ham\n",
    "typeColor = ((spam$type==\"spam\")*1+1)\n",
    "prComp = prcomp(log10(spam[,-58]+1)) # principal component analysis requires data to be normally distributed\n",
    "plot(prComp$x[,1],prComp$x[,2], col = typeColor, xlab = \"PCA 1\", ylab = \"PCA 2\")"
   ]
  },
  {
   "cell_type": "markdown",
   "metadata": {},
   "source": [
    "It is observed that most of the spam messages have higher values of PCA 1 and that it can certainly be used to classify messages by itself.\n",
    "\n",
    "The caret package allows \"pca\" preprocessing on the dataset"
   ]
  },
  {
   "cell_type": "code",
   "execution_count": 14,
   "metadata": {},
   "outputs": [
    {
     "data": {
      "image/png": "[encoded data removed]",
      "text/plain": [
       "plot without title"
      ]
     },
     "metadata": {},
     "output_type": "display_data"
    }
   ],
   "source": [
    "preProc = preProcess(log10(spam[,-58]+1), method = \"pca\", pcaComp = 2)\n",
    "spamPC = predict(preProc, newdata = log10(spam[,-58]+1))\n",
    "plot(spamPC[,1],spamPC[,2], col = typeColor, xlab = \"PCA 1\", ylab = \"PCA 2\")"
   ]
  },
  {
   "cell_type": "markdown",
   "metadata": {},
   "source": [
    "Fitting a model using the data preprocessed with \"pca\" method"
   ]
  },
  {
   "cell_type": "code",
   "execution_count": 15,
   "metadata": {},
   "outputs": [],
   "source": [
    "preProc = preProcess(log10(train_raw[,-58]+1), method = \"pca\", pcaComp = 2)\n",
    "spamPC = predict(preProc, log10(train_raw[,-58]+1))\n",
    "trainPC = mutate(spamPC, type= train_raw$type)\n",
    "fit = suppressWarnings(train(type~., method = \"glm\", data=trainPC))"
   ]
  },
  {
   "cell_type": "markdown",
   "metadata": {},
   "source": [
    "Testing the predictions"
   ]
  },
  {
   "cell_type": "code",
   "execution_count": 16,
   "metadata": {
    "scrolled": true
   },
   "outputs": [
    {
     "data": {
      "text/plain": [
       "Confusion Matrix and Statistics\n",
       "\n",
       "          Reference\n",
       "Prediction nonspam spam\n",
       "   nonspam     649   65\n",
       "   spam         48  388\n",
       "                                          \n",
       "               Accuracy : 0.9017          \n",
       "                 95% CI : (0.8831, 0.9183)\n",
       "    No Information Rate : 0.6061          \n",
       "    P-Value [Acc > NIR] : <2e-16          \n",
       "                                          \n",
       "                  Kappa : 0.7929          \n",
       "                                          \n",
       " Mcnemar's Test P-Value : 0.1323          \n",
       "                                          \n",
       "            Sensitivity : 0.9311          \n",
       "            Specificity : 0.8565          \n",
       "         Pos Pred Value : 0.9090          \n",
       "         Neg Pred Value : 0.8899          \n",
       "             Prevalence : 0.6061          \n",
       "         Detection Rate : 0.5643          \n",
       "   Detection Prevalence : 0.6209          \n",
       "      Balanced Accuracy : 0.8938          \n",
       "                                          \n",
       "       'Positive' Class : nonspam         \n",
       "                                          "
      ]
     },
     "metadata": {},
     "output_type": "display_data"
    }
   ],
   "source": [
    "testPC = predict(preProc, newdata = log10(test_raw[,-58]+1))\n",
    "preds = predict(fit, newdata = testPC)\n",
    "confusionMatrix(preds, test_raw$type)"
   ]
  },
  {
   "cell_type": "markdown",
   "metadata": {},
   "source": [
    "Alternatively the above steps can be consolidated as "
   ]
  },
  {
   "cell_type": "code",
   "execution_count": 19,
   "metadata": {},
   "outputs": [
    {
     "data": {
      "text/plain": [
       "Confusion Matrix and Statistics\n",
       "\n",
       "          Reference\n",
       "Prediction nonspam spam\n",
       "   nonspam     667   42\n",
       "   spam         30  411\n",
       "                                          \n",
       "               Accuracy : 0.9374          \n",
       "                 95% CI : (0.9218, 0.9507)\n",
       "    No Information Rate : 0.6061          \n",
       "    P-Value [Acc > NIR] : <2e-16          \n",
       "                                          \n",
       "                  Kappa : 0.8683          \n",
       "                                          \n",
       " Mcnemar's Test P-Value : 0.1949          \n",
       "                                          \n",
       "            Sensitivity : 0.9570          \n",
       "            Specificity : 0.9073          \n",
       "         Pos Pred Value : 0.9408          \n",
       "         Neg Pred Value : 0.9320          \n",
       "             Prevalence : 0.6061          \n",
       "         Detection Rate : 0.5800          \n",
       "   Detection Prevalence : 0.6165          \n",
       "      Balanced Accuracy : 0.9321          \n",
       "                                          \n",
       "       'Positive' Class : nonspam         \n",
       "                                          "
      ]
     },
     "metadata": {},
     "output_type": "display_data"
    }
   ],
   "source": [
    "fit = suppressWarnings(train(type~., method = \"glm\", preProcess = \"pca\", data=train_raw))\n",
    "preds = predict(fit, newdata = test_raw)\n",
    "confusionMatrix(preds, test_raw$type)"
   ]
  }
 ],
 "metadata": {
  "kernelspec": {
   "display_name": "R",
   "language": "R",
   "name": "ir"
  },
  "language_info": {
   "codemirror_mode": "r",
   "file_extension": ".r",
   "mimetype": "text/x-r-source",
   "name": "R",
   "pygments_lexer": "r",
   "version": "3.6.1"
  }
 },
 "nbformat": 4,
 "nbformat_minor": 4
}
