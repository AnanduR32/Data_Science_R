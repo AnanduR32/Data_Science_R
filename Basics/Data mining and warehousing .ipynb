{
 "cells": [
  {
   "cell_type": "code",
   "execution_count": 1,
   "metadata": {},
   "outputs": [],
   "source": [
    "import pandas as pd\n",
    "import numpy as np"
   ]
  },
  {
   "cell_type": "markdown",
   "metadata": {},
   "source": [
    "# Gender (Continous data)"
   ]
  },
  {
   "cell_type": "code",
   "execution_count": null,
   "metadata": {},
   "outputs": [],
   "source": [
    "# Create an empty dataframe\n",
    "data = pd.DataFrame()\n",
    "\n",
    "# Create our target variable\n",
    "data['Gender'] = ['male','male','male','male','female','female','female','female']\n",
    "\n",
    "# Create our feature variables\n",
    "data['Height'] = [6,5.92,5.58,5.92,5,5.5,5.42,5.75]\n",
    "data['Weight'] = [180,190,170,165,100,150,130,150]\n",
    "data['Foot_Size'] = [12,11,12,10,6,8,7,9]\n",
    "\n",
    "# View the data\n",
    "data"
   ]
  },
  {
   "cell_type": "code",
   "execution_count": null,
   "metadata": {},
   "outputs": [],
   "source": [
    "# Create an empty dataframe\n",
    "person = pd.DataFrame()\n",
    "\n",
    "# Create some feature values for this single row\n",
    "person['Height'] = [6]\n",
    "person['Weight'] = [130]\n",
    "person['Foot_Size'] = [8]\n",
    "\n",
    "# View the data \n",
    "person"
   ]
  },
  {
   "cell_type": "code",
   "execution_count": null,
   "metadata": {},
   "outputs": [],
   "source": [
    "# Number of males\n",
    "n_male = data['Gender'][data['Gender'] == 'male'].count()\n",
    "\n",
    "# Number of males\n",
    "n_female = data['Gender'][data['Gender'] == 'female'].count()\n",
    "\n",
    "# Total rows\n",
    "total_ppl = data['Gender'].count()"
   ]
  },
  {
   "cell_type": "code",
   "execution_count": null,
   "metadata": {},
   "outputs": [],
   "source": [
    "# Number of males divided by the total rows\n",
    "P_male = n_male/total_ppl\n",
    "\n",
    "# Number of females divided by the total rows\n",
    "P_female = n_female/total_ppl\n",
    "\n",
    "# Print\n",
    "print(P_male, P_female)"
   ]
  },
  {
   "cell_type": "code",
   "execution_count": null,
   "metadata": {},
   "outputs": [],
   "source": [
    "# Group the data by gender and calculate the means of each feature\n",
    "data_means = data.groupby('Gender').mean()\n",
    "\n",
    "# View the values\n",
    "data_means"
   ]
  },
  {
   "cell_type": "code",
   "execution_count": null,
   "metadata": {},
   "outputs": [],
   "source": [
    "# Group the data by gender and calculate the variance of each feature\n",
    "data_variance = data.groupby('Gender').var()\n",
    "\n",
    "# View the values\n",
    "data_variance"
   ]
  },
  {
   "cell_type": "code",
   "execution_count": null,
   "metadata": {},
   "outputs": [],
   "source": [
    "# Means for male\n",
    "male_height_mean = data_means['Height'][data_variance.index == 'male'].values[0]\n",
    "male_weight_mean = data_means['Weight'][data_variance.index == 'male'].values[0]\n",
    "male_footsize_mean = data_means['Foot_Size'][data_variance.index == 'male'].values[0]\n",
    "\n",
    "# Variance for male\n",
    "male_height_variance = data_variance['Height'][data_variance.index == 'male'].values[0]\n",
    "male_weight_variance = data_variance['Weight'][data_variance.index == 'male'].values[0]\n",
    "male_footsize_variance = data_variance['Foot_Size'][data_variance.index == 'male'].values[0]\n",
    "\n",
    "# Means for female\n",
    "female_height_mean = data_means['Height'][data_variance.index == 'female'].values[0]\n",
    "female_weight_mean = data_means['Weight'][data_variance.index == 'female'].values[0]\n",
    "female_footsize_mean = data_means['Foot_Size'][data_variance.index == 'female'].values[0]\n",
    "\n",
    "# Variance for female\n",
    "female_height_variance = data_variance['Height'][data_variance.index == 'female'].values[0]\n",
    "female_weight_variance = data_variance['Weight'][data_variance.index == 'female'].values[0]\n",
    "female_footsize_variance = data_variance['Foot_Size'][data_variance.index == 'female'].values[0]"
   ]
  },
  {
   "cell_type": "code",
   "execution_count": null,
   "metadata": {},
   "outputs": [],
   "source": [
    "# Create a function that calculates p(x | y):\n",
    "def p_x_given_y(x, mean_y, variance_y):\n",
    "\n",
    "    # Input the arguments into a probability density function\n",
    "    p = 1/(np.sqrt(2*np.pi*variance_y)) * np.exp((-(x-mean_y)**2)/(2*variance_y))\n",
    "    \n",
    "    # return p\n",
    "    return p"
   ]
  },
  {
   "cell_type": "code",
   "execution_count": null,
   "metadata": {},
   "outputs": [],
   "source": [
    "# Numerator of the posterior if the unclassified observation is a male\n",
    "P_male * \\\n",
    "p_x_given_y(person['Height'][0], male_height_mean, male_height_variance) * \\\n",
    "p_x_given_y(person['Weight'][0], male_weight_mean, male_weight_variance) * \\\n",
    "p_x_given_y(person['Foot_Size'][0], male_footsize_mean, male_footsize_variance)"
   ]
  },
  {
   "cell_type": "code",
   "execution_count": null,
   "metadata": {},
   "outputs": [],
   "source": [
    "# Numerator of the posterior if the unclassified observation is a female\n",
    "P_female * \\\n",
    "p_x_given_y(person['Height'][0], female_height_mean, female_height_variance) * \\\n",
    "p_x_given_y(person['Weight'][0], female_weight_mean, female_weight_variance) * \\\n",
    "p_x_given_y(person['Foot_Size'][0], female_footsize_mean, female_footsize_variance)"
   ]
  },
  {
   "cell_type": "markdown",
   "metadata": {},
   "source": [
    "# Weather (Categorical data)"
   ]
  },
  {
   "cell_type": "code",
   "execution_count": null,
   "metadata": {},
   "outputs": [],
   "source": [
    "data = pd.DataFrame()\n",
    "data['Weather'] = ['Sunny','Overcast','Rainy','Sunny','Sunny','Overcast','Rainy','Rainy','Sunny','Rainy','Sunny','Overcast','Overcast','Rainy']\n",
    "data['Play'] = ['No','Yes','Yes','Yes','Yes','Yes','No','No','Yes','Yes','No','Yes','Yes','No']\n",
    "data"
   ]
  },
  {
   "cell_type": "code",
   "execution_count": null,
   "metadata": {},
   "outputs": [],
   "source": [
    "gp_1 = data.groupby(['Weather']).size()\n",
    "print(gp_1)\n",
    "\n",
    "# Calculating likelihoods\n",
    "lhOvercast = gp_1[0]/gp_1.sum()\n",
    "print(\"Overcast: {:.2f}\".format(lhOvercast))\n",
    "\n",
    "lhRainy = gp_1[1]/gp_1.sum()\n",
    "print(\"Rainy: {:.2f}\".format(lhRainy))\n",
    "\n",
    "lhSunny = gp_1[2]/gp_1.sum()\n",
    "print(\"Sunny: {:.2f}\".format(lhSunny))"
   ]
  },
  {
   "cell_type": "code",
   "execution_count": null,
   "metadata": {},
   "outputs": [],
   "source": [
    "gp_2 = data.groupby(['Play']).size()\n",
    "print(gp_2)\n",
    "\n",
    "# Calculating likelihoods\n",
    "lhYes = gp_2[1]/gp_2.sum()\n",
    "print(\"Yes: {:.2f}\".format(lhYes))\n",
    "\n",
    "lhNo = gp_2[0]/gp_2.sum()\n",
    "print(\"No: {:.2f}\".format(lhNo))"
   ]
  },
  {
   "cell_type": "code",
   "execution_count": null,
   "metadata": {},
   "outputs": [],
   "source": [
    "gp_3 = data.groupby(['Weather','Play']).size()\n",
    "gp_3"
   ]
  },
  {
   "cell_type": "markdown",
   "metadata": {},
   "source": [
    "### P(Yes | Sunny)"
   ]
  },
  {
   "cell_type": "code",
   "execution_count": null,
   "metadata": {},
   "outputs": [],
   "source": [
    "# P_Yes_given_Sunny = (P_Sunny_given_Yes * P_Yes)/P(Sunny)\n",
    "mask = ['Yes' in gp_3.index[x] for x in range(gp_3.shape[0])]\n",
    "print(mask)\n",
    "P_Sunny_given_Yes = gp_3['Sunny']['Yes']/(sum(gp_3[mask].to_list()))\n",
    "P_Sunny = lhSunny\n",
    "P_Yes = lhYes\n",
    "\n",
    "print(P_Sunny_given_Yes,P_Sunny,P_Yes)"
   ]
  },
  {
   "cell_type": "code",
   "execution_count": null,
   "metadata": {},
   "outputs": [],
   "source": [
    "P_Yes_given_Sunny = (P_Sunny_given_Yes * P_Yes)/P_Sunny\n",
    "P_Yes_given_Sunny"
   ]
  },
  {
   "cell_type": "markdown",
   "metadata": {},
   "source": [
    "### P(Yes | Rainy)"
   ]
  },
  {
   "cell_type": "code",
   "execution_count": null,
   "metadata": {},
   "outputs": [],
   "source": [
    "# P_Yes_given_Sunny = (P_Sunny_given_Yes * P_Yes)/P(Sunny)\n",
    "mask = ['Yes' in gp_3.index[x] for x in range(gp_3.shape[0])]\n",
    "print(mask)\n",
    "P_Rainy_given_Yes = gp_3['Rainy']['Yes']/(sum(gp_3[mask].to_list()))\n",
    "P_Rainy = lhRainy\n",
    "P_Yes = lhYes\n",
    "\n",
    "print(P_Rainy_given_Yes,P_Rainy,P_Yes)"
   ]
  },
  {
   "cell_type": "code",
   "execution_count": null,
   "metadata": {},
   "outputs": [],
   "source": [
    "P_Yes_given_Rainy = (P_Rainy_given_Yes * P_Yes)/P_Rainy\n",
    "P_Yes_given_Rainy"
   ]
  },
  {
   "cell_type": "markdown",
   "metadata": {},
   "source": [
    "### P(Yes | Overcast)"
   ]
  },
  {
   "cell_type": "code",
   "execution_count": null,
   "metadata": {},
   "outputs": [],
   "source": [
    "# P_Yes_given_Sunny = (P_Sunny_given_Yes * P_Yes)/P(Sunny)\n",
    "mask = ['Yes' in gp_3.index[x] for x in range(gp_3.shape[0])]\n",
    "print(mask)\n",
    "P_Overcast_given_Yes = gp_3['Overcast']['Yes']/(sum(gp_3[mask].to_list()))\n",
    "P_Overcast = lhOvercast\n",
    "P_Yes = lhYes\n",
    "\n",
    "print(P_Overcast_given_Yes,P_Overcast,P_Yes)"
   ]
  },
  {
   "cell_type": "code",
   "execution_count": null,
   "metadata": {},
   "outputs": [],
   "source": [
    "P_Yes_given_Overcast = (P_Overcast_given_Yes * P_Yes)/P_Overcast\n",
    "P_Yes_given_Overcast"
   ]
  },
  {
   "cell_type": "markdown",
   "metadata": {},
   "source": [
    "# K clustering"
   ]
  },
  {
   "cell_type": "markdown",
   "metadata": {},
   "source": [
    "#### 2 cluster problem "
   ]
  },
  {
   "cell_type": "code",
   "execution_count": 337,
   "metadata": {},
   "outputs": [
    {
     "name": "stdout",
     "output_type": "stream",
     "text": [
      "Centroid : [[3, 4], [7, 4]]\n",
      "\n",
      "Data : \n",
      "   x  y     x_y  cluster\n",
      "0  7  6  (7, 6)       -1\n",
      "1  2  6  (2, 6)       -1\n",
      "2  3  8  (3, 8)       -1\n",
      "3  8  5  (8, 5)       -1\n",
      "4  7  4  (7, 4)       -1\n",
      "5  4  7  (4, 7)       -1\n",
      "6  6  2  (6, 2)       -1\n",
      "7  7  3  (7, 3)       -1\n",
      "8  6  4  (6, 4)       -1\n",
      "9  3  4  (3, 4)       -1\n",
      "\n"
     ]
    }
   ],
   "source": [
    "x = [7,2,3,8,7,4,6,7,6,3]\n",
    "y = [6,6,8,5,4,7,2,3,4,4]\n",
    "data_dict = {'x':x,'y':y}\n",
    "\n",
    "data_df = pd.DataFrame(data_dict)\n",
    "\n",
    "n_clusters = 2 \n",
    "centroids = data_df.sample(n_clusters, random_state = 24)\n",
    "centroids = list(map(list, zip(*[list(x.values()) for x in centroids.to_dict().values()])))\n",
    "bak_centroids = centroids\n",
    "\n",
    "x_y = [(x,y) for x,y in zip(x,y)]\n",
    "data_df['x_y'] = x_y\n",
    "data_df['cluster'] = -1\n",
    "print(\"Centroid : {}\\n\".format(centroids))\n",
    "print(\"Data : \\n{}\\n\".format(data_df))"
   ]
  },
  {
   "cell_type": "code",
   "execution_count": 338,
   "metadata": {},
   "outputs": [],
   "source": [
    "def dist_manh(row, n = 2):\n",
    "    dist = []\n",
    "    for i in range(n):    \n",
    "        tmp = abs(centroids[i][0]-row[0])+abs(centroids[i][1]-row[1])\n",
    "        dist.append(tmp)\n",
    "    return dist\n",
    "def dist_eucl(row, n = 2):\n",
    "    dist = []\n",
    "    for i in range(n):\n",
    "        tmp = ((centroids[i][0]-row[0])**2+(centroids[i][1]-row[1])**2)**(0.5)\n",
    "        dist.append(tmp)\n",
    "    return dist\n",
    "def iter_once_k(centroids,_in='mean'):\n",
    "    print(centroids)\n",
    "    if(_in == 'mean'):\n",
    "        cent_dist = [[c1,c2] for (c1,c2) in data_df.loc[:,'x_y'].apply(dist_eucl)]\n",
    "    elif(_in=='median'):\n",
    "        cent_dist = [[c1,c2] for (c1,c2) in data_df.loc[:,'x_y'].apply(dist_manh)]\n",
    "    \n",
    "    data_df['dist_cent_0'] = [x[0] for x in cent_dist]\n",
    "    data_df['dist_cent_1'] = [x[1] for x in cent_dist]\n",
    "        \n",
    "    data_df.loc[data_df['dist_cent_0'] < data_df['dist_cent_1'],'cluster'] = 0\n",
    "    data_df.loc[data_df['dist_cent_0'] > data_df['dist_cent_1'],'cluster'] = 1\n",
    "    \n",
    "    if(_in == 'mean'):\n",
    "        centroids[0] = data_df[data_df['cluster'] == 0][['x','y']].mean().to_list()\n",
    "        centroids[1] = data_df[data_df['cluster'] == 1][['x','y']].mean().to_list()\n",
    "    elif(_in=='median'):\n",
    "        centroids[0] = data_df[data_df['cluster'] == 0][['x','y']].median().to_list()\n",
    "        centroids[1] = data_df[data_df['cluster'] == 1][['x','y']].median().to_list()\n",
    "    print(centroids,'\\n', data_df)\n",
    "    return centroids"
   ]
  },
  {
   "cell_type": "code",
   "execution_count": 339,
   "metadata": {},
   "outputs": [],
   "source": [
    "centroids = bak_centroids"
   ]
  },
  {
   "cell_type": "code",
   "execution_count": 343,
   "metadata": {
    "scrolled": false
   },
   "outputs": [
    {
     "name": "stdout",
     "output_type": "stream",
     "text": [
      "[[3.0, 6.25], [6.833333333333333, 4.0]]\n",
      "[[3.0, 6.25], [6.833333333333333, 4.0]] \n",
      "    x  y     x_y  cluster  dist_cent_0  dist_cent_1\n",
      "0  7  6  (7, 6)        1     4.007805     2.006932\n",
      "1  2  6  (2, 6)        0     1.030776     5.230785\n",
      "2  3  8  (3, 8)        0     1.750000     5.540257\n",
      "3  8  5  (8, 5)        1     5.153882     1.536591\n",
      "4  7  4  (7, 4)        1     4.589390     0.166667\n",
      "5  4  7  (4, 7)        0     1.250000     4.126473\n",
      "6  6  2  (6, 2)        1     5.202163     2.166667\n",
      "7  7  3  (7, 3)        1     5.153882     1.013794\n",
      "8  6  4  (6, 4)        1     3.750000     0.833333\n",
      "9  3  4  (3, 4)        0     2.250000     3.833333\n"
     ]
    }
   ],
   "source": [
    "centroids = iter_once_k(centroids, 'mean')"
   ]
  },
  {
   "cell_type": "markdown",
   "metadata": {},
   "source": [
    "#### 3 cluster"
   ]
  },
  {
   "cell_type": "code",
   "execution_count": 358,
   "metadata": {},
   "outputs": [
    {
     "name": "stdout",
     "output_type": "stream",
     "text": [
      "Centroid : [[3, 4], [7, 4], [6, 4]]\n",
      "\n",
      "Data : \n",
      "   x  y     x_y  cluster\n",
      "0  7  6  (7, 6)       -1\n",
      "1  2  6  (2, 6)       -1\n",
      "2  3  8  (3, 8)       -1\n",
      "3  8  5  (8, 5)       -1\n",
      "4  7  4  (7, 4)       -1\n",
      "5  4  7  (4, 7)       -1\n",
      "6  6  2  (6, 2)       -1\n",
      "7  7  3  (7, 3)       -1\n",
      "8  6  4  (6, 4)       -1\n",
      "9  3  4  (3, 4)       -1\n",
      "\n"
     ]
    }
   ],
   "source": [
    "x = [7,2,3,8,7,4,6,7,6,3]\n",
    "y = [6,6,8,5,4,7,2,3,4,4]\n",
    "data_dict = {'x':x,'y':y}\n",
    "\n",
    "data_df = pd.DataFrame(data_dict)\n",
    "\n",
    "n_clusters = 3\n",
    "centroids = data_df.sample(n_clusters, random_state = 24)\n",
    "centroids = list(map(list, zip(*[list(x.values()) for x in centroids.to_dict().values()])))\n",
    "bak_centroids = centroids\n",
    "\n",
    "x_y = [(x,y) for x,y in zip(x,y)]\n",
    "data_df['x_y'] = x_y\n",
    "data_df['cluster'] = -1\n",
    "print(\"Centroid : {}\\n\".format(centroids))\n",
    "print(\"Data : \\n{}\\n\".format(data_df))"
   ]
  },
  {
   "cell_type": "code",
   "execution_count": 359,
   "metadata": {},
   "outputs": [],
   "source": [
    "def dist_manh(row, n = 3):\n",
    "    dist = []\n",
    "    for i in range(n):    \n",
    "        tmp = abs(centroids[i][0]-row[0])+abs(centroids[i][1]-row[1])\n",
    "        dist.append(tmp)\n",
    "    return dist\n",
    "def dist_eucl(row, n = 3):\n",
    "    dist = []\n",
    "    for i in range(n):\n",
    "        tmp = ((centroids[i][0]-row[0])**2+(centroids[i][1]-row[1])**2)**(0.5)\n",
    "        dist.append(tmp)\n",
    "    return dist\n",
    "def iter_once_k(centroids,_in='mean', n=3):\n",
    "    print(centroids)\n",
    "    if(_in == 'mean'):\n",
    "        cent_dist = [[c1,c2,c3] for (c1,c2,c3) in data_df.loc[:,'x_y'].apply(dist_eucl)]\n",
    "    elif(_in=='median'):\n",
    "        cent_dist = [[c1,c2,c3] for (c1,c2,c3) in data_df.loc[:,'x_y'].apply(dist_manh)]\n",
    "    \n",
    "    data_df['dist_cent_0'] = [x[0] for x in cent_dist]\n",
    "    data_df['dist_cent_1'] = [x[1] for x in cent_dist]\n",
    "    data_df['dist_cent_2'] = [x[2] for x in cent_dist]\n",
    "    data_df.loc[data_df.query('dist_cent_0 < dist_cent_1 & dist_cent_0 < dist_cent_2').index,'cluster'] = 0\n",
    "    data_df.loc[data_df.query('dist_cent_1 < dist_cent_0 & dist_cent_1 < dist_cent_2').index,'cluster'] = 1\n",
    "    data_df.loc[data_df.query('dist_cent_2 < dist_cent_0 & dist_cent_2 < dist_cent_1').index,'cluster'] = 2\n",
    "    for i in range(n):\n",
    "        if(_in == 'mean'):\n",
    "            centroids[i] = data_df[data_df['cluster'] == i][['x','y']].mean().to_list()\n",
    "        elif(_in=='median'):\n",
    "            centroids[i] = data_df[data_df['cluster'] == i][['x','y']].median().to_list()\n",
    "    print(centroids,'\\n', data_df)\n",
    "    return centroids"
   ]
  },
  {
   "cell_type": "code",
   "execution_count": 360,
   "metadata": {},
   "outputs": [],
   "source": [
    "centroids = bak_centroids"
   ]
  },
  {
   "cell_type": "code",
   "execution_count": 364,
   "metadata": {},
   "outputs": [
    {
     "name": "stdout",
     "output_type": "stream",
     "text": [
      "[[3.0, 6.25], [7.333333333333333, 5.0], [6.333333333333333, 3.0]]\n",
      "[[3.0, 6.25], [7.333333333333333, 5.0], [6.333333333333333, 3.0]] \n",
      "    x  y     x_y  cluster  dist_cent_0  dist_cent_1  dist_cent_2\n",
      "0  7  6  (7, 6)        1     4.007805     1.054093     3.073181\n",
      "1  2  6  (2, 6)        0     1.030776     5.426274     5.270463\n",
      "2  3  8  (3, 8)        0     1.750000     5.270463     6.009252\n",
      "3  8  5  (8, 5)        1     5.153882     0.666667     2.603417\n",
      "4  7  4  (7, 4)        1     4.589390     1.054093     1.201850\n",
      "5  4  7  (4, 7)        0     1.250000     3.887301     4.630815\n",
      "6  6  2  (6, 2)        2     5.202163     3.282953     1.054093\n",
      "7  7  3  (7, 3)        2     5.153882     2.027588     0.666667\n",
      "8  6  4  (6, 4)        2     3.750000     1.666667     1.054093\n",
      "9  3  4  (3, 4)        0     2.250000     4.447221     3.480102\n"
     ]
    }
   ],
   "source": [
    "centroids = iter_once_k(centroids, 'mean')"
   ]
  },
  {
   "cell_type": "markdown",
   "metadata": {},
   "source": [
    "# Birch CF"
   ]
  },
  {
   "cell_type": "code",
   "execution_count": 408,
   "metadata": {},
   "outputs": [
    {
     "name": "stdout",
     "output_type": "stream",
     "text": [
      "<n=4, LS=[10, 16], SS=[30, 68]>\n"
     ]
    }
   ],
   "source": [
    "elements = [[3,5],[2,3],[4,3],[1,5]]\n",
    "\n",
    "# CF = <n, LS, SS>\n",
    "n = len(elements)\n",
    "LS = [np.sum([x[0] for x in elements]), np.sum([x[1] for x in elements])]\n",
    "SS = [np.sum([x[0]**2 for x in elements]), np.sum([x[1]**2 for x in elements])]\n",
    "\n",
    "print('<n={}, LS={}, SS={}>'.format(n,LS,SS))"
   ]
  },
  {
   "cell_type": "code",
   "execution_count": 447,
   "metadata": {},
   "outputs": [
    {
     "name": "stdout",
     "output_type": "stream",
     "text": [
      "Centroid=[2.5, 4.0], Radius=1.5, Diameter=2.449490\n"
     ]
    }
   ],
   "source": [
    "# Centroid \n",
    "x_0 = list(np.array(LS)/n)\n",
    "\n",
    "# Radius \n",
    "R = ((np.array([np.abs(np.array(x)-np.array(x_0))**2 for x in elements]).sum())/(n))**0.5\n",
    "\n",
    "# Diameter \n",
    "D = ((np.array([[np.abs(np.array(x)-np.array(y))**2 for y in elements] for x in elements]).sum())/(n*(n-1)))**0.5\n",
    "\n",
    "print('Centroid={}, Radius={}, Diameter={:2f}'.format(x_0,R,D))"
   ]
  },
  {
   "cell_type": "code",
   "execution_count": 453,
   "metadata": {},
   "outputs": [
    {
     "name": "stderr",
     "output_type": "stream",
     "text": [
      "<ipython-input-453-589ac954b048>:1: RuntimeWarning: invalid value encountered in sqrt\n",
      "  R = ((n*np.array(SS)-2*np.array(LS)**2+n*np.array(LS))/(n**2))**0.5\n"
     ]
    },
    {
     "data": {
      "text/plain": [
       "array([nan, nan])"
      ]
     },
     "execution_count": 453,
     "metadata": {},
     "output_type": "execute_result"
    }
   ],
   "source": [
    "R = ((n*np.array(SS)-2*np.array(LS)**2+n*np.array(LS))/(n**2))**0.5\n",
    "R"
   ]
  },
  {
   "cell_type": "code",
   "execution_count": 454,
   "metadata": {},
   "outputs": [
    {
     "data": {
      "text/plain": [
       "array([1.63299316, 1.46059349])"
      ]
     },
     "execution_count": 454,
     "metadata": {},
     "output_type": "execute_result"
    }
   ],
   "source": [
    "D = ((2*n*np.array(SS)-2*np.array(LS)**2)/(n*n-1))**0.5\n",
    "D"
   ]
  },
  {
   "cell_type": "markdown",
   "metadata": {},
   "source": [
    "# Linear Mean Squared"
   ]
  },
  {
   "cell_type": "code",
   "execution_count": 467,
   "metadata": {},
   "outputs": [
    {
     "data": {
      "text/html": [
       "<div>\n",
       "<style scoped>\n",
       "    .dataframe tbody tr th:only-of-type {\n",
       "        vertical-align: middle;\n",
       "    }\n",
       "\n",
       "    .dataframe tbody tr th {\n",
       "        vertical-align: top;\n",
       "    }\n",
       "\n",
       "    .dataframe thead th {\n",
       "        text-align: right;\n",
       "    }\n",
       "</style>\n",
       "<table border=\"1\" class=\"dataframe\">\n",
       "  <thead>\n",
       "    <tr style=\"text-align: right;\">\n",
       "      <th></th>\n",
       "      <th>x</th>\n",
       "      <th>y</th>\n",
       "      <th>x_2</th>\n",
       "      <th>y_2</th>\n",
       "      <th>xy</th>\n",
       "    </tr>\n",
       "  </thead>\n",
       "  <tbody>\n",
       "    <tr>\n",
       "      <th>0</th>\n",
       "      <td>72</td>\n",
       "      <td>84</td>\n",
       "      <td>5184</td>\n",
       "      <td>7056</td>\n",
       "      <td>6048</td>\n",
       "    </tr>\n",
       "    <tr>\n",
       "      <th>1</th>\n",
       "      <td>50</td>\n",
       "      <td>63</td>\n",
       "      <td>2500</td>\n",
       "      <td>3969</td>\n",
       "      <td>3150</td>\n",
       "    </tr>\n",
       "    <tr>\n",
       "      <th>2</th>\n",
       "      <td>81</td>\n",
       "      <td>77</td>\n",
       "      <td>6561</td>\n",
       "      <td>5929</td>\n",
       "      <td>6237</td>\n",
       "    </tr>\n",
       "    <tr>\n",
       "      <th>3</th>\n",
       "      <td>74</td>\n",
       "      <td>78</td>\n",
       "      <td>5476</td>\n",
       "      <td>6084</td>\n",
       "      <td>5772</td>\n",
       "    </tr>\n",
       "    <tr>\n",
       "      <th>4</th>\n",
       "      <td>94</td>\n",
       "      <td>90</td>\n",
       "      <td>8836</td>\n",
       "      <td>8100</td>\n",
       "      <td>8460</td>\n",
       "    </tr>\n",
       "    <tr>\n",
       "      <th>5</th>\n",
       "      <td>86</td>\n",
       "      <td>75</td>\n",
       "      <td>7396</td>\n",
       "      <td>5625</td>\n",
       "      <td>6450</td>\n",
       "    </tr>\n",
       "    <tr>\n",
       "      <th>6</th>\n",
       "      <td>59</td>\n",
       "      <td>49</td>\n",
       "      <td>3481</td>\n",
       "      <td>2401</td>\n",
       "      <td>2891</td>\n",
       "    </tr>\n",
       "    <tr>\n",
       "      <th>7</th>\n",
       "      <td>83</td>\n",
       "      <td>79</td>\n",
       "      <td>6889</td>\n",
       "      <td>6241</td>\n",
       "      <td>6557</td>\n",
       "    </tr>\n",
       "    <tr>\n",
       "      <th>8</th>\n",
       "      <td>65</td>\n",
       "      <td>77</td>\n",
       "      <td>4225</td>\n",
       "      <td>5929</td>\n",
       "      <td>5005</td>\n",
       "    </tr>\n",
       "    <tr>\n",
       "      <th>9</th>\n",
       "      <td>33</td>\n",
       "      <td>52</td>\n",
       "      <td>1089</td>\n",
       "      <td>2704</td>\n",
       "      <td>1716</td>\n",
       "    </tr>\n",
       "    <tr>\n",
       "      <th>10</th>\n",
       "      <td>88</td>\n",
       "      <td>74</td>\n",
       "      <td>7744</td>\n",
       "      <td>5476</td>\n",
       "      <td>6512</td>\n",
       "    </tr>\n",
       "    <tr>\n",
       "      <th>11</th>\n",
       "      <td>81</td>\n",
       "      <td>90</td>\n",
       "      <td>6561</td>\n",
       "      <td>8100</td>\n",
       "      <td>7290</td>\n",
       "    </tr>\n",
       "  </tbody>\n",
       "</table>\n",
       "</div>"
      ],
      "text/plain": [
       "     x   y   x_2   y_2    xy\n",
       "0   72  84  5184  7056  6048\n",
       "1   50  63  2500  3969  3150\n",
       "2   81  77  6561  5929  6237\n",
       "3   74  78  5476  6084  5772\n",
       "4   94  90  8836  8100  8460\n",
       "5   86  75  7396  5625  6450\n",
       "6   59  49  3481  2401  2891\n",
       "7   83  79  6889  6241  6557\n",
       "8   65  77  4225  5929  5005\n",
       "9   33  52  1089  2704  1716\n",
       "10  88  74  7744  5476  6512\n",
       "11  81  90  6561  8100  7290"
      ]
     },
     "execution_count": 467,
     "metadata": {},
     "output_type": "execute_result"
    }
   ],
   "source": [
    "x = np.array([72,50,81,74,94,86,59,83,65,33,88,81])\n",
    "y = np.array([84,63,77,78,90,75,49,79,77,52,74,90])\n",
    "\n",
    "x_2 = x**2\n",
    "y_2 = y**2\n",
    "\n",
    "xy = x * y\n",
    "\n",
    "data_dict = {'x':x,'y':y,'x_2':x_2,'y_2':y_2,'xy':xy}\n",
    "data_df = pd.DataFrame(data_dict)\n",
    "data_df"
   ]
  },
  {
   "cell_type": "code",
   "execution_count": 468,
   "metadata": {},
   "outputs": [
    {
     "name": "stdout",
     "output_type": "stream",
     "text": [
      "Sigma values of - \n",
      "x: 866\n",
      "y: 888\n",
      "xy: 66088\n",
      "x^2: 65942\n",
      "n: 12\n"
     ]
    }
   ],
   "source": [
    "sigma_x = x.sum()\n",
    "sigma_y = y.sum()\n",
    "sigma_xy = xy.sum()\n",
    "sigma_x_2 = x_2.sum()\n",
    "n = len(x)\n",
    "\n",
    "print(\"Sigma values of - \\nx: {}\\ny: {}\\nxy: {}\\nx^2: {}\\nn: {}\".format(sigma_x,sigma_y,sigma_xy,sigma_x_2,n))"
   ]
  },
  {
   "cell_type": "code",
   "execution_count": 469,
   "metadata": {},
   "outputs": [
    {
     "data": {
      "text/plain": [
       "0.5816000773918932"
      ]
     },
     "execution_count": 469,
     "metadata": {},
     "output_type": "execute_result"
    }
   ],
   "source": [
    "m = (n*sigma_xy - sigma_x * sigma_y)/(n*sigma_x_2 - sigma_x**2)\n",
    "m"
   ]
  },
  {
   "cell_type": "code",
   "execution_count": 470,
   "metadata": {},
   "outputs": [
    {
     "data": {
      "text/plain": [
       "32.027861081551706"
      ]
     },
     "execution_count": 470,
     "metadata": {},
     "output_type": "execute_result"
    }
   ],
   "source": [
    "b = (sigma_y - m * sigma_x)/n\n",
    "b"
   ]
  },
  {
   "cell_type": "code",
   "execution_count": 471,
   "metadata": {},
   "outputs": [
    {
     "data": {
      "text/plain": [
       "82.04546773725453"
      ]
     },
     "execution_count": 471,
     "metadata": {},
     "output_type": "execute_result"
    }
   ],
   "source": [
    "y_0 = 86\n",
    "y = m * y_0 + b\n",
    "y"
   ]
  }
 ],
 "metadata": {
  "kernelspec": {
   "display_name": "Python 3",
   "language": "python",
   "name": "python3"
  },
  "language_info": {
   "codemirror_mode": {
    "name": "ipython",
    "version": 3
   },
   "file_extension": ".py",
   "mimetype": "text/x-python",
   "name": "python",
   "nbconvert_exporter": "python",
   "pygments_lexer": "ipython3",
   "version": "3.8.6"
  }
 },
 "nbformat": 4,
 "nbformat_minor": 5
}
