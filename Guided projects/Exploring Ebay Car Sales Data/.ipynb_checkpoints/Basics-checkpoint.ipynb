{
 "cells": [
  {
   "cell_type": "markdown",
   "metadata": {
    "collapsed": true
   },
   "source": [
    "# Exploring Ebay Car Sales Data\n",
    "\n",
    "We are exloring the used cars data on ebay as monitored by web crawler with detailed report on each Ad as specified below:  \n",
    "\n",
    "Data | Description\n",
    "--- | ---\n",
    "dateCrawled | Time when Ad was first crawled\n",
    "name | Name of car\n",
    "seller | seller type (private or dealer)\n",
    "offerType | The type of listing\n",
    "price | Selling price of car\n",
    "abtest | A/B test inclusion\n",
    "vehicleType | Vehicle Type\n",
    "yearOfRegistration | Year car was first registered.\n",
    "gearbox | Transmission type\n",
    "powerPS | Powerin PS\n",
    "model | Car model \n",
    "kilometer | Kilometers driven\n",
    "monthOfRegistration | Month car was first registered\n",
    "fuelType | Fuel type\n",
    "brand | Brand\n",
    "notRepairedDamage | Damages\n",
    "dateCreated | eBay listing creation date\n",
    "nrOfPictures | Pictures in Ad\n",
    "postalCode | Postal Code of Location of the vehicle.\n",
    "lastSeenOnline | Time crawler last saw this ad online"
   ]
  },
  {
   "cell_type": "code",
   "execution_count": null,
   "metadata": {
    "collapsed": true
   },
   "outputs": [],
   "source": []
  }
 ],
 "metadata": {
  "kernelspec": {
   "display_name": "Python 3",
   "language": "python",
   "name": "python3"
  },
  "language_info": {
   "codemirror_mode": {
    "name": "ipython",
    "version": 3
   },
   "file_extension": ".py",
   "mimetype": "text/x-python",
   "name": "python",
   "nbconvert_exporter": "python",
   "pygments_lexer": "ipython3",
   "version": "3.4.3"
  }
 },
 "nbformat": 4,
 "nbformat_minor": 2
}
