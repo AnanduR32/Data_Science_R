{
 "cells": [
  {
   "cell_type": "markdown",
   "metadata": {},
   "source": [
    "# Portfolio Project"
   ]
  },
  {
   "cell_type": "markdown",
   "metadata": {},
   "source": [
    "In this project I combine all the knowledge acquired through my learning and make use of them to perform basic data analysis.\n",
    "\n",
    "Considering myself as a data analyst for a company that builds Android and iOS mobile apps, which are free to download and whose revenue generation is through the in-app ads. Which implies that the app's revenue is dependent on the number of active users that engage with the ads, and interact with the application.\n",
    "\n",
    "Goal: Analyze data to help developers understand what type of apps are likely to attract more users."
   ]
  },
  {
   "cell_type": "markdown",
   "metadata": {},
   "source": [
    "## Loading the data\n",
    "Performing necessary imports"
   ]
  },
  {
   "cell_type": "code",
   "execution_count": 3,
   "metadata": {
    "collapsed": true
   },
   "outputs": [],
   "source": [
    "from csv import reader"
   ]
  },
  {
   "cell_type": "markdown",
   "metadata": {},
   "source": [
    "Defining a function to explore the dataset"
   ]
  },
  {
   "cell_type": "code",
   "execution_count": 1,
   "metadata": {
    "collapsed": true
   },
   "outputs": [],
   "source": [
    "def explore_data(dataset, start, end, rows_and_columns=False):\n",
    "    dataset_slice = dataset[start:end]    \n",
    "    for row in dataset_slice:\n",
    "        print(row)\n",
    "        print('\\n') # adds a new (empty) line after each row\n",
    "\n",
    "    if rows_and_columns:\n",
    "        print('Number of rows:', len(dataset))\n",
    "        print('Number of columns:', len(dataset[0]))"
   ]
  },
  {
   "cell_type": "markdown",
   "metadata": {},
   "source": [
    "Opening the datasets"
   ]
  },
  {
   "cell_type": "code",
   "execution_count": 25,
   "metadata": {
    "collapsed": true
   },
   "outputs": [],
   "source": [
    "appleDataOpened = open(\"AppleStore.csv\", encoding = \"utf-8\")\n",
    "googleDataOpened = open(\"googleplaystore.csv\", encoding = \"utf-8\")"
   ]
  },
  {
   "cell_type": "markdown",
   "metadata": {},
   "source": [
    "Reading the data"
   ]
  },
  {
   "cell_type": "code",
   "execution_count": 26,
   "metadata": {
    "collapsed": false
   },
   "outputs": [],
   "source": [
    "appleData = list(reader(appleDataOpened))\n",
    "googleData = list(reader(googleDataOpened))"
   ]
  },
  {
   "cell_type": "code",
   "execution_count": 27,
   "metadata": {
    "collapsed": false
   },
   "outputs": [],
   "source": [
    "appleHeader = appleData[0]\n",
    "appleData = appleData[1:]\n",
    "googleHeader = googleData[0]\n",
    "googleData = googleData[1:]"
   ]
  },
  {
   "cell_type": "markdown",
   "metadata": {},
   "source": [
    "Exploring the data\n",
    "* Apple Store data"
   ]
  },
  {
   "cell_type": "code",
   "execution_count": 28,
   "metadata": {
    "collapsed": false
   },
   "outputs": [
    {
     "name": "stdout",
     "output_type": "stream",
     "text": [
      "['284882215', 'Facebook', '389879808', 'USD', '0.0', '2974676', '212', '3.5', '3.5', '95.0', '4+', 'Social Networking', '37', '1', '29', '1']\n",
      "\n",
      "\n",
      "['389801252', 'Instagram', '113954816', 'USD', '0.0', '2161558', '1289', '4.5', '4.0', '10.23', '12+', 'Photo & Video', '37', '0', '29', '1']\n",
      "\n",
      "\n",
      "['529479190', 'Clash of Clans', '116476928', 'USD', '0.0', '2130805', '579', '4.5', '4.5', '9.24.12', '9+', 'Games', '38', '5', '18', '1']\n",
      "\n",
      "\n",
      "['420009108', 'Temple Run', '65921024', 'USD', '0.0', '1724546', '3842', '4.5', '4.0', '1.6.2', '9+', 'Games', '40', '5', '1', '1']\n",
      "\n",
      "\n",
      "['284035177', 'Pandora - Music & Radio', '130242560', 'USD', '0.0', '1126879', '3594', '4.0', '4.5', '8.4.1', '12+', 'Music', '37', '4', '1', '1']\n",
      "\n",
      "\n",
      "Number of rows: 7197\n",
      "Number of columns: 16\n"
     ]
    }
   ],
   "source": [
    "explore_data(dataset = appleData,start = 0, end = 5, rows_and_columns = True)"
   ]
  },
  {
   "cell_type": "markdown",
   "metadata": {},
   "source": [
    "* Google play store data"
   ]
  },
  {
   "cell_type": "code",
   "execution_count": 29,
   "metadata": {
    "collapsed": false
   },
   "outputs": [
    {
     "name": "stdout",
     "output_type": "stream",
     "text": [
      "['Photo Editor & Candy Camera & Grid & ScrapBook', 'ART_AND_DESIGN', '4.1', '159', '19M', '10,000+', 'Free', '0', 'Everyone', 'Art & Design', 'January 7, 2018', '1.0.0', '4.0.3 and up']\n",
      "\n",
      "\n",
      "['Coloring book moana', 'ART_AND_DESIGN', '3.9', '967', '14M', '500,000+', 'Free', '0', 'Everyone', 'Art & Design;Pretend Play', 'January 15, 2018', '2.0.0', '4.0.3 and up']\n",
      "\n",
      "\n",
      "['U Launcher Lite – FREE Live Cool Themes, Hide Apps', 'ART_AND_DESIGN', '4.7', '87510', '8.7M', '5,000,000+', 'Free', '0', 'Everyone', 'Art & Design', 'August 1, 2018', '1.2.4', '4.0.3 and up']\n",
      "\n",
      "\n",
      "['Sketch - Draw & Paint', 'ART_AND_DESIGN', '4.5', '215644', '25M', '50,000,000+', 'Free', '0', 'Teen', 'Art & Design', 'June 8, 2018', 'Varies with device', '4.2 and up']\n",
      "\n",
      "\n",
      "['Pixel Draw - Number Art Coloring Book', 'ART_AND_DESIGN', '4.3', '967', '2.8M', '100,000+', 'Free', '0', 'Everyone', 'Art & Design;Creativity', 'June 20, 2018', '1.1', '4.4 and up']\n",
      "\n",
      "\n",
      "Number of rows: 10841\n",
      "Number of columns: 13\n"
     ]
    }
   ],
   "source": [
    "explore_data(dataset = googleData,start = 0, end = 5, rows_and_columns = True)"
   ]
  },
  {
   "cell_type": "markdown",
   "metadata": {},
   "source": [
    "## Data processing\n",
    "* Detect inaccurate data, and correct or remove it.\n",
    "* Detect duplicate data, and remove the duplicates.\n",
    "\n",
    "The app developemnt is targetted towards english speaking audience, hence:\n",
    "* Remove non-English apps like 爱奇艺PPS -《欢乐颂2》电视剧热播.\n",
    "* Remove apps that aren't free.  \n",
    "\n",
    "From the [discussion section](https://www.kaggle.com/lava18/google-play-store-apps/discussion) at kaggle we find that the row 10472 has some error. Let us examine it compared against a correct data"
   ]
  },
  {
   "cell_type": "code",
   "execution_count": 32,
   "metadata": {
    "collapsed": false
   },
   "outputs": [
    {
     "name": "stdout",
     "output_type": "stream",
     "text": [
      "['App', 'Category', 'Rating', 'Reviews', 'Size', 'Installs', 'Type', 'Price', 'Content Rating', 'Genres', 'Last Updated', 'Current Ver', 'Android Ver']\n",
      "['Mandala Coloring Book', 'ART_AND_DESIGN', '4.6', '4326', '21M', '100,000+', 'Free', '0', 'Everyone', 'Art & Design', 'June 26, 2018', '1.0.4', '4.4 and up']\n",
      "['Life Made WI-Fi Touchscreen Photo Frame', '1.9', '19', '3.0M', '1,000+', 'Free', '0', 'Everyone', '', 'February 11, 2018', '1.0.19', '4.0 and up']\n"
     ]
    }
   ],
   "source": [
    "print(googleHeader)\n",
    "print(googleData[13])\n",
    "print(googleData[10472])"
   ]
  },
  {
   "cell_type": "markdown",
   "metadata": {},
   "source": [
    "The 'Genres' column seems to be missing data.  \n",
    "Removing the row with error "
   ]
  },
  {
   "cell_type": "code",
   "execution_count": 33,
   "metadata": {
    "collapsed": true
   },
   "outputs": [],
   "source": [
    "del googleData[10472]"
   ]
  },
  {
   "cell_type": "markdown",
   "metadata": {},
   "source": [
    "### Removing duplicate entries"
   ]
  },
  {
   "cell_type": "code",
   "execution_count": 34,
   "metadata": {
    "collapsed": true
   },
   "outputs": [],
   "source": [
    "appCount = {}\n",
    "for app in googleData:\n",
    "    if(app[0] in appCount):\n",
    "        appCount[app[0]] +=1\n",
    "    else:\n",
    "        appCount[app[0]] = 1"
   ]
  },
  {
   "cell_type": "code",
   "execution_count": 38,
   "metadata": {
    "collapsed": false
   },
   "outputs": [],
   "source": [
    "uniqueApps = []\n",
    "duplicateApps = []\n",
    "for app in appCount:\n",
    "    if(appCount[app]>1):\n",
    "        duplicateApps.append(app)\n",
    "    else:\n",
    "        uniqueApps.append(app)"
   ]
  },
  {
   "cell_type": "markdown",
   "metadata": {},
   "source": [
    "Examing the apps that have duplicate records"
   ]
  },
  {
   "cell_type": "code",
   "execution_count": 45,
   "metadata": {
    "collapsed": false
   },
   "outputs": [
    {
     "name": "stdout",
     "output_type": "stream",
     "text": [
      "['Google Drive', 'Just She - Top Lesbian Dating', 'Vigo Video', 'Meet24 - Love, Chat, Singles', 'BP Journal - Blood Pressure Diary', 'Word Search', 'Christian Dating For Free App', 'Toca Life: City', 'Live Talk - Free Text and Video Chat', 'Brilliant', 'Medical ID - In Case of Emergency (ICE)', 'Daily Manga - Comic & Webtoon', 'FP Notebook', 'Amino: Communities and Chats', 'MLB At Bat'] \n",
      "There are 798 duplicate apps.. The first 15 are displayed above\n"
     ]
    }
   ],
   "source": [
    "print(duplicateApps[:15],'\\nThere are',len(duplicateApps),'duplicate apps.. The first 15 are displayed above')"
   ]
  },
  {
   "cell_type": "markdown",
   "metadata": {},
   "source": [
    "Examing an app and it's duplicate records"
   ]
  },
  {
   "cell_type": "code",
   "execution_count": 47,
   "metadata": {
    "collapsed": false
   },
   "outputs": [
    {
     "name": "stdout",
     "output_type": "stream",
     "text": [
      "['App', 'Category', 'Rating', 'Reviews', 'Size', 'Installs', 'Type', 'Price', 'Content Rating', 'Genres', 'Last Updated', 'Current Ver', 'Android Ver']\n",
      "['Instagram', 'SOCIAL', '4.5', '66577313', 'Varies with device', '1,000,000,000+', 'Free', '0', 'Teen', 'Social', 'July 31, 2018', 'Varies with device', 'Varies with device']\n",
      "['Instagram', 'SOCIAL', '4.5', '66577446', 'Varies with device', '1,000,000,000+', 'Free', '0', 'Teen', 'Social', 'July 31, 2018', 'Varies with device', 'Varies with device']\n",
      "['Instagram', 'SOCIAL', '4.5', '66577313', 'Varies with device', '1,000,000,000+', 'Free', '0', 'Teen', 'Social', 'July 31, 2018', 'Varies with device', 'Varies with device']\n",
      "['Instagram', 'SOCIAL', '4.5', '66509917', 'Varies with device', '1,000,000,000+', 'Free', '0', 'Teen', 'Social', 'July 31, 2018', 'Varies with device', 'Varies with device']\n"
     ]
    }
   ],
   "source": [
    "subData = []\n",
    "print(googleHeader)\n",
    "for app in googleData:\n",
    "    if(app[0]=='Instagram'):\n",
    "        print(app)"
   ]
  },
  {
   "cell_type": "markdown",
   "metadata": {},
   "source": [
    "We observe varying 'Reviews' columns denoting different timings when the app details were extracted from the store.  \n",
    "We use this field to remove duplicates, we keep only the record that has the highest number of reviews in the output data file."
   ]
  },
  {
   "cell_type": "markdown",
   "metadata": {},
   "source": [
    "Expected number of records after removal of duplicates in google playstore dataset"
   ]
  },
  {
   "cell_type": "code",
   "execution_count": 51,
   "metadata": {
    "collapsed": false
   },
   "outputs": [
    {
     "name": "stdout",
     "output_type": "stream",
     "text": [
      "9659\n"
     ]
    }
   ],
   "source": [
    "expectedRecordsGoogle = len(set(duplicateApps)) + len(uniqueApps) \n",
    "print(expectedRecordsGoogle)"
   ]
  },
  {
   "cell_type": "markdown",
   "metadata": {},
   "source": [
    "Creating a dictionary where each dictionary key is a unique app name and the corresponding dictionary value is the highest number of reviews of that app."
   ]
  },
  {
   "cell_type": "code",
   "execution_count": 92,
   "metadata": {
    "collapsed": false
   },
   "outputs": [],
   "source": [
    "appDictGoogle = {}\n",
    "for app in googleData:\n",
    "    name = app[0]\n",
    "    reviews = int(app[3])\n",
    "    if(name in appDictGoogle and appDictGoogle[name] < reviews):\n",
    "        appDictGoogle[name] = reviews\n",
    "    elif(name not in appDictGoogle):\n",
    "        appDictGoogle[name] = reviews"
   ]
  },
  {
   "cell_type": "markdown",
   "metadata": {},
   "source": [
    "We've now obtained the best(latest) record of each duplicate set  \n",
    "Removing the duplicates from the googleData"
   ]
  },
  {
   "cell_type": "code",
   "execution_count": 99,
   "metadata": {
    "collapsed": false
   },
   "outputs": [],
   "source": [
    "cleanedData = []\n",
    "already_added = []\n",
    "for app in googleData:\n",
    "    name = app[0]\n",
    "    reviews = int(app[3])\n",
    "    if(appDictGoogle[name] == reviews and name not in already_added):\n",
    "        cleanedData.append(app)\n",
    "        already_added.append(name)\n",
    "        "
   ]
  },
  {
   "cell_type": "code",
   "execution_count": 104,
   "metadata": {
    "collapsed": false
   },
   "outputs": [
    {
     "name": "stdout",
     "output_type": "stream",
     "text": [
      "Number of records in dataset before removing duplicates:  10840\n",
      "Expected number of records in dataset after removing duplicates:  9659\n",
      "Number of records in dataset after removing duplicates:  9659\n"
     ]
    }
   ],
   "source": [
    "print('Number of records in dataset before removing duplicates: ',len(googleData))\n",
    "print('Expected number of records in dataset after removing duplicates: ',expectedRecordsGoogle)\n",
    "print('Number of records in dataset after removing duplicates: ',len(cleanedData))"
   ]
  },
  {
   "cell_type": "markdown",
   "metadata": {},
   "source": [
    "Checking if the App Store dataset has any duplicates "
   ]
  },
  {
   "cell_type": "code",
   "execution_count": 106,
   "metadata": {
    "collapsed": false
   },
   "outputs": [
    {
     "name": "stdout",
     "output_type": "stream",
     "text": [
      "Number of duplicates found:  0\n"
     ]
    }
   ],
   "source": [
    "appCount = {}\n",
    "for app in appleData:\n",
    "    if(app[0] in appCount):\n",
    "        appCount[app[0]] +=1\n",
    "    else:\n",
    "        appCount[app[0]] = 1\n",
    "uniqueApps = []\n",
    "duplicateApps = []\n",
    "for app in appCount:\n",
    "    if(appCount[app]>1):\n",
    "        duplicateApps.append(app)\n",
    "    else:\n",
    "        uniqueApps.append(app)\n",
    "print('Number of duplicates found: ',len(duplicateApps))"
   ]
  },
  {
   "cell_type": "markdown",
   "metadata": {},
   "source": [
    "### Removing non-english entries\n",
    "The numbers corresponding to the characters we commonly use in an English text are all in the range 0 to 127, according to the ASCII (American Standard Code for Information Interchange) system.  \n",
    "Based on this number range, we can build a function that detects whether a character belongs to the set of common English characters or not.  \n",
    "\n",
    "Note: In my interpretation some apps use emojis in their name, to avoid filtering out these I check for more than 1 character in name whose ASCII value is not in prescribed range."
   ]
  },
  {
   "cell_type": "code",
   "execution_count": 116,
   "metadata": {
    "collapsed": false
   },
   "outputs": [
    {
     "name": "stdout",
     "output_type": "stream",
     "text": [
      "Zona Azul Digital Fácil SP CET - OFFICIAL São Paulo\n",
      "Truyện Vui Tý Quậy\n",
      "Truyện Vui Tý Quậy\n",
      "Comic Es - Shojo manga / love comics free of charge ♪ ♪\n",
      "漫咖 Comics - Manga,Novel and Stories\n",
      "【Ranobbe complete free】 Novelba - Free app that you can read and write novels\n",
      "FlirtChat - ♥Free Dating/Flirting App♥\n",
      "FlirtChat - ♥Free Dating/Flirting App♥\n",
      "Flame - درب عقلك يوميا\n",
      "Flame - درب عقلك يوميا\n",
      "Flame - درب عقلك يوميا\n",
      "Flame - درب عقلك يوميا\n",
      "Flame - درب عقلك يوميا\n",
      "Flame - درب عقلك يوميا\n",
      "Flame - درب عقلك يوميا\n",
      "Flame - درب عقلك يوميا\n",
      "Flame - درب عقلك يوميا\n",
      "Flame - درب عقلك يوميا\n",
      "Flame - درب عقلك يوميا\n",
      "🔥 Football Wallpapers 4K | Full HD Backgrounds 😍\n",
      "İşCep\n",
      "Wendy’s – Food and Offers\n",
      "At home - rental · real estate · room finding application such as apartment · apartment\n",
      "At home - rental · real estate · room finding application such as apartment · apartment\n",
      "乐屋网: Buying a house, selling a house, renting a house\n",
      "乐屋网: Buying a house, selling a house, renting a house\n",
      "Best New Ringtones 2018 Free 🔥 For Android™\n",
      "သိင်္ Astrology - Min Thein Kha BayDin\n",
      "သိင်္ Astrology - Min Thein Kha BayDin\n",
      "သိင်္ Astrology - Min Thein Kha BayDin\n",
      "သိင်္ Astrology - Min Thein Kha BayDin\n",
      "My Day - Countdown Calendar 🗓️\n",
      "Dominos Game ✔️\n",
      "Checkers ✔️\n",
      "myAir™ for Air10™ by ResMed\n",
      "Lapse It • Time Lapse • Pro\n",
      "Amazon FreeTime – Kids’ Videos, Books, & TV shows\n",
      "Météociel\n",
      "РИА Новости\n",
      "РИА Новости\n",
      "РИА Новости\n",
      "РИА Новости\n",
      "РИА Новости\n",
      "РИА Новости\n",
      "РИА Новости\n",
      "РИА Новости\n",
      "РИА Новости\n",
      "乗換NAVITIME　Timetable & Route Search in Japan Tokyo\n",
      "乗換NAVITIME　Timetable & Route Search in Japan Tokyo\n",
      "Lep's World 2 🍀🍀\n",
      "► MultiCraft ― Free Miner! 👍\n",
      "► MultiCraft ― Free Miner! 👍\n",
      "Convert degree Celsius to Fahrenheit or °F to °C\n",
      "صور حرف H\n",
      "صور حرف H\n",
      "صور حرف H\n",
      "صور حرف H\n",
      "صور حرف H\n",
      "L.POINT - 엘포인트 [ 포인트, 멤버십, 적립, 사용, 모바일 카드, 쿠폰, 롯데]\n",
      "L.POINT - 엘포인트 [ 포인트, 멤버십, 적립, 사용, 모바일 카드, 쿠폰, 롯데]\n",
      "L.POINT - 엘포인트 [ 포인트, 멤버십, 적립, 사용, 모바일 카드, 쿠폰, 롯데]\n",
      "L.POINT - 엘포인트 [ 포인트, 멤버십, 적립, 사용, 모바일 카드, 쿠폰, 롯데]\n",
      "L.POINT - 엘포인트 [ 포인트, 멤버십, 적립, 사용, 모바일 카드, 쿠폰, 롯데]\n",
      "L.POINT - 엘포인트 [ 포인트, 멤버십, 적립, 사용, 모바일 카드, 쿠폰, 롯데]\n",
      "L.POINT - 엘포인트 [ 포인트, 멤버십, 적립, 사용, 모바일 카드, 쿠폰, 롯데]\n",
      "L.POINT - 엘포인트 [ 포인트, 멤버십, 적립, 사용, 모바일 카드, 쿠폰, 롯데]\n",
      "L.POINT - 엘포인트 [ 포인트, 멤버십, 적립, 사용, 모바일 카드, 쿠폰, 롯데]\n",
      "L.POINT - 엘포인트 [ 포인트, 멤버십, 적립, 사용, 모바일 카드, 쿠폰, 롯데]\n",
      "L.POINT - 엘포인트 [ 포인트, 멤버십, 적립, 사용, 모바일 카드, 쿠폰, 롯데]\n",
      "L.POINT - 엘포인트 [ 포인트, 멤버십, 적립, 사용, 모바일 카드, 쿠폰, 롯데]\n",
      "L.POINT - 엘포인트 [ 포인트, 멤버십, 적립, 사용, 모바일 카드, 쿠폰, 롯데]\n",
      "L.POINT - 엘포인트 [ 포인트, 멤버십, 적립, 사용, 모바일 카드, 쿠폰, 롯데]\n",
      "L.POINT - 엘포인트 [ 포인트, 멤버십, 적립, 사용, 모바일 카드, 쿠폰, 롯데]\n",
      "L.POINT - 엘포인트 [ 포인트, 멤버십, 적립, 사용, 모바일 카드, 쿠폰, 롯데]\n",
      "L.POINT - 엘포인트 [ 포인트, 멤버십, 적립, 사용, 모바일 카드, 쿠폰, 롯데]\n",
      "L.POINT - 엘포인트 [ 포인트, 멤버십, 적립, 사용, 모바일 카드, 쿠폰, 롯데]\n",
      "L.POINT - 엘포인트 [ 포인트, 멤버십, 적립, 사용, 모바일 카드, 쿠폰, 롯데]\n",
      "L.POINT - 엘포인트 [ 포인트, 멤버십, 적립, 사용, 모바일 카드, 쿠폰, 롯데]\n",
      "L.POINT - 엘포인트 [ 포인트, 멤버십, 적립, 사용, 모바일 카드, 쿠폰, 롯데]\n",
      "L.POINT - 엘포인트 [ 포인트, 멤버십, 적립, 사용, 모바일 카드, 쿠폰, 롯데]\n",
      "M3-X5-X6-M-İ3-İ8 RACİNG 2018\n",
      "M3-X5-X6-M-İ3-İ8 RACİNG 2018\n",
      "Stand O’Food® (Full)\n",
      "P XPERIA Theme™ | Design For SONY 🎨\n",
      "P XPERIA Theme™ | PURPLE - Design For SONY 🎨\n",
      "P XPERIA Theme™ | INDIGO - Design For SONY 🎨\n",
      "RMEduS - 음성인식을 활용한 R 프로그래밍 실습 시스템\n",
      "RMEduS - 음성인식을 활용한 R 프로그래밍 실습 시스템\n",
      "RMEduS - 음성인식을 활용한 R 프로그래밍 실습 시스템\n",
      "RMEduS - 음성인식을 활용한 R 프로그래밍 실습 시스템\n",
      "RMEduS - 음성인식을 활용한 R 프로그래밍 실습 시스템\n",
      "RMEduS - 음성인식을 활용한 R 프로그래밍 실습 시스템\n",
      "RMEduS - 음성인식을 활용한 R 프로그래밍 실습 시스템\n",
      "RMEduS - 음성인식을 활용한 R 프로그래밍 실습 시스템\n",
      "RMEduS - 음성인식을 활용한 R 프로그래밍 실습 시스템\n",
      "RMEduS - 음성인식을 활용한 R 프로그래밍 실습 시스템\n",
      "RMEduS - 음성인식을 활용한 R 프로그래밍 실습 시스템\n",
      "RMEduS - 음성인식을 활용한 R 프로그래밍 실습 시스템\n",
      "RMEduS - 음성인식을 활용한 R 프로그래밍 실습 시스템\n",
      "RMEduS - 음성인식을 활용한 R 프로그래밍 실습 시스템\n",
      "RMEduS - 음성인식을 활용한 R 프로그래밍 실습 시스템\n",
      "RMEduS - 음성인식을 활용한 R 프로그래밍 실습 시스템\n",
      "RMEduS - 음성인식을 활용한 R 프로그래밍 실습 시스템\n",
      "PitchBlack S - Samsung Substratum Theme “For Oreo”\n",
      "T-Mobile® FamilyMode™\n",
      "Space Z 🌏 🚀Icon Pack Theme\n",
      "AJ렌터카 법인 카셰어링\n",
      "AJ렌터카 법인 카셰어링\n",
      "AJ렌터카 법인 카셰어링\n",
      "AJ렌터카 법인 카셰어링\n",
      "AJ렌터카 법인 카셰어링\n",
      "AJ렌터카 법인 카셰어링\n",
      "AJ렌터카 법인 카셰어링\n",
      "AJ렌터카 법인 카셰어링\n",
      "Al Quran Free - القرآن (Islam)\n",
      "Al Quran Free - القرآن (Islam)\n",
      "Al Quran Free - القرآن (Islam)\n",
      "Al Quran Free - القرآن (Islam)\n",
      "Al Quran Free - القرآن (Islam)\n",
      "中国語 AQリスニング\n",
      "中国語 AQリスニング\n",
      "中国語 AQリスニング\n",
      "中国語 AQリスニング\n",
      "中国語 AQリスニング\n",
      "中国語 AQリスニング\n",
      "中国語 AQリスニング\n",
      "【Miku AR Camera】Mikuture\n",
      "AS - Diario online deportivo. Fútbol, motor y más\n",
      "Au Mobile: Audition Chính Hiệu\n",
      "Top #5 Bσσkie in AU\n",
      "Neuvaines et prières au Coeur Sacré de Jésus\n",
      "Neuvaines et prières au Coeur Sacré de Jésus\n",
      "Romance et Mystères au Lycée\n",
      "日本AV历史\n",
      "日本AV历史\n",
      "日本AV历史\n",
      "Ay Yıldız - Xperia Live Theme\n",
      "Ay Yıldız Analog Saat\n",
      "Ay Yıldız Duvar Kağıtları\n",
      "Ay Yıldız Duvar Kağıtları\n",
      "Ay Yıldız Duvar Kağıtları\n",
      "Ay Yıldız Duvar Kağıtları\n",
      "Ay Yıldız Keyboard\n",
      "বাংলা টিভি প্রো BD Bangla TV\n",
      "বাংলা টিভি প্রো BD Bangla TV\n",
      "বাংলা টিভি প্রো BD Bangla TV\n",
      "বাংলা টিভি প্রো BD Bangla TV\n",
      "বাংলা টিভি প্রো BD Bangla TV\n",
      "বাংলা টিভি প্রো BD Bangla TV\n",
      "বাংলা টিভি প্রো BD Bangla TV\n",
      "বাংলা টিভি প্রো BD Bangla TV\n",
      "বাংলা টিভি প্রো BD Bangla TV\n",
      "বাংলা টিভি প্রো BD Bangla TV\n",
      "বাংলা টিভি প্রো BD Bangla TV\n",
      "বাংলা টিভি প্রো BD Bangla TV\n",
      "Cъновник BG\n",
      "Cъновник BG\n",
      "Cъновник BG\n",
      "Cъновник BG\n",
      "Cъновник BG\n",
      "Cъновник BG\n",
      "CSCS BG (в български)\n",
      "CSCS BG (в български)\n",
      "CSCS BG (в български)\n",
      "CSCS BG (в български)\n",
      "CSCS BG (в български)\n",
      "CSCS BG (в български)\n",
      "CSCS BG (в български)\n",
      "CSCS BG (в български)\n",
      "CSCS BG (в български)\n",
      "BH Açaí\n",
      "뽕티비 - 개인방송, 인터넷방송, BJ방송\n",
      "뽕티비 - 개인방송, 인터넷방송, BJ방송\n",
      "뽕티비 - 개인방송, 인터넷방송, BJ방송\n",
      "뽕티비 - 개인방송, 인터넷방송, BJ방송\n",
      "뽕티비 - 개인방송, 인터넷방송, BJ방송\n",
      "뽕티비 - 개인방송, 인터넷방송, BJ방송\n",
      "뽕티비 - 개인방송, 인터넷방송, BJ방송\n",
      "뽕티비 - 개인방송, 인터넷방송, BJ방송\n",
      "뽕티비 - 개인방송, 인터넷방송, BJ방송\n",
      "뽕티비 - 개인방송, 인터넷방송, BJ방송\n",
      "뽕티비 - 개인방송, 인터넷방송, BJ방송\n",
      "뽕티비 - 개인방송, 인터넷방송, BJ방송\n",
      "뽕티비 - 개인방송, 인터넷방송, BJ방송\n",
      "BL 女性向け恋愛ゲーム◆俺プリクロス\n",
      "BL 女性向け恋愛ゲーム◆俺プリクロス\n",
      "BL 女性向け恋愛ゲーム◆俺プリクロス\n",
      "BL 女性向け恋愛ゲーム◆俺プリクロス\n",
      "BL 女性向け恋愛ゲーム◆俺プリクロス\n",
      "BL 女性向け恋愛ゲーム◆俺プリクロス\n",
      "BL 女性向け恋愛ゲーム◆俺プリクロス\n",
      "BL 女性向け恋愛ゲーム◆俺プリクロス\n",
      "BL 女性向け恋愛ゲーム◆俺プリクロス\n",
      "BL 女性向け恋愛ゲーム◆俺プリクロス\n",
      "BL 女性向け恋愛ゲーム◆俺プリクロス\n",
      "BL 女性向け恋愛ゲーム◆俺プリクロス\n",
      "BL 女性向け恋愛ゲーム◆俺プリクロス\n",
      "BL 女性向け恋愛ゲーム◆俺プリクロス\n",
      "BL 女性向け恋愛ゲーム◆俺プリクロス\n",
      "SecondSecret ‐「恋を読む」BLノベルゲーム‐\n",
      "SecondSecret ‐「恋を読む」BLノベルゲーム‐\n",
      "SecondSecret ‐「恋を読む」BLノベルゲーム‐\n",
      "SecondSecret ‐「恋を読む」BLノベルゲーム‐\n",
      "SecondSecret ‐「恋を読む」BLノベルゲーム‐\n",
      "SecondSecret ‐「恋を読む」BLノベルゲーム‐\n",
      "SecondSecret ‐「恋を読む」BLノベルゲーム‐\n",
      "SecondSecret ‐「恋を読む」BLノベルゲーム‐\n",
      "SecondSecret ‐「恋を読む」BLノベルゲーム‐\n",
      "SecondSecret ‐「恋を読む」BLノベルゲーム‐\n",
      "SecondSecret ‐「恋を読む」BLノベルゲーム‐\n",
      "SecondSecret ‐「恋を読む」BLノベルゲーム‐\n",
      "SecondSecret ‐「恋を読む」BLノベルゲーム‐\n",
      "BL 女性向け恋愛ゲーム◆ごくメン\n",
      "BL 女性向け恋愛ゲーム◆ごくメン\n",
      "BL 女性向け恋愛ゲーム◆ごくメン\n",
      "BL 女性向け恋愛ゲーム◆ごくメン\n",
      "BL 女性向け恋愛ゲーム◆ごくメン\n",
      "BL 女性向け恋愛ゲーム◆ごくメン\n",
      "BL 女性向け恋愛ゲーム◆ごくメン\n",
      "BL 女性向け恋愛ゲーム◆ごくメン\n",
      "BL 女性向け恋愛ゲーム◆ごくメン\n",
      "BL 女性向け恋愛ゲーム◆ごくメン\n",
      "BL 女性向け恋愛ゲーム◆ごくメン\n",
      "BL 女性向け恋愛ゲーム◆ごくメン\n",
      "BL 女性向け恋愛ゲーム◆ごくメン\n",
      "あなカレ【BL】無料ゲーム\n",
      "あなカレ【BL】無料ゲーム\n",
      "あなカレ【BL】無料ゲーム\n",
      "あなカレ【BL】無料ゲーム\n",
      "あなカレ【BL】無料ゲーム\n",
      "あなカレ【BL】無料ゲーム\n",
      "あなカレ【BL】無料ゲーム\n",
      "あなカレ【BL】無料ゲーム\n",
      "あなカレ【BL】無料ゲーム\n",
      "あなカレ【BL】無料ゲーム\n",
      "감성학원 BL 첫사랑\n",
      "감성학원 BL 첫사랑\n",
      "감성학원 BL 첫사랑\n",
      "감성학원 BL 첫사랑\n",
      "감성학원 BL 첫사랑\n",
      "감성학원 BL 첫사랑\n",
      "BM Tahmin: Ücretsiz İddaa Tahminleri\n",
      "Casual Sic Bo (骰寶)\n",
      "BQ-መጽሐፍ ቅዱሳዊ ጥያቄዎች\n",
      "BQ-መጽሐፍ ቅዱሳዊ ጥያቄዎች\n",
      "BQ-መጽሐፍ ቅዱሳዊ ጥያቄዎች\n",
      "BQ-መጽሐፍ ቅዱሳዊ ጥያቄዎች\n",
      "BQ-መጽሐፍ ቅዱሳዊ ጥያቄዎች\n",
      "BQ-መጽሐፍ ቅዱሳዊ ጥያቄዎች\n",
      "BQ-መጽሐፍ ቅዱሳዊ ጥያቄዎች\n",
      "BQ-መጽሐፍ ቅዱሳዊ ጥያቄዎች\n",
      "BQ-መጽሐፍ ቅዱሳዊ ጥያቄዎች\n",
      "BQ-መጽሐፍ ቅዱሳዊ ጥያቄዎች\n",
      "BQ-መጽሐፍ ቅዱሳዊ ጥያቄዎች\n",
      "BQ-መጽሐፍ ቅዱሳዊ ጥያቄዎች\n",
      "BS Calendar / Patro / पात्रो\n",
      "BS Calendar / Patro / पात्रो\n",
      "BS Calendar / Patro / पात्रो\n",
      "BS Calendar / Patro / पात्रो\n",
      "BS Calendar / Patro / पात्रो\n",
      "Strætó.is\n",
      "Vip视频免费看-BT磁力搜索\n",
      "Vip视频免费看-BT磁力搜索\n",
      "Vip视频免费看-BT磁力搜索\n",
      "Vip视频免费看-BT磁力搜索\n",
      "Vip视频免费看-BT磁力搜索\n",
      "Vip视频免费看-BT磁力搜索\n",
      "Vip视频免费看-BT磁力搜索\n",
      "Vip视频免费看-BT磁力搜索\n",
      "Bu Hangi Ünlü?\n",
      "BU HANGİ ŞARKI ? - 2018\n",
      "Bacterial Vaginosis 🇺🇸\n",
      "C3-C4-PİCASSO-ELYSEE RACİNG\n",
      "Rized ‼️ Color By Number & Pixel Coloring Book\n",
      "Restaurantführer Südbaden\n",
      "BZ Straußenführer\n",
      "Билеты ПДД CD 2019 PRO\n",
      "Билеты ПДД CD 2019 PRO\n",
      "Билеты ПДД CD 2019 PRO\n",
      "Билеты ПДД CD 2019 PRO\n",
      "Билеты ПДД CD 2019 PRO\n",
      "Билеты ПДД CD 2019 PRO\n",
      "Билеты ПДД CD 2019 PRO\n",
      "Билеты ПДД CD 2019 PRO\n",
      "РееI Smart Remote MP3 CD Player\n",
      "РееI Smart Remote MP3 CD Player\n",
      "Offline Jízdní řády CG Transit\n",
      "Offline Jízdní řády CG Transit\n",
      "Offline Jízdní řády CG Transit\n",
      "Chat Anónimo Gratis Español CG\n",
      "Bonjour 2017 Abidjan CI ❤❤❤❤❤\n",
      "Bonjour 2017 Abidjan CI ❤❤❤❤❤\n",
      "Bonjour 2017 Abidjan CI ❤❤❤❤❤\n",
      "Bonjour 2017 Abidjan CI ❤❤❤❤❤\n",
      "CK 初一 十五\n",
      "CK 初一 十五\n",
      "CK 初一 十五\n",
      "📏 Smart Ruler ↔️ cm/inch measuring for homework!\n",
      "📏 Smart Ruler ↔️ cm/inch measuring for homework!\n",
      "Chinese Chess 3D Online (Xiangqi, 象棋, co tuong)\n",
      "IV Go（get IV for Pokemon）\n",
      "الفاتحون Conquerors\n",
      "الفاتحون Conquerors\n",
      "الفاتحون Conquerors\n",
      "الفاتحون Conquerors\n",
      "الفاتحون Conquerors\n",
      "الفاتحون Conquerors\n",
      "الفاتحون Conquerors\n",
      "Combat Strike CS 🔫 Counter Terrorist Attack FPS💣\n",
      "Šmelina .cz inzeráty inzerce\n",
      "Hlášenírozhlasu.cz\n",
      "Hlášenírozhlasu.cz\n",
      "Modlitební knížka CZ\n",
      "Modlitební knížka CZ\n",
      "Anime Love Story Games: ✨Shadowtime✨\n",
      "DF 司機\n",
      "Técnico Legislativo Câmara Legislativa DF\n",
      "DG ग्राम / Digital Gram Panchayat\n",
      "DG ग्राम / Digital Gram Panchayat\n",
      "DG ग्राम / Digital Gram Panchayat\n",
      "DG ग्राम / Digital Gram Panchayat\n",
      "Lep's World 3 🍀🍀🍀\n",
      "Lep's World 3 🍀🍀🍀\n",
      "DM הפקות\n",
      "DM הפקות\n",
      "DM הפקות\n",
      "DM הפקות\n",
      "DN - Diário de Notícias\n",
      "Wendy’s – Food and Offers\n",
      "Dr. Cares - Amy's Pet Clinic 🐈 🐕\n",
      "\"i DT\" Fútbol. Todos Somos Técnicos.\n",
      "DU Privacy-hide apps、sms、file\n",
      "DU Emoji Keyboard（Simeji）\n",
      "DW فارسی By dw-arab.com\n",
      "DW فارسی By dw-arab.com\n",
      "DW فارسی By dw-arab.com\n",
      "DW فارسی By dw-arab.com\n",
      "Météo Algérie DZ\n",
      "Météo Algérie DZ\n",
      "لعبة تقدر تربح DZ\n",
      "لعبة تقدر تربح DZ\n",
      "لعبة تقدر تربح DZ\n",
      "لعبة تقدر تربح DZ\n",
      "لعبة تقدر تربح DZ\n",
      "لعبة تقدر تربح DZ\n",
      "لعبة تقدر تربح DZ\n",
      "لعبة تقدر تربح DZ\n",
      "لعبة تقدر تربح DZ\n",
      "لعبة تقدر تربح DZ\n",
      "لعبة تقدر تربح DZ\n",
      "ChangeDA - Cours du DZD sur le marché parallèle\n",
      "Mirror’s Edge™ Companion\n",
      "বাংলাflix\n",
      "বাংলাflix\n",
      "বাংলাflix\n",
      "বাংলাflix\n",
      "RPG ブレイジング ソウルズ アクセレイト\n",
      "RPG ブレイジング ソウルズ アクセレイト\n",
      "RPG ブレイジング ソウルズ アクセレイト\n",
      "RPG ブレイジング ソウルズ アクセレイト\n",
      "RPG ブレイジング ソウルズ アクセレイト\n",
      "RPG ブレイジング ソウルズ アクセレイト\n",
      "RPG ブレイジング ソウルズ アクセレイト\n",
      "RPG ブレイジング ソウルズ アクセレイト\n",
      "RPG ブレイジング ソウルズ アクセレイト\n",
      "RPG ブレイジング ソウルズ アクセレイト\n",
      "RPG ブレイジング ソウルズ アクセレイト\n",
      "RPG ブレイジング ソウルズ アクセレイト\n",
      "RPG ブレイジング ソウルズ アクセレイト\n",
      "RPG ブレイジング ソウルズ アクセレイト\n",
      "RPG ブレイジング ソウルズ アクセレイト\n",
      "Punjab Online - Land Records • EB Bill Pay • RC/DL\n",
      "英漢字典 EC Dictionary\n",
      "英漢字典 EC Dictionary\n",
      "英漢字典 EC Dictionary\n",
      "ECナビ×シュフー\n",
      "ECナビ×シュフー\n",
      "ECナビ×シュフー\n",
      "ECナビ×シュフー\n",
      "ECナビ×シュフー\n",
      "ECナビ×シュフー\n",
      "أحداث وحقائق | خبر عاجل في اخبار العالم\n",
      "أحداث وحقائق | خبر عاجل في اخبار العالم\n",
      "أحداث وحقائق | خبر عاجل في اخبار العالم\n",
      "أحداث وحقائق | خبر عاجل في اخبار العالم\n",
      "أحداث وحقائق | خبر عاجل في اخبار العالم\n",
      "أحداث وحقائق | خبر عاجل في اخبار العالم\n",
      "أحداث وحقائق | خبر عاجل في اخبار العالم\n",
      "أحداث وحقائق | خبر عاجل في اخبار العالم\n",
      "أحداث وحقائق | خبر عاجل في اخبار العالم\n",
      "أحداث وحقائق | خبر عاجل في اخبار العالم\n",
      "أحداث وحقائق | خبر عاجل في اخبار العالم\n",
      "أحداث وحقائق | خبر عاجل في اخبار العالم\n",
      "أحداث وحقائق | خبر عاجل في اخبار العالم\n",
      "أحداث وحقائق | خبر عاجل في اخبار العالم\n",
      "أحداث وحقائق | خبر عاجل في اخبار العالم\n",
      "أحداث وحقائق | خبر عاجل في اخبار العالم\n",
      "أحداث وحقائق | خبر عاجل في اخبار العالم\n",
      "أحداث وحقائق | خبر عاجل في اخبار العالم\n",
      "أحداث وحقائق | خبر عاجل في اخبار العالم\n",
      "أحداث وحقائق | خبر عاجل في اخبار العالم\n",
      "أحداث وحقائق | خبر عاجل في اخبار العالم\n",
      "أحداث وحقائق | خبر عاجل في اخبار العالم\n",
      "أحداث وحقائق | خبر عاجل في اخبار العالم\n",
      "أحداث وحقائق | خبر عاجل في اخبار العالم\n",
      "أحداث وحقائق | خبر عاجل في اخبار العالم\n",
      "أحداث وحقائق | خبر عاجل في اخبار العالم\n",
      "أحداث وحقائق | خبر عاجل في اخبار العالم\n",
      "أحداث وحقائق | خبر عاجل في اخبار العالم\n",
      "أحداث وحقائق | خبر عاجل في اخبار العالم\n",
      "أحداث وحقائق | خبر عاجل في اخبار العالم\n",
      "EG SIM CARD (EGSIMCARD, 이지심카드)\n",
      "EG SIM CARD (EGSIMCARD, 이지심카드)\n",
      "EG SIM CARD (EGSIMCARD, 이지심카드)\n",
      "EG SIM CARD (EGSIMCARD, 이지심카드)\n",
      "EI国际\n",
      "パーリーゲイツ公式通販｜EJ STYLE（イージェイスタイル）\n",
      "パーリーゲイツ公式通販｜EJ STYLE（イージェイスタイル）\n",
      "パーリーゲイツ公式通販｜EJ STYLE（イージェイスタイル）\n",
      "パーリーゲイツ公式通販｜EJ STYLE（イージェイスタイル）\n",
      "パーリーゲイツ公式通販｜EJ STYLE（イージェイスタイル）\n",
      "パーリーゲイツ公式通販｜EJ STYLE（イージェイスタイル）\n",
      "パーリーゲイツ公式通販｜EJ STYLE（イージェイスタイル）\n",
      "パーリーゲイツ公式通販｜EJ STYLE（イージェイスタイル）\n",
      "パーリーゲイツ公式通販｜EJ STYLE（イージェイスタイル）\n",
      "パーリーゲイツ公式通販｜EJ STYLE（イージェイスタイル）\n",
      "パーリーゲイツ公式通販｜EJ STYLE（イージェイスタイル）\n",
      "パーリーゲイツ公式通販｜EJ STYLE（イージェイスタイル）\n",
      "パーリーゲイツ公式通販｜EJ STYLE（イージェイスタイル）\n",
      "パーリーゲイツ公式通販｜EJ STYLE（イージェイスタイル）\n",
      "パーリーゲイツ公式通販｜EJ STYLE（イージェイスタイル）\n",
      "パーリーゲイツ公式通販｜EJ STYLE（イージェイスタイル）\n",
      "パーリーゲイツ公式通販｜EJ STYLE（イージェイスタイル）\n",
      "パーリーゲイツ公式通販｜EJ STYLE（イージェイスタイル）\n",
      "パーリーゲイツ公式通販｜EJ STYLE（イージェイスタイル）\n",
      "パーリーゲイツ公式通販｜EJ STYLE（イージェイスタイル）\n",
      "パーリーゲイツ公式通販｜EJ STYLE（イージェイスタイル）\n",
      "パーリーゲイツ公式通販｜EJ STYLE（イージェイスタイル）\n",
      "Boyaa Poker (En) – Social Texas Hold’em\n",
      "FAHREDDİN er-RÂZİ TEFSİRİ\n",
      "FAHREDDİN er-RÂZİ TEFSİRİ\n",
      "FAHREDDİN er-RÂZİ TEFSİRİ\n",
      "FAHREDDİN er-RÂZİ TEFSİRİ\n",
      "Égalité et Réconciliation\n",
      "Égalité et Réconciliation\n",
      "I'm Rich/Eu sou Rico/أنا غني/我很有錢\n",
      "I'm Rich/Eu sou Rico/أنا غني/我很有錢\n",
      "I'm Rich/Eu sou Rico/أنا غني/我很有錢\n",
      "I'm Rich/Eu sou Rico/أنا غني/我很有錢\n",
      "I'm Rich/Eu sou Rico/أنا غني/我很有錢\n",
      "I'm Rich/Eu sou Rico/أنا غني/我很有錢\n",
      "I'm Rich/Eu sou Rico/أنا غني/我很有錢\n",
      "I'm Rich/Eu sou Rico/أنا غني/我很有錢\n",
      "I'm Rich/Eu sou Rico/أنا غني/我很有錢\n",
      "Mas Akıllı Ev\n",
      "AÖF Ev İdaresi 1. Sınıf\n",
      "AÖF Ev İdaresi 1. Sınıf\n",
      "AÖF Ev İdaresi 1. Sınıf\n",
      "Ey Sey Storytime រឿងនិទានតាឥសី\n",
      "Ey Sey Storytime រឿងនិទានតាឥសី\n",
      "Ey Sey Storytime រឿងនិទានតាឥសី\n",
      "Ey Sey Storytime រឿងនិទានតាឥសី\n",
      "Ey Sey Storytime រឿងនិទានតាឥសី\n",
      "Ey Sey Storytime រឿងនិទានតាឥសី\n",
      "Ey Sey Storytime រឿងនិទានតាឥសី\n",
      "Ey Sey Storytime រឿងនិទានតាឥសី\n",
      "Ey Sey Storytime រឿងនិទានតាឥសី\n",
      "Ey Sey Storytime រឿងនិទានតាឥសី\n",
      "Ey Sey Storytime រឿងនិទានតាឥសី\n",
      "Ey Sey Storytime រឿងនិទានតាឥសី\n",
      "哈哈姆特不EY\n",
      "哈哈姆特不EY\n",
      "哈哈姆特不EY\n",
      "哈哈姆特不EY\n",
      "CNY Slots : Gong Xi Fa Cai 发财机\n",
      "CNY Slots : Gong Xi Fa Cai 发财机\n",
      "Heart of Vegas™ Slots – Free Slot Casino Games\n",
      "Who viewed my fb profile pro★★\n",
      "My AEK - Official ΑΕΚ FC app\n",
      "My AEK - Official ΑΕΚ FC app\n",
      "Curso Básico y Avanzado la Fe de Jesús Audio-Texto\n",
      "FH® Cost Lookup / FH® CCSalud\n",
      "FK Sūduva Marijampolė\n",
      "FK Željezničar\n",
      "FK Željezničar Izzy\n",
      "FK Čukarički\n",
      "FK Železiarne Podbrezová\n",
      "FK Viktoria Žižkov\n",
      "Sona - Nær við allastaðni\n",
      "Sona - Nær við allastaðni\n",
      "Fisher-Price® Smart Connect™\n",
      "FP Разбитый дисплей\n",
      "FP Разбитый дисплей\n",
      "FP Разбитый дисплей\n",
      "FP Разбитый дисплей\n",
      "FP Разбитый дисплей\n",
      "FP Разбитый дисплей\n",
      "FP Разбитый дисплей\n",
      "FP Разбитый дисплей\n",
      "FP Разбитый дисплей\n",
      "FP Разбитый дисплей\n",
      "FP Разбитый дисплей\n",
      "FP Разбитый дисплей\n",
      "FP Разбитый дисплей\n",
      "FP Разбитый дисплей\n"
     ]
    }
   ],
   "source": [
    "for app in googleData:\n",
    "    name = app[0]\n",
    "    nameSplit = [x for x in name]\n",
    "    count = 0\n",
    "    \n",
    "    for char in nameSplit:\n",
    "        c_ord = ord(char)\n",
    "        if(c_ord not in range(0,128)):\n",
    "            count+=1\n",
    "            if(count>1):\n",
    "                print(name)"
   ]
  },
  {
   "cell_type": "code",
   "execution_count": null,
   "metadata": {
    "collapsed": true
   },
   "outputs": [],
   "source": []
  },
  {
   "cell_type": "code",
   "execution_count": null,
   "metadata": {
    "collapsed": true
   },
   "outputs": [],
   "source": []
  }
 ],
 "metadata": {
  "kernelspec": {
   "display_name": "Python 3",
   "language": "python",
   "name": "python3"
  },
  "language_info": {
   "codemirror_mode": {
    "name": "ipython",
    "version": 3
   },
   "file_extension": ".py",
   "mimetype": "text/x-python",
   "name": "python",
   "nbconvert_exporter": "python",
   "pygments_lexer": "ipython3",
   "version": "3.4.3"
  }
 },
 "nbformat": 4,
 "nbformat_minor": 2
}
