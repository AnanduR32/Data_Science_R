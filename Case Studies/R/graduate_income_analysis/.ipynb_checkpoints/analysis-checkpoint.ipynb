{
 "cells": [
  {
   "cell_type": "markdown",
   "metadata": {},
   "source": [
    "# Graduate income anlysis using regression models\n",
    "Your assignment is to study how income varies across different categories of college majors. You will be using data from a study of recent college graduates. Make sure to use good practices that you have learned so far in this course and previous courses in the specialization."
   ]
  },
  {
   "cell_type": "code",
   "execution_count": null,
   "metadata": {},
   "outputs": [],
   "source": [
    "suppressMessages(\n",
    "    {\n",
    "        if(!require(devtools))\n",
    "            install.packages(\"devtools\")\n",
    "        if(!require(collegeIncome))\n",
    "            devtools::install_github(\"jhudsl/collegeIncome\") # Getting the dataset\n",
    "        if(!require(matahari))\n",
    "            devtools::install_github(\"jhudsl/matahari\") # Installing the matahari R package \n",
    "        # The matahari R package can be used to document a record of analysis (R command history)\n",
    "        library(collegeIncome)\n",
    "        library(matahari)\n",
    "        data(college)\n",
    "    }\n",
    ")"
   ]
  },
  {
   "cell_type": "markdown",
   "metadata": {},
   "source": []
  },
  {
   "cell_type": "code",
   "execution_count": null,
   "metadata": {},
   "outputs": [],
   "source": []
  }
 ],
 "metadata": {
  "kernelspec": {
   "display_name": "R",
   "language": "R",
   "name": "ir"
  },
  "language_info": {
   "codemirror_mode": "r",
   "file_extension": ".r",
   "mimetype": "text/x-r-source",
   "name": "R",
   "pygments_lexer": "r",
   "version": "4.0.2"
  }
 },
 "nbformat": 4,
 "nbformat_minor": 4
}
