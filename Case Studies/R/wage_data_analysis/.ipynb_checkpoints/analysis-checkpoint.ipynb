{
 "cells": [
  {
   "cell_type": "markdown",
   "metadata": {},
   "source": [
    "# Wage data analysis"
   ]
  },
  {
   "cell_type": "markdown",
   "metadata": {},
   "source": [
    "## 1. Loading prerequisites\n",
    "#### 1.1 Libraries"
   ]
  },
  {
   "cell_type": "code",
   "execution_count": 36,
   "metadata": {},
   "outputs": [
    {
     "name": "stderr",
     "output_type": "stream",
     "text": [
      "Loading required package: Hmisc\n",
      "Loading required package: survival\n",
      "\n",
      "Attaching package: 'survival'\n",
      "\n",
      "The following object is masked from 'package:caret':\n",
      "\n",
      "    cluster\n",
      "\n",
      "Loading required package: Formula\n",
      "Error: package or namespace load failed for 'Hmisc' in loadNamespace(j <- i[[1L]], c(lib.loc, .libPaths()), versionCheck = vI[[j]]):\n",
      " there is no package called 'foreign'\n"
     ]
    },
    {
     "name": "stdout",
     "output_type": "stream",
     "text": [
      "package 'Hmisc' successfully unpacked and MD5 sums checked\n",
      "\n",
      "The downloaded binary packages are in\n",
      "\tC:\\Users\\Aquaregis32\\AppData\\Local\\Temp\\RtmpuWnY3A\\downloaded_packages\n"
     ]
    }
   ],
   "source": [
    "suppressWarnings(\n",
    "    {\n",
    "        if(!require(ISLR)){\n",
    "            install.packages(\"ISLR\")\n",
    "        }\n",
    "        if(!require(GGally)){\n",
    "            install.packages(\"GGally\")\n",
    "        }\n",
    "        if(!require(dplyr)){\n",
    "            install.packages(\"dplyr\")\n",
    "        }\n",
    "        if(!require(ggplot2)){\n",
    "            install.packages(\"ggplot2\")\n",
    "        }\n",
    "        if(!require(caret)){\n",
    "            install.packages(\"caret\")\n",
    "        }\n",
    "        if(!require(Hmisc)){\n",
    "            install.packages(\"Hmisc\")\n",
    "        }\n",
    "        library(ISLR)\n",
    "        library(dplyr)\n",
    "        library(ggplot2)\n",
    "        library(caret)\n",
    "    }\n",
    ")\n",
    "options(repr.plot.width=6, repr.plot.height=4)"
   ]
  },
  {
   "cell_type": "markdown",
   "metadata": {},
   "source": [
    "#### 1.2 Data"
   ]
  },
  {
   "cell_type": "code",
   "execution_count": 37,
   "metadata": {},
   "outputs": [
    {
     "data": {
      "text/plain": [
       "      year           age                     maritl           race     \n",
       " Min.   :2003   Min.   :18.00   1. Never Married: 648   1. White:2480  \n",
       " 1st Qu.:2004   1st Qu.:33.75   2. Married      :2074   2. Black: 293  \n",
       " Median :2006   Median :42.00   3. Widowed      :  19   3. Asian: 190  \n",
       " Mean   :2006   Mean   :42.41   4. Divorced     : 204   4. Other:  37  \n",
       " 3rd Qu.:2008   3rd Qu.:51.00   5. Separated    :  55                  \n",
       " Max.   :2009   Max.   :80.00                                          \n",
       "                                                                       \n",
       "              education                     region               jobclass   \n",
       " 1. < HS Grad      :268   2. Middle Atlantic   :3000   1. Industrial :1544  \n",
       " 2. HS Grad        :971   1. New England       :   0   2. Information:1456  \n",
       " 3. Some College   :650   3. East North Central:   0                        \n",
       " 4. College Grad   :685   4. West North Central:   0                        \n",
       " 5. Advanced Degree:426   5. South Atlantic    :   0                        \n",
       "                          6. East South Central:   0                        \n",
       "                          (Other)              :   0                        \n",
       "            health      health_ins      logwage           wage       \n",
       " 1. <=Good     : 858   1. Yes:2083   Min.   :3.000   Min.   : 20.09  \n",
       " 2. >=Very Good:2142   2. No : 917   1st Qu.:4.447   1st Qu.: 85.38  \n",
       "                                     Median :4.653   Median :104.92  \n",
       "                                     Mean   :4.654   Mean   :111.70  \n",
       "                                     3rd Qu.:4.857   3rd Qu.:128.68  \n",
       "                                     Max.   :5.763   Max.   :318.34  \n",
       "                                                                     "
      ]
     },
     "metadata": {},
     "output_type": "display_data"
    }
   ],
   "source": [
    "data(Wage)\n",
    "summary(Wage)"
   ]
  },
  {
   "cell_type": "markdown",
   "metadata": {},
   "source": [
    "## 2. Modelling\n",
    "#### 2.1 Data splicing"
   ]
  },
  {
   "cell_type": "code",
   "execution_count": 38,
   "metadata": {},
   "outputs": [
    {
     "data": {
      "text/html": [
       "<ol class=list-inline>\n",
       "\t<li>2251</li>\n",
       "\t<li>11</li>\n",
       "</ol>\n"
      ],
      "text/latex": [
       "\\begin{enumerate*}\n",
       "\\item 2251\n",
       "\\item 11\n",
       "\\end{enumerate*}\n"
      ],
      "text/markdown": [
       "1. 2251\n",
       "2. 11\n",
       "\n",
       "\n"
      ],
      "text/plain": [
       "[1] 2251   11"
      ]
     },
     "metadata": {},
     "output_type": "display_data"
    },
    {
     "data": {
      "text/html": [
       "<ol class=list-inline>\n",
       "\t<li>749</li>\n",
       "\t<li>11</li>\n",
       "</ol>\n"
      ],
      "text/latex": [
       "\\begin{enumerate*}\n",
       "\\item 749\n",
       "\\item 11\n",
       "\\end{enumerate*}\n"
      ],
      "text/markdown": [
       "1. 749\n",
       "2. 11\n",
       "\n",
       "\n"
      ],
      "text/plain": [
       "[1] 749  11"
      ]
     },
     "metadata": {},
     "output_type": "display_data"
    }
   ],
   "source": [
    "inTrain = createDataPartition(y = Wage$wage, p = 0.75, list = F)\n",
    "train = Wage[inTrain,]\n",
    "test = Wage[-inTrain,]\n",
    "dim(train); dim(test)"
   ]
  },
  {
   "cell_type": "code",
   "execution_count": 39,
   "metadata": {},
   "outputs": [
    {
     "data": {
      "text/html": [
       "<ol class=list-inline>\n",
       "\t<li>'year'</li>\n",
       "\t<li>'age'</li>\n",
       "\t<li>'maritl'</li>\n",
       "\t<li>'race'</li>\n",
       "\t<li>'education'</li>\n",
       "\t<li>'region'</li>\n",
       "\t<li>'jobclass'</li>\n",
       "\t<li>'health'</li>\n",
       "\t<li>'health_ins'</li>\n",
       "\t<li>'logwage'</li>\n",
       "\t<li>'wage'</li>\n",
       "</ol>\n"
      ],
      "text/latex": [
       "\\begin{enumerate*}\n",
       "\\item 'year'\n",
       "\\item 'age'\n",
       "\\item 'maritl'\n",
       "\\item 'race'\n",
       "\\item 'education'\n",
       "\\item 'region'\n",
       "\\item 'jobclass'\n",
       "\\item 'health'\n",
       "\\item 'health\\_ins'\n",
       "\\item 'logwage'\n",
       "\\item 'wage'\n",
       "\\end{enumerate*}\n"
      ],
      "text/markdown": [
       "1. 'year'\n",
       "2. 'age'\n",
       "3. 'maritl'\n",
       "4. 'race'\n",
       "5. 'education'\n",
       "6. 'region'\n",
       "7. 'jobclass'\n",
       "8. 'health'\n",
       "9. 'health_ins'\n",
       "10. 'logwage'\n",
       "11. 'wage'\n",
       "\n",
       "\n"
      ],
      "text/plain": [
       " [1] \"year\"       \"age\"        \"maritl\"     \"race\"       \"education\" \n",
       " [6] \"region\"     \"jobclass\"   \"health\"     \"health_ins\" \"logwage\"   \n",
       "[11] \"wage\"      "
      ]
     },
     "metadata": {},
     "output_type": "display_data"
    }
   ],
   "source": [
    "names(train)"
   ]
  },
  {
   "cell_type": "markdown",
   "metadata": {},
   "source": [
    "#### 2.2 Feature plot"
   ]
  },
  {
   "cell_type": "code",
   "execution_count": 40,
   "metadata": {},
   "outputs": [
    {
     "data": {
      "image/png": "[encoded data removed]",
      "text/plain": [
       "plot without title"
      ]
     },
     "metadata": {},
     "output_type": "display_data"
    }
   ],
   "source": [
    "featurePlot(x = train[,c(\"age\",\"education\",\"jobclass\")], y = train$wage, plot = \"pairs\")"
   ]
  },
  {
   "cell_type": "markdown",
   "metadata": {},
   "source": [
    "#### 2.3 Wage analysis\n",
    "##### 2.3.1 Jitter analysis"
   ]
  },
  {
   "cell_type": "code",
   "execution_count": 41,
   "metadata": {},
   "outputs": [],
   "source": [
    "g = ggplot(data = train) "
   ]
  },
  {
   "cell_type": "markdown",
   "metadata": {},
   "source": [
    "##### 2.3.2 jobClass "
   ]
  },
  {
   "cell_type": "code",
   "execution_count": 42,
   "metadata": {},
   "outputs": [
    {
     "data": {
      "image/png": "[encoded data removed]",
      "text/plain": [
       "plot without title"
      ]
     },
     "metadata": {},
     "output_type": "display_data"
    }
   ],
   "source": [
    "g + geom_point(aes(x = age, y = wage, fill = jobclass))"
   ]
  },
  {
   "cell_type": "markdown",
   "metadata": {},
   "source": [
    "##### 2.3.3 eduction"
   ]
  },
  {
   "cell_type": "code",
   "execution_count": 43,
   "metadata": {},
   "outputs": [
    {
     "name": "stderr",
     "output_type": "stream",
     "text": [
      "ERROR while rich displaying an object: Error: stat_smooth requires the following missing aesthetics: x and y\n",
      "\n",
      "Traceback:\n",
      "1. FUN(X[[i]], ...)\n",
      "2. tryCatch(withCallingHandlers({\n",
      " .     if (!mime %in% names(repr::mime2repr)) \n",
      " .         stop(\"No repr_* for mimetype \", mime, \" in repr::mime2repr\")\n",
      " .     rpr <- repr::mime2repr[[mime]](obj)\n",
      " .     if (is.null(rpr)) \n",
      " .         return(NULL)\n",
      " .     prepare_content(is.raw(rpr), rpr)\n",
      " . }, error = error_handler), error = outer_handler)\n",
      "3. tryCatchList(expr, classes, parentenv, handlers)\n",
      "4. tryCatchOne(expr, names, parentenv, handlers[[1L]])\n",
      "5. doTryCatch(return(expr), name, parentenv, handler)\n",
      "6. withCallingHandlers({\n",
      " .     if (!mime %in% names(repr::mime2repr)) \n",
      " .         stop(\"No repr_* for mimetype \", mime, \" in repr::mime2repr\")\n",
      " .     rpr <- repr::mime2repr[[mime]](obj)\n",
      " .     if (is.null(rpr)) \n",
      " .         return(NULL)\n",
      " .     prepare_content(is.raw(rpr), rpr)\n",
      " . }, error = error_handler)\n",
      "7. repr::mime2repr[[mime]](obj)\n",
      "8. repr_text.default(obj)\n",
      "9. paste(capture.output(print(obj)), collapse = \"\\n\")\n",
      "10. capture.output(print(obj))\n",
      "11. evalVis(expr)\n",
      "12. withVisible(eval(expr, pf))\n",
      "13. eval(expr, pf)\n",
      "14. eval(expr, pf)\n",
      "15. print(obj)\n",
      "16. print.ggplot(obj)\n",
      "17. ggplot_build(x)\n",
      "18. ggplot_build.ggplot(x)\n",
      "19. by_layer(function(l, d) l$compute_statistic(d, layout))\n",
      "20. f(l = layers[[i]], d = data[[i]])\n",
      "21. l$compute_statistic(d, layout)\n",
      "22. f(..., self = self)\n",
      "23. self$stat$compute_layer(data, params, layout)\n",
      "24. f(..., self = self)\n",
      "25. check_required_aesthetics(self$required_aes, c(names(data), names(params)), \n",
      "  .     snake_class(self))\n",
      "26. abort(glue(\"{name} requires the following missing aesthetics: \", \n",
      "  .     glue_collapse(lapply(missing_aes, glue_collapse, sep = \", \", \n",
      "  .         last = \" and \"), sep = \" or \")))\n",
      "27. signal_abort(cnd)\n"
     ]
    },
    {
     "data": {
      "image/png": "[encoded data removed]",
      "text/plain": [
       "plot without title"
      ]
     },
     "metadata": {},
     "output_type": "display_data"
    }
   ],
   "source": [
    "g + geom_point(aes(x = age, y = wage, fill = education)) + geom_smooth(formula = y~x, method = \"lm\")"
   ]
  },
  {
   "cell_type": "markdown",
   "metadata": {},
   "source": [
    "##### 2.3.4 binning wage\n",
    "Creating discrete factors from the wage parameter for analysis"
   ]
  },
  {
   "cell_type": "code",
   "execution_count": 44,
   "metadata": {},
   "outputs": [
    {
     "ename": "ERROR",
     "evalue": "Error in cut2(train$wage, g = 3): could not find function \"cut2\"\n",
     "output_type": "error",
     "traceback": [
      "Error in cut2(train$wage, g = 3): could not find function \"cut2\"\nTraceback:\n"
     ]
    }
   ],
   "source": [
    "cutWage = cut2(train$wage, g = 3)\n",
    "table(cutWage)"
   ]
  },
  {
   "cell_type": "code",
   "execution_count": 45,
   "metadata": {},
   "outputs": [
    {
     "ename": "ERROR",
     "evalue": "Error in grid.arrange(p1, p2, ncol = 2): could not find function \"grid.arrange\"\n",
     "output_type": "error",
     "traceback": [
      "Error in grid.arrange(p1, p2, ncol = 2): could not find function \"grid.arrange\"\nTraceback:\n"
     ]
    }
   ],
   "source": [
    "p1 = g + geom_boxplot(aes(x = cutWage, y = age, fill = cutWage))\n",
    "p2 = g + geom_boxplot(aes(x = cutWage, y = age, fill = cutWage)) + geom_jitter(aes(x = cutWage, y = age, fill = cutWage))\n",
    "grid.arrange(p1, p2, ncol = 2)"
   ]
  },
  {
   "cell_type": "code",
   "execution_count": null,
   "metadata": {},
   "outputs": [],
   "source": [
    "table(cutWage, train$jobClass)"
   ]
  },
  {
   "cell_type": "markdown",
   "metadata": {},
   "source": [
    "##### 2.3.5 jobClass wage density plot"
   ]
  },
  {
   "cell_type": "code",
   "execution_count": null,
   "metadata": {},
   "outputs": [],
   "source": [
    "g + geom_density(aes(x = wage, fill = eduction))"
   ]
  },
  {
   "cell_type": "code",
   "execution_count": null,
   "metadata": {},
   "outputs": [],
   "source": []
  }
 ],
 "metadata": {
  "kernelspec": {
   "display_name": "R",
   "language": "R",
   "name": "ir"
  }
 },
 "nbformat": 4,
 "nbformat_minor": 4
}
