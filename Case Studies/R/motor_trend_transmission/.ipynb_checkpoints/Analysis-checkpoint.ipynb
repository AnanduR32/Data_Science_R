{
 "cells": [
  {
   "cell_type": "markdown",
   "metadata": {},
   "source": [
    "# Motor Trend: Automatic vs manual transmission comparative study\n",
    "You work for Motor Trend, a magazine about the automobile industry. Looking at a\n",
    "data set of a collection of cars, they are interested in exploring the \n",
    "relationship between a set of variables and miles per gallon (MPG) (outcome). \n",
    "They are particularly interested in the following two questions:  \n",
    "- “Is an automatic or manual transmission better for MPG”  \n",
    "- “Quantify the MPG difference between automatic and manual transmissions” \n",
    "\n",
    "Data description\n",
    "\n",
    "<table style=\"float:left;position:; border: 1px solid black;tr:hover {background-color: #f5f5f5;};\">\n",
    "    <thead>\n",
    "        <tr style=\"height: 40px\">\n",
    "            <td><b>Data</b></td>\n",
    "            <td><b>Description</b></td>\n",
    "        </tr>\n",
    "    </thead>\n",
    "    <tbody>\n",
    "        <tr>\n",
    "            <td>mpg</td>\n",
    "            <td style=\"width:300px\">Miles per US gallon  </td>\n",
    "        </tr>\n",
    "        <tr>\n",
    "            <td>cyl</td>\n",
    "            <td>Number of cylinders</td>\n",
    "        </tr>\n",
    "        <tr>\n",
    "            <td>disp</td>\n",
    "            <td>Displacement (cubic inches)</td>\n",
    "        </tr>\n",
    "        <tr>\n",
    "            <td>hp</td>\n",
    "            <td>Gross horsepower</td>\n",
    "        </tr>\n",
    "        <tr>\n",
    "            <td>drat</td>\n",
    "            <td>Rear axle ratio</td>\n",
    "        </tr>\n",
    "        <tr>\n",
    "            <td>wt</td>\n",
    "            <td>Weight (lb / 1000)</td>\n",
    "        </tr>\n",
    "        <tr>\n",
    "            <td>qsec</td>\n",
    "            <td>1 / 4 mile time</td>\n",
    "        </tr>\n",
    "        <tr>\n",
    "            <td>vs</td>\n",
    "            <td>V/S</td>\n",
    "        </tr>\n",
    "        <tr>\n",
    "            <td>am</td>\n",
    "            <td>Transmission (0 = automatic, 1 = manual)</td>\n",
    "        </tr>\n",
    "        <tr>\n",
    "            <td>gear</td>\n",
    "            <td>Number of forward gears</td>\n",
    "        </tr>\n",
    "        <tr>\n",
    "            <td>carb</td>\n",
    "            <td>Number of carburetors</td>\n",
    "        </tr>\n",
    "    </tbody>\n",
    "</table>"
   ]
  },
  {
   "cell_type": "markdown",
   "metadata": {},
   "source": [
    "## 1. Loading prerequisites\n",
    "#### 1.1. Libraries"
   ]
  },
  {
   "cell_type": "code",
   "execution_count": 45,
   "metadata": {},
   "outputs": [],
   "source": [
    "suppressWarnings(\n",
    "    {\n",
    "        if(!require(manipulate)){\n",
    "            install.packages(\"manipulate\")\n",
    "        }\n",
    "        if(!require(GGally)){\n",
    "            install.packages(\"GGally\")\n",
    "        }\n",
    "        if(!require(lmtest)){\n",
    "            install.packages(\"lmtest\")\n",
    "        }\n",
    "        if(!require(dplyr)){\n",
    "            install.packages(\"dplyr\")\n",
    "        }\n",
    "        if(!require(ggplot2)){\n",
    "            install.packages(\"ggplot2\")\n",
    "        }\n",
    "        library(GGally)\n",
    "        library(manipulate)\n",
    "        library(lmtest)\n",
    "        library(dplyr)\n",
    "        library(ggplot2)\n",
    "    }\n",
    ")"
   ]
  },
  {
   "cell_type": "markdown",
   "metadata": {},
   "source": [
    "#### 1.2. data"
   ]
  },
  {
   "cell_type": "code",
   "execution_count": 46,
   "metadata": {},
   "outputs": [
    {
     "data": {
      "text/html": [
       "<table>\n",
       "<thead><tr><th></th><th scope=col>mpg</th><th scope=col>cyl</th><th scope=col>disp</th><th scope=col>hp</th><th scope=col>drat</th><th scope=col>wt</th><th scope=col>qsec</th><th scope=col>vs</th><th scope=col>am</th><th scope=col>gear</th><th scope=col>carb</th></tr></thead>\n",
       "<tbody>\n",
       "\t<tr><th scope=row>Mazda RX4</th><td>21.0 </td><td>6    </td><td>160  </td><td>110  </td><td>3.90 </td><td>2.620</td><td>16.46</td><td>0    </td><td>1    </td><td>4    </td><td>4    </td></tr>\n",
       "\t<tr><th scope=row>Mazda RX4 Wag</th><td>21.0 </td><td>6    </td><td>160  </td><td>110  </td><td>3.90 </td><td>2.875</td><td>17.02</td><td>0    </td><td>1    </td><td>4    </td><td>4    </td></tr>\n",
       "\t<tr><th scope=row>Datsun 710</th><td>22.8 </td><td>4    </td><td>108  </td><td> 93  </td><td>3.85 </td><td>2.320</td><td>18.61</td><td>1    </td><td>1    </td><td>4    </td><td>1    </td></tr>\n",
       "\t<tr><th scope=row>Hornet 4 Drive</th><td>21.4 </td><td>6    </td><td>258  </td><td>110  </td><td>3.08 </td><td>3.215</td><td>19.44</td><td>1    </td><td>0    </td><td>3    </td><td>1    </td></tr>\n",
       "\t<tr><th scope=row>Hornet Sportabout</th><td>18.7 </td><td>8    </td><td>360  </td><td>175  </td><td>3.15 </td><td>3.440</td><td>17.02</td><td>0    </td><td>0    </td><td>3    </td><td>2    </td></tr>\n",
       "\t<tr><th scope=row>Valiant</th><td>18.1 </td><td>6    </td><td>225  </td><td>105  </td><td>2.76 </td><td>3.460</td><td>20.22</td><td>1    </td><td>0    </td><td>3    </td><td>1    </td></tr>\n",
       "</tbody>\n",
       "</table>\n"
      ],
      "text/latex": [
       "\\begin{tabular}{r|lllllllllll}\n",
       "  & mpg & cyl & disp & hp & drat & wt & qsec & vs & am & gear & carb\\\\\n",
       "\\hline\n",
       "\tMazda RX4 & 21.0  & 6     & 160   & 110   & 3.90  & 2.620 & 16.46 & 0     & 1     & 4     & 4    \\\\\n",
       "\tMazda RX4 Wag & 21.0  & 6     & 160   & 110   & 3.90  & 2.875 & 17.02 & 0     & 1     & 4     & 4    \\\\\n",
       "\tDatsun 710 & 22.8  & 4     & 108   &  93   & 3.85  & 2.320 & 18.61 & 1     & 1     & 4     & 1    \\\\\n",
       "\tHornet 4 Drive & 21.4  & 6     & 258   & 110   & 3.08  & 3.215 & 19.44 & 1     & 0     & 3     & 1    \\\\\n",
       "\tHornet Sportabout & 18.7  & 8     & 360   & 175   & 3.15  & 3.440 & 17.02 & 0     & 0     & 3     & 2    \\\\\n",
       "\tValiant & 18.1  & 6     & 225   & 105   & 2.76  & 3.460 & 20.22 & 1     & 0     & 3     & 1    \\\\\n",
       "\\end{tabular}\n"
      ],
      "text/markdown": [
       "\n",
       "| <!--/--> | mpg | cyl | disp | hp | drat | wt | qsec | vs | am | gear | carb |\n",
       "|---|---|---|---|---|---|---|---|---|---|---|---|\n",
       "| Mazda RX4 | 21.0  | 6     | 160   | 110   | 3.90  | 2.620 | 16.46 | 0     | 1     | 4     | 4     |\n",
       "| Mazda RX4 Wag | 21.0  | 6     | 160   | 110   | 3.90  | 2.875 | 17.02 | 0     | 1     | 4     | 4     |\n",
       "| Datsun 710 | 22.8  | 4     | 108   |  93   | 3.85  | 2.320 | 18.61 | 1     | 1     | 4     | 1     |\n",
       "| Hornet 4 Drive | 21.4  | 6     | 258   | 110   | 3.08  | 3.215 | 19.44 | 1     | 0     | 3     | 1     |\n",
       "| Hornet Sportabout | 18.7  | 8     | 360   | 175   | 3.15  | 3.440 | 17.02 | 0     | 0     | 3     | 2     |\n",
       "| Valiant | 18.1  | 6     | 225   | 105   | 2.76  | 3.460 | 20.22 | 1     | 0     | 3     | 1     |\n",
       "\n"
      ],
      "text/plain": [
       "                  mpg  cyl disp hp  drat wt    qsec  vs am gear carb\n",
       "Mazda RX4         21.0 6   160  110 3.90 2.620 16.46 0  1  4    4   \n",
       "Mazda RX4 Wag     21.0 6   160  110 3.90 2.875 17.02 0  1  4    4   \n",
       "Datsun 710        22.8 4   108   93 3.85 2.320 18.61 1  1  4    1   \n",
       "Hornet 4 Drive    21.4 6   258  110 3.08 3.215 19.44 1  0  3    1   \n",
       "Hornet Sportabout 18.7 8   360  175 3.15 3.440 17.02 0  0  3    2   \n",
       "Valiant           18.1 6   225  105 2.76 3.460 20.22 1  0  3    1   "
      ]
     },
     "metadata": {},
     "output_type": "display_data"
    }
   ],
   "source": [
    "data(mtcars)\n",
    "head(mtcars)"
   ]
  },
  {
   "cell_type": "markdown",
   "metadata": {},
   "source": [
    "##  2. Exploratory Analysis "
   ]
  },
  {
   "cell_type": "markdown",
   "metadata": {},
   "source": [
    "**Variables**"
   ]
  },
  {
   "cell_type": "code",
   "execution_count": 47,
   "metadata": {},
   "outputs": [
    {
     "data": {
      "text/html": [
       "<ol class=list-inline>\n",
       "\t<li>'mpg'</li>\n",
       "\t<li>'cyl'</li>\n",
       "\t<li>'disp'</li>\n",
       "\t<li>'hp'</li>\n",
       "\t<li>'drat'</li>\n",
       "\t<li>'wt'</li>\n",
       "\t<li>'qsec'</li>\n",
       "\t<li>'vs'</li>\n",
       "\t<li>'am'</li>\n",
       "\t<li>'gear'</li>\n",
       "\t<li>'carb'</li>\n",
       "</ol>\n"
      ],
      "text/latex": [
       "\\begin{enumerate*}\n",
       "\\item 'mpg'\n",
       "\\item 'cyl'\n",
       "\\item 'disp'\n",
       "\\item 'hp'\n",
       "\\item 'drat'\n",
       "\\item 'wt'\n",
       "\\item 'qsec'\n",
       "\\item 'vs'\n",
       "\\item 'am'\n",
       "\\item 'gear'\n",
       "\\item 'carb'\n",
       "\\end{enumerate*}\n"
      ],
      "text/markdown": [
       "1. 'mpg'\n",
       "2. 'cyl'\n",
       "3. 'disp'\n",
       "4. 'hp'\n",
       "5. 'drat'\n",
       "6. 'wt'\n",
       "7. 'qsec'\n",
       "8. 'vs'\n",
       "9. 'am'\n",
       "10. 'gear'\n",
       "11. 'carb'\n",
       "\n",
       "\n"
      ],
      "text/plain": [
       " [1] \"mpg\"  \"cyl\"  \"disp\" \"hp\"   \"drat\" \"wt\"   \"qsec\" \"vs\"   \"am\"   \"gear\"\n",
       "[11] \"carb\""
      ]
     },
     "metadata": {},
     "output_type": "display_data"
    }
   ],
   "source": [
    "names(mtcars)"
   ]
  },
  {
   "cell_type": "markdown",
   "metadata": {},
   "source": [
    "**Understanding variable types**"
   ]
  },
  {
   "cell_type": "code",
   "execution_count": 48,
   "metadata": {
    "scrolled": false
   },
   "outputs": [
    {
     "data": {
      "text/html": [
       "<dl class=dl-horizontal>\n",
       "\t<dt>mpg</dt>\n",
       "\t\t<dd>'numeric'</dd>\n",
       "\t<dt>cyl</dt>\n",
       "\t\t<dd>'numeric'</dd>\n",
       "\t<dt>disp</dt>\n",
       "\t\t<dd>'numeric'</dd>\n",
       "\t<dt>hp</dt>\n",
       "\t\t<dd>'numeric'</dd>\n",
       "\t<dt>drat</dt>\n",
       "\t\t<dd>'numeric'</dd>\n",
       "\t<dt>wt</dt>\n",
       "\t\t<dd>'numeric'</dd>\n",
       "\t<dt>qsec</dt>\n",
       "\t\t<dd>'numeric'</dd>\n",
       "\t<dt>vs</dt>\n",
       "\t\t<dd>'numeric'</dd>\n",
       "\t<dt>am</dt>\n",
       "\t\t<dd>'numeric'</dd>\n",
       "\t<dt>gear</dt>\n",
       "\t\t<dd>'numeric'</dd>\n",
       "\t<dt>carb</dt>\n",
       "\t\t<dd>'numeric'</dd>\n",
       "</dl>\n"
      ],
      "text/latex": [
       "\\begin{description*}\n",
       "\\item[mpg] 'numeric'\n",
       "\\item[cyl] 'numeric'\n",
       "\\item[disp] 'numeric'\n",
       "\\item[hp] 'numeric'\n",
       "\\item[drat] 'numeric'\n",
       "\\item[wt] 'numeric'\n",
       "\\item[qsec] 'numeric'\n",
       "\\item[vs] 'numeric'\n",
       "\\item[am] 'numeric'\n",
       "\\item[gear] 'numeric'\n",
       "\\item[carb] 'numeric'\n",
       "\\end{description*}\n"
      ],
      "text/markdown": [
       "mpg\n",
       ":   'numeric'cyl\n",
       ":   'numeric'disp\n",
       ":   'numeric'hp\n",
       ":   'numeric'drat\n",
       ":   'numeric'wt\n",
       ":   'numeric'qsec\n",
       ":   'numeric'vs\n",
       ":   'numeric'am\n",
       ":   'numeric'gear\n",
       ":   'numeric'carb\n",
       ":   'numeric'\n",
       "\n"
      ],
      "text/plain": [
       "      mpg       cyl      disp        hp      drat        wt      qsec        vs \n",
       "\"numeric\" \"numeric\" \"numeric\" \"numeric\" \"numeric\" \"numeric\" \"numeric\" \"numeric\" \n",
       "       am      gear      carb \n",
       "\"numeric\" \"numeric\" \"numeric\" "
      ]
     },
     "metadata": {},
     "output_type": "display_data"
    }
   ],
   "source": [
    "apply(mtcars,2,class)"
   ]
  },
  {
   "cell_type": "markdown",
   "metadata": {},
   "source": [
    "**Fixing the types**"
   ]
  },
  {
   "cell_type": "code",
   "execution_count": 49,
   "metadata": {},
   "outputs": [],
   "source": [
    "mtcars$cyl <- factor(mtcars$cyl)\n",
    "mtcars$vs <- factor(mtcars$vs)\n",
    "mtcars$gear <- factor(mtcars$gear)\n",
    "mtcars$carb <- factor(mtcars$carb)\n",
    "mtcars$am <- factor(mtcars$am,labels=c('Automatic','Manual'))"
   ]
  },
  {
   "cell_type": "markdown",
   "metadata": {},
   "source": [
    "**Summarizing each variables**"
   ]
  },
  {
   "cell_type": "code",
   "execution_count": 50,
   "metadata": {
    "scrolled": false
   },
   "outputs": [
    {
     "data": {
      "text/plain": [
       "      mpg        cyl         disp             hp             drat      \n",
       " Min.   :10.40   4:11   Min.   : 71.1   Min.   : 52.0   Min.   :2.760  \n",
       " 1st Qu.:15.43   6: 7   1st Qu.:120.8   1st Qu.: 96.5   1st Qu.:3.080  \n",
       " Median :19.20   8:14   Median :196.3   Median :123.0   Median :3.695  \n",
       " Mean   :20.09          Mean   :230.7   Mean   :146.7   Mean   :3.597  \n",
       " 3rd Qu.:22.80          3rd Qu.:326.0   3rd Qu.:180.0   3rd Qu.:3.920  \n",
       " Max.   :33.90          Max.   :472.0   Max.   :335.0   Max.   :4.930  \n",
       "       wt             qsec       vs             am     gear   carb  \n",
       " Min.   :1.513   Min.   :14.50   0:18   Automatic:19   3:15   1: 7  \n",
       " 1st Qu.:2.581   1st Qu.:16.89   1:14   Manual   :13   4:12   2:10  \n",
       " Median :3.325   Median :17.71                         5: 5   3: 3  \n",
       " Mean   :3.217   Mean   :17.85                                4:10  \n",
       " 3rd Qu.:3.610   3rd Qu.:18.90                                6: 1  \n",
       " Max.   :5.424   Max.   :22.90                                8: 1  "
      ]
     },
     "metadata": {},
     "output_type": "display_data"
    }
   ],
   "source": [
    "summary(mtcars)"
   ]
  },
  {
   "cell_type": "markdown",
   "metadata": {},
   "source": [
    "## 3. Regression modelling \n",
    "Fitting a model with all the variables "
   ]
  },
  {
   "cell_type": "code",
   "execution_count": 51,
   "metadata": {},
   "outputs": [
    {
     "data": {
      "text/plain": [
       "\n",
       "Call:\n",
       "glm(formula = mpg ~ ., family = \"gaussian\", data = mtcars)\n",
       "\n",
       "Deviance Residuals: \n",
       "    Min       1Q   Median       3Q      Max  \n",
       "-3.5087  -1.3584  -0.0948   0.7745   4.6251  \n",
       "\n",
       "Coefficients:\n",
       "            Estimate Std. Error t value Pr(>|t|)  \n",
       "(Intercept) 23.87913   20.06582   1.190   0.2525  \n",
       "cyl6        -2.64870    3.04089  -0.871   0.3975  \n",
       "cyl8        -0.33616    7.15954  -0.047   0.9632  \n",
       "disp         0.03555    0.03190   1.114   0.2827  \n",
       "hp          -0.07051    0.03943  -1.788   0.0939 .\n",
       "drat         1.18283    2.48348   0.476   0.6407  \n",
       "wt          -4.52978    2.53875  -1.784   0.0946 .\n",
       "qsec         0.36784    0.93540   0.393   0.6997  \n",
       "vs1          1.93085    2.87126   0.672   0.5115  \n",
       "amManual     1.21212    3.21355   0.377   0.7113  \n",
       "gear4        1.11435    3.79952   0.293   0.7733  \n",
       "gear5        2.52840    3.73636   0.677   0.5089  \n",
       "carb2       -0.97935    2.31797  -0.423   0.6787  \n",
       "carb3        2.99964    4.29355   0.699   0.4955  \n",
       "carb4        1.09142    4.44962   0.245   0.8096  \n",
       "carb6        4.47757    6.38406   0.701   0.4938  \n",
       "carb8        7.25041    8.36057   0.867   0.3995  \n",
       "---\n",
       "Signif. codes:  0 '***' 0.001 '**' 0.01 '*' 0.05 '.' 0.1 ' ' 1\n",
       "\n",
       "(Dispersion parameter for gaussian family taken to be 8.026845)\n",
       "\n",
       "    Null deviance: 1126.0  on 31  degrees of freedom\n",
       "Residual deviance:  120.4  on 15  degrees of freedom\n",
       "AIC: 169.22\n",
       "\n",
       "Number of Fisher Scoring iterations: 2\n"
      ]
     },
     "metadata": {},
     "output_type": "display_data"
    }
   ],
   "source": [
    "mdl_all = glm(mpg~., family = \"gaussian\", data = mtcars)\n",
    "summary(mdl_all)"
   ]
  },
  {
   "cell_type": "markdown",
   "metadata": {},
   "source": [
    "The above model tells us that the average mpg is **23.88** "
   ]
  },
  {
   "cell_type": "markdown",
   "metadata": {},
   "source": [
    "#### 3.1 Model selection\n",
    "- We would want to select a model that has larger adjusted and predicted R-squared\n",
    "values.\n",
    "- In regression, p-values less than the significance level indicate that the \n",
    "term is statistically significant. We reduce the model by repeatedly removing \n",
    "parameters corresponding to coefficients that do not have significant effect on \n",
    "the model performance.  \n",
    "- Upon arriving at the manually identified \"best\" model, we will compare the \n",
    "model performance against an automated model selection procedure using step \n",
    "regression function. step()  \n",
    "- We evaluate the models using the t.test() function.\n",
    "\n",
    "The wt, carb and disp parameters has least significant effects on the model \n",
    "performance, Hence we remove them to analyse the variation in the p-value of the\n",
    "other variables. If there is large improvements then it'd mean that there is no\n",
    "correlation between them.\n"
   ]
  },
  {
   "cell_type": "code",
   "execution_count": 52,
   "metadata": {},
   "outputs": [
    {
     "data": {
      "text/plain": [
       "\n",
       "Call:\n",
       "glm(formula = mpg ~ . - wt - disp - carb, family = \"gaussian\", \n",
       "    data = mtcars)\n",
       "\n",
       "Deviance Residuals: \n",
       "    Min       1Q   Median       3Q      Max  \n",
       "-4.4134  -1.3937   0.3857   1.6464   5.0131  \n",
       "\n",
       "Coefficients:\n",
       "            Estimate Std. Error t value Pr(>|t|)   \n",
       "(Intercept) 17.75913   17.73868   1.001  0.32764   \n",
       "cyl6        -1.03161    2.35733  -0.438  0.66593   \n",
       "cyl8         3.19942    4.54838   0.703  0.48917   \n",
       "hp          -0.06386    0.01874  -3.408  0.00252 **\n",
       "drat         1.74285    1.99326   0.874  0.39136   \n",
       "qsec         0.05538    0.69880   0.079  0.93755   \n",
       "vs1          3.66895    2.16897   1.692  0.10485   \n",
       "amManual     4.42201    2.16990   2.038  0.05376 . \n",
       "gear4       -1.26917    2.39429  -0.530  0.60136   \n",
       "gear5        2.19140    2.84390   0.771  0.44916   \n",
       "---\n",
       "Signif. codes:  0 '***' 0.001 '**' 0.01 '*' 0.05 '.' 0.1 ' ' 1\n",
       "\n",
       "(Dispersion parameter for gaussian family taken to be 7.39212)\n",
       "\n",
       "    Null deviance: 1126.05  on 31  degrees of freedom\n",
       "Residual deviance:  162.63  on 22  degrees of freedom\n",
       "AIC: 164.84\n",
       "\n",
       "Number of Fisher Scoring iterations: 2\n"
      ]
     },
     "metadata": {},
     "output_type": "display_data"
    }
   ],
   "source": [
    "mdl_test_1 = glm(mpg~.-wt-disp-carb, family = \"gaussian\", data = mtcars)\n",
    "summary(mdl_test_1)"
   ]
  },
  {
   "cell_type": "markdown",
   "metadata": {},
   "source": [
    "Similary we remove qsec, gear, drat and vs"
   ]
  },
  {
   "cell_type": "code",
   "execution_count": 53,
   "metadata": {},
   "outputs": [
    {
     "data": {
      "text/plain": [
       "\n",
       "Call:\n",
       "glm(formula = mpg ~ . - wt - disp - carb - qsec - gear - drat - \n",
       "    vs, family = \"gaussian\", data = mtcars)\n",
       "\n",
       "Deviance Residuals: \n",
       "   Min      1Q  Median      3Q     Max  \n",
       "-5.231  -1.535  -0.141   1.408   5.322  \n",
       "\n",
       "Coefficients:\n",
       "            Estimate Std. Error t value Pr(>|t|)    \n",
       "(Intercept) 27.29590    1.42394  19.169  < 2e-16 ***\n",
       "cyl6        -3.92458    1.53751  -2.553  0.01666 *  \n",
       "cyl8        -3.53341    2.50279  -1.412  0.16943    \n",
       "hp          -0.04424    0.01458  -3.035  0.00527 ** \n",
       "amManual     4.15786    1.25655   3.309  0.00266 ** \n",
       "---\n",
       "Signif. codes:  0 '***' 0.001 '**' 0.01 '*' 0.05 '.' 0.1 ' ' 1\n",
       "\n",
       "(Dispersion parameter for gaussian family taken to be 7.303666)\n",
       "\n",
       "    Null deviance: 1126.0  on 31  degrees of freedom\n",
       "Residual deviance:  197.2  on 27  degrees of freedom\n",
       "AIC: 161\n",
       "\n",
       "Number of Fisher Scoring iterations: 2\n"
      ]
     },
     "metadata": {},
     "output_type": "display_data"
    }
   ],
   "source": [
    "mdl_test_2 = glm(mpg~.-wt-disp-carb-qsec-gear-drat-vs, family = \"gaussian\", data = mtcars)\n",
    "summary(mdl_test_2)"
   ]
  },
  {
   "cell_type": "markdown",
   "metadata": {},
   "source": [
    "Automated best model selection using step regression"
   ]
  },
  {
   "cell_type": "code",
   "execution_count": 54,
   "metadata": {},
   "outputs": [
    {
     "name": "stdout",
     "output_type": "stream",
     "text": [
      "Start:  AIC=169.22\n",
      "mpg ~ cyl + disp + hp + drat + wt + qsec + vs + am + gear + carb\n",
      "\n",
      "       Df Deviance    AIC\n",
      "- carb  5   134.00 162.64\n",
      "- gear  2   124.38 166.25\n",
      "- am    1   121.55 167.52\n",
      "- qsec  1   121.64 167.54\n",
      "- drat  1   122.22 167.70\n",
      "- cyl   2   131.33 168.00\n",
      "- vs    1   124.03 168.17\n",
      "<none>      120.40 169.22\n",
      "- disp  1   130.37 169.76\n",
      "- wt    1   145.96 173.37\n",
      "- hp    1   146.07 173.40\n",
      "\n",
      "Step:  AIC=162.64\n",
      "mpg ~ cyl + disp + hp + drat + wt + qsec + vs + am + gear\n",
      "\n",
      "       Df Deviance    AIC\n",
      "- gear  2   139.02 159.82\n",
      "- disp  1   135.00 160.88\n",
      "- drat  1   135.19 160.92\n",
      "- vs    1   137.68 161.51\n",
      "- cyl   2   146.57 161.51\n",
      "- qsec  1   139.26 161.87\n",
      "<none>      134.00 162.64\n",
      "- am    1   145.93 163.37\n",
      "- wt    1   153.80 165.05\n",
      "- hp    1   156.79 165.67\n",
      "\n",
      "Step:  AIC=159.82\n",
      "mpg ~ cyl + disp + hp + drat + wt + qsec + vs + am\n",
      "\n",
      "       Df Deviance    AIC\n",
      "- drat  1   139.99 158.04\n",
      "- cyl   2   149.45 158.13\n",
      "- disp  1   140.57 158.17\n",
      "- vs    1   141.21 158.32\n",
      "- qsec  1   142.66 158.64\n",
      "<none>      139.02 159.82\n",
      "- am    1   155.59 161.42\n",
      "- hp    1   157.20 161.75\n",
      "- wt    1   170.21 164.29\n",
      "\n",
      "Step:  AIC=158.04\n",
      "mpg ~ cyl + disp + hp + wt + qsec + vs + am\n",
      "\n",
      "       Df Deviance    AIC\n",
      "- disp  1   141.24 156.32\n",
      "- vs    1   142.33 156.57\n",
      "- cyl   2   152.32 156.74\n",
      "- qsec  1   143.09 156.74\n",
      "<none>      139.99 158.04\n",
      "- hp    1   157.73 159.86\n",
      "- am    1   159.46 160.21\n",
      "- wt    1   170.71 162.39\n",
      "\n",
      "Step:  AIC=156.32\n",
      "mpg ~ cyl + hp + wt + qsec + vs + am\n",
      "\n",
      "       Df Deviance    AIC\n",
      "- qsec  1   143.68 154.87\n",
      "- vs    1   143.98 154.94\n",
      "- cyl   2   159.82 156.28\n",
      "<none>      141.24 156.32\n",
      "- hp    1   159.42 158.20\n",
      "- am    1   160.12 158.34\n",
      "- wt    1   180.88 162.24\n",
      "\n",
      "Step:  AIC=154.87\n",
      "mpg ~ cyl + hp + wt + vs + am\n",
      "\n",
      "       Df Deviance    AIC\n",
      "- vs    1   151.03 154.47\n",
      "<none>      143.68 154.87\n",
      "- cyl   2   168.96 156.06\n",
      "- am    1   160.12 156.34\n",
      "- hp    1   180.02 160.09\n",
      "- wt    1   184.77 160.92\n",
      "\n",
      "Step:  AIC=154.47\n",
      "mpg ~ cyl + hp + wt + am\n",
      "\n",
      "       Df Deviance    AIC\n",
      "<none>      151.03 154.47\n",
      "- am    1   160.78 154.47\n",
      "- cyl   2   180.29 156.13\n",
      "- hp    1   182.97 158.61\n",
      "- wt    1   197.20 161.00\n"
     ]
    },
    {
     "data": {
      "text/plain": [
       "\n",
       "Call:\n",
       "glm(formula = mpg ~ cyl + hp + wt + am, family = \"gaussian\", \n",
       "    data = mtcars)\n",
       "\n",
       "Deviance Residuals: \n",
       "    Min       1Q   Median       3Q      Max  \n",
       "-3.9387  -1.2560  -0.4013   1.1253   5.0513  \n",
       "\n",
       "Coefficients:\n",
       "            Estimate Std. Error t value Pr(>|t|)    \n",
       "(Intercept) 33.70832    2.60489  12.940 7.73e-13 ***\n",
       "cyl6        -3.03134    1.40728  -2.154  0.04068 *  \n",
       "cyl8        -2.16368    2.28425  -0.947  0.35225    \n",
       "hp          -0.03211    0.01369  -2.345  0.02693 *  \n",
       "wt          -2.49683    0.88559  -2.819  0.00908 ** \n",
       "amManual     1.80921    1.39630   1.296  0.20646    \n",
       "---\n",
       "Signif. codes:  0 '***' 0.001 '**' 0.01 '*' 0.05 '.' 0.1 ' ' 1\n",
       "\n",
       "(Dispersion parameter for gaussian family taken to be 5.808677)\n",
       "\n",
       "    Null deviance: 1126.05  on 31  degrees of freedom\n",
       "Residual deviance:  151.03  on 26  degrees of freedom\n",
       "AIC: 154.47\n",
       "\n",
       "Number of Fisher Scoring iterations: 2\n"
      ]
     },
     "metadata": {},
     "output_type": "display_data"
    }
   ],
   "source": [
    "mdl_best = step(mdl_all, direction = \"backward\")\n",
    "summary(mdl_best)"
   ]
  },
  {
   "cell_type": "markdown",
   "metadata": {},
   "source": [
    "The two models seem to be very similar with exception of just the wt parameter\n",
    "being omitted from the manually subsetted model."
   ]
  },
  {
   "cell_type": "markdown",
   "metadata": {},
   "source": [
    "#### 3.2 Analyzing the models\n",
    "Analysing the residual plots manually fitted vs step regressed."
   ]
  },
  {
   "cell_type": "code",
   "execution_count": 55,
   "metadata": {
    "scrolled": false
   },
   "outputs": [
    {
     "data": {
      "image/png": "[encoded data removed]",
      "text/plain": [
       "Plot with title \"\""
      ]
     },
     "metadata": {},
     "output_type": "display_data"
    }
   ],
   "source": [
    "options(repr.plot.width=6, repr.plot.height=3.5)\n",
    "par(mfrow=c(1,2))\n",
    "plot(mdl_test_2, which =1)\n",
    "plot(mdl_best, which =1)"
   ]
  },
  {
   "cell_type": "markdown",
   "metadata": {},
   "source": [
    "It is observed that the manually fitted model has lower standard error."
   ]
  },
  {
   "cell_type": "markdown",
   "metadata": {},
   "source": [
    "**Asserting the normality of the residuals of each models**"
   ]
  },
  {
   "cell_type": "code",
   "execution_count": 56,
   "metadata": {},
   "outputs": [
    {
     "data": {
      "image/png": "[encoded data removed]",
      "text/plain": [
       "Plot with title \"\""
      ]
     },
     "metadata": {},
     "output_type": "display_data"
    }
   ],
   "source": [
    "options(repr.plot.width=6, repr.plot.height=3.5)\n",
    "par(mfrow=c(1,2))\n",
    "plot(mdl_test_2, which =2)\n",
    "plot(mdl_best, which =2)"
   ]
  },
  {
   "cell_type": "markdown",
   "metadata": {},
   "source": [
    "#### 3.3 Using T-test to identify significance of transmission type on mpg"
   ]
  },
  {
   "cell_type": "code",
   "execution_count": 57,
   "metadata": {
    "scrolled": true
   },
   "outputs": [
    {
     "data": {
      "text/plain": [
       "\n",
       "\tWelch Two Sample t-test\n",
       "\n",
       "data:  mpg by am\n",
       "t = -3.7671, df = 18.332, p-value = 0.001374\n",
       "alternative hypothesis: true difference in means is not equal to 0\n",
       "95 percent confidence interval:\n",
       " -11.280194  -3.209684\n",
       "sample estimates:\n",
       "mean in group Automatic    mean in group Manual \n",
       "               17.14737                24.39231 \n"
      ]
     },
     "metadata": {},
     "output_type": "display_data"
    }
   ],
   "source": [
    "t.test(mpg ~ am, data = mtcars)"
   ]
  },
  {
   "cell_type": "markdown",
   "metadata": {},
   "source": [
    "The above t.test with p-statistic <0.05 shows that there is significant effect \n",
    "of type of transmission on the mpg of a motor vehicle.  \n",
    "\n",
    "**Visualizing** the difference"
   ]
  },
  {
   "cell_type": "code",
   "execution_count": 58,
   "metadata": {},
   "outputs": [
    {
     "data": {
      "image/png": "[encoded data removed]",
      "text/plain": [
       "plot without title"
      ]
     },
     "metadata": {},
     "output_type": "display_data"
    }
   ],
   "source": [
    "options(repr.plot.width=6, repr.plot.height=4)\n",
    "ggplot(\n",
    "  mtcars,\n",
    "  aes(\n",
    "    x=am,\n",
    "    y=mpg,\n",
    "    fill = am\n",
    "  )\n",
    ") + geom_boxplot() +\n",
    "  labs(x = \"Transmission type\", y = \"miles per gallon\") + \n",
    "  ggtitle(\"Effect of transmission type on mpg of motor vehicles\") +\n",
    "  theme_bw() "
   ]
  },
  {
   "cell_type": "markdown",
   "metadata": {},
   "source": [
    "## 4. Conclusion\n",
    "Based on my analysis I was able to identify that there is significant effect of \n",
    "transmission type of the motor vehicle on its miles per gallon metric - that the \n",
    "manual transmission performes better than automatic type.  \n",
    "\n",
    "The rate of change of the conditional mean mpg with respect to am is about 4.1 \n",
    "conidering the manually subsetted model and 1.8 with the best subset selection \n",
    "using the step function.  \n",
    "\n",
    "Using the T-test we were able to infer that there is indeed a significance in \n",
    "transmission type on mpg visualized using boxplot shown above"
   ]
  }
 ],
 "metadata": {
  "kernelspec": {
   "display_name": "R",
   "language": "R",
   "name": "ir"
  },
  "language_info": {
   "codemirror_mode": "r",
   "file_extension": ".r",
   "mimetype": "text/x-r-source",
   "name": "R",
   "pygments_lexer": "r",
   "version": "3.6.1"
  }
 },
 "nbformat": 4,
 "nbformat_minor": 4
}
