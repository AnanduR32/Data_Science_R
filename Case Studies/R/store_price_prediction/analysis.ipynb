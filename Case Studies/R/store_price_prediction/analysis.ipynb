{
 "cells": [
  {
   "cell_type": "markdown",
   "metadata": {},
   "source": [
    "# Store price prediction\n"
   ]
  },
  {
   "cell_type": "markdown",
   "metadata": {},
   "source": [
    "## 1. Loading prerequisites\n",
    "#### 1.1. Libraries"
   ]
  },
  {
   "cell_type": "code",
   "execution_count": 1,
   "metadata": {},
   "outputs": [
    {
     "name": "stderr",
     "output_type": "stream",
     "text": [
      "Loading required package: dplyr\n",
      "\n",
      "Attaching package: 'dplyr'\n",
      "\n",
      "The following objects are masked from 'package:stats':\n",
      "\n",
      "    filter, lag\n",
      "\n",
      "The following objects are masked from 'package:base':\n",
      "\n",
      "    intersect, setdiff, setequal, union\n",
      "\n",
      "Loading required package: ggplot2\n",
      "Loading required package: caret\n",
      "Loading required package: lattice\n",
      "Loading required package: psych\n",
      "\n",
      "Attaching package: 'psych'\n",
      "\n",
      "The following objects are masked from 'package:ggplot2':\n",
      "\n",
      "    %+%, alpha\n",
      "\n",
      "Loading required package: mlbench\n",
      "Loading required package: AppliedPredictiveModeling\n"
     ]
    }
   ],
   "source": [
    "suppressWarnings({\n",
    "    if(!require(dplyr)) install.packages(\"dplyr\")\n",
    "    if(!require(ggplot2)) install.packages(\"ggplot2\")\n",
    "    if(!require(caret)) install.packages(\"caret\")\n",
    "    if(!require(psych)) install.packages(\"psych\")\n",
    "    if(!require(mlbench)) install.packages(\"mlbench\")\n",
    "    if(!require(AppliedPredictiveModeling)) install.packages(\"AppliedPredictiveModeling\")\n",
    "    #if(!require(Hmisc)) install.packages(\"Hmisc\",dependencies = TRUE)\n",
    "    library(dplyr)\n",
    "    library(ggplot2)\n",
    "    library(caret)\n",
    "    library(psych)\n",
    "    library(mlbench)\n",
    "    library(AppliedPredictiveModeling)\n",
    "    #library(Hmisc)\n",
    "})\n",
    "options(repr.plot.width=6, repr.plot.height=4)\n",
    "transparentTheme(trans = .4)"
   ]
  },
  {
   "cell_type": "markdown",
   "metadata": {},
   "source": [
    "#### 1.2. Data"
   ]
  },
  {
   "cell_type": "code",
   "execution_count": 2,
   "metadata": {},
   "outputs": [
    {
     "data": {
      "text/html": [
       "<ol class=list-inline>\n",
       "\t<li>284780</li>\n",
       "\t<li>8</li>\n",
       "</ol>\n"
      ],
      "text/latex": [
       "\\begin{enumerate*}\n",
       "\\item 284780\n",
       "\\item 8\n",
       "\\end{enumerate*}\n"
      ],
      "text/markdown": [
       "1. 284780\n",
       "2. 8\n",
       "\n",
       "\n"
      ],
      "text/plain": [
       "[1] 284780      8"
      ]
     },
     "metadata": {},
     "output_type": "display_data"
    },
    {
     "data": {
      "text/html": [
       "<ol class=list-inline>\n",
       "\t<li>122049</li>\n",
       "\t<li>7</li>\n",
       "</ol>\n"
      ],
      "text/latex": [
       "\\begin{enumerate*}\n",
       "\\item 122049\n",
       "\\item 7\n",
       "\\end{enumerate*}\n"
      ],
      "text/markdown": [
       "1. 122049\n",
       "2. 7\n",
       "\n",
       "\n"
      ],
      "text/plain": [
       "[1] 122049      7"
      ]
     },
     "metadata": {},
     "output_type": "display_data"
    },
    {
     "data": {
      "text/html": [
       "<ol class=list-inline>\n",
       "\t<li>122049</li>\n",
       "\t<li>1</li>\n",
       "</ol>\n"
      ],
      "text/latex": [
       "\\begin{enumerate*}\n",
       "\\item 122049\n",
       "\\item 1\n",
       "\\end{enumerate*}\n"
      ],
      "text/markdown": [
       "1. 122049\n",
       "2. 1\n",
       "\n",
       "\n"
      ],
      "text/plain": [
       "[1] 122049      1"
      ]
     },
     "metadata": {},
     "output_type": "display_data"
    }
   ],
   "source": [
    "DATA_PATH = \"./data/\"\n",
    "train_raw = read.table(paste0(DATA_PATH,\"Train.csv\"), header = T, sep = \",\")\n",
    "test_raw = read.table(paste0(DATA_PATH,\"Test.csv\"), header = T, sep = \",\")\n",
    "pred_true = read.table(paste0(DATA_PATH,\"Sample Submission.csv\"), header = T, sep = \",\")\n",
    "dim(train_raw); dim(test_raw); dim(pred_true)"
   ]
  },
  {
   "cell_type": "markdown",
   "metadata": {},
   "source": [
    "## 2. Exploratory data analysis"
   ]
  },
  {
   "cell_type": "markdown",
   "metadata": {},
   "source": [
    "#### 2.1. Viewing the data"
   ]
  },
  {
   "cell_type": "code",
   "execution_count": 3,
   "metadata": {},
   "outputs": [
    {
     "data": {
      "text/html": [
       "<table>\n",
       "<thead><tr><th scope=col>InvoiceNo</th><th scope=col>StockCode</th><th scope=col>Description</th><th scope=col>Quantity</th><th scope=col>InvoiceDate</th><th scope=col>UnitPrice</th><th scope=col>CustomerID</th><th scope=col>Country</th></tr></thead>\n",
       "<tbody>\n",
       "\t<tr><td> 6141              </td><td>1583               </td><td> 144               </td><td> 3                 </td><td>2011-05-06 16:54:00</td><td>3.75               </td><td>14056              </td><td>35                 </td></tr>\n",
       "\t<tr><td> 6349              </td><td>1300               </td><td>3682               </td><td> 6                 </td><td>2011-05-11 07:35:00</td><td>1.95               </td><td>13098              </td><td>35                 </td></tr>\n",
       "\t<tr><td>16783              </td><td>2178               </td><td>1939               </td><td> 4                 </td><td>2011-11-20 13:20:00</td><td>5.95               </td><td>15044              </td><td>35                 </td></tr>\n",
       "\t<tr><td>16971              </td><td>2115               </td><td>2983               </td><td> 1                 </td><td>2011-11-22 12:07:00</td><td>0.83               </td><td>15525              </td><td>35                 </td></tr>\n",
       "\t<tr><td> 6080              </td><td>1210               </td><td>2886               </td><td>12                 </td><td>2011-05-06 09:00:00</td><td>1.65               </td><td>13952              </td><td>35                 </td></tr>\n",
       "\t<tr><td>17388              </td><td> 495               </td><td>3247               </td><td> 5                 </td><td>2011-11-27 12:52:00</td><td>1.65               </td><td>15351              </td><td>35                 </td></tr>\n",
       "\t<tr><td>18494              </td><td> 165               </td><td>3377               </td><td> 1                 </td><td>2011-12-08 20:01:00</td><td>1.25               </td><td>12748              </td><td>35                 </td></tr>\n",
       "\t<tr><td>17109              </td><td>2597               </td><td>3435               </td><td> 1                 </td><td>2011-11-23 12:40:00</td><td>1.25               </td><td>16255              </td><td>35                 </td></tr>\n",
       "\t<tr><td>17143              </td><td>1945               </td><td>2352               </td><td> 1                 </td><td>2011-11-23 14:07:00</td><td>5.75               </td><td>17841              </td><td>35                 </td></tr>\n",
       "\t<tr><td> 8422              </td><td>3311               </td><td>2502               </td><td> 6                 </td><td>2011-06-22 10:11:00</td><td>2.95               </td><td>13849              </td><td>35                 </td></tr>\n",
       "</tbody>\n",
       "</table>\n"
      ],
      "text/latex": [
       "\\begin{tabular}{r|llllllll}\n",
       " InvoiceNo & StockCode & Description & Quantity & InvoiceDate & UnitPrice & CustomerID & Country\\\\\n",
       "\\hline\n",
       "\t  6141               & 1583                &  144                &  3                  & 2011-05-06 16:54:00 & 3.75                & 14056               & 35                 \\\\\n",
       "\t  6349               & 1300                & 3682                &  6                  & 2011-05-11 07:35:00 & 1.95                & 13098               & 35                 \\\\\n",
       "\t 16783               & 2178                & 1939                &  4                  & 2011-11-20 13:20:00 & 5.95                & 15044               & 35                 \\\\\n",
       "\t 16971               & 2115                & 2983                &  1                  & 2011-11-22 12:07:00 & 0.83                & 15525               & 35                 \\\\\n",
       "\t  6080               & 1210                & 2886                & 12                  & 2011-05-06 09:00:00 & 1.65                & 13952               & 35                 \\\\\n",
       "\t 17388               &  495                & 3247                &  5                  & 2011-11-27 12:52:00 & 1.65                & 15351               & 35                 \\\\\n",
       "\t 18494               &  165                & 3377                &  1                  & 2011-12-08 20:01:00 & 1.25                & 12748               & 35                 \\\\\n",
       "\t 17109               & 2597                & 3435                &  1                  & 2011-11-23 12:40:00 & 1.25                & 16255               & 35                 \\\\\n",
       "\t 17143               & 1945                & 2352                &  1                  & 2011-11-23 14:07:00 & 5.75                & 17841               & 35                 \\\\\n",
       "\t  8422               & 3311                & 2502                &  6                  & 2011-06-22 10:11:00 & 2.95                & 13849               & 35                 \\\\\n",
       "\\end{tabular}\n"
      ],
      "text/markdown": [
       "\n",
       "| InvoiceNo | StockCode | Description | Quantity | InvoiceDate | UnitPrice | CustomerID | Country |\n",
       "|---|---|---|---|---|---|---|---|\n",
       "|  6141               | 1583                |  144                |  3                  | 2011-05-06 16:54:00 | 3.75                | 14056               | 35                  |\n",
       "|  6349               | 1300                | 3682                |  6                  | 2011-05-11 07:35:00 | 1.95                | 13098               | 35                  |\n",
       "| 16783               | 2178                | 1939                |  4                  | 2011-11-20 13:20:00 | 5.95                | 15044               | 35                  |\n",
       "| 16971               | 2115                | 2983                |  1                  | 2011-11-22 12:07:00 | 0.83                | 15525               | 35                  |\n",
       "|  6080               | 1210                | 2886                | 12                  | 2011-05-06 09:00:00 | 1.65                | 13952               | 35                  |\n",
       "| 17388               |  495                | 3247                |  5                  | 2011-11-27 12:52:00 | 1.65                | 15351               | 35                  |\n",
       "| 18494               |  165                | 3377                |  1                  | 2011-12-08 20:01:00 | 1.25                | 12748               | 35                  |\n",
       "| 17109               | 2597                | 3435                |  1                  | 2011-11-23 12:40:00 | 1.25                | 16255               | 35                  |\n",
       "| 17143               | 1945                | 2352                |  1                  | 2011-11-23 14:07:00 | 5.75                | 17841               | 35                  |\n",
       "|  8422               | 3311                | 2502                |  6                  | 2011-06-22 10:11:00 | 2.95                | 13849               | 35                  |\n",
       "\n"
      ],
      "text/plain": [
       "   InvoiceNo StockCode Description Quantity InvoiceDate         UnitPrice\n",
       "1   6141     1583       144         3       2011-05-06 16:54:00 3.75     \n",
       "2   6349     1300      3682         6       2011-05-11 07:35:00 1.95     \n",
       "3  16783     2178      1939         4       2011-11-20 13:20:00 5.95     \n",
       "4  16971     2115      2983         1       2011-11-22 12:07:00 0.83     \n",
       "5   6080     1210      2886        12       2011-05-06 09:00:00 1.65     \n",
       "6  17388      495      3247         5       2011-11-27 12:52:00 1.65     \n",
       "7  18494      165      3377         1       2011-12-08 20:01:00 1.25     \n",
       "8  17109     2597      3435         1       2011-11-23 12:40:00 1.25     \n",
       "9  17143     1945      2352         1       2011-11-23 14:07:00 5.75     \n",
       "10  8422     3311      2502         6       2011-06-22 10:11:00 2.95     \n",
       "   CustomerID Country\n",
       "1  14056      35     \n",
       "2  13098      35     \n",
       "3  15044      35     \n",
       "4  15525      35     \n",
       "5  13952      35     \n",
       "6  15351      35     \n",
       "7  12748      35     \n",
       "8  16255      35     \n",
       "9  17841      35     \n",
       "10 13849      35     "
      ]
     },
     "metadata": {},
     "output_type": "display_data"
    }
   ],
   "source": [
    "head(train_raw, 10)"
   ]
  },
  {
   "cell_type": "markdown",
   "metadata": {},
   "source": [
    "#### 2.2. Studying the original structure of the data"
   ]
  },
  {
   "cell_type": "code",
   "execution_count": 4,
   "metadata": {
    "scrolled": true
   },
   "outputs": [
    {
     "data": {
      "text/html": [
       "<dl class=dl-horizontal>\n",
       "\t<dt>...</dt>\n",
       "\t\t<dd>'name'</dd>\n",
       "\t<dt>list</dt>\n",
       "\t\t<dd>'call'</dd>\n",
       "\t<dt>package</dt>\n",
       "\t\t<dd>'NULL'</dd>\n",
       "\t<dt>lib.loc</dt>\n",
       "\t\t<dd>'NULL'</dd>\n",
       "\t<dt>verbose</dt>\n",
       "\t\t<dd>'call'</dd>\n",
       "\t<dt>envir</dt>\n",
       "\t\t<dd>'name'</dd>\n",
       "\t<dt>overwrite</dt>\n",
       "\t\t<dd>'logical'</dd>\n",
       "\t<dt>8</dt>\n",
       "\t\t<dd>'{'</dd>\n",
       "</dl>\n"
      ],
      "text/latex": [
       "\\begin{description*}\n",
       "\\item[...] 'name'\n",
       "\\item[list] 'call'\n",
       "\\item[package] 'NULL'\n",
       "\\item[lib.loc] 'NULL'\n",
       "\\item[verbose] 'call'\n",
       "\\item[envir] 'name'\n",
       "\\item[overwrite] 'logical'\n",
       "\\item[8] '\\{'\n",
       "\\end{description*}\n"
      ],
      "text/markdown": [
       "...\n",
       ":   'name'list\n",
       ":   'call'package\n",
       ":   'NULL'lib.loc\n",
       ":   'NULL'verbose\n",
       ":   'call'envir\n",
       ":   'name'overwrite\n",
       ":   'logical'8\n",
       ":   '{'\n",
       "\n"
      ],
      "text/plain": [
       "      ...      list   package   lib.loc   verbose     envir overwrite           \n",
       "   \"name\"    \"call\"    \"NULL\"    \"NULL\"    \"call\"    \"name\" \"logical\"       \"{\" "
      ]
     },
     "metadata": {},
     "output_type": "display_data"
    }
   ],
   "source": [
    "sapply(data, class)"
   ]
  },
  {
   "cell_type": "markdown",
   "metadata": {},
   "source": [
    "data = mutate(\n",
    "    train_raw,\n",
    "    InvoiceNo = factor(InvoiceNo),\n",
    "    StockCode = factor(StockCode),\n",
    "    Description = factor(Description),\n",
    "    Quantity = as.numeric(Quantity),\n",
    "    InvoiceDate = as.POSIXlt(InvoiceDate),\n",
    "    UnitPrice = as.numeric(UnitPrice),\n",
    "    CustomerID = factor(CustomerID),\n",
    "    Country = factor(Country)\n",
    ")"
   ]
  },
  {
   "cell_type": "code",
   "execution_count": 5,
   "metadata": {},
   "outputs": [],
   "source": [
    "data = train_raw"
   ]
  },
  {
   "cell_type": "markdown",
   "metadata": {},
   "source": [
    "#### 2.3 Summarizing the data in training set"
   ]
  },
  {
   "cell_type": "code",
   "execution_count": 6,
   "metadata": {
    "scrolled": false
   },
   "outputs": [
    {
     "data": {
      "text/plain": [
       "   InvoiceNo       StockCode     Description      Quantity        \n",
       " Min.   :    0   Min.   :   0   Min.   :   0   Min.   :-80995.00  \n",
       " 1st Qu.: 5069   1st Qu.: 939   1st Qu.:1141   1st Qu.:     2.00  \n",
       " Median :10310   Median :1521   Median :1987   Median :     5.00  \n",
       " Mean   : 9955   Mean   :1573   Mean   :2024   Mean   :    12.03  \n",
       " 3rd Qu.:14657   3rd Qu.:2106   3rd Qu.:2945   3rd Qu.:    12.00  \n",
       " Max.   :22188   Max.   :3683   Max.   :3895   Max.   : 80995.00  \n",
       "                                                                  \n",
       "              InvoiceDate       UnitPrice          CustomerID   \n",
       " 2011-11-28 15:54:00:   385   Min.   :    0.00   Min.   :12346  \n",
       " 2011-11-14 15:27:00:   384   1st Qu.:    1.25   1st Qu.:13953  \n",
       " 2011-12-05 17:17:00:   361   Median :    1.95   Median :15152  \n",
       " 2011-10-31 14:09:00:   311   Mean   :    3.45   Mean   :15288  \n",
       " 2011-11-23 13:39:00:   307   3rd Qu.:    3.75   3rd Qu.:16794  \n",
       " 2011-09-21 14:40:00:   273   Max.   :38970.00   Max.   :18287  \n",
       " (Other)            :282759                                     \n",
       "    Country     \n",
       " Min.   : 0.00  \n",
       " 1st Qu.:35.00  \n",
       " Median :35.00  \n",
       " Mean   :32.82  \n",
       " 3rd Qu.:35.00  \n",
       " Max.   :36.00  \n",
       "                "
      ]
     },
     "metadata": {},
     "output_type": "display_data"
    }
   ],
   "source": [
    "summary(data)"
   ]
  },
  {
   "cell_type": "markdown",
   "metadata": {},
   "source": [
    "#### 2.5. Check for missing data"
   ]
  },
  {
   "cell_type": "code",
   "execution_count": 7,
   "metadata": {},
   "outputs": [
    {
     "data": {
      "text/html": [
       "<dl class=dl-horizontal>\n",
       "\t<dt>InvoiceNo</dt>\n",
       "\t\t<dd>0</dd>\n",
       "\t<dt>StockCode</dt>\n",
       "\t\t<dd>0</dd>\n",
       "\t<dt>Description</dt>\n",
       "\t\t<dd>0</dd>\n",
       "\t<dt>Quantity</dt>\n",
       "\t\t<dd>0</dd>\n",
       "\t<dt>InvoiceDate</dt>\n",
       "\t\t<dd>0</dd>\n",
       "\t<dt>UnitPrice</dt>\n",
       "\t\t<dd>0</dd>\n",
       "\t<dt>CustomerID</dt>\n",
       "\t\t<dd>0</dd>\n",
       "\t<dt>Country</dt>\n",
       "\t\t<dd>0</dd>\n",
       "</dl>\n"
      ],
      "text/latex": [
       "\\begin{description*}\n",
       "\\item[InvoiceNo] 0\n",
       "\\item[StockCode] 0\n",
       "\\item[Description] 0\n",
       "\\item[Quantity] 0\n",
       "\\item[InvoiceDate] 0\n",
       "\\item[UnitPrice] 0\n",
       "\\item[CustomerID] 0\n",
       "\\item[Country] 0\n",
       "\\end{description*}\n"
      ],
      "text/markdown": [
       "InvoiceNo\n",
       ":   0StockCode\n",
       ":   0Description\n",
       ":   0Quantity\n",
       ":   0InvoiceDate\n",
       ":   0UnitPrice\n",
       ":   0CustomerID\n",
       ":   0Country\n",
       ":   0\n",
       "\n"
      ],
      "text/plain": [
       "  InvoiceNo   StockCode Description    Quantity InvoiceDate   UnitPrice \n",
       "          0           0           0           0           0           0 \n",
       " CustomerID     Country \n",
       "          0           0 "
      ]
     },
     "metadata": {},
     "output_type": "display_data"
    }
   ],
   "source": [
    "sapply(data, function(x){sum(is.na(x))})"
   ]
  },
  {
   "cell_type": "markdown",
   "metadata": {},
   "source": [
    "#### 2.6. Count of unique values in each fields"
   ]
  },
  {
   "cell_type": "code",
   "execution_count": 8,
   "metadata": {
    "scrolled": true
   },
   "outputs": [
    {
     "data": {
      "text/html": [
       "<dl class=dl-horizontal>\n",
       "\t<dt>InvoiceNo</dt>\n",
       "\t\t<dd>20971</dd>\n",
       "\t<dt>StockCode</dt>\n",
       "\t\t<dd>3619</dd>\n",
       "\t<dt>Description</dt>\n",
       "\t\t<dd>3819</dd>\n",
       "\t<dt>Quantity</dt>\n",
       "\t\t<dd>373</dd>\n",
       "\t<dt>InvoiceDate</dt>\n",
       "\t\t<dd>19451</dd>\n",
       "\t<dt>UnitPrice</dt>\n",
       "\t\t<dd>524</dd>\n",
       "\t<dt>CustomerID</dt>\n",
       "\t\t<dd>4339</dd>\n",
       "\t<dt>Country</dt>\n",
       "\t\t<dd>37</dd>\n",
       "</dl>\n"
      ],
      "text/latex": [
       "\\begin{description*}\n",
       "\\item[InvoiceNo] 20971\n",
       "\\item[StockCode] 3619\n",
       "\\item[Description] 3819\n",
       "\\item[Quantity] 373\n",
       "\\item[InvoiceDate] 19451\n",
       "\\item[UnitPrice] 524\n",
       "\\item[CustomerID] 4339\n",
       "\\item[Country] 37\n",
       "\\end{description*}\n"
      ],
      "text/markdown": [
       "InvoiceNo\n",
       ":   20971StockCode\n",
       ":   3619Description\n",
       ":   3819Quantity\n",
       ":   373InvoiceDate\n",
       ":   19451UnitPrice\n",
       ":   524CustomerID\n",
       ":   4339Country\n",
       ":   37\n",
       "\n"
      ],
      "text/plain": [
       "  InvoiceNo   StockCode Description    Quantity InvoiceDate   UnitPrice \n",
       "      20971        3619        3819         373       19451         524 \n",
       " CustomerID     Country \n",
       "       4339          37 "
      ]
     },
     "metadata": {},
     "output_type": "display_data"
    }
   ],
   "source": [
    "sapply(data, function(x){length(unique(x))})"
   ]
  },
  {
   "cell_type": "code",
   "execution_count": 9,
   "metadata": {
    "scrolled": true
   },
   "outputs": [
    {
     "data": {
      "text/html": [
       "<dl class=dl-horizontal>\n",
       "\t<dt>StockCode</dt>\n",
       "\t\t<dd>0.09</dd>\n",
       "\t<dt>Description</dt>\n",
       "\t\t<dd>0.02</dd>\n",
       "\t<dt>Quantity</dt>\n",
       "\t\t<dd>-0.01</dd>\n",
       "\t<dt>UnitPrice</dt>\n",
       "\t\t<dd>0.01</dd>\n",
       "\t<dt>CustomerID</dt>\n",
       "\t\t<dd>-0.01</dd>\n",
       "\t<dt>Country</dt>\n",
       "\t\t<dd>0.01</dd>\n",
       "</dl>\n"
      ],
      "text/latex": [
       "\\begin{description*}\n",
       "\\item[StockCode] 0.09\n",
       "\\item[Description] 0.02\n",
       "\\item[Quantity] -0.01\n",
       "\\item[UnitPrice] 0.01\n",
       "\\item[CustomerID] -0.01\n",
       "\\item[Country] 0.01\n",
       "\\end{description*}\n"
      ],
      "text/markdown": [
       "StockCode\n",
       ":   0.09Description\n",
       ":   0.02Quantity\n",
       ":   -0.01UnitPrice\n",
       ":   0.01CustomerID\n",
       ":   -0.01Country\n",
       ":   0.01\n",
       "\n"
      ],
      "text/plain": [
       "  StockCode Description    Quantity   UnitPrice  CustomerID     Country \n",
       "       0.09        0.02       -0.01        0.01       -0.01        0.01 "
      ]
     },
     "metadata": {},
     "output_type": "display_data"
    }
   ],
   "source": [
    "sapply(data[,-c(1,5)], function(x){round(cor(x,data[,1]),2)})"
   ]
  },
  {
   "cell_type": "markdown",
   "metadata": {},
   "source": [
    "This machine learning problem aims to predict the price of items in store, not forecast trend in prices overtime, therefore we may remove the InvoiceDate field.  \n",
    "\n",
    "Also the InvoiceNo is very little correlated to the other columns hence can't be used to fit the model"
   ]
  },
  {
   "cell_type": "code",
   "execution_count": 10,
   "metadata": {},
   "outputs": [],
   "source": [
    "data = select(data, select = -c(InvoiceNo,InvoiceDate))"
   ]
  },
  {
   "cell_type": "code",
   "execution_count": 11,
   "metadata": {},
   "outputs": [],
   "source": [
    "features = names(data)[-4]"
   ]
  },
  {
   "cell_type": "code",
   "execution_count": null,
   "metadata": {},
   "outputs": [],
   "source": [
    "featurePlot(x = data[, features], \n",
    "            y = data$UnitPrice, \n",
    "            plot = \"pairs\")\n",
    "#             type = c(\"p\", \"smooth\")),\n",
    "#             span = .5,\n",
    "#             layout = c(3, 2))"
   ]
  },
  {
   "cell_type": "code",
   "execution_count": null,
   "metadata": {},
   "outputs": [],
   "source": [
    "preObj = preProcess(data, method=c(\"center\",\"scale\"))\n",
    "data_scaled = predict(preObj,data)"
   ]
  },
  {
   "cell_type": "code",
   "execution_count": null,
   "metadata": {},
   "outputs": [],
   "source": []
  },
  {
   "cell_type": "code",
   "execution_count": null,
   "metadata": {},
   "outputs": [],
   "source": []
  },
  {
   "cell_type": "code",
   "execution_count": null,
   "metadata": {},
   "outputs": [],
   "source": []
  },
  {
   "cell_type": "code",
   "execution_count": null,
   "metadata": {},
   "outputs": [],
   "source": []
  }
 ],
 "metadata": {
  "kernelspec": {
   "display_name": "R",
   "language": "R",
   "name": "ir"
  },
  "language_info": {
   "codemirror_mode": "r",
   "file_extension": ".r",
   "mimetype": "text/x-r-source",
   "name": "R",
   "pygments_lexer": "r",
   "version": "3.6.1"
  }
 },
 "nbformat": 4,
 "nbformat_minor": 4
}
