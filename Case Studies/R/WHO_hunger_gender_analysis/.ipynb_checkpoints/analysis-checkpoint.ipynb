{
 "cells": [
  {
   "cell_type": "markdown",
   "metadata": {},
   "source": [
    "# WHO hunger \n",
    "Data analysis on hunger on basis of gender using regression models with more than one independent variable or predictor.\n",
    "\n",
    "WHO is the World Health Organization and this data concerns young children from around the world and rates of hunger among them which the organization compiled over a number of years.   \n",
    "\n",
    "The modified csv file being used in this analysis is a subset of original has just the rows which identify the gender of the child as either male or female."
   ]
  },
  {
   "cell_type": "markdown",
   "metadata": {},
   "source": [
    "## Loading packages and dataset"
   ]
  },
  {
   "cell_type": "code",
   "execution_count": 68,
   "metadata": {},
   "outputs": [],
   "source": [
    "require(ggplot2)\n",
    "library(repr)\n",
    "\n",
    "# Change plot size to 4 x 3\n",
    "options(repr.plot.width=8, repr.plot.height=6)"
   ]
  },
  {
   "cell_type": "code",
   "execution_count": 69,
   "metadata": {},
   "outputs": [],
   "source": [
    "hunger = read.csv(\"data/hunger.csv\", header=T,sep = \",\")"
   ]
  },
  {
   "cell_type": "code",
   "execution_count": 70,
   "metadata": {},
   "outputs": [
    {
     "data": {
      "text/html": [
       "<table>\n",
       "<caption>A data.frame: 10 × 13</caption>\n",
       "<thead>\n",
       "\t<tr><th></th><th scope=col>X</th><th scope=col>Indicator</th><th scope=col>Data.Source</th><th scope=col>PUBLISH.STATES</th><th scope=col>Year</th><th scope=col>WHO.region</th><th scope=col>Country</th><th scope=col>Sex</th><th scope=col>Display.Value</th><th scope=col>Numeric</th><th scope=col>Low</th><th scope=col>High</th><th scope=col>Comments</th></tr>\n",
       "\t<tr><th></th><th scope=col>&lt;int&gt;</th><th scope=col>&lt;chr&gt;</th><th scope=col>&lt;chr&gt;</th><th scope=col>&lt;chr&gt;</th><th scope=col>&lt;int&gt;</th><th scope=col>&lt;chr&gt;</th><th scope=col>&lt;chr&gt;</th><th scope=col>&lt;chr&gt;</th><th scope=col>&lt;dbl&gt;</th><th scope=col>&lt;dbl&gt;</th><th scope=col>&lt;lgl&gt;</th><th scope=col>&lt;lgl&gt;</th><th scope=col>&lt;lgl&gt;</th></tr>\n",
       "</thead>\n",
       "<tbody>\n",
       "\t<tr><th scope=row>1</th><td> 8</td><td>Children aged &lt;5 years underweight (%)</td><td>NLIS_310044</td><td>Published</td><td>1986</td><td>Africa</td><td>Senegal </td><td><span style=white-space:pre-wrap>Male  </span></td><td>19.3</td><td>19.3</td><td>NA</td><td>NA</td><td>NA</td></tr>\n",
       "\t<tr><th scope=row>2</th><td>11</td><td>Children aged &lt;5 years underweight (%)</td><td>NLIS_310095</td><td>Published</td><td>1989</td><td>Africa</td><td><span style=white-space:pre-wrap>Uganda  </span></td><td>Female</td><td>19.1</td><td>19.1</td><td>NA</td><td>NA</td><td>NA</td></tr>\n",
       "\t<tr><th scope=row>3</th><td>13</td><td>Children aged &lt;5 years underweight (%)</td><td>NLIS_310138</td><td>Published</td><td>1988</td><td>Africa</td><td>Zimbabwe</td><td>Female</td><td> 7.2</td><td> 7.2</td><td>NA</td><td>NA</td><td>NA</td></tr>\n",
       "\t<tr><th scope=row>4</th><td>16</td><td>Children aged &lt;5 years underweight (%)</td><td>NLIS_310044</td><td>Published</td><td>1986</td><td>Africa</td><td>Senegal </td><td>Female</td><td>15.3</td><td>15.3</td><td>NA</td><td>NA</td><td>NA</td></tr>\n",
       "\t<tr><th scope=row>5</th><td>18</td><td>Children aged &lt;5 years underweight (%)</td><td>NLIS_310095</td><td>Published</td><td>1989</td><td>Africa</td><td><span style=white-space:pre-wrap>Uganda  </span></td><td><span style=white-space:pre-wrap>Male  </span></td><td>20.4</td><td>20.4</td><td>NA</td><td>NA</td><td>NA</td></tr>\n",
       "\t<tr><th scope=row>6</th><td>21</td><td>Children aged &lt;5 years underweight (%)</td><td>NLIS_310138</td><td>Published</td><td>1988</td><td>Africa</td><td>Zimbabwe</td><td><span style=white-space:pre-wrap>Male  </span></td><td> 8.7</td><td> 8.7</td><td>NA</td><td>NA</td><td>NA</td></tr>\n",
       "\t<tr><th scope=row>7</th><td>26</td><td>Children aged &lt;5 years underweight (%)</td><td>NLIS_310045</td><td>Published</td><td>1987</td><td>Africa</td><td><span style=white-space:pre-wrap>Mali    </span></td><td><span style=white-space:pre-wrap>Male  </span></td><td>30.9</td><td>30.9</td><td>NA</td><td>NA</td><td>NA</td></tr>\n",
       "\t<tr><th scope=row>8</th><td>27</td><td>Children aged &lt;5 years underweight (%)</td><td>NLIS_310045</td><td>Published</td><td>1987</td><td>Africa</td><td><span style=white-space:pre-wrap>Mali    </span></td><td>Female</td><td>27.0</td><td>27.0</td><td>NA</td><td>NA</td><td>NA</td></tr>\n",
       "\t<tr><th scope=row>9</th><td>29</td><td>Children aged &lt;5 years underweight (%)</td><td>NLIS_310092</td><td>Published</td><td>1987</td><td>Africa</td><td>Burundi </td><td><span style=white-space:pre-wrap>Male  </span></td><td>32.6</td><td>32.6</td><td>NA</td><td>NA</td><td>NA</td></tr>\n",
       "\t<tr><th scope=row>10</th><td>30</td><td>Children aged &lt;5 years underweight (%)</td><td>NLIS_310092</td><td>Published</td><td>1987</td><td>Africa</td><td>Burundi </td><td>Female</td><td>27.8</td><td>27.8</td><td>NA</td><td>NA</td><td>NA</td></tr>\n",
       "</tbody>\n",
       "</table>\n"
      ],
      "text/latex": [
       "A data.frame: 10 × 13\n",
       "\\begin{tabular}{r|lllllllllllll}\n",
       "  & X & Indicator & Data.Source & PUBLISH.STATES & Year & WHO.region & Country & Sex & Display.Value & Numeric & Low & High & Comments\\\\\n",
       "  & <int> & <chr> & <chr> & <chr> & <int> & <chr> & <chr> & <chr> & <dbl> & <dbl> & <lgl> & <lgl> & <lgl>\\\\\n",
       "\\hline\n",
       "\t1 &  8 & Children aged <5 years underweight (\\%) & NLIS\\_310044 & Published & 1986 & Africa & Senegal  & Male   & 19.3 & 19.3 & NA & NA & NA\\\\\n",
       "\t2 & 11 & Children aged <5 years underweight (\\%) & NLIS\\_310095 & Published & 1989 & Africa & Uganda   & Female & 19.1 & 19.1 & NA & NA & NA\\\\\n",
       "\t3 & 13 & Children aged <5 years underweight (\\%) & NLIS\\_310138 & Published & 1988 & Africa & Zimbabwe & Female &  7.2 &  7.2 & NA & NA & NA\\\\\n",
       "\t4 & 16 & Children aged <5 years underweight (\\%) & NLIS\\_310044 & Published & 1986 & Africa & Senegal  & Female & 15.3 & 15.3 & NA & NA & NA\\\\\n",
       "\t5 & 18 & Children aged <5 years underweight (\\%) & NLIS\\_310095 & Published & 1989 & Africa & Uganda   & Male   & 20.4 & 20.4 & NA & NA & NA\\\\\n",
       "\t6 & 21 & Children aged <5 years underweight (\\%) & NLIS\\_310138 & Published & 1988 & Africa & Zimbabwe & Male   &  8.7 &  8.7 & NA & NA & NA\\\\\n",
       "\t7 & 26 & Children aged <5 years underweight (\\%) & NLIS\\_310045 & Published & 1987 & Africa & Mali     & Male   & 30.9 & 30.9 & NA & NA & NA\\\\\n",
       "\t8 & 27 & Children aged <5 years underweight (\\%) & NLIS\\_310045 & Published & 1987 & Africa & Mali     & Female & 27.0 & 27.0 & NA & NA & NA\\\\\n",
       "\t9 & 29 & Children aged <5 years underweight (\\%) & NLIS\\_310092 & Published & 1987 & Africa & Burundi  & Male   & 32.6 & 32.6 & NA & NA & NA\\\\\n",
       "\t10 & 30 & Children aged <5 years underweight (\\%) & NLIS\\_310092 & Published & 1987 & Africa & Burundi  & Female & 27.8 & 27.8 & NA & NA & NA\\\\\n",
       "\\end{tabular}\n"
      ],
      "text/markdown": [
       "\n",
       "A data.frame: 10 × 13\n",
       "\n",
       "| <!--/--> | X &lt;int&gt; | Indicator &lt;chr&gt; | Data.Source &lt;chr&gt; | PUBLISH.STATES &lt;chr&gt; | Year &lt;int&gt; | WHO.region &lt;chr&gt; | Country &lt;chr&gt; | Sex &lt;chr&gt; | Display.Value &lt;dbl&gt; | Numeric &lt;dbl&gt; | Low &lt;lgl&gt; | High &lt;lgl&gt; | Comments &lt;lgl&gt; |\n",
       "|---|---|---|---|---|---|---|---|---|---|---|---|---|---|\n",
       "| 1 |  8 | Children aged &lt;5 years underweight (%) | NLIS_310044 | Published | 1986 | Africa | Senegal  | Male   | 19.3 | 19.3 | NA | NA | NA |\n",
       "| 2 | 11 | Children aged &lt;5 years underweight (%) | NLIS_310095 | Published | 1989 | Africa | Uganda   | Female | 19.1 | 19.1 | NA | NA | NA |\n",
       "| 3 | 13 | Children aged &lt;5 years underweight (%) | NLIS_310138 | Published | 1988 | Africa | Zimbabwe | Female |  7.2 |  7.2 | NA | NA | NA |\n",
       "| 4 | 16 | Children aged &lt;5 years underweight (%) | NLIS_310044 | Published | 1986 | Africa | Senegal  | Female | 15.3 | 15.3 | NA | NA | NA |\n",
       "| 5 | 18 | Children aged &lt;5 years underweight (%) | NLIS_310095 | Published | 1989 | Africa | Uganda   | Male   | 20.4 | 20.4 | NA | NA | NA |\n",
       "| 6 | 21 | Children aged &lt;5 years underweight (%) | NLIS_310138 | Published | 1988 | Africa | Zimbabwe | Male   |  8.7 |  8.7 | NA | NA | NA |\n",
       "| 7 | 26 | Children aged &lt;5 years underweight (%) | NLIS_310045 | Published | 1987 | Africa | Mali     | Male   | 30.9 | 30.9 | NA | NA | NA |\n",
       "| 8 | 27 | Children aged &lt;5 years underweight (%) | NLIS_310045 | Published | 1987 | Africa | Mali     | Female | 27.0 | 27.0 | NA | NA | NA |\n",
       "| 9 | 29 | Children aged &lt;5 years underweight (%) | NLIS_310092 | Published | 1987 | Africa | Burundi  | Male   | 32.6 | 32.6 | NA | NA | NA |\n",
       "| 10 | 30 | Children aged &lt;5 years underweight (%) | NLIS_310092 | Published | 1987 | Africa | Burundi  | Female | 27.8 | 27.8 | NA | NA | NA |\n",
       "\n"
      ],
      "text/plain": [
       "   X  Indicator                              Data.Source PUBLISH.STATES Year\n",
       "1   8 Children aged <5 years underweight (%) NLIS_310044 Published      1986\n",
       "2  11 Children aged <5 years underweight (%) NLIS_310095 Published      1989\n",
       "3  13 Children aged <5 years underweight (%) NLIS_310138 Published      1988\n",
       "4  16 Children aged <5 years underweight (%) NLIS_310044 Published      1986\n",
       "5  18 Children aged <5 years underweight (%) NLIS_310095 Published      1989\n",
       "6  21 Children aged <5 years underweight (%) NLIS_310138 Published      1988\n",
       "7  26 Children aged <5 years underweight (%) NLIS_310045 Published      1987\n",
       "8  27 Children aged <5 years underweight (%) NLIS_310045 Published      1987\n",
       "9  29 Children aged <5 years underweight (%) NLIS_310092 Published      1987\n",
       "10 30 Children aged <5 years underweight (%) NLIS_310092 Published      1987\n",
       "   WHO.region Country  Sex    Display.Value Numeric Low High Comments\n",
       "1  Africa     Senegal  Male   19.3          19.3    NA  NA   NA      \n",
       "2  Africa     Uganda   Female 19.1          19.1    NA  NA   NA      \n",
       "3  Africa     Zimbabwe Female  7.2           7.2    NA  NA   NA      \n",
       "4  Africa     Senegal  Female 15.3          15.3    NA  NA   NA      \n",
       "5  Africa     Uganda   Male   20.4          20.4    NA  NA   NA      \n",
       "6  Africa     Zimbabwe Male    8.7           8.7    NA  NA   NA      \n",
       "7  Africa     Mali     Male   30.9          30.9    NA  NA   NA      \n",
       "8  Africa     Mali     Female 27.0          27.0    NA  NA   NA      \n",
       "9  Africa     Burundi  Male   32.6          32.6    NA  NA   NA      \n",
       "10 Africa     Burundi  Female 27.8          27.8    NA  NA   NA      "
      ]
     },
     "metadata": {},
     "output_type": "display_data"
    }
   ],
   "source": [
    "head(hunger,10)"
   ]
  },
  {
   "cell_type": "code",
   "execution_count": 71,
   "metadata": {},
   "outputs": [
    {
     "data": {
      "text/html": [
       "<style>\n",
       ".list-inline {list-style: none; margin:0; padding: 0}\n",
       ".list-inline>li {display: inline-block}\n",
       ".list-inline>li:not(:last-child)::after {content: \"\\00b7\"; padding: 0 .5ex}\n",
       "</style>\n",
       "<ol class=list-inline><li>948</li><li>13</li></ol>\n"
      ],
      "text/latex": [
       "\\begin{enumerate*}\n",
       "\\item 948\n",
       "\\item 13\n",
       "\\end{enumerate*}\n"
      ],
      "text/markdown": [
       "1. 948\n",
       "2. 13\n",
       "\n",
       "\n"
      ],
      "text/plain": [
       "[1] 948  13"
      ]
     },
     "metadata": {},
     "output_type": "display_data"
    }
   ],
   "source": [
    "dim(hunger)"
   ]
  },
  {
   "cell_type": "code",
   "execution_count": 72,
   "metadata": {},
   "outputs": [
    {
     "data": {
      "text/html": [
       "<style>\n",
       ".list-inline {list-style: none; margin:0; padding: 0}\n",
       ".list-inline>li {display: inline-block}\n",
       ".list-inline>li:not(:last-child)::after {content: \"\\00b7\"; padding: 0 .5ex}\n",
       "</style>\n",
       "<ol class=list-inline><li>'X'</li><li>'Indicator'</li><li>'Data.Source'</li><li>'PUBLISH.STATES'</li><li>'Year'</li><li>'WHO.region'</li><li>'Country'</li><li>'Sex'</li><li>'Display.Value'</li><li>'Numeric'</li><li>'Low'</li><li>'High'</li><li>'Comments'</li></ol>\n"
      ],
      "text/latex": [
       "\\begin{enumerate*}\n",
       "\\item 'X'\n",
       "\\item 'Indicator'\n",
       "\\item 'Data.Source'\n",
       "\\item 'PUBLISH.STATES'\n",
       "\\item 'Year'\n",
       "\\item 'WHO.region'\n",
       "\\item 'Country'\n",
       "\\item 'Sex'\n",
       "\\item 'Display.Value'\n",
       "\\item 'Numeric'\n",
       "\\item 'Low'\n",
       "\\item 'High'\n",
       "\\item 'Comments'\n",
       "\\end{enumerate*}\n"
      ],
      "text/markdown": [
       "1. 'X'\n",
       "2. 'Indicator'\n",
       "3. 'Data.Source'\n",
       "4. 'PUBLISH.STATES'\n",
       "5. 'Year'\n",
       "6. 'WHO.region'\n",
       "7. 'Country'\n",
       "8. 'Sex'\n",
       "9. 'Display.Value'\n",
       "10. 'Numeric'\n",
       "11. 'Low'\n",
       "12. 'High'\n",
       "13. 'Comments'\n",
       "\n",
       "\n"
      ],
      "text/plain": [
       " [1] \"X\"              \"Indicator\"      \"Data.Source\"    \"PUBLISH.STATES\"\n",
       " [5] \"Year\"           \"WHO.region\"     \"Country\"        \"Sex\"           \n",
       " [9] \"Display.Value\"  \"Numeric\"        \"Low\"            \"High\"          \n",
       "[13] \"Comments\"      "
      ]
     },
     "metadata": {},
     "output_type": "display_data"
    }
   ],
   "source": [
    "names(hunger)"
   ]
  },
  {
   "cell_type": "markdown",
   "metadata": {},
   "source": [
    "  \n",
    "The Numeric column for a particular row tells us the percentage of children under age 5 who were underweight, which will be treated as the outcome/response for the analysis  \n",
    "\n",
    "To analyze how the rate of hunger changes with respect to time, regress 'year' variable on the outcome 'Numeric'\n",
    "  "
   ]
  },
  {
   "cell_type": "code",
   "execution_count": 73,
   "metadata": {},
   "outputs": [],
   "source": [
    "fit = lm(Numeric~Year,hunger)"
   ]
  },
  {
   "cell_type": "code",
   "execution_count": 74,
   "metadata": {},
   "outputs": [
    {
     "data": {
      "text/html": [
       "<table>\n",
       "<caption>A matrix: 2 × 4 of type dbl</caption>\n",
       "<thead>\n",
       "\t<tr><th></th><th scope=col>Estimate</th><th scope=col>Std. Error</th><th scope=col>t value</th><th scope=col>Pr(&gt;|t|)</th></tr>\n",
       "</thead>\n",
       "<tbody>\n",
       "\t<tr><th scope=row>(Intercept)</th><td>634.479660</td><td>121.1445995</td><td> 5.237375</td><td>2.007699e-07</td></tr>\n",
       "\t<tr><th scope=row>Year</th><td> -0.308397</td><td>  0.0605292</td><td>-5.095012</td><td>4.209412e-07</td></tr>\n",
       "</tbody>\n",
       "</table>\n"
      ],
      "text/latex": [
       "A matrix: 2 × 4 of type dbl\n",
       "\\begin{tabular}{r|llll}\n",
       "  & Estimate & Std. Error & t value & Pr(>\\textbar{}t\\textbar{})\\\\\n",
       "\\hline\n",
       "\t(Intercept) & 634.479660 & 121.1445995 &  5.237375 & 2.007699e-07\\\\\n",
       "\tYear &  -0.308397 &   0.0605292 & -5.095012 & 4.209412e-07\\\\\n",
       "\\end{tabular}\n"
      ],
      "text/markdown": [
       "\n",
       "A matrix: 2 × 4 of type dbl\n",
       "\n",
       "| <!--/--> | Estimate | Std. Error | t value | Pr(&gt;|t|) |\n",
       "|---|---|---|---|---|\n",
       "| (Intercept) | 634.479660 | 121.1445995 |  5.237375 | 2.007699e-07 |\n",
       "| Year |  -0.308397 |   0.0605292 | -5.095012 | 4.209412e-07 |\n",
       "\n"
      ],
      "text/plain": [
       "            Estimate   Std. Error  t value   Pr(>|t|)    \n",
       "(Intercept) 634.479660 121.1445995  5.237375 2.007699e-07\n",
       "Year         -0.308397   0.0605292 -5.095012 4.209412e-07"
      ]
     },
     "metadata": {},
     "output_type": "display_data"
    }
   ],
   "source": [
    "summary(fit)$coef"
   ]
  },
  {
   "cell_type": "markdown",
   "metadata": {},
   "source": [
    "The coefficient of year is -0.308397  \n",
    "Shows us that the two variables are weak negatively correlated and,  \n",
    "The intercept represents the percentage of children that are hungry in the beginning(in year 0)\n",
    "\n",
    "To compare the coefficients per gender"
   ]
  },
  {
   "cell_type": "code",
   "execution_count": 75,
   "metadata": {},
   "outputs": [],
   "source": [
    "lmF = lm(Numeric[hunger$Sex==\"Female\"]~Year[hunger$Sex==\"Female\"],hunger)"
   ]
  },
  {
   "cell_type": "code",
   "execution_count": 76,
   "metadata": {},
   "outputs": [],
   "source": [
    "lmM = lm(Numeric[hunger$Sex==\"Male\"]~Year[hunger$Sex==\"Male\"],hunger)"
   ]
  },
  {
   "cell_type": "markdown",
   "metadata": {},
   "source": [
    "Visualizing the data with the regression lines"
   ]
  },
  {
   "cell_type": "code",
   "execution_count": 77,
   "metadata": {},
   "outputs": [
    {
     "data": {
      "image/png": "[encoded data removed]",
      "text/plain": [
       "plot without title"
      ]
     },
     "metadata": {
      "image/png": {
       "height": 360,
       "width": 480
      }
     },
     "output_type": "display_data"
    }
   ],
   "source": [
    "ggplot(data,\n",
    "       aes(Year,Numeric,col=Sex)\n",
    ") + geom_point() +\n",
    "geom_abline(intercept=lmF$coef[1],slope=lmF$coef[2],col=\"red\") + \n",
    "geom_abline(intercept=lmM$coef[1],slope=lmM$coef[2],col=\"blue\")"
   ]
  },
  {
   "cell_type": "markdown",
   "metadata": {},
   "source": [
    "Using gender as another predictor to create new linear model 'lmBoth'"
   ]
  },
  {
   "cell_type": "code",
   "execution_count": 78,
   "metadata": {},
   "outputs": [],
   "source": [
    "lmBoth = lm(Numeric~Year+Sex,hunger)"
   ]
  },
  {
   "cell_type": "code",
   "execution_count": 79,
   "metadata": {},
   "outputs": [
    {
     "data": {
      "text/plain": [
       "\n",
       "Call:\n",
       "lm(formula = Numeric ~ Year + Sex, data = hunger)\n",
       "\n",
       "Residuals:\n",
       "    Min      1Q  Median      3Q     Max \n",
       "-25.472 -11.297  -1.848   7.058  45.990 \n",
       "\n",
       "Coefficients:\n",
       "            Estimate Std. Error t value Pr(>|t|)    \n",
       "(Intercept) 633.5283   120.8950   5.240 1.98e-07 ***\n",
       "Year         -0.3084     0.0604  -5.106 3.99e-07 ***\n",
       "SexMale       1.9027     0.8576   2.219   0.0267 *  \n",
       "---\n",
       "Signif. codes:  0 '***' 0.001 '**' 0.01 '*' 0.05 '.' 0.1 ' ' 1\n",
       "\n",
       "Residual standard error: 13.2 on 945 degrees of freedom\n",
       "Multiple R-squared:  0.03175,\tAdjusted R-squared:  0.0297 \n",
       "F-statistic: 15.49 on 2 and 945 DF,  p-value: 2.392e-07\n"
      ]
     },
     "metadata": {},
     "output_type": "display_data"
    }
   ],
   "source": [
    "summary(lmBoth)"
   ]
  },
  {
   "cell_type": "markdown",
   "metadata": {},
   "source": [
    "Since the 'Sex' variable is a factor, R treats one level as the reference(which in this case is the 'Female') and the coefficient 'SexMale' is how much the estimate is different from the reference '(intercept)'\n",
    "\n",
    "The estimate for hunger$Year represents the the annual decrease in percentage of hungry children of both genders.  \n",
    "\n",
    "If we are to replot the previous plot using the coefficients of the lmBoth fit, we'd get two parallel regression lines since they both have the same slope."
   ]
  },
  {
   "cell_type": "code",
   "execution_count": 80,
   "metadata": {},
   "outputs": [
    {
     "data": {
      "image/png": "[encoded data removed]",
      "text/plain": [
       "plot without title"
      ]
     },
     "metadata": {
      "image/png": {
       "height": 360,
       "width": 480
      }
     },
     "output_type": "display_data"
    }
   ],
   "source": [
    "ggplot(data,\n",
    "       aes(Year,Numeric,col=Sex)\n",
    ") + geom_point() +\n",
    "geom_abline(intercept=lmBoth$coef[1],slope=lmBoth$coef[2],col=\"red\") + \n",
    "geom_abline(intercept=lmBoth$coef[3]+lmBoth$coef[1],slope=lmBoth$coef[2],col=\"blue\")"
   ]
  },
  {
   "cell_type": "markdown",
   "metadata": {},
   "source": [
    "To study the interaction between year and gender to the response hunger-rate(Numeric), we introduce a new term which is product of gender and year.  \n",
    "\n",
    "The predicted number of coefficients is 4 since there are 3 coefficients by default and then the added coefficient due to the factor variable."
   ]
  },
  {
   "cell_type": "code",
   "execution_count": 81,
   "metadata": {},
   "outputs": [],
   "source": [
    "lmInter = lm(Numeric~Sex*Year,hunger)"
   ]
  },
  {
   "cell_type": "code",
   "execution_count": 82,
   "metadata": {},
   "outputs": [
    {
     "data": {
      "text/plain": [
       "\n",
       "Call:\n",
       "lm(formula = Numeric ~ Sex * Year, data = hunger)\n",
       "\n",
       "Residuals:\n",
       "    Min      1Q  Median      3Q     Max \n",
       "-25.913 -11.248  -1.853   7.087  46.146 \n",
       "\n",
       "Coefficients:\n",
       "              Estimate Std. Error t value Pr(>|t|)    \n",
       "(Intercept)  603.50580  171.05519   3.528 0.000439 ***\n",
       "SexMale       61.94772  241.90858   0.256 0.797946    \n",
       "Year          -0.29340    0.08547  -3.433 0.000623 ***\n",
       "SexMale:Year  -0.03000    0.12087  -0.248 0.804022    \n",
       "---\n",
       "Signif. codes:  0 '***' 0.001 '**' 0.01 '*' 0.05 '.' 0.1 ' ' 1\n",
       "\n",
       "Residual standard error: 13.21 on 944 degrees of freedom\n",
       "Multiple R-squared:  0.03181,\tAdjusted R-squared:  0.02874 \n",
       "F-statistic: 10.34 on 3 and 944 DF,  p-value: 1.064e-06\n"
      ]
     },
     "metadata": {},
     "output_type": "display_data"
    }
   ],
   "source": [
    "summary(lmInter)"
   ]
  },
  {
   "cell_type": "markdown",
   "metadata": {},
   "source": [
    "Where,\n",
    "* The percentage of hungry females at year 0: **603.5058**\n",
    "* The percentage of hungry males at year 0: **665.4535**\n",
    "* The annual change in percentage of hungry females: **-0.29340**\n",
    "* The annual change in percentage of hungry males: **-0.32340**\n",
    "\n",
    "Replotting the lines using the coefficients of lmInter fit."
   ]
  },
  {
   "cell_type": "code",
   "execution_count": 94,
   "metadata": {},
   "outputs": [
    {
     "data": {
      "image/png": "[encoded data removed]",
      "text/plain": [
       "plot without title"
      ]
     },
     "metadata": {
      "image/png": {
       "height": 360,
       "width": 480
      }
     },
     "output_type": "display_data"
    }
   ],
   "source": [
    "ggplot(data,\n",
    "       aes(Year,Numeric,col=Sex)\n",
    ") + geom_point() +\n",
    "geom_abline(intercept=lmInter$coef[1],slope=lmInter$coef[2],col=\"red\",size=2) + \n",
    "geom_abline(intercept=lmInter$coef[1]+lmInter$coef[3],slope=lmInter$coef[2]+lmInter$coef[4],col=\"blue\",size=2)"
   ]
  }
 ],
 "metadata": {
  "kernelspec": {
   "display_name": "R",
   "language": "R",
   "name": "ir"
  },
  "language_info": {
   "codemirror_mode": "r",
   "file_extension": ".r",
   "mimetype": "text/x-r-source",
   "name": "R",
   "pygments_lexer": "r",
   "version": "4.0.2"
  }
 },
 "nbformat": 4,
 "nbformat_minor": 4
}
