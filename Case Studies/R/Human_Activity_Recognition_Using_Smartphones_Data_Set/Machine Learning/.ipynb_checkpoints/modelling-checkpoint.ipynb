{
 "cells": [
  {
   "cell_type": "markdown",
   "metadata": {},
   "source": [
    "# Human Activity Prediction \n",
    "\n",
    "### Libraries "
   ]
  },
  {
   "cell_type": "code",
   "execution_count": 92,
   "metadata": {},
   "outputs": [],
   "source": [
    "## Modelling\n",
    "library(caret); library(rattle); library(randomForest); library(e1071); library(forecast)\n",
    "## Data processing/visualization\n",
    "library(dplyr); library(ggplot2)"
   ]
  },
  {
   "cell_type": "markdown",
   "metadata": {},
   "source": [
    "#### Getting the data\n",
    "Downloading"
   ]
  },
  {
   "cell_type": "code",
   "execution_count": 93,
   "metadata": {},
   "outputs": [],
   "source": [
    "train_URL = \"https://d396qusza40orc.cloudfront.net/predmachlearn/pml-training.csv\"\n",
    "test_URL = \"https://d396qusza40orc.cloudfront.net/predmachlearn/pml-testing.csv\"\n",
    "download.file(train_URL, destfile = \"./data/train.csv\")\n",
    "download.file(test_URL, destfile = \"./data/test.csv\")"
   ]
  },
  {
   "cell_type": "markdown",
   "metadata": {},
   "source": [
    "Loading"
   ]
  },
  {
   "cell_type": "code",
   "execution_count": 94,
   "metadata": {},
   "outputs": [
    {
     "data": {
      "text/html": [
       "<table>\n",
       "<thead><tr><th scope=col>X</th><th scope=col>user_name</th><th scope=col>raw_timestamp_part_1</th><th scope=col>raw_timestamp_part_2</th><th scope=col>cvtd_timestamp</th><th scope=col>new_window</th><th scope=col>num_window</th><th scope=col>roll_belt</th><th scope=col>pitch_belt</th><th scope=col>yaw_belt</th><th scope=col>...</th><th scope=col>gyros_forearm_x</th><th scope=col>gyros_forearm_y</th><th scope=col>gyros_forearm_z</th><th scope=col>accel_forearm_x</th><th scope=col>accel_forearm_y</th><th scope=col>accel_forearm_z</th><th scope=col>magnet_forearm_x</th><th scope=col>magnet_forearm_y</th><th scope=col>magnet_forearm_z</th><th scope=col>classe</th></tr></thead>\n",
       "<tbody>\n",
       "\t<tr><td>1               </td><td>carlitos        </td><td>1323084231      </td><td>788290          </td><td>05/12/2011 11:23</td><td>no              </td><td>11              </td><td>1.41            </td><td>8.07            </td><td>-94.4           </td><td>...             </td><td>0.03            </td><td> 0.00           </td><td>-0.02           </td><td>192             </td><td>203             </td><td>-215            </td><td>-17             </td><td>654             </td><td>476             </td><td>A               </td></tr>\n",
       "\t<tr><td>2               </td><td>carlitos        </td><td>1323084231      </td><td>808298          </td><td>05/12/2011 11:23</td><td>no              </td><td>11              </td><td>1.41            </td><td>8.07            </td><td>-94.4           </td><td>...             </td><td>0.02            </td><td> 0.00           </td><td>-0.02           </td><td>192             </td><td>203             </td><td>-216            </td><td>-18             </td><td>661             </td><td>473             </td><td>A               </td></tr>\n",
       "\t<tr><td>3               </td><td>carlitos        </td><td>1323084231      </td><td>820366          </td><td>05/12/2011 11:23</td><td>no              </td><td>11              </td><td>1.42            </td><td>8.07            </td><td>-94.4           </td><td>...             </td><td>0.03            </td><td>-0.02           </td><td> 0.00           </td><td>196             </td><td>204             </td><td>-213            </td><td>-18             </td><td>658             </td><td>469             </td><td>A               </td></tr>\n",
       "\t<tr><td>4               </td><td>carlitos        </td><td>1323084232      </td><td>120339          </td><td>05/12/2011 11:23</td><td>no              </td><td>12              </td><td>1.48            </td><td>8.05            </td><td>-94.4           </td><td>...             </td><td>0.02            </td><td>-0.02           </td><td> 0.00           </td><td>189             </td><td>206             </td><td>-214            </td><td>-16             </td><td>658             </td><td>469             </td><td>A               </td></tr>\n",
       "\t<tr><td>5               </td><td>carlitos        </td><td>1323084232      </td><td>196328          </td><td>05/12/2011 11:23</td><td>no              </td><td>12              </td><td>1.48            </td><td>8.07            </td><td>-94.4           </td><td>...             </td><td>0.02            </td><td> 0.00           </td><td>-0.02           </td><td>189             </td><td>206             </td><td>-214            </td><td>-17             </td><td>655             </td><td>473             </td><td>A               </td></tr>\n",
       "\t<tr><td>6               </td><td>carlitos        </td><td>1323084232      </td><td>304277          </td><td>05/12/2011 11:23</td><td>no              </td><td>12              </td><td>1.45            </td><td>8.06            </td><td>-94.4           </td><td>...             </td><td>0.02            </td><td>-0.02           </td><td>-0.03           </td><td>193             </td><td>203             </td><td>-215            </td><td> -9             </td><td>660             </td><td>478             </td><td>A               </td></tr>\n",
       "</tbody>\n",
       "</table>\n"
      ],
      "text/latex": [
       "\\begin{tabular}{r|llllllllllllllllllllllllllllllllllllllllllllllllllllllllllllllllllllllllllllllllllllllllllllllllllllllllllllllllllllllllllllllllllllllllllllllllllllllllllllllll}\n",
       " X & user\\_name & raw\\_timestamp\\_part\\_1 & raw\\_timestamp\\_part\\_2 & cvtd\\_timestamp & new\\_window & num\\_window & roll\\_belt & pitch\\_belt & yaw\\_belt & ... & gyros\\_forearm\\_x & gyros\\_forearm\\_y & gyros\\_forearm\\_z & accel\\_forearm\\_x & accel\\_forearm\\_y & accel\\_forearm\\_z & magnet\\_forearm\\_x & magnet\\_forearm\\_y & magnet\\_forearm\\_z & classe\\\\\n",
       "\\hline\n",
       "\t 1                & carlitos         & 1323084231       & 788290           & 05/12/2011 11:23 & no               & 11               & 1.41             & 8.07             & -94.4            & ...              & 0.03             &  0.00            & -0.02            & 192              & 203              & -215             & -17              & 654              & 476              & A               \\\\\n",
       "\t 2                & carlitos         & 1323084231       & 808298           & 05/12/2011 11:23 & no               & 11               & 1.41             & 8.07             & -94.4            & ...              & 0.02             &  0.00            & -0.02            & 192              & 203              & -216             & -18              & 661              & 473              & A               \\\\\n",
       "\t 3                & carlitos         & 1323084231       & 820366           & 05/12/2011 11:23 & no               & 11               & 1.42             & 8.07             & -94.4            & ...              & 0.03             & -0.02            &  0.00            & 196              & 204              & -213             & -18              & 658              & 469              & A               \\\\\n",
       "\t 4                & carlitos         & 1323084232       & 120339           & 05/12/2011 11:23 & no               & 12               & 1.48             & 8.05             & -94.4            & ...              & 0.02             & -0.02            &  0.00            & 189              & 206              & -214             & -16              & 658              & 469              & A               \\\\\n",
       "\t 5                & carlitos         & 1323084232       & 196328           & 05/12/2011 11:23 & no               & 12               & 1.48             & 8.07             & -94.4            & ...              & 0.02             &  0.00            & -0.02            & 189              & 206              & -214             & -17              & 655              & 473              & A               \\\\\n",
       "\t 6                & carlitos         & 1323084232       & 304277           & 05/12/2011 11:23 & no               & 12               & 1.45             & 8.06             & -94.4            & ...              & 0.02             & -0.02            & -0.03            & 193              & 203              & -215             &  -9              & 660              & 478              & A               \\\\\n",
       "\\end{tabular}\n"
      ],
      "text/markdown": [
       "\n",
       "| X | user_name | raw_timestamp_part_1 | raw_timestamp_part_2 | cvtd_timestamp | new_window | num_window | roll_belt | pitch_belt | yaw_belt | ... | gyros_forearm_x | gyros_forearm_y | gyros_forearm_z | accel_forearm_x | accel_forearm_y | accel_forearm_z | magnet_forearm_x | magnet_forearm_y | magnet_forearm_z | classe |\n",
       "|---|---|---|---|---|---|---|---|---|---|---|---|---|---|---|---|---|---|---|---|---|\n",
       "| 1                | carlitos         | 1323084231       | 788290           | 05/12/2011 11:23 | no               | 11               | 1.41             | 8.07             | -94.4            | ...              | 0.03             |  0.00            | -0.02            | 192              | 203              | -215             | -17              | 654              | 476              | A                |\n",
       "| 2                | carlitos         | 1323084231       | 808298           | 05/12/2011 11:23 | no               | 11               | 1.41             | 8.07             | -94.4            | ...              | 0.02             |  0.00            | -0.02            | 192              | 203              | -216             | -18              | 661              | 473              | A                |\n",
       "| 3                | carlitos         | 1323084231       | 820366           | 05/12/2011 11:23 | no               | 11               | 1.42             | 8.07             | -94.4            | ...              | 0.03             | -0.02            |  0.00            | 196              | 204              | -213             | -18              | 658              | 469              | A                |\n",
       "| 4                | carlitos         | 1323084232       | 120339           | 05/12/2011 11:23 | no               | 12               | 1.48             | 8.05             | -94.4            | ...              | 0.02             | -0.02            |  0.00            | 189              | 206              | -214             | -16              | 658              | 469              | A                |\n",
       "| 5                | carlitos         | 1323084232       | 196328           | 05/12/2011 11:23 | no               | 12               | 1.48             | 8.07             | -94.4            | ...              | 0.02             |  0.00            | -0.02            | 189              | 206              | -214             | -17              | 655              | 473              | A                |\n",
       "| 6                | carlitos         | 1323084232       | 304277           | 05/12/2011 11:23 | no               | 12               | 1.45             | 8.06             | -94.4            | ...              | 0.02             | -0.02            | -0.03            | 193              | 203              | -215             |  -9              | 660              | 478              | A                |\n",
       "\n"
      ],
      "text/plain": [
       "  X user_name raw_timestamp_part_1 raw_timestamp_part_2 cvtd_timestamp  \n",
       "1 1 carlitos  1323084231           788290               05/12/2011 11:23\n",
       "2 2 carlitos  1323084231           808298               05/12/2011 11:23\n",
       "3 3 carlitos  1323084231           820366               05/12/2011 11:23\n",
       "4 4 carlitos  1323084232           120339               05/12/2011 11:23\n",
       "5 5 carlitos  1323084232           196328               05/12/2011 11:23\n",
       "6 6 carlitos  1323084232           304277               05/12/2011 11:23\n",
       "  new_window num_window roll_belt pitch_belt yaw_belt ... gyros_forearm_x\n",
       "1 no         11         1.41      8.07       -94.4    ... 0.03           \n",
       "2 no         11         1.41      8.07       -94.4    ... 0.02           \n",
       "3 no         11         1.42      8.07       -94.4    ... 0.03           \n",
       "4 no         12         1.48      8.05       -94.4    ... 0.02           \n",
       "5 no         12         1.48      8.07       -94.4    ... 0.02           \n",
       "6 no         12         1.45      8.06       -94.4    ... 0.02           \n",
       "  gyros_forearm_y gyros_forearm_z accel_forearm_x accel_forearm_y\n",
       "1  0.00           -0.02           192             203            \n",
       "2  0.00           -0.02           192             203            \n",
       "3 -0.02            0.00           196             204            \n",
       "4 -0.02            0.00           189             206            \n",
       "5  0.00           -0.02           189             206            \n",
       "6 -0.02           -0.03           193             203            \n",
       "  accel_forearm_z magnet_forearm_x magnet_forearm_y magnet_forearm_z classe\n",
       "1 -215            -17              654              476              A     \n",
       "2 -216            -18              661              473              A     \n",
       "3 -213            -18              658              469              A     \n",
       "4 -214            -16              658              469              A     \n",
       "5 -214            -17              655              473              A     \n",
       "6 -215             -9              660              478              A     "
      ]
     },
     "metadata": {},
     "output_type": "display_data"
    }
   ],
   "source": [
    "train_raw = read.csv(\"./data/train.csv\")\n",
    "test_raw = read.csv(\"./data/test.csv\")\n",
    "head(train_raw)"
   ]
  },
  {
   "cell_type": "code",
   "execution_count": 95,
   "metadata": {},
   "outputs": [
    {
     "data": {
      "text/html": [
       "<ol class=list-inline>\n",
       "\t<li>19622</li>\n",
       "\t<li>160</li>\n",
       "</ol>\n"
      ],
      "text/latex": [
       "\\begin{enumerate*}\n",
       "\\item 19622\n",
       "\\item 160\n",
       "\\end{enumerate*}\n"
      ],
      "text/markdown": [
       "1. 19622\n",
       "2. 160\n",
       "\n",
       "\n"
      ],
      "text/plain": [
       "[1] 19622   160"
      ]
     },
     "metadata": {},
     "output_type": "display_data"
    },
    {
     "data": {
      "text/html": [
       "<ol class=list-inline>\n",
       "\t<li>20</li>\n",
       "\t<li>160</li>\n",
       "</ol>\n"
      ],
      "text/latex": [
       "\\begin{enumerate*}\n",
       "\\item 20\n",
       "\\item 160\n",
       "\\end{enumerate*}\n"
      ],
      "text/markdown": [
       "1. 20\n",
       "2. 160\n",
       "\n",
       "\n"
      ],
      "text/plain": [
       "[1]  20 160"
      ]
     },
     "metadata": {},
     "output_type": "display_data"
    }
   ],
   "source": [
    "dim(train_raw); dim(test_raw)"
   ]
  },
  {
   "cell_type": "markdown",
   "metadata": {},
   "source": [
    "## Data cleaning\n",
    "There are lot of unnecessary variables, some of which are highly correlated.  \n",
    "The 'raw_timestamp' is used to derive converted timestamp - 'cvtd_timestamp'  \n",
    "\n",
    "I remove X, user_name, new_window, num_window to simplify the model further, and\n",
    "raw_timestamp_part_1, raw_timestamp_part_2, cvtd_timestamp because our goal is to identify the class of activity and timeseries information has no significant role in assessing this. \n",
    "\n",
    "Looking for **missing** data "
   ]
  },
  {
   "cell_type": "code",
   "execution_count": 96,
   "metadata": {},
   "outputs": [
    {
     "data": {
      "text/html": [
       "<ol class=list-inline>\n",
       "\t<li>18</li>\n",
       "\t<li>19</li>\n",
       "\t<li>21</li>\n",
       "\t<li>22</li>\n",
       "\t<li>24</li>\n",
       "\t<li>25</li>\n",
       "\t<li>27</li>\n",
       "\t<li>28</li>\n",
       "\t<li>29</li>\n",
       "\t<li>30</li>\n",
       "\t<li>31</li>\n",
       "\t<li>32</li>\n",
       "\t<li>33</li>\n",
       "\t<li>34</li>\n",
       "\t<li>35</li>\n",
       "\t<li>36</li>\n",
       "\t<li>50</li>\n",
       "\t<li>51</li>\n",
       "\t<li>52</li>\n",
       "\t<li>53</li>\n",
       "\t<li>54</li>\n",
       "\t<li>55</li>\n",
       "\t<li>56</li>\n",
       "\t<li>57</li>\n",
       "\t<li>58</li>\n",
       "\t<li>59</li>\n",
       "\t<li>75</li>\n",
       "\t<li>76</li>\n",
       "\t<li>77</li>\n",
       "\t<li>78</li>\n",
       "\t<li>79</li>\n",
       "\t<li>80</li>\n",
       "\t<li>81</li>\n",
       "\t<li>82</li>\n",
       "\t<li>83</li>\n",
       "\t<li>93</li>\n",
       "\t<li>94</li>\n",
       "\t<li>96</li>\n",
       "\t<li>97</li>\n",
       "\t<li>99</li>\n",
       "\t<li>100</li>\n",
       "\t<li>103</li>\n",
       "\t<li>104</li>\n",
       "\t<li>105</li>\n",
       "\t<li>106</li>\n",
       "\t<li>107</li>\n",
       "\t<li>108</li>\n",
       "\t<li>109</li>\n",
       "\t<li>110</li>\n",
       "\t<li>111</li>\n",
       "\t<li>112</li>\n",
       "\t<li>131</li>\n",
       "\t<li>132</li>\n",
       "\t<li>134</li>\n",
       "\t<li>135</li>\n",
       "\t<li>137</li>\n",
       "\t<li>138</li>\n",
       "\t<li>141</li>\n",
       "\t<li>142</li>\n",
       "\t<li>143</li>\n",
       "\t<li>144</li>\n",
       "\t<li>145</li>\n",
       "\t<li>146</li>\n",
       "\t<li>147</li>\n",
       "\t<li>148</li>\n",
       "\t<li>149</li>\n",
       "\t<li>150</li>\n",
       "\t<li>12</li>\n",
       "\t<li>13</li>\n",
       "\t<li>14</li>\n",
       "\t<li>15</li>\n",
       "\t<li>16</li>\n",
       "\t<li>17</li>\n",
       "\t<li>20</li>\n",
       "\t<li>23</li>\n",
       "\t<li>26</li>\n",
       "\t<li>69</li>\n",
       "\t<li>70</li>\n",
       "\t<li>71</li>\n",
       "\t<li>72</li>\n",
       "\t<li>73</li>\n",
       "\t<li>74</li>\n",
       "\t<li>87</li>\n",
       "\t<li>88</li>\n",
       "\t<li>89</li>\n",
       "\t<li>90</li>\n",
       "\t<li>91</li>\n",
       "\t<li>92</li>\n",
       "\t<li>95</li>\n",
       "\t<li>98</li>\n",
       "\t<li>101</li>\n",
       "\t<li>125</li>\n",
       "\t<li>126</li>\n",
       "\t<li>127</li>\n",
       "\t<li>128</li>\n",
       "\t<li>129</li>\n",
       "\t<li>130</li>\n",
       "\t<li>133</li>\n",
       "\t<li>136</li>\n",
       "\t<li>139</li>\n",
       "\t<li>1</li>\n",
       "\t<li>2</li>\n",
       "\t<li>3</li>\n",
       "\t<li>4</li>\n",
       "\t<li>5</li>\n",
       "\t<li>6</li>\n",
       "\t<li>7</li>\n",
       "</ol>\n"
      ],
      "text/latex": [
       "\\begin{enumerate*}\n",
       "\\item 18\n",
       "\\item 19\n",
       "\\item 21\n",
       "\\item 22\n",
       "\\item 24\n",
       "\\item 25\n",
       "\\item 27\n",
       "\\item 28\n",
       "\\item 29\n",
       "\\item 30\n",
       "\\item 31\n",
       "\\item 32\n",
       "\\item 33\n",
       "\\item 34\n",
       "\\item 35\n",
       "\\item 36\n",
       "\\item 50\n",
       "\\item 51\n",
       "\\item 52\n",
       "\\item 53\n",
       "\\item 54\n",
       "\\item 55\n",
       "\\item 56\n",
       "\\item 57\n",
       "\\item 58\n",
       "\\item 59\n",
       "\\item 75\n",
       "\\item 76\n",
       "\\item 77\n",
       "\\item 78\n",
       "\\item 79\n",
       "\\item 80\n",
       "\\item 81\n",
       "\\item 82\n",
       "\\item 83\n",
       "\\item 93\n",
       "\\item 94\n",
       "\\item 96\n",
       "\\item 97\n",
       "\\item 99\n",
       "\\item 100\n",
       "\\item 103\n",
       "\\item 104\n",
       "\\item 105\n",
       "\\item 106\n",
       "\\item 107\n",
       "\\item 108\n",
       "\\item 109\n",
       "\\item 110\n",
       "\\item 111\n",
       "\\item 112\n",
       "\\item 131\n",
       "\\item 132\n",
       "\\item 134\n",
       "\\item 135\n",
       "\\item 137\n",
       "\\item 138\n",
       "\\item 141\n",
       "\\item 142\n",
       "\\item 143\n",
       "\\item 144\n",
       "\\item 145\n",
       "\\item 146\n",
       "\\item 147\n",
       "\\item 148\n",
       "\\item 149\n",
       "\\item 150\n",
       "\\item 12\n",
       "\\item 13\n",
       "\\item 14\n",
       "\\item 15\n",
       "\\item 16\n",
       "\\item 17\n",
       "\\item 20\n",
       "\\item 23\n",
       "\\item 26\n",
       "\\item 69\n",
       "\\item 70\n",
       "\\item 71\n",
       "\\item 72\n",
       "\\item 73\n",
       "\\item 74\n",
       "\\item 87\n",
       "\\item 88\n",
       "\\item 89\n",
       "\\item 90\n",
       "\\item 91\n",
       "\\item 92\n",
       "\\item 95\n",
       "\\item 98\n",
       "\\item 101\n",
       "\\item 125\n",
       "\\item 126\n",
       "\\item 127\n",
       "\\item 128\n",
       "\\item 129\n",
       "\\item 130\n",
       "\\item 133\n",
       "\\item 136\n",
       "\\item 139\n",
       "\\item 1\n",
       "\\item 2\n",
       "\\item 3\n",
       "\\item 4\n",
       "\\item 5\n",
       "\\item 6\n",
       "\\item 7\n",
       "\\end{enumerate*}\n"
      ],
      "text/markdown": [
       "1. 18\n",
       "2. 19\n",
       "3. 21\n",
       "4. 22\n",
       "5. 24\n",
       "6. 25\n",
       "7. 27\n",
       "8. 28\n",
       "9. 29\n",
       "10. 30\n",
       "11. 31\n",
       "12. 32\n",
       "13. 33\n",
       "14. 34\n",
       "15. 35\n",
       "16. 36\n",
       "17. 50\n",
       "18. 51\n",
       "19. 52\n",
       "20. 53\n",
       "21. 54\n",
       "22. 55\n",
       "23. 56\n",
       "24. 57\n",
       "25. 58\n",
       "26. 59\n",
       "27. 75\n",
       "28. 76\n",
       "29. 77\n",
       "30. 78\n",
       "31. 79\n",
       "32. 80\n",
       "33. 81\n",
       "34. 82\n",
       "35. 83\n",
       "36. 93\n",
       "37. 94\n",
       "38. 96\n",
       "39. 97\n",
       "40. 99\n",
       "41. 100\n",
       "42. 103\n",
       "43. 104\n",
       "44. 105\n",
       "45. 106\n",
       "46. 107\n",
       "47. 108\n",
       "48. 109\n",
       "49. 110\n",
       "50. 111\n",
       "51. 112\n",
       "52. 131\n",
       "53. 132\n",
       "54. 134\n",
       "55. 135\n",
       "56. 137\n",
       "57. 138\n",
       "58. 141\n",
       "59. 142\n",
       "60. 143\n",
       "61. 144\n",
       "62. 145\n",
       "63. 146\n",
       "64. 147\n",
       "65. 148\n",
       "66. 149\n",
       "67. 150\n",
       "68. 12\n",
       "69. 13\n",
       "70. 14\n",
       "71. 15\n",
       "72. 16\n",
       "73. 17\n",
       "74. 20\n",
       "75. 23\n",
       "76. 26\n",
       "77. 69\n",
       "78. 70\n",
       "79. 71\n",
       "80. 72\n",
       "81. 73\n",
       "82. 74\n",
       "83. 87\n",
       "84. 88\n",
       "85. 89\n",
       "86. 90\n",
       "87. 91\n",
       "88. 92\n",
       "89. 95\n",
       "90. 98\n",
       "91. 101\n",
       "92. 125\n",
       "93. 126\n",
       "94. 127\n",
       "95. 128\n",
       "96. 129\n",
       "97. 130\n",
       "98. 133\n",
       "99. 136\n",
       "100. 139\n",
       "101. 1\n",
       "102. 2\n",
       "103. 3\n",
       "104. 4\n",
       "105. 5\n",
       "106. 6\n",
       "107. 7\n",
       "\n",
       "\n"
      ],
      "text/plain": [
       "  [1]  18  19  21  22  24  25  27  28  29  30  31  32  33  34  35  36  50  51\n",
       " [19]  52  53  54  55  56  57  58  59  75  76  77  78  79  80  81  82  83  93\n",
       " [37]  94  96  97  99 100 103 104 105 106 107 108 109 110 111 112 131 132 134\n",
       " [55] 135 137 138 141 142 143 144 145 146 147 148 149 150  12  13  14  15  16\n",
       " [73]  17  20  23  26  69  70  71  72  73  74  87  88  89  90  91  92  95  98\n",
       " [91] 101 125 126 127 128 129 130 133 136 139   1   2   3   4   5   6   7"
      ]
     },
     "metadata": {},
     "output_type": "display_data"
    }
   ],
   "source": [
    "missing = union(as.numeric(which(sapply(train_raw, function(x){mean(is.na(x))})>0.80)),\n",
    "                as.numeric(which(sapply(train_raw, function(x){mean(x==\"\", na.rm = T)})>0.80)))\n",
    "missing = union(missing, c(1,2,3,4,5,6,7))\n",
    "missing"
   ]
  },
  {
   "cell_type": "markdown",
   "metadata": {},
   "source": [
    "Removing **zero** or **near-zero covariates**"
   ]
  },
  {
   "cell_type": "code",
   "execution_count": 97,
   "metadata": {},
   "outputs": [
    {
     "data": {
      "text/html": [],
      "text/latex": [],
      "text/markdown": [],
      "text/plain": [
       "integer(0)"
      ]
     },
     "metadata": {},
     "output_type": "display_data"
    }
   ],
   "source": [
    "nzv = nearZeroVar(train_pre_clean)\n",
    "nzv"
   ]
  },
  {
   "cell_type": "markdown",
   "metadata": {},
   "source": [
    "No output suggests all of the remaining covariates contribute significant information to modelling a predictve model."
   ]
  },
  {
   "cell_type": "markdown",
   "metadata": {},
   "source": [
    "**Cleaned** dataset"
   ]
  },
  {
   "cell_type": "code",
   "execution_count": 98,
   "metadata": {
    "scrolled": true
   },
   "outputs": [
    {
     "data": {
      "text/html": [
       "<ol class=list-inline>\n",
       "\t<li>19622</li>\n",
       "\t<li>53</li>\n",
       "</ol>\n"
      ],
      "text/latex": [
       "\\begin{enumerate*}\n",
       "\\item 19622\n",
       "\\item 53\n",
       "\\end{enumerate*}\n"
      ],
      "text/markdown": [
       "1. 19622\n",
       "2. 53\n",
       "\n",
       "\n"
      ],
      "text/plain": [
       "[1] 19622    53"
      ]
     },
     "metadata": {},
     "output_type": "display_data"
    },
    {
     "data": {
      "text/html": [
       "<ol class=list-inline>\n",
       "\t<li>20</li>\n",
       "\t<li>53</li>\n",
       "</ol>\n"
      ],
      "text/latex": [
       "\\begin{enumerate*}\n",
       "\\item 20\n",
       "\\item 53\n",
       "\\end{enumerate*}\n"
      ],
      "text/markdown": [
       "1. 20\n",
       "2. 53\n",
       "\n",
       "\n"
      ],
      "text/plain": [
       "[1] 20 53"
      ]
     },
     "metadata": {},
     "output_type": "display_data"
    }
   ],
   "source": [
    "train_clean = train_raw[,-missing]\n",
    "test_clean = test_raw[,-missing]\n",
    "dim(train_clean); dim(test_clean)"
   ]
  },
  {
   "cell_type": "code",
   "execution_count": 99,
   "metadata": {},
   "outputs": [
    {
     "data": {
      "text/html": [
       "<table>\n",
       "<thead><tr><th scope=col>roll_belt</th><th scope=col>pitch_belt</th><th scope=col>yaw_belt</th><th scope=col>total_accel_belt</th><th scope=col>gyros_belt_x</th><th scope=col>gyros_belt_y</th><th scope=col>gyros_belt_z</th><th scope=col>accel_belt_x</th><th scope=col>accel_belt_y</th><th scope=col>accel_belt_z</th><th scope=col>...</th><th scope=col>gyros_forearm_x</th><th scope=col>gyros_forearm_y</th><th scope=col>gyros_forearm_z</th><th scope=col>accel_forearm_x</th><th scope=col>accel_forearm_y</th><th scope=col>accel_forearm_z</th><th scope=col>magnet_forearm_x</th><th scope=col>magnet_forearm_y</th><th scope=col>magnet_forearm_z</th><th scope=col>classe</th></tr></thead>\n",
       "<tbody>\n",
       "\t<tr><td>1.41 </td><td>8.07 </td><td>-94.4</td><td>3    </td><td>0.00 </td><td>0.00 </td><td>-0.02</td><td>-21  </td><td>4    </td><td>22   </td><td>...  </td><td>0.03 </td><td> 0.00</td><td>-0.02</td><td>192  </td><td>203  </td><td>-215 </td><td>-17  </td><td>654  </td><td>476  </td><td>A    </td></tr>\n",
       "\t<tr><td>1.41 </td><td>8.07 </td><td>-94.4</td><td>3    </td><td>0.02 </td><td>0.00 </td><td>-0.02</td><td>-22  </td><td>4    </td><td>22   </td><td>...  </td><td>0.02 </td><td> 0.00</td><td>-0.02</td><td>192  </td><td>203  </td><td>-216 </td><td>-18  </td><td>661  </td><td>473  </td><td>A    </td></tr>\n",
       "\t<tr><td>1.42 </td><td>8.07 </td><td>-94.4</td><td>3    </td><td>0.00 </td><td>0.00 </td><td>-0.02</td><td>-20  </td><td>5    </td><td>23   </td><td>...  </td><td>0.03 </td><td>-0.02</td><td> 0.00</td><td>196  </td><td>204  </td><td>-213 </td><td>-18  </td><td>658  </td><td>469  </td><td>A    </td></tr>\n",
       "\t<tr><td>1.48 </td><td>8.05 </td><td>-94.4</td><td>3    </td><td>0.02 </td><td>0.00 </td><td>-0.03</td><td>-22  </td><td>3    </td><td>21   </td><td>...  </td><td>0.02 </td><td>-0.02</td><td> 0.00</td><td>189  </td><td>206  </td><td>-214 </td><td>-16  </td><td>658  </td><td>469  </td><td>A    </td></tr>\n",
       "\t<tr><td>1.48 </td><td>8.07 </td><td>-94.4</td><td>3    </td><td>0.02 </td><td>0.02 </td><td>-0.02</td><td>-21  </td><td>2    </td><td>24   </td><td>...  </td><td>0.02 </td><td> 0.00</td><td>-0.02</td><td>189  </td><td>206  </td><td>-214 </td><td>-17  </td><td>655  </td><td>473  </td><td>A    </td></tr>\n",
       "\t<tr><td>1.45 </td><td>8.06 </td><td>-94.4</td><td>3    </td><td>0.02 </td><td>0.00 </td><td>-0.02</td><td>-21  </td><td>4    </td><td>21   </td><td>...  </td><td>0.02 </td><td>-0.02</td><td>-0.03</td><td>193  </td><td>203  </td><td>-215 </td><td> -9  </td><td>660  </td><td>478  </td><td>A    </td></tr>\n",
       "</tbody>\n",
       "</table>\n"
      ],
      "text/latex": [
       "\\begin{tabular}{r|lllllllllllllllllllllllllllllllllllllllllllllllllllll}\n",
       " roll\\_belt & pitch\\_belt & yaw\\_belt & total\\_accel\\_belt & gyros\\_belt\\_x & gyros\\_belt\\_y & gyros\\_belt\\_z & accel\\_belt\\_x & accel\\_belt\\_y & accel\\_belt\\_z & ... & gyros\\_forearm\\_x & gyros\\_forearm\\_y & gyros\\_forearm\\_z & accel\\_forearm\\_x & accel\\_forearm\\_y & accel\\_forearm\\_z & magnet\\_forearm\\_x & magnet\\_forearm\\_y & magnet\\_forearm\\_z & classe\\\\\n",
       "\\hline\n",
       "\t 1.41  & 8.07  & -94.4 & 3     & 0.00  & 0.00  & -0.02 & -21   & 4     & 22    & ...   & 0.03  &  0.00 & -0.02 & 192   & 203   & -215  & -17   & 654   & 476   & A    \\\\\n",
       "\t 1.41  & 8.07  & -94.4 & 3     & 0.02  & 0.00  & -0.02 & -22   & 4     & 22    & ...   & 0.02  &  0.00 & -0.02 & 192   & 203   & -216  & -18   & 661   & 473   & A    \\\\\n",
       "\t 1.42  & 8.07  & -94.4 & 3     & 0.00  & 0.00  & -0.02 & -20   & 5     & 23    & ...   & 0.03  & -0.02 &  0.00 & 196   & 204   & -213  & -18   & 658   & 469   & A    \\\\\n",
       "\t 1.48  & 8.05  & -94.4 & 3     & 0.02  & 0.00  & -0.03 & -22   & 3     & 21    & ...   & 0.02  & -0.02 &  0.00 & 189   & 206   & -214  & -16   & 658   & 469   & A    \\\\\n",
       "\t 1.48  & 8.07  & -94.4 & 3     & 0.02  & 0.02  & -0.02 & -21   & 2     & 24    & ...   & 0.02  &  0.00 & -0.02 & 189   & 206   & -214  & -17   & 655   & 473   & A    \\\\\n",
       "\t 1.45  & 8.06  & -94.4 & 3     & 0.02  & 0.00  & -0.02 & -21   & 4     & 21    & ...   & 0.02  & -0.02 & -0.03 & 193   & 203   & -215  &  -9   & 660   & 478   & A    \\\\\n",
       "\\end{tabular}\n"
      ],
      "text/markdown": [
       "\n",
       "| roll_belt | pitch_belt | yaw_belt | total_accel_belt | gyros_belt_x | gyros_belt_y | gyros_belt_z | accel_belt_x | accel_belt_y | accel_belt_z | ... | gyros_forearm_x | gyros_forearm_y | gyros_forearm_z | accel_forearm_x | accel_forearm_y | accel_forearm_z | magnet_forearm_x | magnet_forearm_y | magnet_forearm_z | classe |\n",
       "|---|---|---|---|---|---|---|---|---|---|---|---|---|---|---|---|---|---|---|---|---|\n",
       "| 1.41  | 8.07  | -94.4 | 3     | 0.00  | 0.00  | -0.02 | -21   | 4     | 22    | ...   | 0.03  |  0.00 | -0.02 | 192   | 203   | -215  | -17   | 654   | 476   | A     |\n",
       "| 1.41  | 8.07  | -94.4 | 3     | 0.02  | 0.00  | -0.02 | -22   | 4     | 22    | ...   | 0.02  |  0.00 | -0.02 | 192   | 203   | -216  | -18   | 661   | 473   | A     |\n",
       "| 1.42  | 8.07  | -94.4 | 3     | 0.00  | 0.00  | -0.02 | -20   | 5     | 23    | ...   | 0.03  | -0.02 |  0.00 | 196   | 204   | -213  | -18   | 658   | 469   | A     |\n",
       "| 1.48  | 8.05  | -94.4 | 3     | 0.02  | 0.00  | -0.03 | -22   | 3     | 21    | ...   | 0.02  | -0.02 |  0.00 | 189   | 206   | -214  | -16   | 658   | 469   | A     |\n",
       "| 1.48  | 8.07  | -94.4 | 3     | 0.02  | 0.02  | -0.02 | -21   | 2     | 24    | ...   | 0.02  |  0.00 | -0.02 | 189   | 206   | -214  | -17   | 655   | 473   | A     |\n",
       "| 1.45  | 8.06  | -94.4 | 3     | 0.02  | 0.00  | -0.02 | -21   | 4     | 21    | ...   | 0.02  | -0.02 | -0.03 | 193   | 203   | -215  |  -9   | 660   | 478   | A     |\n",
       "\n"
      ],
      "text/plain": [
       "  roll_belt pitch_belt yaw_belt total_accel_belt gyros_belt_x gyros_belt_y\n",
       "1 1.41      8.07       -94.4    3                0.00         0.00        \n",
       "2 1.41      8.07       -94.4    3                0.02         0.00        \n",
       "3 1.42      8.07       -94.4    3                0.00         0.00        \n",
       "4 1.48      8.05       -94.4    3                0.02         0.00        \n",
       "5 1.48      8.07       -94.4    3                0.02         0.02        \n",
       "6 1.45      8.06       -94.4    3                0.02         0.00        \n",
       "  gyros_belt_z accel_belt_x accel_belt_y accel_belt_z ... gyros_forearm_x\n",
       "1 -0.02        -21          4            22           ... 0.03           \n",
       "2 -0.02        -22          4            22           ... 0.02           \n",
       "3 -0.02        -20          5            23           ... 0.03           \n",
       "4 -0.03        -22          3            21           ... 0.02           \n",
       "5 -0.02        -21          2            24           ... 0.02           \n",
       "6 -0.02        -21          4            21           ... 0.02           \n",
       "  gyros_forearm_y gyros_forearm_z accel_forearm_x accel_forearm_y\n",
       "1  0.00           -0.02           192             203            \n",
       "2  0.00           -0.02           192             203            \n",
       "3 -0.02            0.00           196             204            \n",
       "4 -0.02            0.00           189             206            \n",
       "5  0.00           -0.02           189             206            \n",
       "6 -0.02           -0.03           193             203            \n",
       "  accel_forearm_z magnet_forearm_x magnet_forearm_y magnet_forearm_z classe\n",
       "1 -215            -17              654              476              A     \n",
       "2 -216            -18              661              473              A     \n",
       "3 -213            -18              658              469              A     \n",
       "4 -214            -16              658              469              A     \n",
       "5 -214            -17              655              473              A     \n",
       "6 -215             -9              660              478              A     "
      ]
     },
     "metadata": {},
     "output_type": "display_data"
    }
   ],
   "source": [
    "head(train_clean)"
   ]
  },
  {
   "cell_type": "markdown",
   "metadata": {},
   "source": [
    "## Modelling Random Forests classifier\n",
    "\n",
    "splitting the training dataset into train and validation sets"
   ]
  },
  {
   "cell_type": "code",
   "execution_count": 100,
   "metadata": {},
   "outputs": [],
   "source": [
    "inTrain = createDataPartition(train_clean$classe, p = 0.75, list = F)\n",
    "training = train_clean[inTrain,]\n",
    "validation = train_clean[-inTrain,]"
   ]
  },
  {
   "cell_type": "markdown",
   "metadata": {},
   "source": [
    "#### Building classifier"
   ]
  },
  {
   "cell_type": "code",
   "execution_count": 101,
   "metadata": {},
   "outputs": [],
   "source": [
    "train_control_params = trainControl(method=\"repeatedcv\", number=10, repeats= 5)\n",
    "mdl_rf = train(classe~., method = \"rf\", trControl=train_control_params, ntree = 10, data = training)"
   ]
  },
  {
   "cell_type": "markdown",
   "metadata": {},
   "source": [
    "#### Evaluating the model on validation set"
   ]
  },
  {
   "cell_type": "code",
   "execution_count": 102,
   "metadata": {},
   "outputs": [],
   "source": [
    "val_preds = predict(mdl_rf, newdata = validation) "
   ]
  },
  {
   "cell_type": "code",
   "execution_count": 103,
   "metadata": {},
   "outputs": [
    {
     "data": {
      "text/plain": [
       "Confusion Matrix and Statistics\n",
       "\n",
       "          Reference\n",
       "Prediction    A    B    C    D    E\n",
       "         A 1394    8    0    0    0\n",
       "         B    1  938    5    1    0\n",
       "         C    0    2  845    7    3\n",
       "         D    0    0    5  796    7\n",
       "         E    0    1    0    0  891\n",
       "\n",
       "Overall Statistics\n",
       "                                          \n",
       "               Accuracy : 0.9918          \n",
       "                 95% CI : (0.9889, 0.9942)\n",
       "    No Information Rate : 0.2845          \n",
       "    P-Value [Acc > NIR] : < 2.2e-16       \n",
       "                                          \n",
       "                  Kappa : 0.9897          \n",
       "                                          \n",
       " Mcnemar's Test P-Value : NA              \n",
       "\n",
       "Statistics by Class:\n",
       "\n",
       "                     Class: A Class: B Class: C Class: D Class: E\n",
       "Sensitivity            0.9993   0.9884   0.9883   0.9900   0.9889\n",
       "Specificity            0.9977   0.9982   0.9970   0.9971   0.9998\n",
       "Pos Pred Value         0.9943   0.9926   0.9860   0.9851   0.9989\n",
       "Neg Pred Value         0.9997   0.9972   0.9975   0.9980   0.9975\n",
       "Prevalence             0.2845   0.1935   0.1743   0.1639   0.1837\n",
       "Detection Rate         0.2843   0.1913   0.1723   0.1623   0.1817\n",
       "Detection Prevalence   0.2859   0.1927   0.1748   0.1648   0.1819\n",
       "Balanced Accuracy      0.9985   0.9933   0.9927   0.9936   0.9943"
      ]
     },
     "metadata": {},
     "output_type": "display_data"
    }
   ],
   "source": [
    "confusionMatrix(val_preds, validation$classe)"
   ]
  },
  {
   "cell_type": "markdown",
   "metadata": {},
   "source": [
    "### Predicting test set"
   ]
  },
  {
   "cell_type": "code",
   "execution_count": 104,
   "metadata": {},
   "outputs": [
    {
     "data": {
      "text/html": [
       "<ol class=list-inline>\n",
       "\t<li>B</li>\n",
       "\t<li>A</li>\n",
       "\t<li>B</li>\n",
       "\t<li>A</li>\n",
       "\t<li>A</li>\n",
       "\t<li>E</li>\n",
       "\t<li>D</li>\n",
       "\t<li>B</li>\n",
       "\t<li>A</li>\n",
       "\t<li>A</li>\n",
       "\t<li>B</li>\n",
       "\t<li>C</li>\n",
       "\t<li>B</li>\n",
       "\t<li>A</li>\n",
       "\t<li>E</li>\n",
       "\t<li>E</li>\n",
       "\t<li>A</li>\n",
       "\t<li>B</li>\n",
       "\t<li>B</li>\n",
       "\t<li>B</li>\n",
       "</ol>\n",
       "\n",
       "<details>\n",
       "\t<summary style=display:list-item;cursor:pointer>\n",
       "\t\t<strong>Levels</strong>:\n",
       "\t</summary>\n",
       "\t<ol class=list-inline>\n",
       "\t\t<li>'A'</li>\n",
       "\t\t<li>'B'</li>\n",
       "\t\t<li>'C'</li>\n",
       "\t\t<li>'D'</li>\n",
       "\t\t<li>'E'</li>\n",
       "\t</ol>\n",
       "</details>"
      ],
      "text/latex": [
       "\\begin{enumerate*}\n",
       "\\item B\n",
       "\\item A\n",
       "\\item B\n",
       "\\item A\n",
       "\\item A\n",
       "\\item E\n",
       "\\item D\n",
       "\\item B\n",
       "\\item A\n",
       "\\item A\n",
       "\\item B\n",
       "\\item C\n",
       "\\item B\n",
       "\\item A\n",
       "\\item E\n",
       "\\item E\n",
       "\\item A\n",
       "\\item B\n",
       "\\item B\n",
       "\\item B\n",
       "\\end{enumerate*}\n",
       "\n",
       "\\emph{Levels}: \\begin{enumerate*}\n",
       "\\item 'A'\n",
       "\\item 'B'\n",
       "\\item 'C'\n",
       "\\item 'D'\n",
       "\\item 'E'\n",
       "\\end{enumerate*}\n"
      ],
      "text/markdown": [
       "1. B\n",
       "2. A\n",
       "3. B\n",
       "4. A\n",
       "5. A\n",
       "6. E\n",
       "7. D\n",
       "8. B\n",
       "9. A\n",
       "10. A\n",
       "11. B\n",
       "12. C\n",
       "13. B\n",
       "14. A\n",
       "15. E\n",
       "16. E\n",
       "17. A\n",
       "18. B\n",
       "19. B\n",
       "20. B\n",
       "\n",
       "\n",
       "\n",
       "**Levels**: 1. 'A'\n",
       "2. 'B'\n",
       "3. 'C'\n",
       "4. 'D'\n",
       "5. 'E'\n",
       "\n",
       "\n"
      ],
      "text/plain": [
       " [1] B A B A A E D B A A B C B A E E A B B B\n",
       "Levels: A B C D E"
      ]
     },
     "metadata": {},
     "output_type": "display_data"
    }
   ],
   "source": [
    "test_preds = predict(mdl_rf, test_clean)\n",
    "test_preds"
   ]
  }
 ],
 "metadata": {
  "kernelspec": {
   "display_name": "R",
   "language": "R",
   "name": "ir"
  },
  "language_info": {
   "codemirror_mode": "r",
   "file_extension": ".r",
   "mimetype": "text/x-r-source",
   "name": "R",
   "pygments_lexer": "r",
   "version": "3.6.1"
  }
 },
 "nbformat": 4,
 "nbformat_minor": 4
}
