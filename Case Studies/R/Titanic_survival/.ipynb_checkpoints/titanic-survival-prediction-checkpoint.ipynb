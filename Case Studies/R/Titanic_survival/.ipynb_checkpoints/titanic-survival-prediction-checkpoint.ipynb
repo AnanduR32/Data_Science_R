{
 "cells": [
  {
   "cell_type": "markdown",
   "metadata": {
    "papermill": {
     "duration": 0.01356,
     "end_time": "2020-11-08T07:02:54.518328",
     "exception": false,
     "start_time": "2020-11-08T07:02:54.504768",
     "status": "completed"
    },
    "tags": []
   },
   "source": [
    "# Titanic Survival\n",
    "\n",
    "Using general linear models to predict survival of passengers in the titanic disaster  \n",
    "The binomial/binary distribution family is used to fit a logit function."
   ]
  },
  {
   "cell_type": "code",
   "execution_count": 1,
   "metadata": {
    "_execution_state": "idle",
    "_uuid": "051d70d956493feee0c6d64651c6a088724dca2a",
    "execution": {
     "iopub.execute_input": "2020-11-08T07:02:54.578923Z",
     "iopub.status.busy": "2020-11-08T07:02:54.576246Z",
     "iopub.status.idle": "2020-11-08T07:02:56.106527Z",
     "shell.execute_reply": "2020-11-08T07:02:56.104693Z"
    },
    "papermill": {
     "duration": 1.575595,
     "end_time": "2020-11-08T07:02:56.106860",
     "exception": false,
     "start_time": "2020-11-08T07:02:54.531265",
     "status": "completed"
    },
    "tags": []
   },
   "outputs": [
    {
     "name": "stderr",
     "output_type": "stream",
     "text": [
      "── \u001b[1mAttaching packages\u001b[22m ─────────────────────────────────────── tidyverse 1.3.0 ──\n",
      "\n",
      "\u001b[32m✔\u001b[39m \u001b[34mggplot2\u001b[39m 3.3.2     \u001b[32m✔\u001b[39m \u001b[34mpurrr  \u001b[39m 0.3.4\n",
      "\u001b[32m✔\u001b[39m \u001b[34mtibble \u001b[39m 3.0.4     \u001b[32m✔\u001b[39m \u001b[34mdplyr  \u001b[39m 1.0.2\n",
      "\u001b[32m✔\u001b[39m \u001b[34mtidyr  \u001b[39m 1.1.2     \u001b[32m✔\u001b[39m \u001b[34mstringr\u001b[39m 1.4.0\n",
      "\u001b[32m✔\u001b[39m \u001b[34mreadr  \u001b[39m 1.4.0     \u001b[32m✔\u001b[39m \u001b[34mforcats\u001b[39m 0.5.0\n",
      "\n",
      "── \u001b[1mConflicts\u001b[22m ────────────────────────────────────────── tidyverse_conflicts() ──\n",
      "\u001b[31m✖\u001b[39m \u001b[34mdplyr\u001b[39m::\u001b[32mfilter()\u001b[39m masks \u001b[34mstats\u001b[39m::filter()\n",
      "\u001b[31m✖\u001b[39m \u001b[34mdplyr\u001b[39m::\u001b[32mlag()\u001b[39m    masks \u001b[34mstats\u001b[39m::lag()\n",
      "\n",
      "randomForest 4.6-14\n",
      "\n",
      "Type rfNews() to see new features/changes/bug fixes.\n",
      "\n",
      "\n",
      "Attaching package: ‘randomForest’\n",
      "\n",
      "\n",
      "The following object is masked from ‘package:dplyr’:\n",
      "\n",
      "    combine\n",
      "\n",
      "\n",
      "The following object is masked from ‘package:ggplot2’:\n",
      "\n",
      "    margin\n",
      "\n",
      "\n"
     ]
    },
    {
     "data": {
      "text/html": [
       "<style>\n",
       ".list-inline {list-style: none; margin:0; padding: 0}\n",
       ".list-inline>li {display: inline-block}\n",
       ".list-inline>li:not(:last-child)::after {content: \"\\00b7\"; padding: 0 .5ex}\n",
       "</style>\n",
       "<ol class=list-inline><li>'gender_submission.csv'</li><li>'test.csv'</li><li>'train.csv'</li></ol>\n"
      ],
      "text/latex": [
       "\\begin{enumerate*}\n",
       "\\item 'gender\\_submission.csv'\n",
       "\\item 'test.csv'\n",
       "\\item 'train.csv'\n",
       "\\end{enumerate*}\n"
      ],
      "text/markdown": [
       "1. 'gender_submission.csv'\n",
       "2. 'test.csv'\n",
       "3. 'train.csv'\n",
       "\n",
       "\n"
      ],
      "text/plain": [
       "[1] \"gender_submission.csv\" \"test.csv\"              \"train.csv\"            "
      ]
     },
     "metadata": {},
     "output_type": "display_data"
    }
   ],
   "source": [
    "library(tidyverse) \n",
    "PATH=\"./data\"\n",
    "list.files(path = PATH)"
   ]
  },
  {
   "cell_type": "code",
   "execution_count": 2,
   "metadata": {
    "execution": {
     "iopub.execute_input": "2020-11-08T07:02:56.180263Z",
     "iopub.status.busy": "2020-11-08T07:02:56.146328Z",
     "iopub.status.idle": "2020-11-08T07:02:56.208816Z",
     "shell.execute_reply": "2020-11-08T07:02:56.207588Z"
    },
    "papermill": {
     "duration": 0.084142,
     "end_time": "2020-11-08T07:02:56.208995",
     "exception": false,
     "start_time": "2020-11-08T07:02:56.124853",
     "status": "completed"
    },
    "tags": []
   },
   "outputs": [],
   "source": [
    "train_raw = read.table(paste0(PATH,\"/train.csv\"),sep=\",\",header=T, stringsAsFactors=F)\n",
    "test_raw = read.table(paste0(PATH,\"/test.csv\"),sep=\",\",header=T, stringsAsFactors=F)\n",
    "true_pred = read.table(paste0(PATH,\"/gender_submission.csv\"),sep=\",\",header=T, stringsAsFactors=F)"
   ]
  },
  {
   "cell_type": "markdown",
   "metadata": {
    "papermill": {
     "duration": 0.018096,
     "end_time": "2020-11-08T07:02:56.244558",
     "exception": false,
     "start_time": "2020-11-08T07:02:56.226462",
     "status": "completed"
    },
    "tags": []
   },
   "source": [
    "## 1. Data pre-processing\n",
    "Labelling couples as 'married vs unmarried'  \n",
    "The married women have their name stated as Mrs.<Husband's name> followed by their name within parenthesis, we extract the husbands name and then find the row indices which match with the husband's name, and mark those row's as \"married\""
   ]
  },
  {
   "cell_type": "code",
   "execution_count": 3,
   "metadata": {
    "execution": {
     "iopub.execute_input": "2020-11-08T07:02:56.284682Z",
     "iopub.status.busy": "2020-11-08T07:02:56.283300Z",
     "iopub.status.idle": "2020-11-08T07:02:56.298766Z",
     "shell.execute_reply": "2020-11-08T07:02:56.297546Z"
    },
    "papermill": {
     "duration": 0.037189,
     "end_time": "2020-11-08T07:02:56.298930",
     "exception": false,
     "start_time": "2020-11-08T07:02:56.261741",
     "status": "completed"
    },
    "tags": []
   },
   "outputs": [],
   "source": [
    "train_raw$isTrainSet=1\n",
    "test_raw$isTrainSet=0\n",
    "test_raw$Survived=NA"
   ]
  },
  {
   "cell_type": "code",
   "execution_count": 4,
   "metadata": {
    "execution": {
     "iopub.execute_input": "2020-11-08T07:02:56.339081Z",
     "iopub.status.busy": "2020-11-08T07:02:56.337716Z",
     "iopub.status.idle": "2020-11-08T07:02:56.350962Z",
     "shell.execute_reply": "2020-11-08T07:02:56.349658Z"
    },
    "papermill": {
     "duration": 0.034932,
     "end_time": "2020-11-08T07:02:56.351178",
     "exception": false,
     "start_time": "2020-11-08T07:02:56.316246",
     "status": "completed"
    },
    "tags": []
   },
   "outputs": [],
   "source": [
    "data_combined = rbind(train_raw,test_raw)"
   ]
  },
  {
   "cell_type": "code",
   "execution_count": 5,
   "metadata": {
    "execution": {
     "iopub.execute_input": "2020-11-08T07:02:56.392096Z",
     "iopub.status.busy": "2020-11-08T07:02:56.390682Z",
     "iopub.status.idle": "2020-11-08T07:02:56.405520Z",
     "shell.execute_reply": "2020-11-08T07:02:56.404242Z"
    },
    "papermill": {
     "duration": 0.036944,
     "end_time": "2020-11-08T07:02:56.405699",
     "exception": false,
     "start_time": "2020-11-08T07:02:56.368755",
     "status": "completed"
    },
    "tags": []
   },
   "outputs": [],
   "source": [
    "data_preprocess = function(dataset){\n",
    "    ## Derived field \"Married\" based on Name column\n",
    "    married_men_names = unique(na.omit(str_match(dataset$Name,\"[a-zA-Z]*, Mrs\\\\. (.*?) \\\\(.*?\\\\)$\")[,2]))\n",
    "    x = c()\n",
    "    for(i in 1:length(married_men_names)){\n",
    "        x = c(x,(str_which(dataset$Name,married_men_names[i])))\n",
    "    }\n",
    "    x = sort(unique(x))\n",
    "    dataset$isMarried = 0\n",
    "    dataset$isMarried[x] = 1\n",
    "    \n",
    "    ## Clean Cabin column\n",
    "    dataset$Cabin = str_match(dataset$Cabin,\"([a-zA-Z])\\\\d*?\")[,2]\n",
    "    dataset$Cabin[is.na(dataset$Cabin)] = \"U\"\n",
    "    \n",
    "    dataset = subset(dataset, select = -c(PassengerId,Name,Ticket))\n",
    "    \n",
    "    ## Impute missing values in the Age column\n",
    "    dataset$Age[is.na(dataset$Age)] = median(dataset$Age, na.rm = T)\n",
    "    dataset[dataset$Embarked=='',\"Embarked\"] = as.character(getmode(factor(dataset$Embarked)))\n",
    "    dataset$Fare[is.na(dataset$Fare)] = median(dataset$Fare, na.rm = T)\n",
    "    \n",
    "    ## Change type to factor    \n",
    "    dataset$Pclass = factor(dataset$Pclass)\n",
    "    dataset$Sex = factor(dataset$Sex)\n",
    "    dataset$married = factor(dataset$isMarried)\n",
    "    dataset$Cabin = factor(dataset$Cabin)\n",
    "    dataset$Embarked = factor(dataset$Embarked)\n",
    "    \n",
    "    ## Return cleaned dataset\n",
    "    dataset\n",
    "}\n",
    "getmode <- function(v) {\n",
    "   uniqv <- unique(v)\n",
    "   uniqv[which.max(tabulate(match(v, uniqv)))]\n",
    "}"
   ]
  },
  {
   "cell_type": "code",
   "execution_count": 6,
   "metadata": {
    "execution": {
     "iopub.execute_input": "2020-11-08T07:02:56.446313Z",
     "iopub.status.busy": "2020-11-08T07:02:56.444864Z",
     "iopub.status.idle": "2020-11-08T07:02:56.645746Z",
     "shell.execute_reply": "2020-11-08T07:02:56.644155Z"
    },
    "papermill": {
     "duration": 0.222782,
     "end_time": "2020-11-08T07:02:56.645898",
     "exception": false,
     "start_time": "2020-11-08T07:02:56.423116",
     "status": "completed"
    },
    "tags": []
   },
   "outputs": [
    {
     "name": "stdout",
     "output_type": "stream",
     "text": [
      "'data.frame':\t1309 obs. of  12 variables:\n",
      " $ Survived  : int  0 1 1 1 0 0 0 0 1 1 ...\n",
      " $ Pclass    : Factor w/ 3 levels \"1\",\"2\",\"3\": 3 1 3 1 3 3 1 3 3 2 ...\n",
      " $ Sex       : Factor w/ 2 levels \"female\",\"male\": 2 1 1 1 2 2 2 2 1 1 ...\n",
      " $ Age       : num  22 38 26 35 35 28 54 2 27 14 ...\n",
      " $ SibSp     : int  1 1 0 1 0 0 0 3 0 1 ...\n",
      " $ Parch     : int  0 0 0 0 0 0 0 1 2 0 ...\n",
      " $ Fare      : num  7.25 71.28 7.92 53.1 8.05 ...\n",
      " $ Cabin     : Factor w/ 9 levels \"A\",\"B\",\"C\",\"D\",..: 9 3 9 3 9 9 5 9 9 9 ...\n",
      " $ Embarked  : Factor w/ 3 levels \"C\",\"Q\",\"S\": 3 1 3 3 3 2 3 3 3 1 ...\n",
      " $ isTrainSet: num  1 1 1 1 1 1 1 1 1 1 ...\n",
      " $ isMarried : num  0 1 0 1 1 1 0 1 1 1 ...\n",
      " $ married   : Factor w/ 2 levels \"0\",\"1\": 1 2 1 2 2 2 1 2 2 2 ...\n"
     ]
    }
   ],
   "source": [
    "data_combined_clean = data_preprocess(data_combined)\n",
    "str(data_combined_clean)"
   ]
  },
  {
   "cell_type": "code",
   "execution_count": 7,
   "metadata": {
    "execution": {
     "iopub.execute_input": "2020-11-08T07:02:56.687766Z",
     "iopub.status.busy": "2020-11-08T07:02:56.686420Z",
     "iopub.status.idle": "2020-11-08T07:02:56.703255Z",
     "shell.execute_reply": "2020-11-08T07:02:56.701930Z"
    },
    "papermill": {
     "duration": 0.039253,
     "end_time": "2020-11-08T07:02:56.703451",
     "exception": false,
     "start_time": "2020-11-08T07:02:56.664198",
     "status": "completed"
    },
    "tags": []
   },
   "outputs": [],
   "source": [
    "train_clean = subset(data_combined_clean, select=-c(isTrainSet), isTrainSet==1)\n",
    "train_clean$Survived = factor(train_clean$Survived)\n",
    "test_clean = subset(data_combined_clean, select=-c(Survived,isTrainSet), isTrainSet==0)"
   ]
  },
  {
   "cell_type": "markdown",
   "metadata": {
    "papermill": {
     "duration": 0.018234,
     "end_time": "2020-11-08T07:02:56.740166",
     "exception": false,
     "start_time": "2020-11-08T07:02:56.721932",
     "status": "completed"
    },
    "tags": []
   },
   "source": [
    "train_proc = subset(train, select = -c(PassengerId,Name,Ticket,Embarked,Cabin))\n",
    "test_proc = subset(test, select = -c(PassengerId,Name,Ticket,Embarked,Cabin))\n"
   ]
  },
  {
   "cell_type": "code",
   "execution_count": 8,
   "metadata": {
    "execution": {
     "iopub.execute_input": "2020-11-08T07:02:56.782025Z",
     "iopub.status.busy": "2020-11-08T07:02:56.780683Z",
     "iopub.status.idle": "2020-11-08T07:02:56.821124Z",
     "shell.execute_reply": "2020-11-08T07:02:56.819845Z"
    },
    "papermill": {
     "duration": 0.062909,
     "end_time": "2020-11-08T07:02:56.821286",
     "exception": false,
     "start_time": "2020-11-08T07:02:56.758377",
     "status": "completed"
    },
    "tags": []
   },
   "outputs": [
    {
     "data": {
      "text/html": [
       "<table class=\"dataframe\">\n",
       "<caption>A data.frame: 5 × 11</caption>\n",
       "<thead>\n",
       "\t<tr><th></th><th scope=col>Survived</th><th scope=col>Pclass</th><th scope=col>Sex</th><th scope=col>Age</th><th scope=col>SibSp</th><th scope=col>Parch</th><th scope=col>Fare</th><th scope=col>Cabin</th><th scope=col>Embarked</th><th scope=col>isMarried</th><th scope=col>married</th></tr>\n",
       "\t<tr><th></th><th scope=col>&lt;fct&gt;</th><th scope=col>&lt;fct&gt;</th><th scope=col>&lt;fct&gt;</th><th scope=col>&lt;dbl&gt;</th><th scope=col>&lt;int&gt;</th><th scope=col>&lt;int&gt;</th><th scope=col>&lt;dbl&gt;</th><th scope=col>&lt;fct&gt;</th><th scope=col>&lt;fct&gt;</th><th scope=col>&lt;dbl&gt;</th><th scope=col>&lt;fct&gt;</th></tr>\n",
       "</thead>\n",
       "<tbody>\n",
       "\t<tr><th scope=row>1</th><td>0</td><td>3</td><td>male  </td><td>22</td><td>1</td><td>0</td><td> 7.2500</td><td>U</td><td>S</td><td>0</td><td>0</td></tr>\n",
       "\t<tr><th scope=row>2</th><td>1</td><td>1</td><td>female</td><td>38</td><td>1</td><td>0</td><td>71.2833</td><td>C</td><td>C</td><td>1</td><td>1</td></tr>\n",
       "\t<tr><th scope=row>3</th><td>1</td><td>3</td><td>female</td><td>26</td><td>0</td><td>0</td><td> 7.9250</td><td>U</td><td>S</td><td>0</td><td>0</td></tr>\n",
       "\t<tr><th scope=row>4</th><td>1</td><td>1</td><td>female</td><td>35</td><td>1</td><td>0</td><td>53.1000</td><td>C</td><td>S</td><td>1</td><td>1</td></tr>\n",
       "\t<tr><th scope=row>5</th><td>0</td><td>3</td><td>male  </td><td>35</td><td>0</td><td>0</td><td> 8.0500</td><td>U</td><td>S</td><td>1</td><td>1</td></tr>\n",
       "</tbody>\n",
       "</table>\n"
      ],
      "text/latex": [
       "A data.frame: 5 × 11\n",
       "\\begin{tabular}{r|lllllllllll}\n",
       "  & Survived & Pclass & Sex & Age & SibSp & Parch & Fare & Cabin & Embarked & isMarried & married\\\\\n",
       "  & <fct> & <fct> & <fct> & <dbl> & <int> & <int> & <dbl> & <fct> & <fct> & <dbl> & <fct>\\\\\n",
       "\\hline\n",
       "\t1 & 0 & 3 & male   & 22 & 1 & 0 &  7.2500 & U & S & 0 & 0\\\\\n",
       "\t2 & 1 & 1 & female & 38 & 1 & 0 & 71.2833 & C & C & 1 & 1\\\\\n",
       "\t3 & 1 & 3 & female & 26 & 0 & 0 &  7.9250 & U & S & 0 & 0\\\\\n",
       "\t4 & 1 & 1 & female & 35 & 1 & 0 & 53.1000 & C & S & 1 & 1\\\\\n",
       "\t5 & 0 & 3 & male   & 35 & 0 & 0 &  8.0500 & U & S & 1 & 1\\\\\n",
       "\\end{tabular}\n"
      ],
      "text/markdown": [
       "\n",
       "A data.frame: 5 × 11\n",
       "\n",
       "| <!--/--> | Survived &lt;fct&gt; | Pclass &lt;fct&gt; | Sex &lt;fct&gt; | Age &lt;dbl&gt; | SibSp &lt;int&gt; | Parch &lt;int&gt; | Fare &lt;dbl&gt; | Cabin &lt;fct&gt; | Embarked &lt;fct&gt; | isMarried &lt;dbl&gt; | married &lt;fct&gt; |\n",
       "|---|---|---|---|---|---|---|---|---|---|---|---|\n",
       "| 1 | 0 | 3 | male   | 22 | 1 | 0 |  7.2500 | U | S | 0 | 0 |\n",
       "| 2 | 1 | 1 | female | 38 | 1 | 0 | 71.2833 | C | C | 1 | 1 |\n",
       "| 3 | 1 | 3 | female | 26 | 0 | 0 |  7.9250 | U | S | 0 | 0 |\n",
       "| 4 | 1 | 1 | female | 35 | 1 | 0 | 53.1000 | C | S | 1 | 1 |\n",
       "| 5 | 0 | 3 | male   | 35 | 0 | 0 |  8.0500 | U | S | 1 | 1 |\n",
       "\n"
      ],
      "text/plain": [
       "  Survived Pclass Sex    Age SibSp Parch Fare    Cabin Embarked isMarried\n",
       "1 0        3      male   22  1     0      7.2500 U     S        0        \n",
       "2 1        1      female 38  1     0     71.2833 C     C        1        \n",
       "3 1        3      female 26  0     0      7.9250 U     S        0        \n",
       "4 1        1      female 35  1     0     53.1000 C     S        1        \n",
       "5 0        3      male   35  0     0      8.0500 U     S        1        \n",
       "  married\n",
       "1 0      \n",
       "2 1      \n",
       "3 0      \n",
       "4 1      \n",
       "5 1      "
      ]
     },
     "metadata": {},
     "output_type": "display_data"
    },
    {
     "data": {
      "text/html": [
       "<table class=\"dataframe\">\n",
       "<caption>A data.frame: 5 × 10</caption>\n",
       "<thead>\n",
       "\t<tr><th></th><th scope=col>Pclass</th><th scope=col>Sex</th><th scope=col>Age</th><th scope=col>SibSp</th><th scope=col>Parch</th><th scope=col>Fare</th><th scope=col>Cabin</th><th scope=col>Embarked</th><th scope=col>isMarried</th><th scope=col>married</th></tr>\n",
       "\t<tr><th></th><th scope=col>&lt;fct&gt;</th><th scope=col>&lt;fct&gt;</th><th scope=col>&lt;dbl&gt;</th><th scope=col>&lt;int&gt;</th><th scope=col>&lt;int&gt;</th><th scope=col>&lt;dbl&gt;</th><th scope=col>&lt;fct&gt;</th><th scope=col>&lt;fct&gt;</th><th scope=col>&lt;dbl&gt;</th><th scope=col>&lt;fct&gt;</th></tr>\n",
       "</thead>\n",
       "<tbody>\n",
       "\t<tr><th scope=row>892</th><td>3</td><td>male  </td><td>34.5</td><td>0</td><td>0</td><td> 7.8292</td><td>U</td><td>Q</td><td>1</td><td>1</td></tr>\n",
       "\t<tr><th scope=row>893</th><td>3</td><td>female</td><td>47.0</td><td>1</td><td>0</td><td> 7.0000</td><td>U</td><td>S</td><td>1</td><td>1</td></tr>\n",
       "\t<tr><th scope=row>894</th><td>2</td><td>male  </td><td>62.0</td><td>0</td><td>0</td><td> 9.6875</td><td>U</td><td>Q</td><td>1</td><td>1</td></tr>\n",
       "\t<tr><th scope=row>895</th><td>3</td><td>male  </td><td>27.0</td><td>0</td><td>0</td><td> 8.6625</td><td>U</td><td>S</td><td>1</td><td>1</td></tr>\n",
       "\t<tr><th scope=row>896</th><td>3</td><td>female</td><td>22.0</td><td>1</td><td>1</td><td>12.2875</td><td>U</td><td>S</td><td>1</td><td>1</td></tr>\n",
       "</tbody>\n",
       "</table>\n"
      ],
      "text/latex": [
       "A data.frame: 5 × 10\n",
       "\\begin{tabular}{r|llllllllll}\n",
       "  & Pclass & Sex & Age & SibSp & Parch & Fare & Cabin & Embarked & isMarried & married\\\\\n",
       "  & <fct> & <fct> & <dbl> & <int> & <int> & <dbl> & <fct> & <fct> & <dbl> & <fct>\\\\\n",
       "\\hline\n",
       "\t892 & 3 & male   & 34.5 & 0 & 0 &  7.8292 & U & Q & 1 & 1\\\\\n",
       "\t893 & 3 & female & 47.0 & 1 & 0 &  7.0000 & U & S & 1 & 1\\\\\n",
       "\t894 & 2 & male   & 62.0 & 0 & 0 &  9.6875 & U & Q & 1 & 1\\\\\n",
       "\t895 & 3 & male   & 27.0 & 0 & 0 &  8.6625 & U & S & 1 & 1\\\\\n",
       "\t896 & 3 & female & 22.0 & 1 & 1 & 12.2875 & U & S & 1 & 1\\\\\n",
       "\\end{tabular}\n"
      ],
      "text/markdown": [
       "\n",
       "A data.frame: 5 × 10\n",
       "\n",
       "| <!--/--> | Pclass &lt;fct&gt; | Sex &lt;fct&gt; | Age &lt;dbl&gt; | SibSp &lt;int&gt; | Parch &lt;int&gt; | Fare &lt;dbl&gt; | Cabin &lt;fct&gt; | Embarked &lt;fct&gt; | isMarried &lt;dbl&gt; | married &lt;fct&gt; |\n",
       "|---|---|---|---|---|---|---|---|---|---|---|\n",
       "| 892 | 3 | male   | 34.5 | 0 | 0 |  7.8292 | U | Q | 1 | 1 |\n",
       "| 893 | 3 | female | 47.0 | 1 | 0 |  7.0000 | U | S | 1 | 1 |\n",
       "| 894 | 2 | male   | 62.0 | 0 | 0 |  9.6875 | U | Q | 1 | 1 |\n",
       "| 895 | 3 | male   | 27.0 | 0 | 0 |  8.6625 | U | S | 1 | 1 |\n",
       "| 896 | 3 | female | 22.0 | 1 | 1 | 12.2875 | U | S | 1 | 1 |\n",
       "\n"
      ],
      "text/plain": [
       "    Pclass Sex    Age  SibSp Parch Fare    Cabin Embarked isMarried married\n",
       "892 3      male   34.5 0     0      7.8292 U     Q        1         1      \n",
       "893 3      female 47.0 1     0      7.0000 U     S        1         1      \n",
       "894 2      male   62.0 0     0      9.6875 U     Q        1         1      \n",
       "895 3      male   27.0 0     0      8.6625 U     S        1         1      \n",
       "896 3      female 22.0 1     1     12.2875 U     S        1         1      "
      ]
     },
     "metadata": {},
     "output_type": "display_data"
    }
   ],
   "source": [
    "head(train_clean,5)\n",
    "head(test_clean,5)"
   ]
  },
  {
   "cell_type": "markdown",
   "metadata": {
    "papermill": {
     "duration": 0.01989,
     "end_time": "2020-11-08T07:02:56.861436",
     "exception": false,
     "start_time": "2020-11-08T07:02:56.841546",
     "status": "completed"
    },
    "tags": []
   },
   "source": [
    "## 3. Modelling"
   ]
  },
  {
   "cell_type": "code",
   "execution_count": 9,
   "metadata": {
    "execution": {
     "iopub.execute_input": "2020-11-08T07:02:56.908822Z",
     "iopub.status.busy": "2020-11-08T07:02:56.907025Z",
     "iopub.status.idle": "2020-11-08T07:02:56.922198Z",
     "shell.execute_reply": "2020-11-08T07:02:56.920754Z"
    },
    "papermill": {
     "duration": 0.040702,
     "end_time": "2020-11-08T07:02:56.922359",
     "exception": false,
     "start_time": "2020-11-08T07:02:56.881657",
     "status": "completed"
    },
    "tags": []
   },
   "outputs": [],
   "source": [
    "formula = as.formula(\"Survived~Pclass+Sex+Age+SibSp+Parch+Fare+Cabin+Embarked+isMarried\")\n",
    "features = \"Pclass+Sex+Age+SibSp+Parch+Fare+Cabin+Embarked+isMarried\""
   ]
  },
  {
   "cell_type": "code",
   "execution_count": 10,
   "metadata": {
    "execution": {
     "iopub.execute_input": "2020-11-08T07:02:56.968581Z",
     "iopub.status.busy": "2020-11-08T07:02:56.966849Z",
     "iopub.status.idle": "2020-11-08T07:02:57.040346Z",
     "shell.execute_reply": "2020-11-08T07:02:57.037948Z"
    },
    "papermill": {
     "duration": 0.098063,
     "end_time": "2020-11-08T07:02:57.040574",
     "exception": false,
     "start_time": "2020-11-08T07:02:56.942511",
     "status": "completed"
    },
    "tags": []
   },
   "outputs": [
    {
     "data": {
      "text/plain": [
       "\n",
       "Call:\n",
       "glm(formula = formula, family = \"binomial\", data = train_clean)\n",
       "\n",
       "Deviance Residuals: \n",
       "    Min       1Q   Median       3Q      Max  \n",
       "-2.5392  -0.5734  -0.4041   0.6053   2.4834  \n",
       "\n",
       "Coefficients:\n",
       "              Estimate Std. Error z value Pr(>|z|)    \n",
       "(Intercept)   4.324908   0.707733   6.111 9.90e-10 ***\n",
       "Pclass2      -0.223363   0.436904  -0.511  0.60918    \n",
       "Pclass3      -1.395055   0.438699  -3.180  0.00147 ** \n",
       "Sexmale      -2.742103   0.206401 -13.285  < 2e-16 ***\n",
       "Age          -0.040196   0.008239  -4.879 1.07e-06 ***\n",
       "SibSp        -0.322218   0.110670  -2.912  0.00360 ** \n",
       "Parch        -0.102795   0.122522  -0.839  0.40148    \n",
       "Fare          0.002982   0.002714   1.099  0.27190    \n",
       "CabinB        0.032215   0.712901   0.045  0.96396    \n",
       "CabinC       -0.491742   0.662141  -0.743  0.45769    \n",
       "CabinD        0.485489   0.734083   0.661  0.50839    \n",
       "CabinE        0.991793   0.737192   1.345  0.17851    \n",
       "CabinF        0.268171   0.982359   0.273  0.78486    \n",
       "CabinG       -1.560423   1.260177  -1.238  0.21562    \n",
       "CabinT      -12.883339 535.411476  -0.024  0.98080    \n",
       "CabinU       -0.916836   0.672024  -1.364  0.17248    \n",
       "EmbarkedQ    -0.108597   0.386769  -0.281  0.77888    \n",
       "EmbarkedS    -0.493766   0.246495  -2.003  0.04516 *  \n",
       "isMarried    -0.068806   0.196640  -0.350  0.72641    \n",
       "---\n",
       "Signif. codes:  0 ‘***’ 0.001 ‘**’ 0.01 ‘*’ 0.05 ‘.’ 0.1 ‘ ’ 1\n",
       "\n",
       "(Dispersion parameter for binomial family taken to be 1)\n",
       "\n",
       "    Null deviance: 1186.66  on 890  degrees of freedom\n",
       "Residual deviance:  765.21  on 872  degrees of freedom\n",
       "AIC: 803.21\n",
       "\n",
       "Number of Fisher Scoring iterations: 12\n"
      ]
     },
     "metadata": {},
     "output_type": "display_data"
    }
   ],
   "source": [
    "fit = glm(formula, family=\"binomial\", data=train_clean)\n",
    "summary(fit)"
   ]
  },
  {
   "cell_type": "code",
   "execution_count": 11,
   "metadata": {
    "execution": {
     "iopub.execute_input": "2020-11-08T07:02:57.113437Z",
     "iopub.status.busy": "2020-11-08T07:02:57.110897Z",
     "iopub.status.idle": "2020-11-08T07:02:57.530126Z",
     "shell.execute_reply": "2020-11-08T07:02:57.528875Z"
    },
    "papermill": {
     "duration": 0.45746,
     "end_time": "2020-11-08T07:02:57.530315",
     "exception": false,
     "start_time": "2020-11-08T07:02:57.072855",
     "status": "completed"
    },
    "tags": []
   },
   "outputs": [
    {
     "data": {
      "image/png": "[encoded data removed]"
     },
     "metadata": {
      "image/png": {
       "height": 420,
       "width": 420
      }
     },
     "output_type": "display_data"
    }
   ],
   "source": [
    "plot(fit, which=1)"
   ]
  },
  {
   "cell_type": "code",
   "execution_count": 12,
   "metadata": {
    "execution": {
     "iopub.execute_input": "2020-11-08T07:02:57.583670Z",
     "iopub.status.busy": "2020-11-08T07:02:57.581864Z",
     "iopub.status.idle": "2020-11-08T07:02:57.604024Z",
     "shell.execute_reply": "2020-11-08T07:02:57.601591Z"
    },
    "papermill": {
     "duration": 0.049629,
     "end_time": "2020-11-08T07:02:57.604220",
     "exception": false,
     "start_time": "2020-11-08T07:02:57.554591",
     "status": "completed"
    },
    "tags": []
   },
   "outputs": [
    {
     "data": {
      "text/html": [
       "0.894993894993895"
      ],
      "text/latex": [
       "0.894993894993895"
      ],
      "text/markdown": [
       "0.894993894993895"
      ],
      "text/plain": [
       "[1] 0.8949939"
      ]
     },
     "metadata": {},
     "output_type": "display_data"
    }
   ],
   "source": [
    "pred_train=ifelse(as.numeric(predict(fit))>0.5,1,0)\n",
    "sum(pred_train==train_clean$Survived,na.rm=T)/819"
   ]
  },
  {
   "cell_type": "code",
   "execution_count": 13,
   "metadata": {
    "execution": {
     "iopub.execute_input": "2020-11-08T07:02:57.657883Z",
     "iopub.status.busy": "2020-11-08T07:02:57.656206Z",
     "iopub.status.idle": "2020-11-08T07:02:57.689011Z",
     "shell.execute_reply": "2020-11-08T07:02:57.687647Z"
    },
    "papermill": {
     "duration": 0.061075,
     "end_time": "2020-11-08T07:02:57.689192",
     "exception": false,
     "start_time": "2020-11-08T07:02:57.628117",
     "status": "completed"
    },
    "tags": []
   },
   "outputs": [
    {
     "data": {
      "text/html": [
       "0.899521531100478"
      ],
      "text/latex": [
       "0.899521531100478"
      ],
      "text/markdown": [
       "0.899521531100478"
      ],
      "text/plain": [
       "[1] 0.8995215"
      ]
     },
     "metadata": {},
     "output_type": "display_data"
    }
   ],
   "source": [
    "pred_test=ifelse(as.numeric(predict(fit,newdata = test_clean))>0.5,1,0)\n",
    "sum(pred_test==true_pred[,2],na.rm=T)/418"
   ]
  },
  {
   "cell_type": "code",
   "execution_count": 14,
   "metadata": {
    "execution": {
     "iopub.execute_input": "2020-11-08T07:02:57.744241Z",
     "iopub.status.busy": "2020-11-08T07:02:57.742889Z",
     "iopub.status.idle": "2020-11-08T07:02:57.760373Z",
     "shell.execute_reply": "2020-11-08T07:02:57.759225Z"
    },
    "papermill": {
     "duration": 0.046324,
     "end_time": "2020-11-08T07:02:57.760528",
     "exception": false,
     "start_time": "2020-11-08T07:02:57.714204",
     "status": "completed"
    },
    "tags": []
   },
   "outputs": [],
   "source": [
    "output_pred = data.frame(PassengerId=test_raw$PassengerId, Survived = pred_test)\n",
    "write.csv(output_pred, file = \"../working/titanic_predictions.csv\", row.names=FALSE)"
   ]
  }
 ],
 "metadata": {
  "kernelspec": {
   "display_name": "R",
   "language": "R",
   "name": "ir"
  },
  "language_info": {
   "codemirror_mode": "r",
   "file_extension": ".r",
   "mimetype": "text/x-r-source",
   "name": "R",
   "pygments_lexer": "r",
   "version": "3.6.1"
  },
  "papermill": {
   "default_parameters": {},
   "duration": 7.921303,
   "end_time": "2020-11-08T07:02:58.895889",
   "environment_variables": {},
   "exception": null,
   "input_path": "__notebook__.ipynb",
   "output_path": "__notebook__.ipynb",
   "parameters": {},
   "start_time": "2020-11-08T07:02:50.974586",
   "version": "2.2.0"
  }
 },
 "nbformat": 4,
 "nbformat_minor": 4
}
