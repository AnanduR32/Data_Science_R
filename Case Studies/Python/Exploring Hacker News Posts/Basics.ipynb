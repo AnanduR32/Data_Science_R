{
 "cells": [
  {
   "cell_type": "markdown",
   "metadata": {
    "collapsed": true
   },
   "source": [
    "# Exploring Hacker News Posts\n",
    "###### (Guided project)  \n",
    "Hacker News is a site started by the startup incubator Y Combinator, where user-submitted stories (known as \"posts\") are voted and commented upon, similar to reddit. Hacker News is extremely popular in technology and startup circles, and posts that make it to the top of Hacker News' listings can get hundreds of thousands of visitors as a result.  \n",
    "The dataset can be found [here](https://www.kaggle.com/hacker-news/hacker-news-posts)  \n",
    "Data description\n",
    "\n",
    "| Data | Description |\n",
    "| --- | --- |\n",
    "| id | The unique identifier from Hacker News for the post |\n",
    "| title | The title of the post |\n",
    "| url | The URL that the posts links to, if it the post has a URL |\n",
    "| num_points | The number of points the post acquired |\n",
    "| num_comments | The number of comments that were made on the post |\n",
    "| author | The username of the person who submitted the post |\n",
    "| created_at | The date and time at which the post was submitted |\n"
   ]
  },
  {
   "cell_type": "markdown",
   "metadata": {},
   "source": [
    "## Loading the data"
   ]
  },
  {
   "cell_type": "code",
   "execution_count": 3,
   "metadata": {
    "collapsed": false
   },
   "outputs": [],
   "source": [
    "from csv import reader \n",
    "hn = list(reader(open(\"hacker_news.csv\")))\n",
    "hn_header = hn[0]\n",
    "hn = hn[1:]"
   ]
  },
  {
   "cell_type": "markdown",
   "metadata": {},
   "source": [
    "Creating function to display contents"
   ]
  },
  {
   "cell_type": "code",
   "execution_count": 18,
   "metadata": {
    "collapsed": true
   },
   "outputs": [],
   "source": [
    "def exploreDate(dataset, start = 0, end = 5, length = False):\n",
    "    for row in dataset[start:end]:\n",
    "        print(row,\"\\n\")\n",
    "    if(length):\n",
    "        rows = len(dataset)\n",
    "        columns = len(dataset[start])\n",
    "        print('Row: {0}\\nColumns: {1}'.format(rows,columns))"
   ]
  },
  {
   "cell_type": "markdown",
   "metadata": {},
   "source": [
    "Header"
   ]
  },
  {
   "cell_type": "code",
   "execution_count": 20,
   "metadata": {
    "collapsed": false
   },
   "outputs": [
    {
     "name": "stdout",
     "output_type": "stream",
     "text": [
      "['id', 'title', 'url', 'num_points', 'num_comments', 'author', 'created_at']\n"
     ]
    }
   ],
   "source": [
    "print(hn_header)"
   ]
  },
  {
   "cell_type": "code",
   "execution_count": 21,
   "metadata": {
    "collapsed": false
   },
   "outputs": [
    {
     "name": "stdout",
     "output_type": "stream",
     "text": [
      "['12224879', 'Interactive Dynamic Video', 'http://www.interactivedynamicvideo.com/', '386', '52', 'ne0phyte', '8/4/2016 11:52'] \n",
      "\n",
      "['10975351', 'How to Use Open Source and Shut the Fuck Up at the Same Time', 'http://hueniverse.com/2016/01/26/how-to-use-open-source-and-shut-the-fuck-up-at-the-same-time/', '39', '10', 'josep2', '1/26/2016 19:30'] \n",
      "\n",
      "['11964716', \"Florida DJs May Face Felony for April Fools' Water Joke\", 'http://www.thewire.com/entertainment/2013/04/florida-djs-april-fools-water-joke/63798/', '2', '1', 'vezycash', '6/23/2016 22:20'] \n",
      "\n",
      "['11919867', 'Technology ventures: From Idea to Enterprise', 'https://www.amazon.com/Technology-Ventures-Enterprise-Thomas-Byers/dp/0073523429', '3', '1', 'hswarna', '6/17/2016 0:01'] \n",
      "\n",
      "['10301696', 'Note by Note: The Making of Steinway L1037 (2007)', 'http://www.nytimes.com/2007/11/07/movies/07stein.html?_r=0', '8', '2', 'walterbell', '9/30/2015 4:12'] \n",
      "\n",
      "Row: 20100\n",
      "Columns: 7\n"
     ]
    }
   ],
   "source": [
    "exploreDate(hn, length = True)"
   ]
  },
  {
   "cell_type": "markdown",
   "metadata": {},
   "source": [
    "## Activity\n",
    "#### init lists"
   ]
  },
  {
   "cell_type": "code",
   "execution_count": 22,
   "metadata": {
    "collapsed": true
   },
   "outputs": [],
   "source": [
    "ask_posts, show_posts, other_posts = [],[],[]"
   ]
  },
  {
   "cell_type": "code",
   "execution_count": 24,
   "metadata": {
    "collapsed": false
   },
   "outputs": [
    {
     "name": "stdout",
     "output_type": "stream",
     "text": [
      "ask_posts: 1744\n",
      "show_posts: 1162\n",
      "other_posts: 17194\n"
     ]
    }
   ],
   "source": [
    "for row in hn:\n",
    "    title = row[1].lower()\n",
    "    if(title.startswith('ask hn')):\n",
    "        ask_posts.append(row)\n",
    "        continue\n",
    "    if(title.startswith('show hn')):\n",
    "        show_posts.append(row)\n",
    "        continue\n",
    "    other_posts.append(row)\n",
    "print(\"ask_posts: {0}\\nshow_posts: {1}\\nother_posts: {2}\".format(len(ask_posts),len(show_posts),len(other_posts)))"
   ]
  },
  {
   "cell_type": "markdown",
   "metadata": {},
   "source": [
    "#### Comaring the number of comments recieved on posts labelled 'ah' and 'nh' on average\n",
    "The num_counts column is indexed by 4"
   ]
  },
  {
   "cell_type": "code",
   "execution_count": 27,
   "metadata": {
    "collapsed": false
   },
   "outputs": [
    {
     "name": "stdout",
     "output_type": "stream",
     "text": [
      "Total number of comments on ask_posts: 24483\n",
      "Total number of comments on ask_posts: 11988\n"
     ]
    }
   ],
   "source": [
    "total_ask_comments = 0\n",
    "for row in ask_posts:\n",
    "    comments = int(row[4])\n",
    "    total_ask_comments+=comments\n",
    "print(\"Total number of comments on ask_posts: {}\".format(total_ask_comments))\n",
    "\n",
    "total_show_comments = 0\n",
    "for row in show_posts:\n",
    "    comments = int(row[4])\n",
    "    total_show_comments+=comments\n",
    "print(\"Total number of comments on ask_posts: {}\".format(total_show_comments))"
   ]
  },
  {
   "cell_type": "markdown",
   "metadata": {},
   "source": [
    "Computing average comments "
   ]
  },
  {
   "cell_type": "code",
   "execution_count": 32,
   "metadata": {
    "collapsed": false
   },
   "outputs": [
    {
     "name": "stdout",
     "output_type": "stream",
     "text": [
      "Average number of comments on ask_posts: 14\n",
      "Average number of comments on ask_posts: 10\n"
     ]
    }
   ],
   "source": [
    "avg_ask_comments = total_ask_comments/len(ask_posts)\n",
    "avg_show_comments = total_show_comments/len(show_posts)\n",
    "print(\"Average number of comments on ask_posts: {0:.0f}\\nAverage number of comments on ask_posts: {1:.0f}\".format(avg_ask_comments,avg_show_comments))"
   ]
  },
  {
   "cell_type": "markdown",
   "metadata": {},
   "source": [
    "The average number of comments under posts tagged as 'as' has 14 comments on average whereas those tagged as 'sh' has 10 comments on average"
   ]
  },
  {
   "cell_type": "markdown",
   "metadata": {},
   "source": [
    "#### Datetime analysis"
   ]
  },
  {
   "cell_type": "code",
   "execution_count": 126,
   "metadata": {
    "collapsed": false
   },
   "outputs": [],
   "source": [
    "from datetime import datetime as dt\n",
    "result_list = []\n",
    "for row in ask_posts:\n",
    "    created_at = row[6]\n",
    "    num_comments = row[4]\n",
    "    item = [created_at,num_comments]\n",
    "    result_list.append(item)"
   ]
  },
  {
   "cell_type": "code",
   "execution_count": 127,
   "metadata": {
    "collapsed": true
   },
   "outputs": [],
   "source": [
    "counts_by_hour, comments_by_hour = {},{}"
   ]
  },
  {
   "cell_type": "code",
   "execution_count": 128,
   "metadata": {
    "collapsed": false
   },
   "outputs": [],
   "source": [
    "for item in result_list:\n",
    "    cr_date = item[0]\n",
    "    comments = int(item[1])\n",
    "    cr_date = dt.strptime(cr_date,\"%m/%d/%Y %H:%M\")\n",
    "    cr_hour = cr_date.strftime(\"%H\")\n",
    "    if(cr_hour in counts_by_hour):\n",
    "        counts_by_hour[cr_hour] +=1\n",
    "        comments_by_hour[cr_hour] +=comments\n",
    "    else:\n",
    "        counts_by_hour[cr_hour] = 1\n",
    "        comments_by_hour[cr_hour] = comments"
   ]
  },
  {
   "cell_type": "code",
   "execution_count": 129,
   "metadata": {
    "collapsed": false
   },
   "outputs": [
    {
     "name": "stdout",
     "output_type": "stream",
     "text": [
      "counts per hour\n",
      " {'03': 54, '10': 59, '14': 107, '13': 85, '08': 48, '11': 58, '09': 45, '15': 116, '00': 55, '06': 44, '16': 108, '04': 47, '19': 110, '02': 58, '17': 100, '07': 34, '01': 60, '21': 109, '20': 80, '18': 109, '12': 73, '22': 71, '05': 46, '23': 68} \n",
      "Comments per hour\n",
      " {'03': 421, '10': 793, '14': 1416, '13': 1253, '08': 492, '11': 641, '09': 251, '15': 4477, '00': 447, '06': 397, '16': 1814, '04': 337, '19': 1188, '02': 1381, '17': 1146, '07': 267, '01': 683, '21': 1745, '20': 1722, '18': 1439, '12': 687, '22': 479, '05': 464, '23': 543}\n"
     ]
    }
   ],
   "source": [
    "print('counts per hour\\n',counts_by_hour,'\\nComments per hour\\n',comments_by_hour)"
   ]
  },
  {
   "cell_type": "code",
   "execution_count": 130,
   "metadata": {
    "collapsed": false
   },
   "outputs": [],
   "source": [
    "avg_by_hour = []\n",
    "comments_by_hour_vector = [y for y in comments_by_hour.values()]\n",
    "count_by_hour_vector = [y for y in counts_by_hour.values()]\n",
    "hours = [x for x in counts_by_hour.keys()]\n",
    "for i in range(24):\n",
    "    avg_by_hour.append([hours[i],round(comments_by_hour_vector[i]/count_by_hour_vector[i],2)])\n",
    "# for hour,comments in comments_by_hour.items():\n",
    "#     avg = round(100*comments/sum(comments_by_hour.values()),2)\n",
    "#     avg_by_hour.append([hour,avg])\n"
   ]
  },
  {
   "cell_type": "code",
   "execution_count": 134,
   "metadata": {
    "collapsed": false
   },
   "outputs": [
    {
     "data": {
      "text/plain": [
       "[['00', 8.13],\n",
       " ['01', 11.38],\n",
       " ['02', 23.81],\n",
       " ['03', 7.8],\n",
       " ['04', 7.17],\n",
       " ['05', 10.09],\n",
       " ['06', 9.02],\n",
       " ['07', 7.85],\n",
       " ['08', 10.25],\n",
       " ['09', 5.58],\n",
       " ['10', 13.44],\n",
       " ['11', 11.05],\n",
       " ['12', 9.41],\n",
       " ['13', 14.74],\n",
       " ['14', 13.23],\n",
       " ['15', 38.59],\n",
       " ['16', 16.8],\n",
       " ['17', 11.46],\n",
       " ['18', 13.2],\n",
       " ['19', 10.8],\n",
       " ['20', 21.52],\n",
       " ['21', 16.01],\n",
       " ['22', 6.75],\n",
       " ['23', 7.99]]"
      ]
     },
     "execution_count": 134,
     "metadata": {},
     "output_type": "execute_result"
    }
   ],
   "source": [
    "avg_by_hour.sort()\n",
    "avg_by_hour"
   ]
  },
  {
   "cell_type": "markdown",
   "metadata": {},
   "source": [
    "Swapping by columns"
   ]
  },
  {
   "cell_type": "code",
   "execution_count": 137,
   "metadata": {
    "collapsed": true
   },
   "outputs": [],
   "source": [
    "swap_avg_by_hour = []\n",
    "for row in avg_by_hour:\n",
    "    swap_avg_by_hour.append([row[1],row[0]])"
   ]
  },
  {
   "cell_type": "code",
   "execution_count": 138,
   "metadata": {
    "collapsed": false
   },
   "outputs": [
    {
     "data": {
      "text/plain": [
       "[[8.13, '00'],\n",
       " [11.38, '01'],\n",
       " [23.81, '02'],\n",
       " [7.8, '03'],\n",
       " [7.17, '04'],\n",
       " [10.09, '05'],\n",
       " [9.02, '06'],\n",
       " [7.85, '07'],\n",
       " [10.25, '08'],\n",
       " [5.58, '09'],\n",
       " [13.44, '10'],\n",
       " [11.05, '11'],\n",
       " [9.41, '12'],\n",
       " [14.74, '13'],\n",
       " [13.23, '14'],\n",
       " [38.59, '15'],\n",
       " [16.8, '16'],\n",
       " [11.46, '17'],\n",
       " [13.2, '18'],\n",
       " [10.8, '19'],\n",
       " [21.52, '20'],\n",
       " [16.01, '21'],\n",
       " [6.75, '22'],\n",
       " [7.99, '23']]"
      ]
     },
     "execution_count": 138,
     "metadata": {},
     "output_type": "execute_result"
    }
   ],
   "source": [
    "swap_avg_by_hour"
   ]
  },
  {
   "cell_type": "markdown",
   "metadata": {},
   "source": [
    "Sorting according to decreasing order of average comments per post ratio"
   ]
  },
  {
   "cell_type": "code",
   "execution_count": 141,
   "metadata": {
    "collapsed": false
   },
   "outputs": [],
   "source": [
    "swap_avg_by_hour.sort(reverse = True)"
   ]
  },
  {
   "cell_type": "code",
   "execution_count": 142,
   "metadata": {
    "collapsed": false
   },
   "outputs": [
    {
     "data": {
      "text/plain": [
       "[[38.59, '15'],\n",
       " [23.81, '02'],\n",
       " [21.52, '20'],\n",
       " [16.8, '16'],\n",
       " [16.01, '21'],\n",
       " [14.74, '13'],\n",
       " [13.44, '10'],\n",
       " [13.23, '14'],\n",
       " [13.2, '18'],\n",
       " [11.46, '17'],\n",
       " [11.38, '01'],\n",
       " [11.05, '11'],\n",
       " [10.8, '19'],\n",
       " [10.25, '08'],\n",
       " [10.09, '05'],\n",
       " [9.41, '12'],\n",
       " [9.02, '06'],\n",
       " [8.13, '00'],\n",
       " [7.99, '23'],\n",
       " [7.85, '07'],\n",
       " [7.8, '03'],\n",
       " [7.17, '04'],\n",
       " [6.75, '22'],\n",
       " [5.58, '09']]"
      ]
     },
     "execution_count": 142,
     "metadata": {},
     "output_type": "execute_result"
    }
   ],
   "source": [
    "swap_avg_by_hour"
   ]
  },
  {
   "cell_type": "markdown",
   "metadata": {},
   "source": [
    "Printing top 5 hours for Ask Posts Comments"
   ]
  },
  {
   "cell_type": "code",
   "execution_count": null,
   "metadata": {
    "collapsed": true
   },
   "outputs": [],
   "source": [
    "for row in swap_avg_by_hour[:5]:\n",
    "    template(\"{0}: {1} average comments per post}\")"
   ]
  }
 ],
 "metadata": {
  "kernelspec": {
   "display_name": "Python 3",
   "language": "python",
   "name": "python3"
  },
  "language_info": {
   "codemirror_mode": {
    "name": "ipython",
    "version": 3
   },
   "file_extension": ".py",
   "mimetype": "text/x-python",
   "name": "python",
   "nbconvert_exporter": "python",
   "pygments_lexer": "ipython3",
   "version": "3.4.3"
  }
 },
 "nbformat": 4,
 "nbformat_minor": 2
}
