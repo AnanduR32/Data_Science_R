{
 "cells": [
  {
   "cell_type": "markdown",
   "metadata": {},
   "source": [
    "### Connecting Jupyter Notebook to database file"
   ]
  },
  {
   "cell_type": "code",
   "execution_count": 1,
   "metadata": {
    "collapsed": false
   },
   "outputs": [
    {
     "data": {
      "text/plain": [
       "'Connected: None@chinook.db'"
      ]
     },
     "execution_count": 1,
     "metadata": {},
     "output_type": "execute_result"
    }
   ],
   "source": [
    "%%capture\n",
    "%load_ext sql\n",
    "%sql sqlite:///chinook.db"
   ]
  },
  {
   "cell_type": "markdown",
   "metadata": {},
   "source": [
    "### Listing all tables in the database"
   ]
  },
  {
   "cell_type": "code",
   "execution_count": 3,
   "metadata": {
    "collapsed": false
   },
   "outputs": [
    {
     "name": "stdout",
     "output_type": "stream",
     "text": [
      "Done.\n"
     ]
    },
    {
     "data": {
      "text/html": [
       "<table>\n",
       "    <tr>\n",
       "        <th>name</th>\n",
       "        <th>type</th>\n",
       "    </tr>\n",
       "    <tr>\n",
       "        <td>album</td>\n",
       "        <td>table</td>\n",
       "    </tr>\n",
       "    <tr>\n",
       "        <td>artist</td>\n",
       "        <td>table</td>\n",
       "    </tr>\n",
       "    <tr>\n",
       "        <td>customer</td>\n",
       "        <td>table</td>\n",
       "    </tr>\n",
       "    <tr>\n",
       "        <td>employee</td>\n",
       "        <td>table</td>\n",
       "    </tr>\n",
       "    <tr>\n",
       "        <td>genre</td>\n",
       "        <td>table</td>\n",
       "    </tr>\n",
       "    <tr>\n",
       "        <td>invoice</td>\n",
       "        <td>table</td>\n",
       "    </tr>\n",
       "    <tr>\n",
       "        <td>invoice_line</td>\n",
       "        <td>table</td>\n",
       "    </tr>\n",
       "    <tr>\n",
       "        <td>media_type</td>\n",
       "        <td>table</td>\n",
       "    </tr>\n",
       "    <tr>\n",
       "        <td>playlist</td>\n",
       "        <td>table</td>\n",
       "    </tr>\n",
       "    <tr>\n",
       "        <td>playlist_track</td>\n",
       "        <td>table</td>\n",
       "    </tr>\n",
       "    <tr>\n",
       "        <td>track</td>\n",
       "        <td>table</td>\n",
       "    </tr>\n",
       "</table>"
      ],
      "text/plain": [
       "[('album', 'table'),\n",
       " ('artist', 'table'),\n",
       " ('customer', 'table'),\n",
       " ('employee', 'table'),\n",
       " ('genre', 'table'),\n",
       " ('invoice', 'table'),\n",
       " ('invoice_line', 'table'),\n",
       " ('media_type', 'table'),\n",
       " ('playlist', 'table'),\n",
       " ('playlist_track', 'table'),\n",
       " ('track', 'table')]"
      ]
     },
     "execution_count": 3,
     "metadata": {},
     "output_type": "execute_result"
    }
   ],
   "source": [
    "%%sql\n",
    "SELECT\n",
    "    name,\n",
    "    type\n",
    "FROM sqlite_master\n",
    "WHERE type IN (\"table\",\"view\");"
   ]
  },
  {
   "cell_type": "markdown",
   "metadata": {},
   "source": [
    "### Summary data for every playlist "
   ]
  },
  {
   "cell_type": "code",
   "execution_count": 36,
   "metadata": {
    "collapsed": false
   },
   "outputs": [
    {
     "name": "stdout",
     "output_type": "stream",
     "text": [
      "Done.\n"
     ]
    },
    {
     "data": {
      "text/html": [
       "<table>\n",
       "    <tr>\n",
       "        <th>playlist_id</th>\n",
       "        <th>playlist_name</th>\n",
       "        <th>number_of_tracks</th>\n",
       "        <th>length_seconds</th>\n",
       "    </tr>\n",
       "    <tr>\n",
       "        <td>1</td>\n",
       "        <td>Music</td>\n",
       "        <td>3290</td>\n",
       "        <td>876049.0</td>\n",
       "    </tr>\n",
       "    <tr>\n",
       "        <td>2</td>\n",
       "        <td>Movies</td>\n",
       "        <td>0</td>\n",
       "        <td>None</td>\n",
       "    </tr>\n",
       "    <tr>\n",
       "        <td>3</td>\n",
       "        <td>TV Shows</td>\n",
       "        <td>213</td>\n",
       "        <td>500987.0</td>\n",
       "    </tr>\n",
       "    <tr>\n",
       "        <td>4</td>\n",
       "        <td>Audiobooks</td>\n",
       "        <td>0</td>\n",
       "        <td>None</td>\n",
       "    </tr>\n",
       "    <tr>\n",
       "        <td>5</td>\n",
       "        <td>90’s Music</td>\n",
       "        <td>1477</td>\n",
       "        <td>397970.0</td>\n",
       "    </tr>\n",
       "</table>"
      ],
      "text/plain": [
       "[(1, 'Music', 3290, 876049.0),\n",
       " (2, 'Movies', 0, None),\n",
       " (3, 'TV Shows', 213, 500987.0),\n",
       " (4, 'Audiobooks', 0, None),\n",
       " (5, '90’s Music', 1477, 397970.0)]"
      ]
     },
     "execution_count": 36,
     "metadata": {},
     "output_type": "execute_result"
    }
   ],
   "source": [
    "%%sql\n",
    "WITH playlist_info AS\n",
    "(\n",
    "    select \n",
    "        p.playlist_id,\n",
    "        p.name playlist_name,\n",
    "        t.name track_name,\n",
    "        CAST(t.milliseconds/1000 AS FLOAT) track_length\n",
    "    FROM playlist p \n",
    "    LEFT JOIN playlist_track pt ON pt.playlist_id=p.playlist_id\n",
    "    LEFT JOIN track t ON t.track_id=pt.track_id\n",
    ")\n",
    "SELECT \n",
    "    playlist_id,\n",
    "    playlist_name,\n",
    "    COUNT(track_name) number_of_tracks,\n",
    "    SUM(track_length) length_seconds\n",
    "FROM playlist_info \n",
    "GROUP BY 1\n",
    "ORDER BY 1\n",
    "LIMIT 5;"
   ]
  },
  {
   "cell_type": "markdown",
   "metadata": {},
   "source": [
    "### Summary data on tracks from different albums\n",
    "- \"Jagged Little Pill\""
   ]
  },
  {
   "cell_type": "code",
   "execution_count": 35,
   "metadata": {
    "collapsed": false
   },
   "outputs": [
    {
     "name": "stdout",
     "output_type": "stream",
     "text": [
      "Done.\n"
     ]
    },
    {
     "data": {
      "text/html": [
       "<table>\n",
       "    <tr>\n",
       "        <th>name</th>\n",
       "        <th>artist</th>\n",
       "        <th>album_name</th>\n",
       "        <th>media_type</th>\n",
       "        <th>genre</th>\n",
       "        <th>length_milliseconds</th>\n",
       "    </tr>\n",
       "    <tr>\n",
       "        <td>All I Really Want</td>\n",
       "        <td>Alanis Morissette</td>\n",
       "        <td>Jagged Little Pill</td>\n",
       "        <td>MPEG audio file</td>\n",
       "        <td>Rock</td>\n",
       "        <td>284891</td>\n",
       "    </tr>\n",
       "    <tr>\n",
       "        <td>You Oughta Know</td>\n",
       "        <td>Alanis Morissette</td>\n",
       "        <td>Jagged Little Pill</td>\n",
       "        <td>MPEG audio file</td>\n",
       "        <td>Rock</td>\n",
       "        <td>249234</td>\n",
       "    </tr>\n",
       "    <tr>\n",
       "        <td>Perfect</td>\n",
       "        <td>Alanis Morissette</td>\n",
       "        <td>Jagged Little Pill</td>\n",
       "        <td>MPEG audio file</td>\n",
       "        <td>Rock</td>\n",
       "        <td>188133</td>\n",
       "    </tr>\n",
       "    <tr>\n",
       "        <td>Hand In My Pocket</td>\n",
       "        <td>Alanis Morissette</td>\n",
       "        <td>Jagged Little Pill</td>\n",
       "        <td>MPEG audio file</td>\n",
       "        <td>Rock</td>\n",
       "        <td>221570</td>\n",
       "    </tr>\n",
       "    <tr>\n",
       "        <td>Right Through You</td>\n",
       "        <td>Alanis Morissette</td>\n",
       "        <td>Jagged Little Pill</td>\n",
       "        <td>MPEG audio file</td>\n",
       "        <td>Rock</td>\n",
       "        <td>176117</td>\n",
       "    </tr>\n",
       "</table>"
      ],
      "text/plain": [
       "[('All I Really Want', 'Alanis Morissette', 'Jagged Little Pill', 'MPEG audio file', 'Rock', 284891),\n",
       " ('You Oughta Know', 'Alanis Morissette', 'Jagged Little Pill', 'MPEG audio file', 'Rock', 249234),\n",
       " ('Perfect', 'Alanis Morissette', 'Jagged Little Pill', 'MPEG audio file', 'Rock', 188133),\n",
       " ('Hand In My Pocket', 'Alanis Morissette', 'Jagged Little Pill', 'MPEG audio file', 'Rock', 221570),\n",
       " ('Right Through You', 'Alanis Morissette', 'Jagged Little Pill', 'MPEG audio file', 'Rock', 176117)]"
      ]
     },
     "execution_count": 35,
     "metadata": {},
     "output_type": "execute_result"
    }
   ],
   "source": [
    "%%sql \n",
    "WITH track_info AS\n",
    "    (                \n",
    "     SELECT\n",
    "         t.name,\n",
    "         ar.name artist,\n",
    "         al.title album_name,\n",
    "         mt.name media_type,\n",
    "         g.name genre,\n",
    "         t.milliseconds length_milliseconds\n",
    "     FROM track t\n",
    "     INNER JOIN media_type mt ON mt.media_type_id = t.media_type_id\n",
    "     INNER JOIN genre g ON g.genre_id = t.genre_id\n",
    "     INNER JOIN album al ON al.album_id = t.album_id\n",
    "     INNER JOIN artist ar ON ar.artist_id = al.artist_id\n",
    "    )\n",
    "\n",
    "SELECT * FROM track_info\n",
    "WHERE album_name = \"Jagged Little Pill\"\n",
    "LIMIT 5;"
   ]
  },
  {
   "cell_type": "markdown",
   "metadata": {},
   "source": [
    "### Customers that spent more than 90$ in the store"
   ]
  },
  {
   "cell_type": "code",
   "execution_count": 29,
   "metadata": {
    "collapsed": false
   },
   "outputs": [
    {
     "name": "stdout",
     "output_type": "stream",
     "text": [
      "Done.\n"
     ]
    },
    {
     "data": {
      "text/plain": [
       "[]"
      ]
     },
     "execution_count": 29,
     "metadata": {},
     "output_type": "execute_result"
    }
   ],
   "source": [
    "%%sql\n",
    "CREATE VIEW customer_gt_90_dollars AS\n",
    "    SELECT c.* \n",
    "    FROM customer c\n",
    "    INNER JOIN invoice i on i.customer_id=c.customer_id\n",
    "    GROUP BY 1\n",
    "    HAVING SUM(i.total)>90;"
   ]
  },
  {
   "cell_type": "code",
   "execution_count": 34,
   "metadata": {
    "collapsed": false
   },
   "outputs": [
    {
     "name": "stdout",
     "output_type": "stream",
     "text": [
      "Done.\n"
     ]
    },
    {
     "data": {
      "text/html": [
       "<table>\n",
       "    <tr>\n",
       "        <th>customer_id</th>\n",
       "        <th>first_name</th>\n",
       "        <th>last_name</th>\n",
       "        <th>company</th>\n",
       "        <th>address</th>\n",
       "        <th>city</th>\n",
       "        <th>state</th>\n",
       "        <th>country</th>\n",
       "        <th>postal_code</th>\n",
       "        <th>phone</th>\n",
       "        <th>fax</th>\n",
       "        <th>email</th>\n",
       "        <th>support_rep_id</th>\n",
       "    </tr>\n",
       "    <tr>\n",
       "        <td>1</td>\n",
       "        <td>Luís</td>\n",
       "        <td>Gonçalves</td>\n",
       "        <td>Embraer - Empresa Brasileira de Aeronáutica S.A.</td>\n",
       "        <td>Av. Brigadeiro Faria Lima, 2170</td>\n",
       "        <td>São José dos Campos</td>\n",
       "        <td>SP</td>\n",
       "        <td>Brazil</td>\n",
       "        <td>12227-000</td>\n",
       "        <td>+55 (12) 3923-5555</td>\n",
       "        <td>+55 (12) 3923-5566</td>\n",
       "        <td>luisg@embraer.com.br</td>\n",
       "        <td>3</td>\n",
       "    </tr>\n",
       "    <tr>\n",
       "        <td>3</td>\n",
       "        <td>François</td>\n",
       "        <td>Tremblay</td>\n",
       "        <td>None</td>\n",
       "        <td>1498 rue Bélanger</td>\n",
       "        <td>Montréal</td>\n",
       "        <td>QC</td>\n",
       "        <td>Canada</td>\n",
       "        <td>H2G 1A7</td>\n",
       "        <td>+1 (514) 721-4711</td>\n",
       "        <td>None</td>\n",
       "        <td>ftremblay@gmail.com</td>\n",
       "        <td>3</td>\n",
       "    </tr>\n",
       "    <tr>\n",
       "        <td>5</td>\n",
       "        <td>František</td>\n",
       "        <td>Wichterlová</td>\n",
       "        <td>JetBrains s.r.o.</td>\n",
       "        <td>Klanova 9/506</td>\n",
       "        <td>Prague</td>\n",
       "        <td>None</td>\n",
       "        <td>Czech Republic</td>\n",
       "        <td>14700</td>\n",
       "        <td>+420 2 4172 5555</td>\n",
       "        <td>+420 2 4172 5555</td>\n",
       "        <td>frantisekw@jetbrains.com</td>\n",
       "        <td>4</td>\n",
       "    </tr>\n",
       "    <tr>\n",
       "        <td>6</td>\n",
       "        <td>Helena</td>\n",
       "        <td>Holý</td>\n",
       "        <td>None</td>\n",
       "        <td>Rilská 3174/6</td>\n",
       "        <td>Prague</td>\n",
       "        <td>None</td>\n",
       "        <td>Czech Republic</td>\n",
       "        <td>14300</td>\n",
       "        <td>+420 2 4177 0449</td>\n",
       "        <td>None</td>\n",
       "        <td>hholy@gmail.com</td>\n",
       "        <td>5</td>\n",
       "    </tr>\n",
       "    <tr>\n",
       "        <td>13</td>\n",
       "        <td>Fernanda</td>\n",
       "        <td>Ramos</td>\n",
       "        <td>None</td>\n",
       "        <td>Qe 7 Bloco G</td>\n",
       "        <td>Brasília</td>\n",
       "        <td>DF</td>\n",
       "        <td>Brazil</td>\n",
       "        <td>71020-677</td>\n",
       "        <td>+55 (61) 3363-5547</td>\n",
       "        <td>+55 (61) 3363-7855</td>\n",
       "        <td>fernadaramos4@uol.com.br</td>\n",
       "        <td>4</td>\n",
       "    </tr>\n",
       "</table>"
      ],
      "text/plain": [
       "[(1, 'Luís', 'Gonçalves', 'Embraer - Empresa Brasileira de Aeronáutica S.A.', 'Av. Brigadeiro Faria Lima, 2170', 'São José dos Campos', 'SP', 'Brazil', '12227-000', '+55 (12) 3923-5555', '+55 (12) 3923-5566', 'luisg@embraer.com.br', 3),\n",
       " (3, 'François', 'Tremblay', None, '1498 rue Bélanger', 'Montréal', 'QC', 'Canada', 'H2G 1A7', '+1 (514) 721-4711', None, 'ftremblay@gmail.com', 3),\n",
       " (5, 'František', 'Wichterlová', 'JetBrains s.r.o.', 'Klanova 9/506', 'Prague', None, 'Czech Republic', '14700', '+420 2 4172 5555', '+420 2 4172 5555', 'frantisekw@jetbrains.com', 4),\n",
       " (6, 'Helena', 'Holý', None, 'Rilská 3174/6', 'Prague', None, 'Czech Republic', '14300', '+420 2 4177 0449', None, 'hholy@gmail.com', 5),\n",
       " (13, 'Fernanda', 'Ramos', None, 'Qe 7 Bloco G', 'Brasília', 'DF', 'Brazil', '71020-677', '+55 (61) 3363-5547', '+55 (61) 3363-7855', 'fernadaramos4@uol.com.br', 4)]"
      ]
     },
     "execution_count": 34,
     "metadata": {},
     "output_type": "execute_result"
    }
   ],
   "source": [
    "%%sql\n",
    "SELECT *\n",
    "FROM customer_gt_90_dollars\n",
    "LIMIT 5;"
   ]
  },
  {
   "cell_type": "markdown",
   "metadata": {},
   "source": [
    "### Customers from USA"
   ]
  },
  {
   "cell_type": "code",
   "execution_count": 26,
   "metadata": {
    "collapsed": false
   },
   "outputs": [
    {
     "name": "stdout",
     "output_type": "stream",
     "text": [
      "Done.\n"
     ]
    },
    {
     "data": {
      "text/plain": [
       "[]"
      ]
     },
     "execution_count": 26,
     "metadata": {},
     "output_type": "execute_result"
    }
   ],
   "source": [
    "%%sql\n",
    "CREATE VIEW customer_usa AS\n",
    "    SELECT \n",
    "        c.* \n",
    "    FROM \n",
    "        customer c\n",
    "    INNER JOIN \n",
    "        invoice i on i.customer_id=c.customer_id\n",
    "    WHERE \n",
    "        c.country==\"USA\";"
   ]
  },
  {
   "cell_type": "code",
   "execution_count": 33,
   "metadata": {
    "collapsed": false
   },
   "outputs": [
    {
     "name": "stdout",
     "output_type": "stream",
     "text": [
      "Done.\n"
     ]
    },
    {
     "data": {
      "text/html": [
       "<table>\n",
       "    <tr>\n",
       "        <th>customer_id</th>\n",
       "        <th>first_name</th>\n",
       "        <th>last_name</th>\n",
       "        <th>company</th>\n",
       "        <th>address</th>\n",
       "        <th>city</th>\n",
       "        <th>state</th>\n",
       "        <th>country</th>\n",
       "        <th>postal_code</th>\n",
       "        <th>phone</th>\n",
       "        <th>fax</th>\n",
       "        <th>email</th>\n",
       "        <th>support_rep_id</th>\n",
       "    </tr>\n",
       "    <tr>\n",
       "        <td>16</td>\n",
       "        <td>Frank</td>\n",
       "        <td>Harris</td>\n",
       "        <td>Google Inc.</td>\n",
       "        <td>1600 Amphitheatre Parkway</td>\n",
       "        <td>Mountain View</td>\n",
       "        <td>CA</td>\n",
       "        <td>USA</td>\n",
       "        <td>94043-1351</td>\n",
       "        <td>+1 (650) 253-0000</td>\n",
       "        <td>+1 (650) 253-0000</td>\n",
       "        <td>fharris@google.com</td>\n",
       "        <td>4</td>\n",
       "    </tr>\n",
       "    <tr>\n",
       "        <td>16</td>\n",
       "        <td>Frank</td>\n",
       "        <td>Harris</td>\n",
       "        <td>Google Inc.</td>\n",
       "        <td>1600 Amphitheatre Parkway</td>\n",
       "        <td>Mountain View</td>\n",
       "        <td>CA</td>\n",
       "        <td>USA</td>\n",
       "        <td>94043-1351</td>\n",
       "        <td>+1 (650) 253-0000</td>\n",
       "        <td>+1 (650) 253-0000</td>\n",
       "        <td>fharris@google.com</td>\n",
       "        <td>4</td>\n",
       "    </tr>\n",
       "    <tr>\n",
       "        <td>16</td>\n",
       "        <td>Frank</td>\n",
       "        <td>Harris</td>\n",
       "        <td>Google Inc.</td>\n",
       "        <td>1600 Amphitheatre Parkway</td>\n",
       "        <td>Mountain View</td>\n",
       "        <td>CA</td>\n",
       "        <td>USA</td>\n",
       "        <td>94043-1351</td>\n",
       "        <td>+1 (650) 253-0000</td>\n",
       "        <td>+1 (650) 253-0000</td>\n",
       "        <td>fharris@google.com</td>\n",
       "        <td>4</td>\n",
       "    </tr>\n",
       "    <tr>\n",
       "        <td>16</td>\n",
       "        <td>Frank</td>\n",
       "        <td>Harris</td>\n",
       "        <td>Google Inc.</td>\n",
       "        <td>1600 Amphitheatre Parkway</td>\n",
       "        <td>Mountain View</td>\n",
       "        <td>CA</td>\n",
       "        <td>USA</td>\n",
       "        <td>94043-1351</td>\n",
       "        <td>+1 (650) 253-0000</td>\n",
       "        <td>+1 (650) 253-0000</td>\n",
       "        <td>fharris@google.com</td>\n",
       "        <td>4</td>\n",
       "    </tr>\n",
       "    <tr>\n",
       "        <td>16</td>\n",
       "        <td>Frank</td>\n",
       "        <td>Harris</td>\n",
       "        <td>Google Inc.</td>\n",
       "        <td>1600 Amphitheatre Parkway</td>\n",
       "        <td>Mountain View</td>\n",
       "        <td>CA</td>\n",
       "        <td>USA</td>\n",
       "        <td>94043-1351</td>\n",
       "        <td>+1 (650) 253-0000</td>\n",
       "        <td>+1 (650) 253-0000</td>\n",
       "        <td>fharris@google.com</td>\n",
       "        <td>4</td>\n",
       "    </tr>\n",
       "</table>"
      ],
      "text/plain": [
       "[(16, 'Frank', 'Harris', 'Google Inc.', '1600 Amphitheatre Parkway', 'Mountain View', 'CA', 'USA', '94043-1351', '+1 (650) 253-0000', '+1 (650) 253-0000', 'fharris@google.com', 4),\n",
       " (16, 'Frank', 'Harris', 'Google Inc.', '1600 Amphitheatre Parkway', 'Mountain View', 'CA', 'USA', '94043-1351', '+1 (650) 253-0000', '+1 (650) 253-0000', 'fharris@google.com', 4),\n",
       " (16, 'Frank', 'Harris', 'Google Inc.', '1600 Amphitheatre Parkway', 'Mountain View', 'CA', 'USA', '94043-1351', '+1 (650) 253-0000', '+1 (650) 253-0000', 'fharris@google.com', 4),\n",
       " (16, 'Frank', 'Harris', 'Google Inc.', '1600 Amphitheatre Parkway', 'Mountain View', 'CA', 'USA', '94043-1351', '+1 (650) 253-0000', '+1 (650) 253-0000', 'fharris@google.com', 4),\n",
       " (16, 'Frank', 'Harris', 'Google Inc.', '1600 Amphitheatre Parkway', 'Mountain View', 'CA', 'USA', '94043-1351', '+1 (650) 253-0000', '+1 (650) 253-0000', 'fharris@google.com', 4)]"
      ]
     },
     "execution_count": 33,
     "metadata": {},
     "output_type": "execute_result"
    }
   ],
   "source": [
    "%%sql\n",
    "SELECT *\n",
    "FROM customer_usa\n",
    "LIMIT 5;"
   ]
  },
  {
   "cell_type": "markdown",
   "metadata": {},
   "source": [
    "### Customers in USA who spend more than 90$ in the store"
   ]
  },
  {
   "cell_type": "code",
   "execution_count": 39,
   "metadata": {
    "collapsed": false
   },
   "outputs": [
    {
     "name": "stdout",
     "output_type": "stream",
     "text": [
      "Done.\n"
     ]
    },
    {
     "data": {
      "text/html": [
       "<table>\n",
       "    <tr>\n",
       "        <th>customer_id</th>\n",
       "        <th>first_name</th>\n",
       "        <th>last_name</th>\n",
       "        <th>company</th>\n",
       "        <th>address</th>\n",
       "        <th>city</th>\n",
       "        <th>state</th>\n",
       "        <th>country</th>\n",
       "        <th>postal_code</th>\n",
       "        <th>phone</th>\n",
       "        <th>fax</th>\n",
       "        <th>email</th>\n",
       "        <th>support_rep_id</th>\n",
       "    </tr>\n",
       "    <tr>\n",
       "        <td>1</td>\n",
       "        <td>Luís</td>\n",
       "        <td>Gonçalves</td>\n",
       "        <td>Embraer - Empresa Brasileira de Aeronáutica S.A.</td>\n",
       "        <td>Av. Brigadeiro Faria Lima, 2170</td>\n",
       "        <td>São José dos Campos</td>\n",
       "        <td>SP</td>\n",
       "        <td>Brazil</td>\n",
       "        <td>12227-000</td>\n",
       "        <td>+55 (12) 3923-5555</td>\n",
       "        <td>+55 (12) 3923-5566</td>\n",
       "        <td>luisg@embraer.com.br</td>\n",
       "        <td>3</td>\n",
       "    </tr>\n",
       "    <tr>\n",
       "        <td>3</td>\n",
       "        <td>François</td>\n",
       "        <td>Tremblay</td>\n",
       "        <td>None</td>\n",
       "        <td>1498 rue Bélanger</td>\n",
       "        <td>Montréal</td>\n",
       "        <td>QC</td>\n",
       "        <td>Canada</td>\n",
       "        <td>H2G 1A7</td>\n",
       "        <td>+1 (514) 721-4711</td>\n",
       "        <td>None</td>\n",
       "        <td>ftremblay@gmail.com</td>\n",
       "        <td>3</td>\n",
       "    </tr>\n",
       "    <tr>\n",
       "        <td>5</td>\n",
       "        <td>František</td>\n",
       "        <td>Wichterlová</td>\n",
       "        <td>JetBrains s.r.o.</td>\n",
       "        <td>Klanova 9/506</td>\n",
       "        <td>Prague</td>\n",
       "        <td>None</td>\n",
       "        <td>Czech Republic</td>\n",
       "        <td>14700</td>\n",
       "        <td>+420 2 4172 5555</td>\n",
       "        <td>+420 2 4172 5555</td>\n",
       "        <td>frantisekw@jetbrains.com</td>\n",
       "        <td>4</td>\n",
       "    </tr>\n",
       "    <tr>\n",
       "        <td>6</td>\n",
       "        <td>Helena</td>\n",
       "        <td>Holý</td>\n",
       "        <td>None</td>\n",
       "        <td>Rilská 3174/6</td>\n",
       "        <td>Prague</td>\n",
       "        <td>None</td>\n",
       "        <td>Czech Republic</td>\n",
       "        <td>14300</td>\n",
       "        <td>+420 2 4177 0449</td>\n",
       "        <td>None</td>\n",
       "        <td>hholy@gmail.com</td>\n",
       "        <td>5</td>\n",
       "    </tr>\n",
       "    <tr>\n",
       "        <td>13</td>\n",
       "        <td>Fernanda</td>\n",
       "        <td>Ramos</td>\n",
       "        <td>None</td>\n",
       "        <td>Qe 7 Bloco G</td>\n",
       "        <td>Brasília</td>\n",
       "        <td>DF</td>\n",
       "        <td>Brazil</td>\n",
       "        <td>71020-677</td>\n",
       "        <td>+55 (61) 3363-5547</td>\n",
       "        <td>+55 (61) 3363-7855</td>\n",
       "        <td>fernadaramos4@uol.com.br</td>\n",
       "        <td>4</td>\n",
       "    </tr>\n",
       "</table>"
      ],
      "text/plain": [
       "[(1, 'Luís', 'Gonçalves', 'Embraer - Empresa Brasileira de Aeronáutica S.A.', 'Av. Brigadeiro Faria Lima, 2170', 'São José dos Campos', 'SP', 'Brazil', '12227-000', '+55 (12) 3923-5555', '+55 (12) 3923-5566', 'luisg@embraer.com.br', 3),\n",
       " (3, 'François', 'Tremblay', None, '1498 rue Bélanger', 'Montréal', 'QC', 'Canada', 'H2G 1A7', '+1 (514) 721-4711', None, 'ftremblay@gmail.com', 3),\n",
       " (5, 'František', 'Wichterlová', 'JetBrains s.r.o.', 'Klanova 9/506', 'Prague', None, 'Czech Republic', '14700', '+420 2 4172 5555', '+420 2 4172 5555', 'frantisekw@jetbrains.com', 4),\n",
       " (6, 'Helena', 'Holý', None, 'Rilská 3174/6', 'Prague', None, 'Czech Republic', '14300', '+420 2 4177 0449', None, 'hholy@gmail.com', 5),\n",
       " (13, 'Fernanda', 'Ramos', None, 'Qe 7 Bloco G', 'Brasília', 'DF', 'Brazil', '71020-677', '+55 (61) 3363-5547', '+55 (61) 3363-7855', 'fernadaramos4@uol.com.br', 4)]"
      ]
     },
     "execution_count": 39,
     "metadata": {},
     "output_type": "execute_result"
    }
   ],
   "source": [
    "%%sql\n",
    "SELECT * from customer_usa\n",
    "UNION\n",
    "SELECT * from customer_gt_90_dollars\n",
    "LIMIT 5;"
   ]
  },
  {
   "cell_type": "markdown",
   "metadata": {},
   "source": [
    "### Identifying number of top customers sales, that the support agents have served."
   ]
  },
  {
   "cell_type": "code",
   "execution_count": 41,
   "metadata": {
    "collapsed": false
   },
   "outputs": [
    {
     "name": "stdout",
     "output_type": "stream",
     "text": [
      "Done.\n"
     ]
    },
    {
     "data": {
      "text/plain": [
       "[]"
      ]
     },
     "execution_count": 41,
     "metadata": {},
     "output_type": "execute_result"
    }
   ],
   "source": [
    "%%sql\n",
    "CREATE VIEW customers_usa_gt_90_view AS \n",
    "    SELECT \n",
    "        customer_id,\n",
    "        support_rep_id employee_id\n",
    "    FROM customer_usa\n",
    "    \n",
    "    INTERSECT\n",
    "    \n",
    "    SELECT \n",
    "        customer_id,\n",
    "        support_rep_id employee_id\n",
    "    FROM customer_gt_90_dollars;"
   ]
  },
  {
   "cell_type": "code",
   "execution_count": 42,
   "metadata": {
    "collapsed": false
   },
   "outputs": [
    {
     "name": "stdout",
     "output_type": "stream",
     "text": [
      "Done.\n"
     ]
    },
    {
     "data": {
      "text/html": [
       "<table>\n",
       "    <tr>\n",
       "        <th>employee_name</th>\n",
       "        <th>customers_usa_gt_90</th>\n",
       "    </tr>\n",
       "    <tr>\n",
       "        <td>Jane Peacock</td>\n",
       "        <td>0</td>\n",
       "    </tr>\n",
       "    <tr>\n",
       "        <td>Margaret Park</td>\n",
       "        <td>2</td>\n",
       "    </tr>\n",
       "    <tr>\n",
       "        <td>Steve Johnson</td>\n",
       "        <td>2</td>\n",
       "    </tr>\n",
       "</table>"
      ],
      "text/plain": [
       "[('Jane Peacock', 0), ('Margaret Park', 2), ('Steve Johnson', 2)]"
      ]
     },
     "execution_count": 42,
     "metadata": {},
     "output_type": "execute_result"
    }
   ],
   "source": [
    "%%sql\n",
    "SELECT \n",
    "    e.first_name || \" \" || e.last_name employee_name,\n",
    "    COUNT(c.customer_id) customers_usa_gt_90\n",
    "FROM employee e\n",
    "LEFT JOIN customers_usa_gt_90_view c on e.employee_id=c.employee_id\n",
    "WHERE e.title = \"Sales Support Agent\"\n",
    "GROUP BY e.employee_id\n",
    "ORDER BY 1"
   ]
  },
  {
   "cell_type": "markdown",
   "metadata": {},
   "source": [
    "### Sales data on customers from India"
   ]
  },
  {
   "cell_type": "code",
   "execution_count": 44,
   "metadata": {
    "collapsed": false
   },
   "outputs": [
    {
     "name": "stdout",
     "output_type": "stream",
     "text": [
      "Done.\n"
     ]
    },
    {
     "data": {
      "text/html": [
       "<table>\n",
       "    <tr>\n",
       "        <th>customer_name</th>\n",
       "        <th>round(total_purchases,2)</th>\n",
       "    </tr>\n",
       "    <tr>\n",
       "        <td>Manoj Pareek</td>\n",
       "        <td>111.87</td>\n",
       "    </tr>\n",
       "    <tr>\n",
       "        <td>Puja Srivastava</td>\n",
       "        <td>71.28</td>\n",
       "    </tr>\n",
       "</table>"
      ],
      "text/plain": [
       "[('Manoj Pareek', 111.87), ('Puja Srivastava', 71.28)]"
      ]
     },
     "execution_count": 44,
     "metadata": {},
     "output_type": "execute_result"
    }
   ],
   "source": [
    "%%sql\n",
    "WITH \n",
    "    India as(\n",
    "        SELECT \n",
    "            customer_id\n",
    "        FROM customer\n",
    "        WHERE country=\"India\"\n",
    "    ),\n",
    "    sum_total as(\n",
    "        SELECT \n",
    "            c.customer_id,\n",
    "            c.first_name || \" \" || c.last_name customer_name,\n",
    "            SUM(i.total) total_purchases\n",
    "        FROM customer c\n",
    "        INNER JOIN invoice i ON i.customer_id=c.customer_id\n",
    "        GROUP BY 1\n",
    "    ),\n",
    "    main as(\n",
    "        SELECT \n",
    "            customer_name,\n",
    "            round(total_purchases,2)\n",
    "        FROM India i\n",
    "        INNER JOIN sum_total s ON s.customer_id=i.customer_id\n",
    "    )\n",
    "SELECT * FROM main\n",
    "ORDER BY customer_name\n",
    "        \n",
    "        "
   ]
  },
  {
   "cell_type": "markdown",
   "metadata": {},
   "source": [
    "### Finding the customer from each country that has spent the most money at store"
   ]
  },
  {
   "cell_type": "code",
   "execution_count": 47,
   "metadata": {
    "collapsed": false
   },
   "outputs": [
    {
     "name": "stdout",
     "output_type": "stream",
     "text": [
      "Done.\n"
     ]
    },
    {
     "data": {
      "text/html": [
       "<table>\n",
       "    <tr>\n",
       "        <th>country</th>\n",
       "        <th>customer_name</th>\n",
       "        <th>total_purchased</th>\n",
       "    </tr>\n",
       "    <tr>\n",
       "        <td>Argentina</td>\n",
       "        <td>Diego Gutiérrez</td>\n",
       "        <td>39.6</td>\n",
       "    </tr>\n",
       "    <tr>\n",
       "        <td>Australia</td>\n",
       "        <td>Mark Taylor</td>\n",
       "        <td>81.18</td>\n",
       "    </tr>\n",
       "    <tr>\n",
       "        <td>Austria</td>\n",
       "        <td>Astrid Gruber</td>\n",
       "        <td>69.3</td>\n",
       "    </tr>\n",
       "    <tr>\n",
       "        <td>Belgium</td>\n",
       "        <td>Daan Peeters</td>\n",
       "        <td>60.39</td>\n",
       "    </tr>\n",
       "    <tr>\n",
       "        <td>Brazil</td>\n",
       "        <td>Luís Gonçalves</td>\n",
       "        <td>108.9</td>\n",
       "    </tr>\n",
       "    <tr>\n",
       "        <td>Canada</td>\n",
       "        <td>François Tremblay</td>\n",
       "        <td>99.99</td>\n",
       "    </tr>\n",
       "    <tr>\n",
       "        <td>Chile</td>\n",
       "        <td>Luis Rojas</td>\n",
       "        <td>97.02</td>\n",
       "    </tr>\n",
       "    <tr>\n",
       "        <td>Czech Republic</td>\n",
       "        <td>František Wichterlová</td>\n",
       "        <td>144.54</td>\n",
       "    </tr>\n",
       "    <tr>\n",
       "        <td>Denmark</td>\n",
       "        <td>Kara Nielsen</td>\n",
       "        <td>37.62</td>\n",
       "    </tr>\n",
       "    <tr>\n",
       "        <td>Finland</td>\n",
       "        <td>Terhi Hämäläinen</td>\n",
       "        <td>79.2</td>\n",
       "    </tr>\n",
       "    <tr>\n",
       "        <td>France</td>\n",
       "        <td>Wyatt Girard</td>\n",
       "        <td>99.99</td>\n",
       "    </tr>\n",
       "    <tr>\n",
       "        <td>Germany</td>\n",
       "        <td>Fynn Zimmermann</td>\n",
       "        <td>94.05</td>\n",
       "    </tr>\n",
       "    <tr>\n",
       "        <td>Hungary</td>\n",
       "        <td>Ladislav Kovács</td>\n",
       "        <td>78.21</td>\n",
       "    </tr>\n",
       "    <tr>\n",
       "        <td>India</td>\n",
       "        <td>Manoj Pareek</td>\n",
       "        <td>111.87</td>\n",
       "    </tr>\n",
       "    <tr>\n",
       "        <td>Ireland</td>\n",
       "        <td>Hugh O&#x27;Reilly</td>\n",
       "        <td>114.84</td>\n",
       "    </tr>\n",
       "    <tr>\n",
       "        <td>Italy</td>\n",
       "        <td>Lucas Mancini</td>\n",
       "        <td>50.49</td>\n",
       "    </tr>\n",
       "    <tr>\n",
       "        <td>Netherlands</td>\n",
       "        <td>Johannes Van der Berg</td>\n",
       "        <td>65.34</td>\n",
       "    </tr>\n",
       "    <tr>\n",
       "        <td>Norway</td>\n",
       "        <td>Bjørn Hansen</td>\n",
       "        <td>72.27</td>\n",
       "    </tr>\n",
       "    <tr>\n",
       "        <td>Poland</td>\n",
       "        <td>Stanisław Wójcik</td>\n",
       "        <td>76.23</td>\n",
       "    </tr>\n",
       "    <tr>\n",
       "        <td>Portugal</td>\n",
       "        <td>João Fernandes</td>\n",
       "        <td>102.96</td>\n",
       "    </tr>\n",
       "    <tr>\n",
       "        <td>Spain</td>\n",
       "        <td>Enrique Muñoz</td>\n",
       "        <td>98.01</td>\n",
       "    </tr>\n",
       "    <tr>\n",
       "        <td>Sweden</td>\n",
       "        <td>Joakim Johansson</td>\n",
       "        <td>75.24</td>\n",
       "    </tr>\n",
       "    <tr>\n",
       "        <td>USA</td>\n",
       "        <td>Jack Smith</td>\n",
       "        <td>98.01</td>\n",
       "    </tr>\n",
       "    <tr>\n",
       "        <td>United Kingdom</td>\n",
       "        <td>Phil Hughes</td>\n",
       "        <td>98.01</td>\n",
       "    </tr>\n",
       "</table>"
      ],
      "text/plain": [
       "[('Argentina', 'Diego Gutiérrez', 39.6),\n",
       " ('Australia', 'Mark Taylor', 81.18),\n",
       " ('Austria', 'Astrid Gruber', 69.3),\n",
       " ('Belgium', 'Daan Peeters', 60.39),\n",
       " ('Brazil', 'Luís Gonçalves', 108.9),\n",
       " ('Canada', 'François Tremblay', 99.99),\n",
       " ('Chile', 'Luis Rojas', 97.02),\n",
       " ('Czech Republic', 'František Wichterlová', 144.54),\n",
       " ('Denmark', 'Kara Nielsen', 37.62),\n",
       " ('Finland', 'Terhi Hämäläinen', 79.2),\n",
       " ('France', 'Wyatt Girard', 99.99),\n",
       " ('Germany', 'Fynn Zimmermann', 94.05),\n",
       " ('Hungary', 'Ladislav Kovács', 78.21),\n",
       " ('India', 'Manoj Pareek', 111.87),\n",
       " ('Ireland', \"Hugh O'Reilly\", 114.84),\n",
       " ('Italy', 'Lucas Mancini', 50.49),\n",
       " ('Netherlands', 'Johannes Van der Berg', 65.34),\n",
       " ('Norway', 'Bjørn Hansen', 72.27),\n",
       " ('Poland', 'Stanisław Wójcik', 76.23),\n",
       " ('Portugal', 'João Fernandes', 102.96),\n",
       " ('Spain', 'Enrique Muñoz', 98.01),\n",
       " ('Sweden', 'Joakim Johansson', 75.24),\n",
       " ('USA', 'Jack Smith', 98.01),\n",
       " ('United Kingdom', 'Phil Hughes', 98.01)]"
      ]
     },
     "execution_count": 47,
     "metadata": {},
     "output_type": "execute_result"
    }
   ],
   "source": [
    "%%sql\n",
    "WITH\n",
    "    customer_country_purchases AS\n",
    "        (\n",
    "         SELECT\n",
    "             i.customer_id,\n",
    "             c.country,\n",
    "             SUM(i.total) total_purchases\n",
    "         FROM invoice i\n",
    "         INNER JOIN customer c ON i.customer_id = c.customer_id\n",
    "         GROUP BY 1, 2\n",
    "        ),\n",
    "    country_max_purchase AS\n",
    "        (\n",
    "         SELECT\n",
    "             country,\n",
    "             MAX(total_purchases) max_purchase\n",
    "         FROM customer_country_purchases\n",
    "         GROUP BY 1\n",
    "        ),\n",
    "    country_best_customer AS\n",
    "        (\n",
    "         SELECT\n",
    "            cmp.country,\n",
    "            cmp.max_purchase,\n",
    "            (\n",
    "             SELECT ccp.customer_id\n",
    "             FROM customer_country_purchases ccp\n",
    "             WHERE ccp.country = cmp.country AND cmp.max_purchase = ccp.total_purchases\n",
    "            ) customer_id\n",
    "         FROM country_max_purchase cmp\n",
    "        )\n",
    "SELECT\n",
    "    cbc.country country,\n",
    "    c.first_name || \" \" || c.last_name customer_name,\n",
    "    ROUND(cbc.max_purchase,2) total_purchased\n",
    "FROM customer c\n",
    "INNER JOIN country_best_customer cbc ON cbc.customer_id = c.customer_id\n",
    "ORDER BY 1 ASC"
   ]
  },
  {
   "cell_type": "markdown",
   "metadata": {},
   "source": [
    "### Identifying best selling genre in USA\n",
    "\n",
    "The Chinook record store has just signed a deal with a new record label, and you've been tasked with selecting the first three albums that will be added to the store, from a list of four. All four albums are by artists that don't have any tracks in the store right now - we have the artist names, and the genre of music they produce:\n",
    "\n",
    "Artist Name | Genre\n",
    " --- | ---\n",
    "Regal | Hip-Hop\n",
    "Red Tone | Punk\n",
    "Meteor and the Girls | Pop\n",
    "Slim Jim Bites | Blues\n",
    "\n",
    "The record label specializes in artists from the USA, and they have given Chinook some money to advertise the new albums in the USA, so we're interested in finding out which genres sell the best in the USA."
   ]
  },
  {
   "cell_type": "code",
   "execution_count": 57,
   "metadata": {
    "collapsed": false
   },
   "outputs": [
    {
     "name": "stdout",
     "output_type": "stream",
     "text": [
      "Done.\n"
     ]
    },
    {
     "data": {
      "text/html": [
       "<table>\n",
       "    <tr>\n",
       "        <th>genre</th>\n",
       "        <th>total_sales</th>\n",
       "    </tr>\n",
       "    <tr>\n",
       "        <td>Alternative</td>\n",
       "        <td>1095.93</td>\n",
       "    </tr>\n",
       "    <tr>\n",
       "        <td>Alternative &amp; Punk</td>\n",
       "        <td>4841.1</td>\n",
       "    </tr>\n",
       "    <tr>\n",
       "        <td>Blues</td>\n",
       "        <td>1379.07</td>\n",
       "    </tr>\n",
       "    <tr>\n",
       "        <td>Classical</td>\n",
       "        <td>361.35</td>\n",
       "    </tr>\n",
       "    <tr>\n",
       "        <td>Drama</td>\n",
       "        <td>5.94</td>\n",
       "    </tr>\n",
       "    <tr>\n",
       "        <td>Easy Listening</td>\n",
       "        <td>951.39</td>\n",
       "    </tr>\n",
       "    <tr>\n",
       "        <td>Electronica/Dance</td>\n",
       "        <td>614.79</td>\n",
       "    </tr>\n",
       "    <tr>\n",
       "        <td>Heavy Metal</td>\n",
       "        <td>70.29</td>\n",
       "    </tr>\n",
       "    <tr>\n",
       "        <td>Hip Hop/Rap</td>\n",
       "        <td>463.32</td>\n",
       "    </tr>\n",
       "    <tr>\n",
       "        <td>Jazz</td>\n",
       "        <td>1302.84</td>\n",
       "    </tr>\n",
       "    <tr>\n",
       "        <td>Latin</td>\n",
       "        <td>1705.77</td>\n",
       "    </tr>\n",
       "    <tr>\n",
       "        <td>Metal</td>\n",
       "        <td>5316.3</td>\n",
       "    </tr>\n",
       "    <tr>\n",
       "        <td>Pop</td>\n",
       "        <td>568.26</td>\n",
       "    </tr>\n",
       "    <tr>\n",
       "        <td>R&amp;B/Soul</td>\n",
       "        <td>1751.31</td>\n",
       "    </tr>\n",
       "    <tr>\n",
       "        <td>Reggae</td>\n",
       "        <td>257.4</td>\n",
       "    </tr>\n",
       "    <tr>\n",
       "        <td>Rock</td>\n",
       "        <td>26751.78</td>\n",
       "    </tr>\n",
       "    <tr>\n",
       "        <td>Soundtrack</td>\n",
       "        <td>46.53</td>\n",
       "    </tr>\n",
       "    <tr>\n",
       "        <td>TV Shows</td>\n",
       "        <td>19.8</td>\n",
       "    </tr>\n",
       "</table>"
      ],
      "text/plain": [
       "[('Alternative', 1095.93),\n",
       " ('Alternative & Punk', 4841.1),\n",
       " ('Blues', 1379.07),\n",
       " ('Classical', 361.35),\n",
       " ('Drama', 5.94),\n",
       " ('Easy Listening', 951.39),\n",
       " ('Electronica/Dance', 614.79),\n",
       " ('Heavy Metal', 70.29),\n",
       " ('Hip Hop/Rap', 463.32),\n",
       " ('Jazz', 1302.84),\n",
       " ('Latin', 1705.77),\n",
       " ('Metal', 5316.3),\n",
       " ('Pop', 568.26),\n",
       " ('R&B/Soul', 1751.31),\n",
       " ('Reggae', 257.4),\n",
       " ('Rock', 26751.78),\n",
       " ('Soundtrack', 46.53),\n",
       " ('TV Shows', 19.8)]"
      ]
     },
     "execution_count": 57,
     "metadata": {},
     "output_type": "execute_result"
    }
   ],
   "source": [
    "%%sql\n",
    "WITH\n",
    "    genre_purchases AS\n",
    "        (\n",
    "         SELECT\n",
    "             t.track_id,\n",
    "             g.name genre,\n",
    "             SUM(i.total) total_purchases\n",
    "         FROM genre g\n",
    "         INNER JOIN track t ON t.genre_id = g.genre_id\n",
    "         INNER JOIN invoice_line il ON il.track_id = t.track_id\n",
    "         INNER JOIN invoice i ON i.invoice_id=il.invoice_id\n",
    "         GROUP BY 2,1\n",
    "        )\n",
    "    \n",
    "SELECT\n",
    "    genre,\n",
    "    ROUND(SUM(total_purchases),2) total_sales\n",
    "FROM genre_purchases \n",
    "GROUP BY 1\n",
    "ORDER BY 1 ASC"
   ]
  },
  {
   "cell_type": "markdown",
   "metadata": {},
   "source": [
    "From the analysis Alternative seems to be doing the best in terms of sales so **Taylor Swift** a.k.a \"The music industry\" must be worshipped and worshipped regardless ;)  \n",
    "But from the list of candidates the best choice would be **Red Tone** because they are Punk and, Alternative and Punk is the second best performing genre."
   ]
  },
  {
   "cell_type": "markdown",
   "metadata": {},
   "source": [
    "### Gauging Employee performance\n",
    "\n",
    "Each customer for the Chinook store gets assigned to a sales support agent within the company when they first make a purchase. You have been asked to analyze the purchases of customers belonging to each employee to see if any sales support agent is performing either better or worse than the others.\n",
    "\n",
    "For which we identify number of top customers sales, that the employees as support agents have served."
   ]
  },
  {
   "cell_type": "code",
   "execution_count": 61,
   "metadata": {
    "collapsed": false
   },
   "outputs": [
    {
     "name": "stdout",
     "output_type": "stream",
     "text": [
      "Done.\n"
     ]
    },
    {
     "data": {
      "text/html": [
       "<table>\n",
       "    <tr>\n",
       "        <th>employee_name</th>\n",
       "        <th>no_top_customers</th>\n",
       "    </tr>\n",
       "    <tr>\n",
       "        <td>Jane Peacock</td>\n",
       "        <td>8</td>\n",
       "    </tr>\n",
       "    <tr>\n",
       "        <td>Margaret Park</td>\n",
       "        <td>5</td>\n",
       "    </tr>\n",
       "    <tr>\n",
       "        <td>Steve Johnson</td>\n",
       "        <td>5</td>\n",
       "    </tr>\n",
       "</table>"
      ],
      "text/plain": [
       "[('Jane Peacock', 8), ('Margaret Park', 5), ('Steve Johnson', 5)]"
      ]
     },
     "execution_count": 61,
     "metadata": {},
     "output_type": "execute_result"
    }
   ],
   "source": [
    "%%sql\n",
    "SELECT \n",
    "    e.first_name || \" \" || e.last_name employee_name,\n",
    "    COUNT(c.customer_id) no_top_customers\n",
    "FROM employee e\n",
    "LEFT JOIN customer_gt_90_dollars c on e.employee_id=c.support_rep_id\n",
    "WHERE e.title = \"Sales Support Agent\"\n",
    "GROUP BY e.employee_id\n",
    "ORDER BY 1"
   ]
  },
  {
   "cell_type": "markdown",
   "metadata": {},
   "source": [
    "## To-do\n",
    "1. Analyze the sales data for customers from each different country. You have been given guidance to use the country value from the customers table, and ignore the country from the billing address in the invoice table.   \n",
    "You have been directed to calculate data, for each country, on the:\n",
    "    * total number of customers\n",
    "    * total value of sales\n",
    "    * average value of sales per customer\n",
    "    * average order value\n",
    "2. Management are currently considering changing their purchasing strategy to save money. The strategy they are considering is to purchase only the most popular tracks from each album from record companies, instead of purchasing every track from an album.  \n",
    "We have been asked to find out what percentage of purchases are individual tracks vs whole albums, so that management can use this data to understand the effect this decision might have on overall revenue."
   ]
  },
  {
   "cell_type": "code",
   "execution_count": null,
   "metadata": {
    "collapsed": true
   },
   "outputs": [],
   "source": []
  }
 ],
 "metadata": {
  "kernelspec": {
   "display_name": "Python 3",
   "language": "python",
   "name": "python3"
  },
  "language_info": {
   "codemirror_mode": {
    "name": "ipython",
    "version": 3
   },
   "file_extension": ".py",
   "mimetype": "text/x-python",
   "name": "python",
   "nbconvert_exporter": "python",
   "pygments_lexer": "ipython3",
   "version": "3.4.3"
  }
 },
 "nbformat": 4,
 "nbformat_minor": 2
}
